{
 "cells": [
  {
   "cell_type": "markdown",
   "metadata": {},
   "source": [
    "# Python Basics und Übungen\n",
    "## Spontane Übung / Wiederholung"
   ]
  },
  {
   "cell_type": "code",
   "execution_count": 52,
   "metadata": {},
   "outputs": [
    {
     "name": "stdout",
     "output_type": "stream",
     "text": [
      "['Id', 'Name', 'Year', 'Gender', 'State', 'Count']\n",
      "['1', 'Mary', '1910', 'F', 'AK', '14']\n",
      "['2', 'Annie', '1910', 'F', 'AK', '12']\n",
      "['3', 'Anna', '1910', 'F', 'AK', '10']\n",
      "['4', 'Margaret', '1910', 'F', 'AK', '8']\n",
      "\n",
      "[1910, 1912, 1915, 1916, 1917, 1918, 1919, 1920, 1921, 1922, 1923, 1924, 1925, 1926, 1927, 1928, 1930, 1931, 1932, 1933, 1935, 1936, 1937, 1939, 1940, 1941, 1942, 1943, 1944, 1945]\n",
      "\n",
      "[10, 7, 10, 7, 5, 8, 5, 7, 6, 10, 12, 9, 7, 13, 7, 10, 10, 5, 9, 5, 9, 11, 8, 7, 7, 6, 9, 7, 5, 6]\n"
     ]
    },
    {
     "data": {
      "image/png": "[encoded data removed]",
      "text/plain": [
       "<Figure size 432x288 with 1 Axes>"
      ]
     },
     "metadata": {
      "needs_background": "light"
     },
     "output_type": "display_data"
    }
   ],
   "source": [
    "count = 0\n",
    "\n",
    "id = 0\n",
    "name = \"Anna\"\n",
    "yearBorn = 0\n",
    "gender = \"F\"\n",
    "state = \"AK\"\n",
    "bornCount = 0\n",
    "\n",
    "xa = []\n",
    "ya = []\n",
    "\n",
    "# Zur Übersicht\n",
    "with open(\"../data/testnames.csv\", \"r\") as file:\n",
    "    for line in file:\n",
    "        count = count + 1\n",
    "        print(line.strip().split(\",\"))\n",
    "        if count >= 5:\n",
    "            print()\n",
    "            break\n",
    "# Daten sammeln\n",
    "with open(\"../data/testnames.csv\", \"r\") as file:\n",
    "    for line in file:\n",
    "        peopleCount = line.strip().split(\",\")\n",
    "        if peopleCount[1] == name and peopleCount[3] == gender and peopleCount[4] == state:\n",
    "            xa.append(int(peopleCount[2]))\n",
    "            ya.append(int(peopleCount[5]))\n",
    "print(xa)\n",
    "print()\n",
    "print(ya)\n",
    "\n",
    "%matplotlib inline\n",
    "import matplotlib.pyplot as plt\n",
    "plt.plot(xa, ya)\n",
    "plt.show()"
   ]
  },
  {
   "cell_type": "markdown",
   "metadata": {},
   "source": [
    "## Nützliche Module"
   ]
  },
  {
   "cell_type": "markdown",
   "metadata": {},
   "source": [
    "<code>import random                        // Zufallsgenerator z.B. random.randint(0, 10)</code>\n",
    "\n",
    "<code>%matplotlib inline                   // Graph-Modul im Editor statt extra Fenster anzeigen</code><br>\n",
    "<code>import matplotlib.pyplot as plt      // Graph-Modul laden udn als \"plt\" zur Verfügung stellen</code><br>"
   ]
  },
  {
   "cell_type": "markdown",
   "metadata": {},
   "source": [
    "## Bisherigen Befehle"
   ]
  },
  {
   "cell_type": "markdown",
   "metadata": {},
   "source": [
    "<b>Basics</b>\n",
    "<code>\n",
    "print()                                            // Ausgabe\n",
    "objekt = \"Dies ist eine Variable mit einem String\" // ein Speicher\n",
    "objekt.append(\"Beispiel\")                          // Eintrag in Variable \"objekt\" einfügen\n",
    "len(objekt)                                        // Anzahl von Elementen in \"objekt\" auflisten\n",
    "objekt[0]                                          // Bestimmtes Element aus \"objekt\" azeigen\n",
    "\"\\n\"                                               // Zeilenumbruch in String\n",
    "</code>"
   ]
  },
  {
   "cell_type": "markdown",
   "metadata": {},
   "source": [
    "<b>Löschen</b>\n",
    "<code>\n",
    "test.pop()                // Wenn ohne Zahl, letzten Element löschen\n",
    "a = test.pop()            // mit print() zeigen, welches Element entfernt ist\n",
    "</code>"
   ]
  },
  {
   "cell_type": "markdown",
   "metadata": {},
   "source": [
    "\n",
    "<b>Umwandeln</b>\n",
    "<code>\n",
    "int()                     // Umwandeln in Zahl\n",
    "float()                   // Umwandeln in Zahl mit Nachkommastellen\n",
    "str()                     // Umwandeln in String\n",
    "</code>"
   ]
  },
  {
   "cell_type": "markdown",
   "metadata": {},
   "source": [
    "<b>if, else, elif</b>\n",
    "<code>\n",
    "if test == test1<b>:</b>                // Wenn Bedingung erfüllt mit Operator... <b>Doppelpunkt beachten!</b>\n",
    "    print(\"is identical\")        // ... dann gib aus, ...\n",
    "else:                            // ... ansonsten ...\n",
    "    print(\"is not identical\")    // ... gib aus.\n",
    "elif test !=  test2:             // Und wenn...\n",
    "</code>"
   ]
  },
  {
   "cell_type": "markdown",
   "metadata": {},
   "source": [
    "<b>Booleans and & or</b>\n",
    "<code>\n",
    "if (test > 1 <b>and</b> test < 3) <b>or</b> (test == 1):\n",
    "    print(\"yes\")\n",
    "</code>"
   ]
  },
  {
   "cell_type": "markdown",
   "metadata": {},
   "source": [
    "<b>in-Operator</b>\n",
    "<code>\n",
    "car = [\"Audi\", ...]\n",
    "    print(\"Audi\" <b>in</b> car)      // Ergebnis ist \"True\"\n",
    "if \"Audi\" <b>in</b> sentence:        // Wenn Wert in variable sentence enthalten = True\n",
    "    print(\"Yes\")\n",
    "</code>\n",
    "\n",
    "<b>not-Operator</b>\n",
    "<code>\n",
    "if <b>not</b> age >= 18 // Negierung von Werten. Aus True wird False... Allgemein nicht ratsam.\n",
    "</code>"
   ]
  },
  {
   "cell_type": "markdown",
   "metadata": {},
   "source": [
    "<b>Schleifen</b>\n",
    "<code>\n",
    "counter = 0\n",
    "\n",
    "<b>while</b> counter < 10:                   // while Schleife\n",
    "    counter = counter + 1\n",
    "\n",
    "<b>for</b> i in counter(0,10)                // for Schleife innerhalb einer Liste\n",
    "<b>range(0, 10)</b>                          // Eine Bereich-Funktion, wie ein Array\n",
    "continue                              // Einen Wert im loop überspringen\n",
    "    for i in range(0, 10):\n",
    "    if i == 3:\n",
    "    continue\n",
    "    print(i)\n",
    "</code>\n",
    "\n",
    "<code>\n",
    "for parts in [part1, part2, part3, part4, part5] // Statt neue Variable, in Klammern auflisten\n",
    "</code>\n",
    "\n",
    "<code>\n",
    "brake                                 // Bei vorgegebenen Wert stoppen\n",
    "</code>"
   ]
  },
  {
   "cell_type": "markdown",
   "metadata": {},
   "source": [
    "# Funktionen"
   ]
  },
  {
   "cell_type": "markdown",
   "metadata": {},
   "source": [
    "<b>Einfache Funktionen</b>\n",
    "<code>\n",
    ".append()        // Verbinden\n",
    ".split()         // String in Array umwandeln (Jedes Wort ein Wert)\n",
    ".join()          // Separatoren für String Arrays verwenden\n",
    ".pop()           // letzten Objekt in Array oder an indexstelle löschen: objekt.pop(3)\n",
    "\n",
    ".strip()         //  Überflüssige Zeichen und Zeilenumbrüche aus Datei bei Lesen entfernen\n",
    "</code>"
   ]
  },
  {
   "cell_type": "markdown",
   "metadata": {},
   "source": [
    "<b>Funktion definieren</b>\n",
    "<code>\n",
    "<b>def</b> multiPrint():\n",
    "    print(\"Hello World\")\n",
    "    print(\"Hello World\")\n",
    "</code>\n",
    "<b>Funktion abrufen</b>\n",
    "<code>\n",
    "multiPrint()\n",
    "</code>"
   ]
  },
  {
   "cell_type": "markdown",
   "metadata": {},
   "source": [
    "<b>Funktion mit Parameter</b>\n",
    "<code>\n",
    "<b>def</b> multiPrint(name):\n",
    "    print(name)\n",
    "    print(name)\n",
    "</code>\n",
    "<b>abrufen</b>\n",
    "<code>\n",
    "multiPrint(\"Moin!\")\n",
    "</code>"
   ]
  },
  {
   "cell_type": "markdown",
   "metadata": {},
   "source": [
    "<b>Funktion mit Parameter & Schleife</b>\n",
    "<code>\n",
    "<b>def</b> multiPrint(name, count):\n",
    "    for i in range(0, count)\n",
    "        print(name)\n",
    "</code>\n",
    "<b>abrufen</b>\n",
    "<code>\n",
    "multiPrint(\"Moin!\", 5)\n",
    "</code>"
   ]
  },
  {
   "cell_type": "markdown",
   "metadata": {},
   "source": [
    "<b>Funktion mit Parameter & Schleife</b>\n",
    "<code>\n",
    "def continated():\n",
    "    multiPrint()\n",
    "    repeat(\"Seesaibling\", random.randint(1, 10))\n",
    "</code>\n",
    "\n"
   ]
  },
  {
   "cell_type": "markdown",
   "metadata": {},
   "source": [
    "<b>return</b>\n",
    "<code>\n",
    "def max(a, b):\n",
    "    if a > b:\n",
    "        return a\n",
    "    else:\n",
    "        return b\n",
    "</code>"
   ]
  },
  {
   "cell_type": "markdown",
   "metadata": {},
   "source": [
    "# Dateien\n",
    "## Dateien lesen\n",
    "Merken: <code>for line in file:</code>"
   ]
  },
  {
   "cell_type": "code",
   "execution_count": 5,
   "metadata": {},
   "outputs": [
    {
     "name": "stdout",
     "output_type": "stream",
     "text": [
      "Text1\n",
      "Text2\n"
     ]
    }
   ],
   "source": [
    "file = open(\"./daten/uebungsfile.txt\", \"r\")     # \"r\" = Leseberechtigung\n",
    "for line in file:\n",
    "    print(line.strip())     # Funktion .strip entfernt unnötige Zeilenumbrüche und Symbole"
   ]
  },
  {
   "cell_type": "markdown",
   "metadata": {},
   "source": [
    "## Dateien schreiben"
   ]
  },
  {
   "cell_type": "code",
   "execution_count": 8,
   "metadata": {},
   "outputs": [
    {
     "name": "stdout",
     "output_type": "stream",
     "text": [
      "Text1\n",
      "Text2\n"
     ]
    }
   ],
   "source": [
    "file = open(\"./daten/uebungsfile.txt\", \"w\")     # \"w\" = Schreibberechtigung\n",
    "file.write(\"Text1\\n\")     # Mit \"\\n\" Zeilenumbruch für nächste Zeile erstellen\n",
    "file.write(\"Text2\")\n",
    "file.close()\n",
    "\n",
    "file = open(\"./daten/uebungsfile.txt\", \"r\")\n",
    "for line in file:\n",
    "    print(line.strip())"
   ]
  },
  {
   "cell_type": "markdown",
   "metadata": {},
   "source": [
    "### Daten mit append <code>\"a\"</code> an letzte Zeile anhängen"
   ]
  },
  {
   "cell_type": "code",
   "execution_count": 9,
   "metadata": {},
   "outputs": [],
   "source": [
    "file = open(\"./daten/uebungsfile.txt\", \"a\")     # \"a\" Statt überschreiben, Daten anhängen.\n",
    "\n",
    "individuals = [\"Hans\", \"Franz\", \"Klaus\", \"Peter\", \"Olaf\", \"Günther\"]\n",
    "\n",
    "for individual in individuals:\n",
    "    file.write(individual + \"\\n\")\n",
    "\n",
    "file.close()"
   ]
  },
  {
   "cell_type": "markdown",
   "metadata": {},
   "source": [
    "### Datei schließen\n",
    "Mit <code>.close()</code> sollte eine Datei geschlossen werden, um PC-Ressourcen zu schonen.\n",
    "Wird aber nicht geschlossen, wenn z.B. ein Fehler irgendwo im Code vorhanden ist."
   ]
  },
  {
   "cell_type": "code",
   "execution_count": 29,
   "metadata": {},
   "outputs": [
    {
     "ename": "NameError",
     "evalue": "name 'prin' is not defined",
     "output_type": "error",
     "traceback": [
      "\u001b[1;31m---------------------------------------------------------------------------\u001b[0m",
      "\u001b[1;31mNameError\u001b[0m                                 Traceback (most recent call last)",
      "\u001b[1;32m<ipython-input-29-345e25449a2b>\u001b[0m in \u001b[0;36m<module>\u001b[1;34m\u001b[0m\n\u001b[0;32m      1\u001b[0m \u001b[0mfile\u001b[0m \u001b[1;33m=\u001b[0m \u001b[0mopen\u001b[0m\u001b[1;33m(\u001b[0m\u001b[1;34m\"./daten/uebungsfile.txt\"\u001b[0m\u001b[1;33m,\u001b[0m \u001b[1;34m\"r\"\u001b[0m\u001b[1;33m)\u001b[0m\u001b[1;33m\u001b[0m\u001b[1;33m\u001b[0m\u001b[0m\n\u001b[0;32m      2\u001b[0m \u001b[1;32mfor\u001b[0m \u001b[0mline\u001b[0m \u001b[1;32min\u001b[0m \u001b[0mfile\u001b[0m\u001b[1;33m:\u001b[0m\u001b[1;33m\u001b[0m\u001b[1;33m\u001b[0m\u001b[0m\n\u001b[1;32m----> 3\u001b[1;33m     \u001b[0mprin\u001b[0m\u001b[1;33m(\u001b[0m\u001b[0mline\u001b[0m\u001b[1;33m.\u001b[0m\u001b[0mstrip\u001b[0m\u001b[1;33m(\u001b[0m\u001b[1;33m)\u001b[0m\u001b[1;33m)\u001b[0m    \u001b[1;31m# Tippfehler\u001b[0m\u001b[1;33m\u001b[0m\u001b[1;33m\u001b[0m\u001b[0m\n\u001b[0m\u001b[0;32m      4\u001b[0m \u001b[0mfile\u001b[0m\u001b[1;33m.\u001b[0m\u001b[0mclose\u001b[0m\u001b[1;33m(\u001b[0m\u001b[1;33m)\u001b[0m\u001b[1;33m\u001b[0m\u001b[1;33m\u001b[0m\u001b[0m\n",
      "\u001b[1;31mNameError\u001b[0m: name 'prin' is not defined"
     ]
    }
   ],
   "source": [
    "file = open(\"./daten/uebungsfile.txt\", \"r\")\n",
    "for line in file:\n",
    "    prin(line.strip())    # Tippfehler\n",
    "file.close()              # Wird nicht geschlossen"
   ]
  },
  {
   "cell_type": "markdown",
   "metadata": {},
   "source": [
    "### Schließen mit with\n",
    "Wenn eine Datei mit <code>with</code> geöffnet wird, wird sie am ende des with-Blockes geschlossen! Auch, wenn Fehler auftreten."
   ]
  },
  {
   "cell_type": "code",
   "execution_count": 32,
   "metadata": {},
   "outputs": [
    {
     "ename": "NameError",
     "evalue": "name 'prin' is not defined",
     "output_type": "error",
     "traceback": [
      "\u001b[1;31m---------------------------------------------------------------------------\u001b[0m",
      "\u001b[1;31mNameError\u001b[0m                                 Traceback (most recent call last)",
      "\u001b[1;32m<ipython-input-32-f85c1e9f8520>\u001b[0m in \u001b[0;36m<module>\u001b[1;34m\u001b[0m\n\u001b[0;32m      1\u001b[0m \u001b[1;32mwith\u001b[0m \u001b[0mopen\u001b[0m\u001b[1;33m(\u001b[0m\u001b[1;34m\"./daten/uebungsfile.txt\"\u001b[0m\u001b[1;33m,\u001b[0m \u001b[1;34m\"r\"\u001b[0m\u001b[1;33m)\u001b[0m \u001b[1;32mas\u001b[0m \u001b[0mfile\u001b[0m\u001b[1;33m:\u001b[0m\u001b[1;33m\u001b[0m\u001b[1;33m\u001b[0m\u001b[0m\n\u001b[0;32m      2\u001b[0m     \u001b[1;32mfor\u001b[0m \u001b[0mline\u001b[0m \u001b[1;32min\u001b[0m \u001b[0mfile\u001b[0m\u001b[1;33m:\u001b[0m\u001b[1;33m\u001b[0m\u001b[1;33m\u001b[0m\u001b[0m\n\u001b[1;32m----> 3\u001b[1;33m         \u001b[0mprin\u001b[0m\u001b[1;33m(\u001b[0m\u001b[0mline\u001b[0m\u001b[1;33m.\u001b[0m\u001b[0mstrip\u001b[0m\u001b[1;33m(\u001b[0m\u001b[1;33m)\u001b[0m\u001b[1;33m)\u001b[0m    \u001b[1;31m# Tippfehler\u001b[0m\u001b[1;33m\u001b[0m\u001b[1;33m\u001b[0m\u001b[0m\n\u001b[0m",
      "\u001b[1;31mNameError\u001b[0m: name 'prin' is not defined"
     ]
    }
   ],
   "source": [
    "with open(\"./daten/uebungsfile.txt\", \"r\") as file:\n",
    "    for line in file:\n",
    "        prin(line.strip())    # Tippfehler, aber wird geschlossen"
   ]
  },
  {
   "cell_type": "markdown",
   "metadata": {},
   "source": [
    "## Graphen zeichnen"
   ]
  },
  {
   "cell_type": "code",
   "execution_count": 35,
   "metadata": {},
   "outputs": [
    {
     "data": {
      "image/png": "[encoded data removed]",
      "text/plain": [
       "<Figure size 432x288 with 1 Axes>"
      ]
     },
     "metadata": {
      "needs_background": "light"
     },
     "output_type": "display_data"
    }
   ],
   "source": [
    "%matplotlib inline\n",
    "import matplotlib.pyplot as plt\n",
    "xa = [1, 2, 3, 4, 5, 6, 7, 8, 9, 10, 11]\n",
    "ya = [4, 8, 16, 28, 24, 16, 12, 8, 20, 36, 64]\n",
    "plt.plot(xa, ya)\n",
    "plt.show()"
   ]
  },
  {
   "cell_type": "markdown",
   "metadata": {},
   "source": [
    "## Rechenarten\n",
    "### Summe bis zu gewünschter Zahl ausrechnen lassen\n",
    "<b>Liste hochzählen</b>\n",
    "<code>\n",
    "liste = [0, 1, 2, 3, 5, 6, 10, 17, 38]\n",
    "s = 0\n",
    "for element in liste:\n",
    "    <b>s = s + element</b>\n",
    "    <b>if s > 10:</b>    # Wenn erreicht...\n",
    "    <b>break</b>         # ... stoppen.\n",
    "print(s)\n",
    "</code>"
   ]
  },
  {
   "cell_type": "markdown",
   "metadata": {},
   "source": [
    "# Eigene Übungen zum Wiederholen\n",
    "Hier werde ich immer wieder mal üben und wiederholen, was ich bereits gelernt habe."
   ]
  },
  {
   "cell_type": "code",
   "execution_count": null,
   "metadata": {},
   "outputs": [],
   "source": []
  },
  {
   "cell_type": "markdown",
   "metadata": {},
   "source": [
    "### Die Mini-Beinahe-Nuklearbombe"
   ]
  },
  {
   "cell_type": "code",
   "execution_count": 3,
   "metadata": {},
   "outputs": [
    {
     "name": "stdout",
     "output_type": "stream",
     "text": [
      "0\n",
      "0\n",
      "1\n"
     ]
    }
   ],
   "source": [
    "import random\n",
    "\n",
    "a = 0\n",
    "#b = [] # !\n",
    "\n",
    "while a < 1: # ! ab 2\n",
    "    a = random.randint(0, 1)\n",
    "    print(a)\n",
    "    #b.append(a) # !\n",
    "    #print(b) # !"
   ]
  },
  {
   "cell_type": "code",
   "execution_count": 1,
   "metadata": {},
   "outputs": [
    {
     "name": "stdout",
     "output_type": "stream",
     "text": [
      "6\n"
     ]
    }
   ],
   "source": [
    "# summe und break\n",
    "\n",
    "data = [2, 4, 6, 8, 10]\n",
    "s = 0\n",
    "for element in data:\n",
    "    s = s + element\n",
    "    if s > 4:\n",
    "        break\n",
    "print(s)"
   ]
  }
 ],
 "metadata": {
  "kernelspec": {
   "display_name": "Python 3",
   "language": "python",
   "name": "python3"
  },
  "language_info": {
   "codemirror_mode": {
    "name": "ipython",
    "version": 3
   },
   "file_extension": ".py",
   "mimetype": "text/x-python",
   "name": "python",
   "nbconvert_exporter": "python",
   "pygments_lexer": "ipython3",
   "version": "3.8.5"
  }
 },
 "nbformat": 4,
 "nbformat_minor": 4
}
