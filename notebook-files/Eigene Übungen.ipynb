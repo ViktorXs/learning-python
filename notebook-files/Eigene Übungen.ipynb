{
 "cells": [
  {
   "cell_type": "markdown",
   "metadata": {},
   "source": [
    "## Nützliche Module"
   ]
  },
  {
   "cell_type": "markdown",
   "metadata": {},
   "source": [
    "<code>import random</code>  // Zufallsgenerator z.B. random.randint(0, 10)"
   ]
  },
  {
   "cell_type": "markdown",
   "metadata": {},
   "source": [
    "## Bisherigen Befehle"
   ]
  },
  {
   "cell_type": "markdown",
   "metadata": {},
   "source": [
    "<b>Basics</b>\n",
    "<code>\n",
    "print()                                          // Ausgabe\n",
    "test = \"Dies ist eine Variable mit einem String\" // eine Art Speicher\n",
    "print(a + b)                                     // Variable ausgeben\n",
    "test.append(\"Beispiel\")                          // Eintrag in Variable \"test\" einfügen\n",
    "len(test)                                        // Anzahl von Elementen in \"test\"\n",
    "test[0]                                          // Bestimmtes Element aus \"test\" azeigen\n",
    "</code>\n",
    "\n",
    "<b>Löschen</b>\n",
    "<code>\n",
    "test.pop()                // Wenn ohne Zahl, letzten Element löschen\n",
    "a = test.pop()            // mit print() zeigen, welches Element entfernt ist\n",
    "</code>"
   ]
  },
  {
   "cell_type": "markdown",
   "metadata": {},
   "source": [
    "<b>Objekte</b>\n",
    "<code>\n",
    ".append()\n",
    ".split()\n",
    ".join()\n",
    "</code>"
   ]
  },
  {
   "cell_type": "markdown",
   "metadata": {},
   "source": [
    "\n",
    "<b>Umwandeln</b>\n",
    "<code>\n",
    "int()                     // Umwandeln in Zahl\n",
    "float()                   // Umwandeln in Zahl mit Nachkommastellen\n",
    "str()                     // Umwandeln in String\n",
    "\", \".join()               // Separatoren für Array verwenden\n",
    "test.split()              // String in Array umwandeln (Jedes Wort ein Wert)\n",
    "test1.append(test2)       // Verbinden\n",
    "</code>"
   ]
  },
  {
   "cell_type": "markdown",
   "metadata": {},
   "source": [
    "<b>if, else, elif</b>\n",
    "<code>\n",
    "if test == test1<b>:</b>                // Wenn Bedingung erfüllt mit Operator... <b>Doppelpunkt beachten!</b>\n",
    "    print(\"is identical\")        // ... dann gib aus, ...\n",
    "else:                            // ... ansonsten ...\n",
    "    print(\"is not identical\")    // ... gib aus.\n",
    "elif test !=  test2:             // Und wenn...\n",
    "</code>"
   ]
  },
  {
   "cell_type": "markdown",
   "metadata": {},
   "source": [
    "<b>Booleans and & or</b>\n",
    "<code>\n",
    "if (test > 1 <b>and</b> test < 3) <b>or</b> (test == 1):\n",
    "    print(\"yes\")\n",
    "</code>"
   ]
  },
  {
   "cell_type": "markdown",
   "metadata": {},
   "source": [
    "<b>in-Operator</b>\n",
    "<code>\n",
    "car = [\"Audi\", ...]\n",
    "    print(\"Audi\" <b>in</b> car)      // Ergebnis ist \"True\"\n",
    "if \"Audi\" <b>in</b> sentence:        // Wenn Wert in variable sentence enthalten = True\n",
    "    print(\"Yes\")\n",
    "</code>\n",
    "\n",
    "<b>not-Operator</b>\n",
    "<code>\n",
    "if <b>not</b> age >= 18 // Negierung von Werten. Aus True wird False... Allgemein nicht ratsam.\n",
    "</code>"
   ]
  },
  {
   "cell_type": "markdown",
   "metadata": {},
   "source": [
    "<b>Schleifen</b>\n",
    "<code>\n",
    "counter = 0\n",
    "\n",
    "<b>while</b> counter < 10:                   // while Schleife\n",
    "    counter = counter + 1\n",
    "\n",
    "<b>for</b> i in counter(0,10)                // for Schleife innerhalb einer Liste\n",
    "<b>range(0, 10)</b>                          // Eine Bereich-Funktion, wie ein Array\n",
    "continue                              // Einen Wert im loop überspringen\n",
    "    for i in range(0, 10):\n",
    "    if i == 3:\n",
    "    continue\n",
    "    print(i)\n",
    "</code>\n",
    "\n",
    "<code>\n",
    "for parts in [part1, part2, part3, part4, part5] // Statt neue Variable, in Klammern auflisten\n",
    "</code>\n",
    "\n",
    "<code>\n",
    "brake                                 // Bei vorgegebenen Wert stoppen\n",
    "</code>"
   ]
  },
  {
   "cell_type": "markdown",
   "metadata": {},
   "source": [
    "# Funktionen\n",
    "<b>Funktion definieren</b>\n",
    "<code>\n",
    "<b>def</b> multiPrint():\n",
    "    print(\"Hello World\")\n",
    "    print(\"Hello World\")\n",
    "</code>\n",
    "<b>Funktion abrufen</b>\n",
    "<code>\n",
    "multiPrint()\n",
    "</code>\n",
    "\n",
    "<b>Funktion mit Parameter</b>\n",
    "<code>\n",
    "<b>def</b> multiPrint(name):\n",
    "    print(name)\n",
    "    print(name)\n",
    "</code>\n",
    "<b>abrufen</b>\n",
    "<code>\n",
    "multiPrint(\"Moin!\")\n",
    "</code>\n",
    "\n",
    "<b>Funktion mit Parameter & Schleife</b>\n",
    "<code>\n",
    "<b>def</b> multiPrint(name, count):\n",
    "    for i in range(0, count)\n",
    "        print(name)\n",
    "</code>\n",
    "<b>abrufen</b>\n",
    "<code>\n",
    "multiPrint(\"Moin!\", 5)\n",
    "</code>\n",
    "\n",
    "<b>Funktion mit Parameter & Schleife</b>\n",
    "<code>\n",
    "def continated():\n",
    "    multiPrint()\n",
    "    repeat(\"Seesaibling\", random.randint(1, 10))\n",
    "</code>\n",
    "\n",
    "<b>return</b>\n",
    "<code>\n",
    "def max(a, b):\n",
    "    if a > b:\n",
    "        return a\n",
    "    else:\n",
    "        return b\n",
    "</code>"
   ]
  },
  {
   "cell_type": "markdown",
   "metadata": {},
   "source": [
    "## Rechenarten\n",
    "### Summe bis zu gewünschter Zahl ausrechnen lassen\n",
    "<b>Liste hochzählen</b>\n",
    "<code>\n",
    "liste = [0, 1, 2, 3, 5, 6, 10, 17, 38]\n",
    "s = 0\n",
    "for element in liste:\n",
    "    <b>s = s + element</b>\n",
    "    <b>if s > 10:</b>    # Wenn erreicht...\n",
    "    <b>break</b>         # ... stoppen.\n",
    "print(s)\n",
    "</code>"
   ]
  },
  {
   "cell_type": "markdown",
   "metadata": {},
   "source": [
    "# Eigene Übungen zum Wiederholen\n",
    "Hier werde ich immer wieder mal üben und wiederholen, was ich bereits gelernt habe."
   ]
  },
  {
   "cell_type": "code",
   "execution_count": 3,
   "metadata": {},
   "outputs": [
    {
     "name": "stdout",
     "output_type": "stream",
     "text": [
      "6\n",
      "Hallo\n",
      "Welt\n",
      "HalWel\n",
      "None\n"
     ]
    }
   ],
   "source": [
    "p = 1 + 5\n",
    "print(p)\n",
    "\n",
    "def p(name):\n",
    "    print(name)\n",
    "\n",
    "p(\"Hallo\")\n",
    "p(\"Welt\")\n",
    "\n",
    "print(p(\"HalWel\"))"
   ]
  },
  {
   "cell_type": "code",
   "execution_count": 1,
   "metadata": {},
   "outputs": [
    {
     "name": "stdout",
     "output_type": "stream",
     "text": [
      "232\n"
     ]
    }
   ],
   "source": [
    "import random\n",
    "\n",
    "pi = 3.141592\n",
    "r = random.randint(0, 50)\n",
    "u = 2 * pi * r\n",
    "\n",
    "print(int(u))"
   ]
  },
  {
   "cell_type": "markdown",
   "metadata": {},
   "source": [
    "### Die Mini-Beinahe-Nuklearbombe"
   ]
  },
  {
   "cell_type": "code",
   "execution_count": 11,
   "metadata": {},
   "outputs": [
    {
     "name": "stdout",
     "output_type": "stream",
     "text": [
      "0\n",
      "0\n",
      "0\n",
      "0\n",
      "0\n",
      "0\n",
      "0\n",
      "1\n"
     ]
    }
   ],
   "source": [
    "import random\n",
    "\n",
    "a = 0\n",
    "#b = [] # !\n",
    "\n",
    "while a < 1: # ! ab 2\n",
    "    a = random.randint(0, 1)\n",
    "    print(a)\n",
    "    #b.append(a) # !\n",
    "    #print(b) # !"
   ]
  },
  {
   "cell_type": "code",
   "execution_count": 100,
   "metadata": {},
   "outputs": [
    {
     "name": "stdout",
     "output_type": "stream",
     "text": [
      "6\n"
     ]
    }
   ],
   "source": [
    "# summe und break\n",
    "\n",
    "data = [2, 4, 6, 8, 10]\n",
    "s = 0\n",
    "for element in data:\n",
    "    s = s + element\n",
    "    if s > 4:\n",
    "        break\n",
    "print(s)"
   ]
  }
 ],
 "metadata": {
  "kernelspec": {
   "display_name": "Python 3",
   "language": "python",
   "name": "python3"
  },
  "language_info": {
   "codemirror_mode": {
    "name": "ipython",
    "version": 3
   },
   "file_extension": ".py",
   "mimetype": "text/x-python",
   "name": "python",
   "nbconvert_exporter": "python",
   "pygments_lexer": "ipython3",
   "version": "3.8.5"
  }
 },
 "nbformat": 4,
 "nbformat_minor": 4
}
