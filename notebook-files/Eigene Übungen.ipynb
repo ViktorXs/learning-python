{
 "cells": [
  {
   "cell_type": "markdown",
   "metadata": {},
   "source": [
    "# Eigene Übungen zum Wiederholen\n",
    "Hier werde ich immer wieder mal üben und wiederholen, was ich bereits gelernt habe.\n",
    "## Übungen:"
   ]
  },
  {
   "cell_type": "code",
   "execution_count": null,
   "metadata": {},
   "outputs": [],
   "source": []
  },
  {
   "cell_type": "code",
   "execution_count": 5,
   "metadata": {},
   "outputs": [
    {
     "ename": "SyntaxError",
     "evalue": "invalid syntax (<ipython-input-5-9557d633228e>, line 12)",
     "output_type": "error",
     "traceback": [
      "\u001b[1;36m  File \u001b[1;32m\"<ipython-input-5-9557d633228e>\"\u001b[1;36m, line \u001b[1;32m12\u001b[0m\n\u001b[1;33m    car.append(carDetails):\u001b[0m\n\u001b[1;37m                           ^\u001b[0m\n\u001b[1;31mSyntaxError\u001b[0m\u001b[1;31m:\u001b[0m invalid syntax\n"
     ]
    }
   ],
   "source": [
    "car = \"Maserati\"\n",
    "cars = [\"Audi\", \"BMW\", \"Mercedes\", \"Opel\", \"Porsche\"]\n",
    "carDetails = [\n",
    "    \"audire' Audi Automobilwerke GmbH Zwickau\",\n",
    "    \"Bayrische Motorenwerke\",\n",
    "    \"Daimler Chrysler Mercedes Benz\",\n",
    "    \"Ostpolnisches Ersatzteillager\",\n",
    "    \"Unnötig\"\n",
    "]\n",
    "\n",
    "\n",
    "car.append(carDetails):\n",
    "    print(car)\n"
   ]
  },
  {
   "cell_type": "markdown",
   "metadata": {},
   "source": [
    "## Bisherige Befehle\n",
    "<code>\n",
    "<b>Basics</b>\n",
    "print()                                          // Ausgabe\n",
    "test = \"Dies ist eine Variable mit einem String\" // eine Art Speicher\n",
    "print(a + b)                                     // Variable ausgeben\n",
    "test.append(\"Beispiel\")                          // Eintrag in Variable \"test\" einfügen\n",
    "len(test)                                        // Anzahl von Elementen in \"test\"\n",
    "test[0]                                          // Bestimmtes Element aus \"test\" azeigen\n",
    "</code>\n",
    "<code>\n",
    "<b>Löschen</b>\n",
    "test.pop()                // Wenn ohne Zahl, letzten Element löschen\n",
    "a = test.pop()            // mit print() zeigen, welches Element entfernt ist\n",
    "</code>\n",
    "<code>\n",
    "<b>Umwandeln</b>\n",
    "int()                     // Umwandeln in Zahl\n",
    "float()                   // Umwandeln in Zahl mit Nachkommastellen\n",
    "str()                     // Umwandeln in String\n",
    "print(\", \".join(test))    // Separatoren für Array verwenden\n",
    "test.split()\", \"          // String in Array umwandeln (Jedes Wort ein Wert)\n",
    "</code>\n",
    "<code>\n",
    "<b>if, else, elif</b>\n",
    "if test == test1<b>:</b>                // Wenn Bedingung erfüllt mit Operator... <b>Doppelpunkt beachten!</b>\n",
    "    print(\"is identical\")        // ... dann gib aus, ...\n",
    "else:                            // ... ansonsten ...\n",
    "    print(\"is not identical\")    // ... gib aus.\n",
    "elif test !=  test2:             // Und wenn...\n",
    "</code>\n",
    "<code>\n",
    "<b>Booleans and & or</b>\n",
    "if (test > 1 <b>and</b> test < 3) <b>or</b> (test == 1):\n",
    "    print(\"yes\")\n",
    "</code>\n",
    "<code>\n",
    "<b>in-Operator</b>\n",
    "car = [\"Audi\", ...]\n",
    "    print(\"Audi\" <b>in</b> car)      // Ergebnis ist \"True\"\n",
    "if \"Audi\" <b>in</b> sentence:        // Wenn Wert in variable sentence enthalten = True\n",
    "    print(\"Yes\")\n",
    "</code>\n",
    "<code>\n",
    "<b>not-Operator</b>\n",
    "if <b>not</b> age >= 18 // Negierung von Werten. Aus True wird False... Allgemein nicht ratsam.\n",
    "</code>\n",
    "<code>\n",
    "<b>Schleifen</b>\n",
    "counter = 0\n",
    "<b>while</b> counter < 10:            // while Schleife\n",
    "    counter = counter + 1\n",
    "<b>for</b> i in counter(0,10)         // for Schleife innerhalb einer Liste\n",
    "</code>\n"
   ]
  },
  {
   "cell_type": "code",
   "execution_count": null,
   "metadata": {},
   "outputs": [],
   "source": []
  }
 ],
 "metadata": {
  "kernelspec": {
   "display_name": "Python 3",
   "language": "python",
   "name": "python3"
  },
  "language_info": {
   "codemirror_mode": {
    "name": "ipython",
    "version": 3
   },
   "file_extension": ".py",
   "mimetype": "text/x-python",
   "name": "python",
   "nbconvert_exporter": "python",
   "pygments_lexer": "ipython3",
   "version": "3.8.5"
  }
 },
 "nbformat": 4,
 "nbformat_minor": 4
}
