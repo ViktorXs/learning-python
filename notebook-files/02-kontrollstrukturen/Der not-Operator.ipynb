{
 "cells": [
  {
   "cell_type": "markdown",
   "metadata": {},
   "source": [
    "# Der <code>not</code>-Operator\n",
    "Erlaubt einen Ausdruck zu negieren.\n",
    "Ist eher unüblich und daher nur gelegentlich nützlich."
   ]
  },
  {
   "cell_type": "code",
   "execution_count": 46,
   "metadata": {},
   "outputs": [
    {
     "name": "stdout",
     "output_type": "stream",
     "text": [
      "'if age' ausgeführt\n"
     ]
    }
   ],
   "source": [
    "age = 20\n",
    "\n",
    "if not age >= 18:\n",
    "    print(\"'if not age' ausgeführt\")\n",
    "\n",
    "if age >= 18:\n",
    "    print(\"'if age' ausgeführt\")"
   ]
  },
  {
   "cell_type": "code",
   "execution_count": 49,
   "metadata": {},
   "outputs": [
    {
     "name": "stdout",
     "output_type": "stream",
     "text": [
      "Better luck next time.\n"
     ]
    }
   ],
   "source": [
    "myRecentSpeed = 243\n",
    "myTopSpeed = 250\n",
    "\n",
    "if not myRecentSpeed < myTopSpeed:\n",
    "    print(\"New record!\")\n",
    "else:\n",
    "    print(\"Better luck next time.\")"
   ]
  },
  {
   "cell_type": "code",
   "execution_count": 51,
   "metadata": {},
   "outputs": [
    {
     "name": "stdout",
     "output_type": "stream",
     "text": [
      "Moritz ist nicht in der Liste enthalten.\n",
      "Moritz ist nicht in der Liste enthalten.\n"
     ]
    }
   ],
   "source": [
    "names = [\"Max\", \"Nadine\"]\n",
    "\n",
    "if \"Moritz\" not in names: # direkt abfragen // Empfohlene Variante\n",
    "    print(\"Moritz ist nicht in der Liste enthalten.\")\n",
    "\n",
    "if not \"Moritz\" in names: # zuerst prüfen ob Name im Array enthalten ist\n",
    "    print(\"Moritz ist nicht in der Liste enthalten.\")"
   ]
  },
  {
   "cell_type": "code",
   "execution_count": null,
   "metadata": {},
   "outputs": [],
   "source": []
  }
 ],
 "metadata": {
  "kernelspec": {
   "display_name": "Python 3",
   "language": "python",
   "name": "python3"
  },
  "language_info": {
   "codemirror_mode": {
    "name": "ipython",
    "version": 3
   },
   "file_extension": ".py",
   "mimetype": "text/x-python",
   "name": "python",
   "nbconvert_exporter": "python",
   "pygments_lexer": "ipython3",
   "version": "3.8.5"
  }
 },
 "nbformat": 4,
 "nbformat_minor": 4
}
