{
 "cells": [
  {
   "cell_type": "code",
   "execution_count": 14,
   "metadata": {},
   "outputs": [],
   "source": [
    "participants = [\"Viktor\", \"Hans\", \"Franz\", \"Andrea\", \"Petra\", \"Jörg\", \"Gustav\", \"Anatoli\"]"
   ]
  },
  {
   "cell_type": "code",
   "execution_count": 15,
   "metadata": {
    "scrolled": true
   },
   "outputs": [
    {
     "name": "stdout",
     "output_type": "stream",
     "text": [
      "Hans\n"
     ]
    }
   ],
   "source": [
    "print(participants[1])"
   ]
  },
  {
   "cell_type": "markdown",
   "metadata": {},
   "source": [
    "## Das letzte Element anzeigen"
   ]
  },
  {
   "cell_type": "code",
   "execution_count": 16,
   "metadata": {},
   "outputs": [
    {
     "name": "stdout",
     "output_type": "stream",
     "text": [
      "Anatoli\n",
      "Gustav\n"
     ]
    }
   ],
   "source": [
    "print(participants[-1])     # Das letzte Element\n",
    "print(participants[-2])     # Usw von hinterer Stelle weiter zurückgehen"
   ]
  },
  {
   "cell_type": "markdown",
   "metadata": {},
   "source": [
    "# List Slicing\n",
    "Aus einer Liste eine Teilliste erstellen"
   ]
  },
  {
   "cell_type": "code",
   "execution_count": 17,
   "metadata": {},
   "outputs": [
    {
     "name": "stdout",
     "output_type": "stream",
     "text": [
      "['Viktor', 'Hans', 'Franz', 'Andrea', 'Petra', 'Jörg', 'Gustav', 'Anatoli']\n"
     ]
    }
   ],
   "source": [
    "print(participants[:])     # Mit [:] eine Kopie dieser Liste erstellen"
   ]
  },
  {
   "cell_type": "markdown",
   "metadata": {},
   "source": [
    "## mit <code>[n:n]</code> Teilliste erstellen"
   ]
  },
  {
   "cell_type": "code",
   "execution_count": 32,
   "metadata": {},
   "outputs": [
    {
     "name": "stdout",
     "output_type": "stream",
     "text": [
      "['Hans', 'Franz']\n",
      "['Franz', 'Andrea', 'Petra', 'Jörg', 'Gustav', 'Anatoli']\n",
      "['Viktor', 'Hans', 'Franz']\n",
      "['Andrea', 'Petra', 'Jörg', 'Gustav']\n",
      "['Viktor', 'Hans', 'Franz', 'Andrea', 'Petra', 'Jörg', 'Gustav']\n",
      "['Viktor', 'Hans', 'Franz', 'Andrea', 'Petra', 'Jörg', 'Gustav']\n"
     ]
    }
   ],
   "source": [
    "print(participants[1:3])     # Von Index 1 bis 3 Liste erstellen\n",
    "\n",
    "print(participants[2:])      # Von Index 2 bis einschließlich letzter Stelle Liste erstellen\n",
    "print(participants[:3])      # Von erster Stelle bis Index 3 Liste erstellen\n",
    "\n",
    "print(participants[3:-1])    # Von Index 3 beginnen bis vor dem letzten Element Liste erstellen\n",
    "print(participants[:-1])     # Von erster Stelle bis vor dem letzten Element Liste erstellen\n",
    "print(participants[0:-1])    #                              \""
   ]
  },
  {
   "cell_type": "markdown",
   "metadata": {},
   "source": [
    "### Geht auch mit Strings"
   ]
  },
  {
   "cell_type": "code",
   "execution_count": 45,
   "metadata": {},
   "outputs": [
    {
     "name": "stdout",
     "output_type": "stream",
     "text": [
      "Hallo\n",
      "Welt\n",
      "!\n",
      "Welt!\n",
      "allo\n"
     ]
    }
   ],
   "source": [
    "print(\"Hallo Welt!\"[:5])\n",
    "print(\"Hallo Welt!\"[6:-1])\n",
    "print(\"Hallo Welt!\"[10:])\n",
    "print(\"Hallo Welt!\"[-5:])\n",
    "print(\"Hallo Welt!\"[1:5])"
   ]
  },
  {
   "cell_type": "code",
   "execution_count": null,
   "metadata": {},
   "outputs": [],
   "source": []
  }
 ],
 "metadata": {
  "kernelspec": {
   "display_name": "Python 3",
   "language": "python",
   "name": "python3"
  },
  "language_info": {
   "codemirror_mode": {
    "name": "ipython",
    "version": 3
   },
   "file_extension": ".py",
   "mimetype": "text/x-python",
   "name": "python",
   "nbconvert_exporter": "python",
   "pygments_lexer": "ipython3",
   "version": "3.8.5"
  }
 },
 "nbformat": 4,
 "nbformat_minor": 4
}
