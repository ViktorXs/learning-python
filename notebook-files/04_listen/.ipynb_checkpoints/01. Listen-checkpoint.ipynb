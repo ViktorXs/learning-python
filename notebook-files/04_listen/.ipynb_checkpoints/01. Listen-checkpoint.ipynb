{
 "cells": [
  {
   "cell_type": "markdown",
   "metadata": {},
   "source": [
    "# Listen\n",
    "\n",
    "## Das letzte Element aus einer Liste auslesen:"
   ]
  },
  {
   "cell_type": "code",
   "execution_count": 30,
   "metadata": {},
   "outputs": [
    {
     "name": "stdout",
     "output_type": "stream",
     "text": [
      "Petra\n",
      "['Viktor', 'Hans', 'Franz', 'Andrea']\n"
     ]
    }
   ],
   "source": [
    "participants = [\"Viktor\", \"Hans\", \"Franz\", \"Andrea\", \"Petra\"]\n",
    "\n",
    "last_part = participants.pop()\n",
    "print(last_part)\n",
    "print(participants)"
   ]
  },
  {
   "cell_type": "markdown",
   "metadata": {},
   "source": [
    "## Listen anhängen"
   ]
  },
  {
   "cell_type": "code",
   "execution_count": 31,
   "metadata": {},
   "outputs": [
    {
     "name": "stdout",
     "output_type": "stream",
     "text": [
      "['Viktor', 'Hans', 'Franz', 'Andrea', 'Petra', 'Olga', 'Ólgièr', 'Holger']\n"
     ]
    }
   ],
   "source": [
    "participants = [\"Viktor\", \"Hans\", \"Franz\", \"Andrea\", \"Petra\"] + [\"Olga\", \"Ólgièr\", \"Holger\"]\n",
    "print(participants)"
   ]
  },
  {
   "cell_type": "markdown",
   "metadata": {},
   "source": [
    "## Element entfernen"
   ]
  },
  {
   "cell_type": "code",
   "execution_count": 32,
   "metadata": {},
   "outputs": [
    {
     "name": "stdout",
     "output_type": "stream",
     "text": [
      "['Viktor', 'Hans', 'Andrea', 'Petra', 'Olga', 'Ólgièr', 'Holger']\n"
     ]
    }
   ],
   "source": [
    "del participants[2]     # Über Index löschen\n",
    "\n",
    "print(participants)"
   ]
  },
  {
   "cell_type": "code",
   "execution_count": 33,
   "metadata": {},
   "outputs": [
    {
     "name": "stdout",
     "output_type": "stream",
     "text": [
      "['Hans', 'Andrea', 'Petra', 'Olga', 'Ólgièr', 'Holger']\n"
     ]
    }
   ],
   "source": [
    "participants.remove(\"Viktor\")     # Über den Wert löschen\n",
    "print(participants)"
   ]
  },
  {
   "cell_type": "code",
   "execution_count": null,
   "metadata": {},
   "outputs": [],
   "source": []
  }
 ],
 "metadata": {
  "kernelspec": {
   "display_name": "Python 3",
   "language": "python",
   "name": "python3"
  },
  "language_info": {
   "codemirror_mode": {
    "name": "ipython",
    "version": 3
   },
   "file_extension": ".py",
   "mimetype": "text/x-python",
   "name": "python",
   "nbconvert_exporter": "python",
   "pygments_lexer": "ipython3",
   "version": "3.8.5"
  }
 },
 "nbformat": 4,
 "nbformat_minor": 4
}
