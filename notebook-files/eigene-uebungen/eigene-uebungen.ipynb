{
 "cells": [
  {
   "cell_type": "markdown",
   "metadata": {},
   "source": [
    "# Python Basics und Übungen\n",
    "## Spontane Übung / Wiederholung"
   ]
  },
  {
   "cell_type": "code",
   "execution_count": null,
   "metadata": {},
   "outputs": [],
   "source": []
  },
  {
   "cell_type": "markdown",
   "metadata": {},
   "source": [
    "## Hinweise\n",
    "Sinnvoll während der Programmierung Fehler entdecken und korrigieren.\n",
    "- Style Guide: https://www.python.org/dev/peps/pep-0008/\n",
    "- Mit Tupel Datensätze erstellen, die unverändert bleiben müssen. Somit werden Fehler ausgegeben, wenn im Tupel was verändert wird.\n",
    "- Bedacht mit <code>.get()</code> arbeiten, weil es nur ein \"None\", statt einen harten Fehler ausgibt und das Programm weiterläuft."
   ]
  },
  {
   "cell_type": "markdown",
   "metadata": {},
   "source": [
    "## Nützliche Module"
   ]
  },
  {
   "cell_type": "markdown",
   "metadata": {},
   "source": [
    "<code>import random                        // Zufallsgenerator z.B. random.randint(0, 10)</code>\n",
    "\n",
    "<code>%matplotlib inline                   // Graph-Modul im Editor statt extra Fenster anzeigen</code><br>\n",
    "<code>import matplotlib.pyplot as plt      // Graph-Modul laden udn als \"plt\" zur Verfügung stellen</code><br>"
   ]
  },
  {
   "cell_type": "markdown",
   "metadata": {},
   "source": [
    "## Bisherigen Befehle"
   ]
  },
  {
   "cell_type": "markdown",
   "metadata": {},
   "source": [
    "<b>Basics</b>\n",
    "<code>\n",
    "print()                                            // Ausgabe\n",
    "objekt = \"Dies ist eine Variable mit einem String\" // ein Speicher\n",
    "objekt.append(\"Beispiel\")                          // Eintrag in Variable \"objekt\" einfügen\n",
    "len(objekt)                                        // Anzahl von Elementen in \"objekt\" auflisten\n",
    "objekt[0]                                          // Bestimmtes Element aus \"objekt\" azeigen\n",
    "\"\\n\"                                               // Zeilenumbruch in String\n",
    "</code>"
   ]
  },
  {
   "cell_type": "markdown",
   "metadata": {},
   "source": [
    "<b>Löschen</b>\n",
    "<code>\n",
    "test.<b>pop()</b>                // Wenn ohne Zahl, letzten Element löschen\n",
    "a = test.pop()            // mit print() zeigen, welches Element entfernt ist\n",
    "<b>del</b> test[2]               // Eintrag aus Array oder Dictionary löschen.\n",
    "test<b>.remove(\"name\")</b>       //in Array nach Stringname löschen, statt Index\n",
    "</code>"
   ]
  },
  {
   "cell_type": "markdown",
   "metadata": {},
   "source": [
    "\n",
    "<b>Umwandeln</b>\n",
    "<code>\n",
    "int()                     // Umwandeln in Zahl\n",
    "float()                   // Umwandeln in Zahl mit Nachkommastellen\n",
    "str()                     // Umwandeln in String\n",
    "</code>"
   ]
  },
  {
   "cell_type": "markdown",
   "metadata": {},
   "source": [
    "<b>if, else, elif</b>\n",
    "<code>\n",
    "if test == test1<b>:</b>                // Wenn Bedingung erfüllt mit Operator... <b>Doppelpunkt beachten!</b>\n",
    "    print(\"is identical\")        // ... dann gib aus, ...\n",
    "else:                            // ... ansonsten ...\n",
    "    print(\"is not identical\")    // ... gib aus.\n",
    "elif test !=  test2:             // Und wenn...\n",
    "</code>"
   ]
  },
  {
   "cell_type": "markdown",
   "metadata": {},
   "source": [
    "<b>Booleans and & or</b>\n",
    "<code>\n",
    "if (test > 1 <b>and</b> test < 3) <b>or</b> (test == 1):\n",
    "    print(\"yes\")\n",
    "</code>"
   ]
  },
  {
   "cell_type": "markdown",
   "metadata": {},
   "source": [
    "<b>in-Operator</b>\n",
    "<code>\n",
    "car = [\"Audi\", ...]\n",
    "    print(\"Audi\" <b>in</b> car)      // Ergebnis ist \"True\"\n",
    "if \"Audi\" <b>in</b> sentence:        // Wenn Wert in variable sentence enthalten = True\n",
    "    print(\"Yes\")\n",
    "</code>\n",
    "\n",
    "<b>not-Operator</b>\n",
    "<code>\n",
    "if <b>not</b> age >= 18 // Negierung von Werten. Aus True wird False... Allgemein nicht ratsam.\n",
    "</code>"
   ]
  },
  {
   "cell_type": "markdown",
   "metadata": {},
   "source": [
    "<b>Typen überprüfen</b>\n",
    "<code>\n",
    "type()                           // Den Typ ausgeben (Vererbung wird nicht betrachtet)\n",
    "isinstance(variable, Klasse)     // Gibt Boolean aus, ob Variable zur Klasse gehört\n",
    "</code>"
   ]
  },
  {
   "cell_type": "markdown",
   "metadata": {},
   "source": [
    "# Funktionen"
   ]
  },
  {
   "cell_type": "markdown",
   "metadata": {},
   "source": [
    "<b>Einfache Funktionen</b>\n",
    "<code>\n",
    ".append()        // Verbinden\n",
    ".split()         // String in Array umwandeln (Jedes Wort ein Wert)\n",
    ".join()          // Separatoren für String Arrays verwenden\n",
    ".pop()           // letzten Objekt in Array oder an indexstelle löschen: objekt.pop(3)\n",
    ".strip()         // Überflüssige Zeichen und Zeilenumbrüche aus Datei bei Lesen entfernen\n",
    "super()          // vererben aus Parentklasse\n",
    "</code>"
   ]
  },
  {
   "cell_type": "markdown",
   "metadata": {},
   "source": [
    "<b>Funktion definieren</b>"
   ]
  },
  {
   "cell_type": "code",
   "execution_count": 14,
   "metadata": {},
   "outputs": [
    {
     "name": "stdout",
     "output_type": "stream",
     "text": [
      "Hello World\n"
     ]
    }
   ],
   "source": [
    "def multiPrint():\n",
    "    print(\"Hello World\")\n",
    "\n",
    "multiPrint()"
   ]
  },
  {
   "cell_type": "markdown",
   "metadata": {},
   "source": [
    "<b>Funktion mit Parameter</b>\n",
    "<code>\n",
    "<b>def</b> multiPrint(name):\n",
    "    print(name)\n",
    "</code>\n",
    "<b>abrufen</b>\n",
    "<code>\n",
    "multiPrint(\"Moin!\")\n",
    "</code>"
   ]
  },
  {
   "cell_type": "markdown",
   "metadata": {},
   "source": [
    "<b>Funktion mit Parameter & Schleife</b>\n",
    "<code>\n",
    "<b>def</b> multiPrint(name, count):\n",
    "    for i in range(0, count)\n",
    "        print(name)\n",
    "</code>\n",
    "<b>abrufen</b>\n",
    "<code>\n",
    "multiPrint(\"Moin!\", 5)\n",
    "</code>"
   ]
  },
  {
   "cell_type": "markdown",
   "metadata": {},
   "source": [
    "<b>Funktion mit Parameter & Schleife</b>\n",
    "<code>\n",
    "def continated():\n",
    "    multiPrint()\n",
    "    repeat(\"Seesaibling\", random.randint(1, 10))\n",
    "</code>\n",
    "\n"
   ]
  },
  {
   "cell_type": "markdown",
   "metadata": {},
   "source": [
    "<b>return</b>\n",
    "<code>\n",
    "def max(a, b):\n",
    "    if a > b:\n",
    "        return a\n",
    "    else:\n",
    "        return b\n",
    "</code>"
   ]
  },
  {
   "cell_type": "code",
   "execution_count": 1,
   "metadata": {},
   "outputs": [],
   "source": [
    "def __init__(parameter1, paramter2):\n",
    "    pass             # Nicht fertige Funktion beenden lassen und in Nächste übergehen."
   ]
  },
  {
   "cell_type": "markdown",
   "metadata": {},
   "source": [
    "# Besondere Funktionen/Methoden"
   ]
  },
  {
   "cell_type": "raw",
   "metadata": {},
   "source": [
    "__str__():           // Als String ausgeben. Etwas lesbar machen\n",
    "__repr__():          // Etwas eindeutig ausgeben. Für Debugging\n",
    "__len__():           // Anzahl ausgeben\n",
    "__init__():          // Constructor um Funktion/Methode innerhalb Klasse zu schreiben\n",
    "__add__():           // Interner Operator: Addieren"
   ]
  },
  {
   "cell_type": "markdown",
   "metadata": {},
   "source": [
    "## Beispiel:"
   ]
  },
  {
   "cell_type": "code",
   "execution_count": 2,
   "metadata": {},
   "outputs": [
    {
     "name": "stdout",
     "output_type": "stream",
     "text": [
      "2021-05-21 11:47:04.673760\n",
      "datetime.datetime(2021, 5, 21, 11, 47, 4, 673760)\n"
     ]
    }
   ],
   "source": [
    "import datetime\n",
    "today = datetime.datetime.now()\n",
    "\n",
    "print (str(today))\n",
    "print (repr(today))"
   ]
  },
  {
   "cell_type": "markdown",
   "metadata": {},
   "source": [
    "## Listenbefehle"
   ]
  },
  {
   "cell_type": "code",
   "execution_count": 1,
   "metadata": {},
   "outputs": [
    {
     "name": "stdout",
     "output_type": "stream",
     "text": [
      "F\n"
     ]
    }
   ],
   "source": [
    "# Letztes Element anzeigen\n",
    "test = [\"A\", \"B\", \"C\", \"D\", \"E\", \"F\"]\n",
    "print(test[-1])     # Statt mit [0] von links zu zählen mit [-1], [-2],... von rechts aus zählen."
   ]
  },
  {
   "cell_type": "code",
   "execution_count": 2,
   "metadata": {},
   "outputs": [
    {
     "name": "stdout",
     "output_type": "stream",
     "text": [
      "['A', 'B', 'C', 'D', 'E', 'F']\n"
     ]
    }
   ],
   "source": [
    "# Slicing - Kopie einer Liste erstellen\n",
    "print(test[:])"
   ]
  },
  {
   "cell_type": "code",
   "execution_count": 28,
   "metadata": {},
   "outputs": [
    {
     "name": "stdout",
     "output_type": "stream",
     "text": [
      "['B', 'C', 'D']\n",
      "['C', 'D', 'E', 'F']\n",
      "['A', 'B', 'C']\n",
      "['D', 'E']\n",
      "['A', 'B', 'C', 'D', 'E']\n"
     ]
    }
   ],
   "source": [
    "# Slicing - Von:Bis Teilliste erstellen\n",
    "print(test[1:4])     # Von Index 1 bis 3\n",
    "print(test[2:])      # Von Index 2 bis einschließlich letzter Stelle\n",
    "print(test[:3])      # Von erster Stelle bis Index 3\n",
    "print(test[3:-1])    # Von Index 1 beginnen bis vor dem letzten Element\n",
    "print(test[:-1])     # Von erster Stelle bis vor dem letzten Element"
   ]
  },
  {
   "cell_type": "code",
   "execution_count": 27,
   "metadata": {},
   "outputs": [
    {
     "name": "stdout",
     "output_type": "stream",
     "text": [
      "Hallo\n",
      "Welt\n",
      "!\n",
      "Welt!\n",
      "allo\n"
     ]
    }
   ],
   "source": [
    "# Slicing - Mit Strings\n",
    "print(\"Hallo Welt!\"[:5])\n",
    "print(\"Hallo Welt!\"[6:-1])\n",
    "print(\"Hallo Welt!\"[10:])\n",
    "print(\"Hallo Welt!\"[-5:])\n",
    "print(\"Hallo Welt!\"[1:5])"
   ]
  },
  {
   "cell_type": "code",
   "execution_count": 31,
   "metadata": {},
   "outputs": [
    {
     "name": "stdout",
     "output_type": "stream",
     "text": [
      "[1, 4, 9, 16, 25, 36, 49, 64, 81]\n",
      "\n",
      "[6, 4, 5, 6, 5, 4, 6, 7]\n"
     ]
    }
   ],
   "source": [
    "# List Comprehension\n",
    "xs = [1, 2, 3, 4, 5, 6, 7, 8, 9]\n",
    "ys = [x * x for x in xs]\n",
    "print(ys)\n",
    "print()\n",
    "\n",
    "participants = [\"Viktor\", \"Hans\", \"Franz\", \"Andrea\", \"Petra\", \"Jörg\", \"Gustav\", \"Anatoli\"]\n",
    "buchstaben = [len(participant) for participant in participants]\n",
    "print(buchstaben)"
   ]
  },
  {
   "cell_type": "markdown",
   "metadata": {},
   "source": [
    "# Dateien\n",
    "## Dateien lesen\n",
    "Merken: <code>for line in file:</code>"
   ]
  },
  {
   "cell_type": "code",
   "execution_count": 1,
   "metadata": {},
   "outputs": [
    {
     "name": "stdout",
     "output_type": "stream",
     "text": [
      "Viktor\n",
      "Julian\n",
      "Unbekannt\n"
     ]
    }
   ],
   "source": [
    "file = open(\"./data/uebungsfile.txt\", \"r\")     # \"r\" = Leseberechtigung\n",
    "for line in file:\n",
    "    print(line.strip())     # Funktion .strip entfernt unnötige Zeilenumbrüche und Symbole"
   ]
  },
  {
   "cell_type": "markdown",
   "metadata": {},
   "source": [
    "## Dateien schreiben"
   ]
  },
  {
   "cell_type": "code",
   "execution_count": 8,
   "metadata": {},
   "outputs": [
    {
     "name": "stdout",
     "output_type": "stream",
     "text": [
      "Text1\n",
      "Text2\n"
     ]
    }
   ],
   "source": [
    "file = open(\"./data/uebungsfile.txt\", \"w\")     # \"w\" = Schreibberechtigung\n",
    "file.write(\"Text1\\n\")     # Mit \"\\n\" Zeilenumbruch für nächste Zeile erstellen\n",
    "file.write(\"Text2\")\n",
    "file.close()\n",
    "\n",
    "file = open(\"./daten/uebungsfile.txt\", \"r\")\n",
    "for line in file:\n",
    "    print(line.strip())"
   ]
  },
  {
   "cell_type": "markdown",
   "metadata": {},
   "source": [
    "### Daten mit append <code>\"a\"</code> an letzte Zeile anhängen"
   ]
  },
  {
   "cell_type": "code",
   "execution_count": 9,
   "metadata": {},
   "outputs": [],
   "source": [
    "file = open(\"./data/uebungsfile.txt\", \"a\")     # \"a\" Statt überschreiben, Daten anhängen.\n",
    "\n",
    "individuals = [\"Hans\", \"Franz\", \"Klaus\", \"Peter\", \"Olaf\", \"Günther\"]\n",
    "\n",
    "for individual in individuals:\n",
    "    file.write(individual + \"\\n\")\n",
    "\n",
    "file.close()"
   ]
  },
  {
   "cell_type": "markdown",
   "metadata": {},
   "source": [
    "### Datei schließen\n",
    "Mit <code>.close()</code> sollte eine Datei geschlossen werden, um PC-Ressourcen zu schonen.\n",
    "Wird aber nicht geschlossen, wenn z.B. ein Fehler irgendwo im Code vorhanden ist."
   ]
  },
  {
   "cell_type": "code",
   "execution_count": 29,
   "metadata": {},
   "outputs": [
    {
     "ename": "NameError",
     "evalue": "name 'prin' is not defined",
     "output_type": "error",
     "traceback": [
      "\u001b[1;31m---------------------------------------------------------------------------\u001b[0m",
      "\u001b[1;31mNameError\u001b[0m                                 Traceback (most recent call last)",
      "\u001b[1;32m<ipython-input-29-345e25449a2b>\u001b[0m in \u001b[0;36m<module>\u001b[1;34m\u001b[0m\n\u001b[0;32m      1\u001b[0m \u001b[0mfile\u001b[0m \u001b[1;33m=\u001b[0m \u001b[0mopen\u001b[0m\u001b[1;33m(\u001b[0m\u001b[1;34m\"./daten/uebungsfile.txt\"\u001b[0m\u001b[1;33m,\u001b[0m \u001b[1;34m\"r\"\u001b[0m\u001b[1;33m)\u001b[0m\u001b[1;33m\u001b[0m\u001b[1;33m\u001b[0m\u001b[0m\n\u001b[0;32m      2\u001b[0m \u001b[1;32mfor\u001b[0m \u001b[0mline\u001b[0m \u001b[1;32min\u001b[0m \u001b[0mfile\u001b[0m\u001b[1;33m:\u001b[0m\u001b[1;33m\u001b[0m\u001b[1;33m\u001b[0m\u001b[0m\n\u001b[1;32m----> 3\u001b[1;33m     \u001b[0mprin\u001b[0m\u001b[1;33m(\u001b[0m\u001b[0mline\u001b[0m\u001b[1;33m.\u001b[0m\u001b[0mstrip\u001b[0m\u001b[1;33m(\u001b[0m\u001b[1;33m)\u001b[0m\u001b[1;33m)\u001b[0m    \u001b[1;31m# Tippfehler\u001b[0m\u001b[1;33m\u001b[0m\u001b[1;33m\u001b[0m\u001b[0m\n\u001b[0m\u001b[0;32m      4\u001b[0m \u001b[0mfile\u001b[0m\u001b[1;33m.\u001b[0m\u001b[0mclose\u001b[0m\u001b[1;33m(\u001b[0m\u001b[1;33m)\u001b[0m\u001b[1;33m\u001b[0m\u001b[1;33m\u001b[0m\u001b[0m\n",
      "\u001b[1;31mNameError\u001b[0m: name 'prin' is not defined"
     ]
    }
   ],
   "source": [
    "file = open(\"./data/uebungsfile.txt\", \"r\")\n",
    "for line in file:\n",
    "    prin(line.strip())    # Tippfehler\n",
    "file.close()              # Wird nicht geschlossen"
   ]
  },
  {
   "cell_type": "markdown",
   "metadata": {},
   "source": [
    "### Schließen mit with\n",
    "Wenn eine Datei mit <code>with</code> geöffnet wird, wird sie am ende des with-Blockes geschlossen! Auch, wenn Fehler auftreten."
   ]
  },
  {
   "cell_type": "code",
   "execution_count": 32,
   "metadata": {},
   "outputs": [
    {
     "ename": "NameError",
     "evalue": "name 'prin' is not defined",
     "output_type": "error",
     "traceback": [
      "\u001b[1;31m---------------------------------------------------------------------------\u001b[0m",
      "\u001b[1;31mNameError\u001b[0m                                 Traceback (most recent call last)",
      "\u001b[1;32m<ipython-input-32-f85c1e9f8520>\u001b[0m in \u001b[0;36m<module>\u001b[1;34m\u001b[0m\n\u001b[0;32m      1\u001b[0m \u001b[1;32mwith\u001b[0m \u001b[0mopen\u001b[0m\u001b[1;33m(\u001b[0m\u001b[1;34m\"./daten/uebungsfile.txt\"\u001b[0m\u001b[1;33m,\u001b[0m \u001b[1;34m\"r\"\u001b[0m\u001b[1;33m)\u001b[0m \u001b[1;32mas\u001b[0m \u001b[0mfile\u001b[0m\u001b[1;33m:\u001b[0m\u001b[1;33m\u001b[0m\u001b[1;33m\u001b[0m\u001b[0m\n\u001b[0;32m      2\u001b[0m     \u001b[1;32mfor\u001b[0m \u001b[0mline\u001b[0m \u001b[1;32min\u001b[0m \u001b[0mfile\u001b[0m\u001b[1;33m:\u001b[0m\u001b[1;33m\u001b[0m\u001b[1;33m\u001b[0m\u001b[0m\n\u001b[1;32m----> 3\u001b[1;33m         \u001b[0mprin\u001b[0m\u001b[1;33m(\u001b[0m\u001b[0mline\u001b[0m\u001b[1;33m.\u001b[0m\u001b[0mstrip\u001b[0m\u001b[1;33m(\u001b[0m\u001b[1;33m)\u001b[0m\u001b[1;33m)\u001b[0m    \u001b[1;31m# Tippfehler\u001b[0m\u001b[1;33m\u001b[0m\u001b[1;33m\u001b[0m\u001b[0m\n\u001b[0m",
      "\u001b[1;31mNameError\u001b[0m: name 'prin' is not defined"
     ]
    }
   ],
   "source": [
    "with open(\"./data/uebungsfile.txt\", \"r\") as file:\n",
    "    for line in file:\n",
    "        prin(line.strip())    # Tippfehler, aber wird geschlossen"
   ]
  },
  {
   "cell_type": "markdown",
   "metadata": {},
   "source": [
    "# Graphen zeichnen"
   ]
  },
  {
   "cell_type": "code",
   "execution_count": 35,
   "metadata": {
    "scrolled": true
   },
   "outputs": [
    {
     "data": {
      "image/png": "[encoded data removed]",
      "text/plain": [
       "<Figure size 432x288 with 1 Axes>"
      ]
     },
     "metadata": {
      "needs_background": "light"
     },
     "output_type": "display_data"
    }
   ],
   "source": [
    "%matplotlib inline\n",
    "import matplotlib.pyplot as plt\n",
    "xa = [1, 2, 3, 4, 5, 6, 7, 8, 9, 10, 11]\n",
    "ya = [4, 8, 16, 28, 24, 16, 12, 8, 20, 36, 64]\n",
    "plt.plot(xa, ya)\n",
    "plt.show()"
   ]
  },
  {
   "cell_type": "markdown",
   "metadata": {},
   "source": [
    "# Rechenarten\n",
    "## Summe bis zu gewünschter Zahl ausrechnen lassen"
   ]
  },
  {
   "cell_type": "code",
   "execution_count": 35,
   "metadata": {},
   "outputs": [
    {
     "name": "stdout",
     "output_type": "stream",
     "text": [
      "11\n"
     ]
    }
   ],
   "source": [
    "liste = [0, 1, 2, 3, 5, 6, 10, 17, 38]\n",
    "s = 0\n",
    "for element in liste:\n",
    "    s = s + element\n",
    "    if s > 10:        # Wenn erreicht...\n",
    "        break         # ... stoppen.\n",
    "print(s)"
   ]
  },
  {
   "cell_type": "markdown",
   "metadata": {},
   "source": [
    "# List Comprehension\n",
    "## Koordinaten schnell ausrechnen"
   ]
  },
  {
   "cell_type": "code",
   "execution_count": 37,
   "metadata": {},
   "outputs": [
    {
     "data": {
      "image/png": "[encoded data removed]",
      "text/plain": [
       "<Figure size 432x288 with 1 Axes>"
      ]
     },
     "metadata": {
      "needs_background": "light"
     },
     "output_type": "display_data"
    }
   ],
   "source": [
    "import matplotlib.pyplot as plt\n",
    "\n",
    "xs = [x / 10 for x in range(0, 100)]     # List Comprehension: Im Array ausrechnen\n",
    "ys = [x * x for x in xs]\n",
    "\n",
    "plt.plot(xs, ys)\n",
    "plt.show()"
   ]
  },
  {
   "cell_type": "markdown",
   "metadata": {},
   "source": [
    "# Daten"
   ]
  },
  {
   "cell_type": "code",
   "execution_count": 6,
   "metadata": {},
   "outputs": [],
   "source": [
    "fruits = (\"Apfel\", \"Avokado\", \"Banane\", \"Birne\", \"Kiwi\", \"Mandarine\", \"Orange\", \"Weintraube\")\n",
    "carManufacturer = [(\"Audi\", \"'audire' Audi Automobilwerke Zwickau\", 1909), (\"BMW\", \"Bayerische Motoren Werke Aktiengesellschaft\", 1916), (\"Mercedes Benz\", \"Daimler Aktiengesellschaft\", 1926), (\"Opel\", \"Opel Automobile GmbH\", 1862)] # Tupel in Liste"
   ]
  },
  {
   "cell_type": "code",
   "execution_count": null,
   "metadata": {},
   "outputs": [],
   "source": []
  }
 ],
 "metadata": {
  "kernelspec": {
   "display_name": "Python 3",
   "language": "python",
   "name": "python3"
  },
  "language_info": {
   "codemirror_mode": {
    "name": "ipython",
    "version": 3
   },
   "file_extension": ".py",
   "mimetype": "text/x-python",
   "name": "python",
   "nbconvert_exporter": "python",
   "pygments_lexer": "ipython3",
   "version": "3.8.5"
  }
 },
 "nbformat": 4,
 "nbformat_minor": 4
}
