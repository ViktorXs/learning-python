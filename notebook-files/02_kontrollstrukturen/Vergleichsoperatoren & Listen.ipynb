{
 "cells": [
  {
   "cell_type": "markdown",
   "metadata": {},
   "source": [
    "# <code>In</code>-Operator\n",
    "Praktisch zum Suchen\n",
    "## Auf Arrays"
   ]
  },
  {
   "cell_type": "code",
   "execution_count": 8,
   "metadata": {},
   "outputs": [
    {
     "name": "stdout",
     "output_type": "stream",
     "text": [
      "True\n",
      "False\n"
     ]
    }
   ],
   "source": [
    "car = [\"Audi\", \"BMW\", \"Mercedes\", \"Porsche\", \"Opel\"]\n",
    "\n",
    "print(\"Audi\" in car)\n",
    "print(\"Vokswagen\" in car)"
   ]
  },
  {
   "cell_type": "code",
   "execution_count": 9,
   "metadata": {
    "scrolled": true
   },
   "outputs": [
    {
     "name": "stdout",
     "output_type": "stream",
     "text": [
      "We are sorry, but VW isn't available at this moment.\n"
     ]
    }
   ],
   "source": [
    "carSearch = \"VW\"\n",
    "\n",
    "if carSearch in car:\n",
    "    print(\"Yes, \" + carSearch + \" is available.\")\n",
    "else:\n",
    "    print(\"We are sorry, but \" + carSearch + \" isn't available at this moment.\")"
   ]
  },
  {
   "cell_type": "markdown",
   "metadata": {},
   "source": [
    "## Innerhalb von Sätzen suchen."
   ]
  },
  {
   "cell_type": "code",
   "execution_count": 12,
   "metadata": {},
   "outputs": [
    {
     "name": "stdout",
     "output_type": "stream",
     "text": [
      "No\n"
     ]
    }
   ],
   "source": [
    "sentence = \"Some cars are pretty expensive!\"\n",
    "\n",
    "if \"?\" in sentence:\n",
    "    print(\"Yes\")\n",
    "else:\n",
    "    print(\"No\")"
   ]
  }
 ],
 "metadata": {
  "kernelspec": {
   "display_name": "Python 3",
   "language": "python",
   "name": "python3"
  },
  "language_info": {
   "codemirror_mode": {
    "name": "ipython",
    "version": 3
   },
   "file_extension": ".py",
   "mimetype": "text/x-python",
   "name": "python",
   "nbconvert_exporter": "python",
   "pygments_lexer": "ipython3",
   "version": "3.8.5"
  }
 },
 "nbformat": 4,
 "nbformat_minor": 4
}
