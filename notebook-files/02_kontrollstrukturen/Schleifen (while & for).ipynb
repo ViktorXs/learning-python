{
 "cells": [
  {
   "cell_type": "markdown",
   "metadata": {},
   "source": [
    "# while-Schleife\n",
    "Ein Bereich so lange wiederholen bis eine Bedingung erfüllt ist.\n",
    "\n",
    "<b>Nicht empfehlenswert</b>, wenn man eh weiß, wie viel in einem Array ist und eine Endlosschleife entstehen kann, wenn man den Zähler vergisst (z.B.: counter = counter + 1)."
   ]
  },
  {
   "cell_type": "code",
   "execution_count": 1,
   "metadata": {},
   "outputs": [
    {
     "name": "stdout",
     "output_type": "stream",
     "text": [
      "SPAM\n",
      "SPAM\n",
      "SPAM\n",
      "SPAM\n",
      "SPAM\n",
      "SPAM\n",
      "SPAM\n",
      "SPAM\n",
      "SPAM\n",
      "SPAM\n",
      "Kein Spam\n"
     ]
    }
   ],
   "source": [
    "counter = 0\n",
    "while counter < 10:\n",
    "    counter = counter + 1\n",
    "    print(\"SPAM\")\n",
    "print(\"Kein Spam\")"
   ]
  },
  {
   "cell_type": "markdown",
   "metadata": {},
   "source": [
    "# for-Schleife\n",
    "Einen Bereich durchgehen. Z.B.: Von 0 bis 10.\n",
    "\n",
    "Sinnvoller als <code>while</code>, weil man schon einen Zahlenbereich angeben kann, sodass eine versehentliche Endlosschleife erst gar nicht entstehen kann."
   ]
  },
  {
   "cell_type": "markdown",
   "metadata": {},
   "source": [
    "So tun, als <b>wäre</b> die Variable eine Liste:"
   ]
  },
  {
   "cell_type": "code",
   "execution_count": 4,
   "metadata": {},
   "outputs": [
    {
     "name": "stdout",
     "output_type": "stream",
     "text": [
      "0\n",
      "1\n",
      "2\n",
      "3\n",
      "4\n",
      "5\n",
      "6\n",
      "7\n",
      "8\n",
      "9\n"
     ]
    }
   ],
   "source": [
    "for i in range(0, 10):\n",
    "    print(i)"
   ]
  },
  {
   "cell_type": "markdown",
   "metadata": {},
   "source": [
    "Wenn die Variable eine Liste <b>ist</b>."
   ]
  },
  {
   "cell_type": "code",
   "execution_count": 3,
   "metadata": {},
   "outputs": [
    {
     "name": "stdout",
     "output_type": "stream",
     "text": [
      "1\n",
      "6\n",
      "13\n",
      "20\n"
     ]
    }
   ],
   "source": [
    "list = [1, 6, 13, 20]\n",
    "for i in list:\n",
    "    print(i)"
   ]
  },
  {
   "cell_type": "code",
   "execution_count": null,
   "metadata": {},
   "outputs": [],
   "source": []
  }
 ],
 "metadata": {
  "kernelspec": {
   "display_name": "Python 3",
   "language": "python",
   "name": "python3"
  },
  "language_info": {
   "codemirror_mode": {
    "name": "ipython",
    "version": 3
   },
   "file_extension": ".py",
   "mimetype": "text/x-python",
   "name": "python",
   "nbconvert_exporter": "python",
   "pygments_lexer": "ipython3",
   "version": "3.8.5"
  }
 },
 "nbformat": 4,
 "nbformat_minor": 4
}
