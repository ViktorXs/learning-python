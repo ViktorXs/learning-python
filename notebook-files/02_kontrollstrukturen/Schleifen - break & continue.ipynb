{
 "cells": [
  {
   "cell_type": "markdown",
   "metadata": {},
   "source": [
    "# continue - Werte überspringen"
   ]
  },
  {
   "cell_type": "code",
   "execution_count": 14,
   "metadata": {},
   "outputs": [
    {
     "name": "stdout",
     "output_type": "stream",
     "text": [
      "0\n",
      "1\n",
      "2\n",
      "\n",
      "4\n",
      "5\n",
      "6\n",
      "7\n",
      "8\n",
      "9\n"
     ]
    }
   ],
   "source": [
    "counter = range(0, 10)\n",
    "\n",
    "for i in counter:\n",
    "    if i == 3: \n",
    "        print(\"\")\n",
    "        continue\n",
    "    print(i)"
   ]
  },
  {
   "cell_type": "markdown",
   "metadata": {},
   "source": [
    "# break - Beim Wert stoppen"
   ]
  },
  {
   "cell_type": "code",
   "execution_count": 18,
   "metadata": {},
   "outputs": [
    {
     "name": "stdout",
     "output_type": "stream",
     "text": [
      "0\n",
      "1\n",
      "2\n",
      "\n",
      "Afterbreak\n"
     ]
    }
   ],
   "source": [
    "counter = range(0, 10)\n",
    "\n",
    "for i in counter:\n",
    "    if i == 3: \n",
    "        print(\"\")\n",
    "        break\n",
    "    print(i)\n",
    "print(\"Afterbreak\")"
   ]
  },
  {
   "cell_type": "markdown",
   "metadata": {},
   "source": [
    "## Summe ausrechnen lassen und ab einer Zahl abbrechen\n",
    "Wenn man nur eine gewünschte Zahl beim Durchzählen erreicht hat, dann macht es keinen Sinn mehr weiter Zählen zu lassen. Daher ist <code>brake</code> sinnvoll."
   ]
  },
  {
   "cell_type": "code",
   "execution_count": 65,
   "metadata": {},
   "outputs": [
    {
     "name": "stdout",
     "output_type": "stream",
     "text": [
      "11\n",
      "5\n"
     ]
    }
   ],
   "source": [
    "liste = [0, 1, 2, 3, 5, 6, 10, 17, 38]\n",
    "\n",
    "s = 0\n",
    "\n",
    "for element in liste:\n",
    "    s = s + element\n",
    "    if s > 10:    # Wenn erreicht...\n",
    "        break     # ... stoppen.\n",
    "print(s)\n",
    "print(element)"
   ]
  },
  {
   "cell_type": "code",
   "execution_count": null,
   "metadata": {},
   "outputs": [],
   "source": []
  }
 ],
 "metadata": {
  "kernelspec": {
   "display_name": "Python 3",
   "language": "python",
   "name": "python3"
  },
  "language_info": {
   "codemirror_mode": {
    "name": "ipython",
    "version": 3
   },
   "file_extension": ".py",
   "mimetype": "text/x-python",
   "name": "python",
   "nbconvert_exporter": "python",
   "pygments_lexer": "ipython3",
   "version": "3.8.5"
  }
 },
 "nbformat": 4,
 "nbformat_minor": 4
}
