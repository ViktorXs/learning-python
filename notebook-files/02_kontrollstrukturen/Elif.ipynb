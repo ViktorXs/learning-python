{
 "cells": [
  {
   "cell_type": "markdown",
   "metadata": {},
   "source": [
    "# Elif (else-if)\n",
    "Mehrere if's in einer Variable einsetzen."
   ]
  },
  {
   "cell_type": "markdown",
   "metadata": {},
   "source": [
    "## Pyramid of Doom - if & else:"
   ]
  },
  {
   "cell_type": "code",
   "execution_count": 17,
   "metadata": {},
   "outputs": [
    {
     "name": "stdout",
     "output_type": "stream",
     "text": [
      "Daimler Chrysler Mercedes Benz\n"
     ]
    }
   ],
   "source": [
    "car = \"Mercedes\"\n",
    "if car == \"Audi\":\n",
    "    print(\"'audire' Audi Automobilwerke GmbH Zwickau\")\n",
    "else:\n",
    "    if car == \"BMW\":\n",
    "        print(\"Bayrische Motorenwerke\")\n",
    "    else:\n",
    "        if car == \"Mercedes\":\n",
    "            print(\"Daimler Chrysler Mercedes Benz\")\n",
    "        else:\n",
    "            if car == \"Opel\":\n",
    "                print(\"Ostpolnisches Ersatzteillager\")\n",
    "            else:\n",
    "                if car == \"Porsche\":\n",
    "                    print(\"Unnötig\")\n",
    "                else:\n",
    "                    print(\"Not available\")"
   ]
  },
  {
   "cell_type": "markdown",
   "metadata": {},
   "source": [
    "## Code of Doom - elif:\n",
    "Genau so schnell / langsam wie mit if & else"
   ]
  },
  {
   "cell_type": "code",
   "execution_count": 15,
   "metadata": {},
   "outputs": [
    {
     "name": "stdout",
     "output_type": "stream",
     "text": [
      "Not available.\n"
     ]
    }
   ],
   "source": [
    "car = \"disch\"\n",
    "if car == \"Audi\":\n",
    "    print(\"'audire' Audi Automobilwerke GmbH Zwickau\")\n",
    "elif car == \"BMW\":\n",
    "    print(\"Bayrische Motorenwerke\")\n",
    "elif car == \"Mercedes\":\n",
    "    print(\"Daimler Chrysler Mercedes Benz\")\n",
    "elif car == \"Opel\":\n",
    "    print(\"Ostpolnisches Ersatzteillager\")\n",
    "elif car == \"Porsche\":\n",
    "    print(\"Unnötig\")\n",
    "else:\n",
    "    print(\"Not available.\")"
   ]
  },
  {
   "cell_type": "markdown",
   "metadata": {},
   "source": [
    "## Meine Überlegung:"
   ]
  },
  {
   "cell_type": "code",
   "execution_count": 29,
   "metadata": {},
   "outputs": [
    {
     "name": "stdout",
     "output_type": "stream",
     "text": [
      "Jo\n"
     ]
    }
   ],
   "source": [
    "car = \"Audi\"\n",
    "\n",
    "cars = [\"Audi\", \"BMW\", \"Mercedes\", \"Opel\", \"Porsche\"]\n",
    "detail = [\n",
    "        \"'audire' Audi Automobilwerke GmbH Zwickau\", \n",
    "        \"Bayrische Motorenwerke\",\n",
    "        \"Daimler Chrysler Mercedes Benz\",\n",
    "        \"Ostpolnisches Ersatzteillager\",\n",
    "        \"Unnötig\"\n",
    "        ]\n",
    "\n",
    "if car in cars:\n",
    "    print(\"Jo\" + )"
   ]
  },
  {
   "cell_type": "code",
   "execution_count": null,
   "metadata": {},
   "outputs": [],
   "source": []
  }
 ],
 "metadata": {
  "kernelspec": {
   "display_name": "Python 3",
   "language": "python",
   "name": "python3"
  },
  "language_info": {
   "codemirror_mode": {
    "name": "ipython",
    "version": 3
   },
   "file_extension": ".py",
   "mimetype": "text/x-python",
   "name": "python",
   "nbconvert_exporter": "python",
   "pygments_lexer": "ipython3",
   "version": "3.8.5"
  }
 },
 "nbformat": 4,
 "nbformat_minor": 4
}
