{
 "cells": [
  {
   "cell_type": "markdown",
   "metadata": {},
   "source": [
    "## Booleans (True & False)\n",
    "Bedingungen sind nicht zwingend erforderlich, wenns auch einfacher mit Bools geht!"
   ]
  },
  {
   "cell_type": "code",
   "execution_count": 1,
   "metadata": {},
   "outputs": [
    {
     "name": "stdout",
     "output_type": "stream",
     "text": [
      "True\n"
     ]
    }
   ],
   "source": [
    "p1Age = 35\n",
    "\n",
    "above30 = p1Age >= 30\n",
    "print(above30)"
   ]
  },
  {
   "cell_type": "code",
   "execution_count": 2,
   "metadata": {},
   "outputs": [
    {
     "name": "stdout",
     "output_type": "stream",
     "text": [
      "True\n",
      "False\n"
     ]
    }
   ],
   "source": [
    "if True:\n",
    "    print(\"True\")\n",
    "\n",
    "if False:\n",
    "    print(\"True\")\n",
    "\n",
    "if False:\n",
    "    print(\"True\")\n",
    "else:\n",
    "    print(\"False\")"
   ]
  },
  {
   "cell_type": "code",
   "execution_count": 3,
   "metadata": {},
   "outputs": [
    {
     "name": "stdout",
     "output_type": "stream",
     "text": [
      "True\n",
      "False\n",
      "False\n",
      "False\n"
     ]
    }
   ],
   "source": [
    "print(True and True)\n",
    "print(True and False)\n",
    "print(False and True)\n",
    "print(False and False)"
   ]
  },
  {
   "cell_type": "code",
   "execution_count": 4,
   "metadata": {
    "scrolled": true
   },
   "outputs": [
    {
     "name": "stdout",
     "output_type": "stream",
     "text": [
      "True\n",
      "True\n",
      "True\n",
      "False\n"
     ]
    }
   ],
   "source": [
    "print(True or True)\n",
    "print(True or False)\n",
    "print(False or True)\n",
    "print(False or False)"
   ]
  },
  {
   "cell_type": "markdown",
   "metadata": {},
   "source": [
    "# Booleans (and & or)\n",
    "U.A. Möglichkeit mehrere Bedingungen zu verknüpfen."
   ]
  },
  {
   "cell_type": "code",
   "execution_count": 5,
   "metadata": {},
   "outputs": [
    {
     "name": "stdout",
     "output_type": "stream",
     "text": [
      "This person is in between 170 - 179 cm tall.\n"
     ]
    }
   ],
   "source": [
    "height = 175\n",
    "\n",
    "if height >= 170:\n",
    "    if height <= 179:\n",
    "        print(\"This person is in between 170 - 179 cm tall.\")"
   ]
  },
  {
   "cell_type": "markdown",
   "metadata": {},
   "source": [
    "## Lösung:\n",
    "- and"
   ]
  },
  {
   "cell_type": "code",
   "execution_count": 6,
   "metadata": {},
   "outputs": [
    {
     "name": "stdout",
     "output_type": "stream",
     "text": [
      "This person is in between 170 - 179 cm tall.\n"
     ]
    }
   ],
   "source": [
    "if height >= 170 and height <= 179:\n",
    "    print(\"This person is in between 170 - 179 cm tall.\")"
   ]
  },
  {
   "cell_type": "markdown",
   "metadata": {},
   "source": [
    "- or"
   ]
  },
  {
   "cell_type": "code",
   "execution_count": 7,
   "metadata": {},
   "outputs": [
    {
     "name": "stdout",
     "output_type": "stream",
     "text": [
      "This persons eye colors don't meet the requirements.\n"
     ]
    }
   ],
   "source": [
    "eyeColor = \"Green\"\n",
    "\n",
    "if eyeColor == \"Brown\" or eyeColor == \"Blue\" or eyeColor == \"Gray\":\n",
    "    print(\"Requirements are met.\")\n",
    "else:\n",
    "    print(\"This persons eye colors don't meet the requirements.\")\n"
   ]
  },
  {
   "cell_type": "markdown",
   "metadata": {},
   "source": [
    "## weitere Beispiele"
   ]
  },
  {
   "cell_type": "code",
   "execution_count": 14,
   "metadata": {},
   "outputs": [
    {
     "name": "stdout",
     "output_type": "stream",
     "text": [
      "This person is allowed to earn a driving license.\n"
     ]
    }
   ],
   "source": [
    "#driving license permission\n",
    "country = \"DE\"\n",
    "age = 17\n",
    "\n",
    "if ((country == \"US\" and age >= 16) or (country == \"DE\" and age >= 17) or (country == \"other\" and age >= 18)):\n",
    "\n",
    "#if (country == \"US\" and age >= 16) or (\n",
    " #   country == \"DE\" and age >= 17) or (\n",
    "    country == \"other\" and age >= 18):\n",
    "\n",
    "    print(\"This person is allowed to earn a driving license.\")\n",
    "else:\n",
    "    print(\"This person is not allowed to earn a driving license.\")"
   ]
  },
  {
   "cell_type": "markdown",
   "metadata": {},
   "source": [
    "### Schreibweisen\n",
    "Schlecht: <code>tallerThan160 = height >= 160</code> ist nicht gut!\n",
    "\n",
    "Einfach: <code>if height >= 160</code>"
   ]
  },
  {
   "cell_type": "code",
   "execution_count": 9,
   "metadata": {},
   "outputs": [
    {
     "name": "stdout",
     "output_type": "stream",
     "text": [
      "Is smaller\n"
     ]
    }
   ],
   "source": [
    "height = 150\n",
    "\n",
    "tallerThan160 = height >= 160 # Schlechte Schreibweise\n",
    "\n",
    "if tallerThan160:\n",
    "    print(\"Is taller\")\n",
    "else:\n",
    "    print(\"Is smaller\")\n"
   ]
  },
  {
   "cell_type": "code",
   "execution_count": 10,
   "metadata": {},
   "outputs": [
    {
     "name": "stdout",
     "output_type": "stream",
     "text": [
      "Is shorter\n"
     ]
    }
   ],
   "source": [
    "height = 150\n",
    "\n",
    "height >= 160 # Einfache Schreibweise\n",
    "if height:\n",
    "    print(\"Is shorter\")\n",
    "else:\n",
    "    print(\"Is taller\")"
   ]
  },
  {
   "cell_type": "markdown",
   "metadata": {},
   "source": [
    "# Hirngespinste"
   ]
  },
  {
   "cell_type": "code",
   "execution_count": 11,
   "metadata": {
    "scrolled": false
   },
   "outputs": [
    {
     "name": "stdout",
     "output_type": "stream",
     "text": [
      "True!\n",
      "False is True'nt!\n"
     ]
    }
   ],
   "source": [
    "false = False\n",
    "\n",
    "true = false\n",
    "if false == False or false != str() and false != True:\n",
    "    print(\"True!\")\n",
    "if (false != False and true != bool) or (false == true and true != False):\n",
    "    print(str(true) + \" is False'nt!\")\n",
    "else:\n",
    "    print(str(true) + \" is True'nt!\")"
   ]
  },
  {
   "cell_type": "code",
   "execution_count": 25,
   "metadata": {},
   "outputs": [
    {
     "name": "stdout",
     "output_type": "stream",
     "text": [
      "Bayrische Motorenwerke\n"
     ]
    }
   ],
   "source": [
    "car = \"BMW\"\n",
    "if car == \"Audi\":\n",
    "    print(\"'audire' Audi Automobilwerke GmbH Zwickau\")\n",
    "else:\n",
    "    if car == \"BMW\":\n",
    "        print(\"Bayrische Motorenwerke\")\n",
    "    else:\n",
    "        if car == \"Mercedes\":\n",
    "            print(\"Daimler Chrysler Mercedes Benz\")\n",
    "        else:\n",
    "            if car == \"Opel\":\n",
    "                print(\"Ostpolnischer Ersatzteillager\")\n",
    "            else:\n",
    "                if car == \"Porsche\":\n",
    "                    print(\"Unnötig\")"
   ]
  },
  {
   "attachments": {
    "This%20is%20fine.jpg": {
     "image/jpeg": "[encoded data removed]"
    }
   },
   "cell_type": "markdown",
   "metadata": {},
   "source": [
    "![This%20is%20fine.jpg](attachment:This%20is%20fine.jpg)"
   ]
  }
 ],
 "metadata": {
  "kernelspec": {
   "display_name": "Python 3",
   "language": "python",
   "name": "python3"
  },
  "language_info": {
   "codemirror_mode": {
    "name": "ipython",
    "version": 3
   },
   "file_extension": ".py",
   "mimetype": "text/x-python",
   "name": "python",
   "nbconvert_exporter": "python",
   "pygments_lexer": "ipython3",
   "version": "3.8.5"
  }
 },
 "nbformat": 4,
 "nbformat_minor": 4
}
