{
 "cells": [
  {
   "cell_type": "markdown",
   "metadata": {},
   "source": [
    "# Kontrollstrukturen in Python - Teil 1"
   ]
  },
  {
   "cell_type": "code",
   "execution_count": 1,
   "metadata": {},
   "outputs": [
    {
     "name": "stdout",
     "output_type": "stream",
     "text": [
      "Die Zahl 6 ist kleiner als 42.\n"
     ]
    }
   ],
   "source": [
    "n = 6\n",
    "\n",
    "if n < 42:\n",
    "    print(\"Die Zahl \" + str(n) + \" ist kleiner als 42.\")"
   ]
  },
  {
   "cell_type": "code",
   "execution_count": 26,
   "metadata": {},
   "outputs": [
    {
     "name": "stdout",
     "output_type": "stream",
     "text": [
      "Die Zahl 60 ist größer als 25.\n"
     ]
    }
   ],
   "source": [
    "a = 60\n",
    "\n",
    "if a < 25:\n",
    "    print(\"Die Zahl \" + str(a) + \" ist kleiner als 25.\")\n",
    "else:\n",
    "    print(\"Die Zahl \" + str(a) + \" ist größer als 25.\")"
   ]
  },
  {
   "cell_type": "code",
   "execution_count": null,
   "metadata": {},
   "outputs": [],
   "source": []
  }
 ],
 "metadata": {
  "kernelspec": {
   "display_name": "Python 3",
   "language": "python",
   "name": "python3"
  },
  "language_info": {
   "codemirror_mode": {
    "name": "ipython",
    "version": 3
   },
   "file_extension": ".py",
   "mimetype": "text/x-python",
   "name": "python",
   "nbconvert_exporter": "python",
   "pygments_lexer": "ipython3",
   "version": "3.8.5"
  }
 },
 "nbformat": 4,
 "nbformat_minor": 5
}
