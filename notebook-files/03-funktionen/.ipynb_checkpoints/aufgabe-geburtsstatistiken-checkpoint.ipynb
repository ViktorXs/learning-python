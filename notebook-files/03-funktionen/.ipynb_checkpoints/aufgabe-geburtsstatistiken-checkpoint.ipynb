{
 "cells": [
  {
   "cell_type": "markdown",
   "metadata": {},
   "source": [
    "## Aufgabe\n",
    "Finde heraus, wie oft der Name \"Max\" als männlicher Vorname in Kalifornien zwischen 1950 und 2000 (jeweils einschließlich) vergeben wurde. Verwende dazu die bereitgestellte .csv - Datei (../data/names.csv)"
   ]
  },
  {
   "cell_type": "code",
   "execution_count": 24,
   "metadata": {},
   "outputs": [
    {
     "name": "stdout",
     "output_type": "stream",
     "text": [
      "6385\n"
     ]
    }
   ],
   "source": [
    "id = 0             # 0\n",
    "name = \"Max\"       # 1\n",
    "yearBorn = 0       # 2\n",
    "gender = \"M\"       # 3\n",
    "state = \"CA\"       # 4\n",
    "bornCount = 0      # 5\n",
    "\n",
    "count = 0\n",
    "\n",
    "# Daten sammeln\n",
    "with open(\"../data/names.csv\", \"r\") as file:\n",
    "    for line in file:\n",
    "        peopleCount = line.strip().split(\",\")\n",
    "        if peopleCount[2] == \"Year\":\n",
    "            continue\n",
    "        year = int(peopleCount[2])\n",
    "        \n",
    "        if peopleCount[1] == name and year >= 1950 and year <= 2000 and peopleCount[3] == gender and peopleCount[4] == state:\n",
    "            count = count + int(peopleCount[5])\n",
    "\n",
    "print(count)\n",
    "            "
   ]
  },
  {
   "cell_type": "code",
   "execution_count": null,
   "metadata": {},
   "outputs": [],
   "source": []
  }
 ],
 "metadata": {
  "kernelspec": {
   "display_name": "Python 3",
   "language": "python",
   "name": "python3"
  },
  "language_info": {
   "codemirror_mode": {
    "name": "ipython",
    "version": 3
   },
   "file_extension": ".py",
   "mimetype": "text/x-python",
   "name": "python",
   "nbconvert_exporter": "python",
   "pygments_lexer": "ipython3",
   "version": "3.8.5"
  }
 },
 "nbformat": 4,
 "nbformat_minor": 4
}
