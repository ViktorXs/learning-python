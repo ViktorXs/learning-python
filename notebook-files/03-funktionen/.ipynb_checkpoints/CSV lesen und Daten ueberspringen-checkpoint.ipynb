{
 "cells": [
  {
   "cell_type": "markdown",
   "metadata": {},
   "source": [
    "## Lesen"
   ]
  },
  {
   "cell_type": "code",
   "execution_count": 64,
   "metadata": {
    "scrolled": true
   },
   "outputs": [
    {
     "name": "stdout",
     "output_type": "stream",
     "text": [
      "Audi \"audire\" Audi Automobilwerke GmbH Zwickau von 1909.\n",
      "BMW Bayerische Motoren Werke Aktiengesellschaft von 1916.\n",
      "Mercedes Benz Daimler Aktiengesellschaft von 1926.\n",
      "Opel Opel Automobile GmbH von 1862.\n"
     ]
    }
   ],
   "source": [
    "with open(\"autos.csv\", \"r\") as file:\n",
    "    for line in file:\n",
    "        data = line.split(\";\")     # Umwandeln in mehrere Objekte\n",
    "        print(data[0] + \" \" + data[1] + \" von \" + data[2].strip() + \".\")"
   ]
  },
  {
   "cell_type": "markdown",
   "metadata": {},
   "source": [
    "## Daten überspringen 1/2"
   ]
  },
  {
   "cell_type": "code",
   "execution_count": 78,
   "metadata": {},
   "outputs": [
    {
     "name": "stdout",
     "output_type": "stream",
     "text": [
      "BMW\n",
      "['BMW', 'Bayerische Motoren Werke Aktiengesellschaft', '1916']\n",
      "\n",
      "Mercedes Benz\n",
      "['Mercedes Benz', 'Daimler Aktiengesellschaft', '1926']\n",
      "\n"
     ]
    }
   ],
   "source": [
    "with open(\"autos.csv\", \"r\") as file:\n",
    "    for line in file:\n",
    "        data = line.strip().split(\";\")\n",
    "        if data[0] == \"BMW\" or data[0] == \"Mercedes Benz\":\n",
    "            print(data[0])\n",
    "            print(str(data) + \"\\n\")"
   ]
  },
  {
   "cell_type": "markdown",
   "metadata": {},
   "source": [
    "## Daten überspringen 2/2"
   ]
  },
  {
   "cell_type": "code",
   "execution_count": 87,
   "metadata": {},
   "outputs": [
    {
     "name": "stdout",
     "output_type": "stream",
     "text": [
      "['BMW', 'Bayerische Motoren Werke Aktiengesellschaft', '1916']\n",
      "['Mercedes Benz', 'Daimler Aktiengesellschaft', '1926']\n"
     ]
    }
   ],
   "source": [
    "with open(\"autos.csv\", \"r\") as file:\n",
    "    for line in file:\n",
    "        data = line.strip().split(\";\")\n",
    "        if int(data[2]) >= 1910:     # Weil Zahl ein String ist, erst in Integer umwandeln: int()\n",
    "            print(data)"
   ]
  },
  {
   "cell_type": "markdown",
   "metadata": {},
   "source": [
    "### oder"
   ]
  },
  {
   "cell_type": "code",
   "execution_count": 93,
   "metadata": {},
   "outputs": [
    {
     "name": "stdout",
     "output_type": "stream",
     "text": [
      "['BMW', 'Bayerische Motoren Werke Aktiengesellschaft', '1916']\n",
      "['Mercedes Benz', 'Daimler Aktiengesellschaft', '1926']\n"
     ]
    }
   ],
   "source": [
    "with open(\"autos.csv\", \"r\") as file:\n",
    "    for line in file:\n",
    "        data = line.strip().split(\";\")\n",
    "        if int(data[2]) < 1910:\n",
    "            continue\n",
    "        print(data)"
   ]
  },
  {
   "cell_type": "code",
   "execution_count": null,
   "metadata": {},
   "outputs": [],
   "source": []
  }
 ],
 "metadata": {
  "kernelspec": {
   "display_name": "Python 3",
   "language": "python",
   "name": "python3"
  },
  "language_info": {
   "codemirror_mode": {
    "name": "ipython",
    "version": 3
   },
   "file_extension": ".py",
   "mimetype": "text/x-python",
   "name": "python",
   "nbconvert_exporter": "python",
   "pygments_lexer": "ipython3",
   "version": "3.8.5"
  }
 },
 "nbformat": 4,
 "nbformat_minor": 4
}
