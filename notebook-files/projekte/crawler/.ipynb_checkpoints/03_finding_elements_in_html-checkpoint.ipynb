{
 "cells": [
  {
   "cell_type": "markdown",
   "metadata": {},
   "source": [
    "# Elemente im HTML finden\n",
    "Seite holen, die wir einlesen wollen."
   ]
  },
  {
   "cell_type": "code",
   "execution_count": 6,
   "metadata": {},
   "outputs": [],
   "source": [
    "import requests\n",
    "r = requests.get(\"http://python.beispiel.programmierenlernen.io/index.php\")"
   ]
  },
  {
   "cell_type": "code",
   "execution_count": 7,
   "metadata": {},
   "outputs": [],
   "source": [
    "from bs4 import BeautifulSoup as suppe"
   ]
  },
  {
   "cell_type": "code",
   "execution_count": 8,
   "metadata": {},
   "outputs": [],
   "source": [
    "page = suppe(r.text, \"html.parser\")"
   ]
  },
  {
   "cell_type": "code",
   "execution_count": 9,
   "metadata": {},
   "outputs": [
    {
     "data": {
      "text/plain": [
       "<!DOCTYPE html>\n",
       "\n",
       "<html lang=\"de\">\n",
       "<head>\n",
       "<meta charset=\"utf-8\"/>\n",
       "<meta content=\"width=device-width, initial-scale=1, shrink-to-fit=no\" name=\"viewport\"/>\n",
       "<meta content=\"\" name=\"description\"/>\n",
       "<meta content=\"\" name=\"author\"/>\n",
       "<title>Crawler-Auflistung</title>\n",
       "<!-- Bootstrap core CSS -->\n",
       "<link href=\"./lib/bootstrap/css/bootstrap.min.css\" rel=\"stylesheet\"/>\n",
       "<link href=\"./css/narrow-jumbotron.css\" rel=\"stylesheet\"/>\n",
       "</head>\n",
       "<body>\n",
       "<div class=\"container\">\n",
       "<div class=\"header clearfix\">\n",
       "<nav>\n",
       "<ul class=\"nav nav-pills float-right\">\n",
       "<li class=\"nav-item\">\n",
       "<a class=\"nav-link active\" href=\"#\">Home <span class=\"sr-only\">(current)</span></a>\n",
       "</li>\n",
       "<li class=\"nav-item\">\n",
       "<a class=\"nav-link\" href=\"#\">About</a>\n",
       "</li>\n",
       "<li class=\"nav-item\">\n",
       "<a class=\"nav-link\" href=\"#\">Contact</a>\n",
       "</li>\n",
       "</ul>\n",
       "</nav>\n",
       "<h3 class=\"text-muted\">Crawler-Auflistung</h3>\n",
       "</div>\n",
       "<div class=\"jumbotron\">\n",
       "<h1 class=\"display-3\">Crawler-Auflistung</h1>\n",
       "<p class=\"lead\">\n",
       "\t        Eine Ansammlung an Daten, die du automatisiert Crawlen darfst.<br/>\n",
       "\t        Alles zufällig generierte Daten. \n",
       "\t    </p>\n",
       "</div>\n",
       "<div class=\"row content\">\n",
       "<div class=\"col-lg-12\">\n",
       "<p>Seite: 1 von 6</p>\n",
       "<br/>\n",
       "<div class=\"card\">\n",
       "<div class=\"card-block\">\n",
       "<a href=\"./img/1.jpg\" target=\"_blank\">\n",
       "<img alt=\"Bild 1\" class=\"img-responsive float-right\" src=\"./img/1.jpg\" style=\"max-height: 100px;max-width:110px;margin-left:15px;\"/>\n",
       "</a>\n",
       "<h4 class=\"card-title\">\n",
       "<span class=\"emoji\">😩</span>\n",
       "<span>Polarised modular conglomeration</span>\n",
       "</h4>\n",
       "<p class=\"card-text\">Optio numquam ut accusantium laborum unde assumenda. Ea et totam asperiores fugiat voluptatem vitae. Et provident nam et mollitia.</p>\n",
       "</div>\n",
       "</div>\n",
       "<br/>\n",
       "<div class=\"card\">\n",
       "<div class=\"card-block\">\n",
       "<a href=\"./img/2.jpg\" target=\"_blank\">\n",
       "<img alt=\"Bild 2\" class=\"img-responsive float-right\" src=\"./img/2.jpg\" style=\"max-height: 100px;max-width:110px;margin-left:15px;\"/>\n",
       "</a>\n",
       "<h4 class=\"card-title\">\n",
       "<span class=\"emoji\">😐</span>\n",
       "<span>Cross-group contextually-based middleware</span>\n",
       "</h4>\n",
       "<p class=\"card-text\">Deleniti atque autem et commodi cupiditate cupiditate. Fuga illum quas aliquam velit. Labore dolor fugit quia id odio nam.</p>\n",
       "</div>\n",
       "</div>\n",
       "<br/>\n",
       "<div class=\"card\">\n",
       "<div class=\"card-block\">\n",
       "<a href=\"./img/3.jpg\" target=\"_blank\">\n",
       "<img alt=\"Bild 3\" class=\"img-responsive float-right\" src=\"./img/3.jpg\" style=\"max-height: 100px;max-width:110px;margin-left:15px;\"/>\n",
       "</a>\n",
       "<h4 class=\"card-title\">\n",
       "<span class=\"emoji\">😌</span>\n",
       "<span>De-engineered encompassing structure</span>\n",
       "</h4>\n",
       "<p class=\"card-text\">Assumenda tempora inventore harum cumque voluptatibus sit et. Et omnis et dolore quod voluptas sit a.</p>\n",
       "</div>\n",
       "</div>\n",
       "<br/>\n",
       "<div class=\"card\">\n",
       "<div class=\"card-block\">\n",
       "<a href=\"./img/4.jpg\" target=\"_blank\">\n",
       "<img alt=\"Bild 4\" class=\"img-responsive float-right\" src=\"./img/4.jpg\" style=\"max-height: 100px;max-width:110px;margin-left:15px;\"/>\n",
       "</a>\n",
       "<h4 class=\"card-title\">\n",
       "<span class=\"emoji\">😚</span>\n",
       "<span>Fully-configurable multi-tasking interface</span>\n",
       "</h4>\n",
       "<p class=\"card-text\">Cumque unde officia autem quia at fugit. Sint iure veritatis culpa aut provident aliquam in. Eos eum accusantium quia vel dignissimos nesciunt expedita. Rem aut accusantium et tempore.</p>\n",
       "</div>\n",
       "</div>\n",
       "<br/>\n",
       "<div class=\"card\">\n",
       "<div class=\"card-block\">\n",
       "<a href=\"./img/5.jpg\" target=\"_blank\">\n",
       "<img alt=\"Bild 5\" class=\"img-responsive float-right\" src=\"./img/5.jpg\" style=\"max-height: 100px;max-width:110px;margin-left:15px;\"/>\n",
       "</a>\n",
       "<h4 class=\"card-title\">\n",
       "<span class=\"emoji\">😠</span>\n",
       "<span>Versatile eco-centric core</span>\n",
       "</h4>\n",
       "<p class=\"card-text\">Delectus distinctio quis omnis ut commodi sed. Beatae officia doloribus consequatur dolore. Consectetur impedit quia voluptas et ut. Incidunt rem mollitia fugiat quia corporis quo. Quod possimus ut et neque deserunt.</p>\n",
       "</div>\n",
       "</div>\n",
       "<br/>\n",
       "<div class=\"card\">\n",
       "<div class=\"card-block\">\n",
       "<a href=\"./img/6.jpg\" target=\"_blank\">\n",
       "<img alt=\"Bild 6\" class=\"img-responsive float-right\" src=\"./img/6.jpg\" style=\"max-height: 100px;max-width:110px;margin-left:15px;\"/>\n",
       "</a>\n",
       "<h4 class=\"card-title\">\n",
       "<span class=\"emoji\">😮</span>\n",
       "<span>Optional maximized utilisation</span>\n",
       "</h4>\n",
       "<p class=\"card-text\">Consequatur sit deleniti sunt aut ullam eos. Vel ex ut sunt velit provident corporis consequatur. Ea est dolorum ut atque unde. Quasi itaque nihil pariatur.</p>\n",
       "</div>\n",
       "</div>\n",
       "<br/>\n",
       "<div class=\"card\">\n",
       "<div class=\"card-block\">\n",
       "<a href=\"./img/7.jpg\" target=\"_blank\">\n",
       "<img alt=\"Bild 7\" class=\"img-responsive float-right\" src=\"./img/7.jpg\" style=\"max-height: 100px;max-width:110px;margin-left:15px;\"/>\n",
       "</a>\n",
       "<h4 class=\"card-title\">\n",
       "<span class=\"emoji\">😢</span>\n",
       "<span>Open-architected secondary product</span>\n",
       "</h4>\n",
       "<p class=\"card-text\">Reiciendis dolor quisquam tempora in. Totam ut distinctio vero. Ullam maiores dolor sunt voluptas.</p>\n",
       "</div>\n",
       "</div>\n",
       "<br/>\n",
       "<div class=\"navigation\">\n",
       "<a class=\"btn btn-primary\" href=\"index.php?page=2\">Zur nächsten Seite!</a>\n",
       "</div>\n",
       "</div>\n",
       "</div>\n",
       "<footer class=\"footer\">\n",
       "<p>© Company 2017</p>\n",
       "</footer>\n",
       "</div>\n",
       "</body>\n",
       "</html>"
      ]
     },
     "execution_count": 9,
     "metadata": {},
     "output_type": "execute_result"
    }
   ],
   "source": [
    "page"
   ]
  },
  {
   "cell_type": "code",
   "execution_count": 27,
   "metadata": {},
   "outputs": [
    {
     "name": "stdout",
     "output_type": "stream",
     "text": [
      "😩\n",
      "😐\n",
      "😌\n",
      "😚\n",
      "😠\n",
      "😮\n",
      "😢\n"
     ]
    }
   ],
   "source": [
    "for card in page.select(\".card\"):\n",
    "    print(card.select_one(\".emoji\").text)  # Achtung: \".text\" funktioniert nicht, wenn \"_one\" nicht davorsteht!"
   ]
  },
  {
   "cell_type": "markdown",
   "metadata": {},
   "source": [
    "## Variable erstellen"
   ]
  },
  {
   "cell_type": "code",
   "execution_count": 47,
   "metadata": {
    "scrolled": false
   },
   "outputs": [
    {
     "name": "stdout",
     "output_type": "stream",
     "text": [
      "😩\n",
      "😐\n",
      "😌\n",
      "😚\n",
      "😠\n",
      "😮\n",
      "😢\n"
     ]
    }
   ],
   "source": [
    "for card in page.select(\".card\"):\n",
    "    emoji = card.select_one(\".emoji\").text\n",
    "    print(emoji)"
   ]
  },
  {
   "cell_type": "code",
   "execution_count": 98,
   "metadata": {},
   "outputs": [
    {
     "name": "stdout",
     "output_type": "stream",
     "text": [
      "😩\n",
      "Polarised modular conglomeration\n",
      "Optio numquam ut accusantium laborum unde assumenda. Ea et totam asperiores fugiat voluptatem vitae. Et provident nam et mollitia.\n",
      "./img/1.jpg\n",
      "\n",
      "😐\n",
      "Cross-group contextually-based middleware\n",
      "Deleniti atque autem et commodi cupiditate cupiditate. Fuga illum quas aliquam velit. Labore dolor fugit quia id odio nam.\n",
      "./img/2.jpg\n",
      "\n",
      "😌\n",
      "De-engineered encompassing structure\n",
      "Assumenda tempora inventore harum cumque voluptatibus sit et. Et omnis et dolore quod voluptas sit a.\n",
      "./img/3.jpg\n",
      "\n",
      "😚\n",
      "Fully-configurable multi-tasking interface\n",
      "Cumque unde officia autem quia at fugit. Sint iure veritatis culpa aut provident aliquam in. Eos eum accusantium quia vel dignissimos nesciunt expedita. Rem aut accusantium et tempore.\n",
      "./img/4.jpg\n",
      "\n",
      "😠\n",
      "Versatile eco-centric core\n",
      "Delectus distinctio quis omnis ut commodi sed. Beatae officia doloribus consequatur dolore. Consectetur impedit quia voluptas et ut. Incidunt rem mollitia fugiat quia corporis quo. Quod possimus ut et neque deserunt.\n",
      "./img/5.jpg\n",
      "\n",
      "😮\n",
      "Optional maximized utilisation\n",
      "Consequatur sit deleniti sunt aut ullam eos. Vel ex ut sunt velit provident corporis consequatur. Ea est dolorum ut atque unde. Quasi itaque nihil pariatur.\n",
      "./img/6.jpg\n",
      "\n",
      "😢\n",
      "Open-architected secondary product\n",
      "Reiciendis dolor quisquam tempora in. Totam ut distinctio vero. Ullam maiores dolor sunt voluptas.\n",
      "./img/7.jpg\n",
      "\n"
     ]
    }
   ],
   "source": [
    "for card in page.select(\".card\"):\n",
    "    emoji = card.select_one(\".emoji\").text\n",
    "    text = card.select_one(\".card-text\").text\n",
    "    title = card.select(\".card-title span\")[1].text  # Weil mehrere <span> Objekte existieren, ein ausgewählen mit []\n",
    "    image = card.select_one(\"img\").attrs[\"src\"]  # weil <img...> / Weil es ein Dictionary ist, kann mit dem Key \"src\" die Attribute / der Pfad angezeigt werden\n",
    "\n",
    "    print(emoji)\n",
    "    print(title)\n",
    "    print(text)\n",
    "    print(image)\n",
    "    print()"
   ]
  },
  {
   "cell_type": "code",
   "execution_count": null,
   "metadata": {},
   "outputs": [],
   "source": []
  }
 ],
 "metadata": {
  "kernelspec": {
   "display_name": "Python 3",
   "language": "python",
   "name": "python3"
  },
  "language_info": {
   "codemirror_mode": {
    "name": "ipython",
    "version": 3
   },
   "file_extension": ".py",
   "mimetype": "text/x-python",
   "name": "python",
   "nbconvert_exporter": "python",
   "pygments_lexer": "ipython3",
   "version": "3.8.5"
  }
 },
 "nbformat": 4,
 "nbformat_minor": 4
}
