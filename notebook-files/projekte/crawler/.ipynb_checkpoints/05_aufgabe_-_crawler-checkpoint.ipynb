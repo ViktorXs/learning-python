{
 "cells": [
  {
   "cell_type": "markdown",
   "metadata": {},
   "source": [
    "# Objektorientiert"
   ]
  },
  {
   "cell_type": "markdown",
   "metadata": {},
   "source": [
    "## Aufgabe: Crawler\n",
    "\n",
    "**Aufgabe:**\n",
    "\n",
    "- Passe den ArticleFetcher so an, dass er die Informationen aus allen Seiten extrahiert\n",
    "\n",
    "Hier nochmal die URL: http://python.beispiel.programmierenlernen.io/index.php\n",
    "\n",
    "**Tipps:**\n",
    "\n",
    "- Schau dir zuerst an, wie du den Button \"Zur nächsten Seite\" ansteuern kannst.\n",
    "- Wie greifst du von Python aus auf das \"href\" - Attribut dieses Buttons zu?\n",
    "- (Optional): Probier ggf. zuerst, nur die Infos der ersten 2 Seiten zu holen. Kannst du darauf aufbauend das Programm verallgemeinern, so dass es alle Seiten einliest?\n",
    "- Du kannst dich daran orientieren, ob es einen \"Zur nächsten Seite\"-Button gibt, oder nicht. Wenn es diesen Button nicht mehr gibt, bist du auf der letzten Seite angelangt. Welcher Schleifentyp bietet sich hier an, wenn du die Schleife erst dann stoppen willst, wenn es den Button nicht mehr gibt?"
   ]
  },
  {
   "cell_type": "code",
   "execution_count": 15,
   "metadata": {},
   "outputs": [],
   "source": [
    "import requests\n",
    "from bs4 import BeautifulSoup\n",
    "from urllib.parse import urljoin\n",
    "import time  # Timer, um die Webseite bei einer Schleife vor versehentlichem request-spam zu schützen."
   ]
  },
  {
   "cell_type": "code",
   "execution_count": 16,
   "metadata": {},
   "outputs": [],
   "source": [
    "class CrawledArticle():  # Damit wird ein Artikel durch den ArticleFetcher gespeichert\n",
    "    def __init__(self, title, emoji, content, image):\n",
    "        self.title = title\n",
    "        self.emoji = emoji\n",
    "        self.content = content\n",
    "        self.image = image\n",
    "\n",
    "class ArticleFetcher():\n",
    "    def fetch(self):\n",
    "        url = \"http://python.beispiel.programmierenlernen.io/index.php\"  # In Variable stecken, wenn mehrmals benutzt wird\n",
    "        time.sleep(1)  # Hält das Programm für eine Sekunde an\n",
    "        print(url)  # und danach wird diese Adresse abgefragt\n",
    "        \n",
    "        r = requests.get(url)\n",
    "        page = BeautifulSoup(r.text, \"html.parser\")\n",
    "        \n",
    "        articles = []  # Speicher vorbereitet\n",
    "\n",
    "        for card in page.select(\".card\"):\n",
    "            title = card.select(\".card-title span\")[1].text\n",
    "            emoji = card.select_one(\".emoji\").text\n",
    "            content = card.select_one(\".card-text\").text\n",
    "            image = urljoin(url, card.select_one(\"img\").attrs[\"src\"])  # hier mit urljoin sagen, dass das die relative adresse ist\n",
    "\n",
    "            crawled = CrawledArticle(title, emoji, content, image)  # Daten vom ArticleFetcher in CrawledArticle laden\n",
    "            articles.append(crawled)  # Daten vom ArticleFetcher in articles Speicher laden\n",
    "\n",
    "        return articles"
   ]
  },
  {
   "cell_type": "code",
   "execution_count": 17,
   "metadata": {
    "scrolled": true
   },
   "outputs": [
    {
     "name": "stdout",
     "output_type": "stream",
     "text": [
      "http://python.beispiel.programmierenlernen.io/index.php\n",
      "http://python.beispiel.programmierenlernen.io/img/1.jpg\n",
      "http://python.beispiel.programmierenlernen.io/img/2.jpg\n",
      "http://python.beispiel.programmierenlernen.io/img/3.jpg\n",
      "http://python.beispiel.programmierenlernen.io/img/4.jpg\n",
      "http://python.beispiel.programmierenlernen.io/img/5.jpg\n",
      "http://python.beispiel.programmierenlernen.io/img/6.jpg\n",
      "http://python.beispiel.programmierenlernen.io/img/7.jpg\n"
     ]
    }
   ],
   "source": [
    "fetcher = ArticleFetcher()\n",
    "articles = fetcher.fetch()\n",
    "\n",
    "for article in articles:\n",
    "    print(article.image)"
   ]
  },
  {
   "cell_type": "code",
   "execution_count": null,
   "metadata": {},
   "outputs": [],
   "source": []
  }
 ],
 "metadata": {
  "kernelspec": {
   "display_name": "Python 3",
   "language": "python",
   "name": "python3"
  },
  "language_info": {
   "codemirror_mode": {
    "name": "ipython",
    "version": 3
   },
   "file_extension": ".py",
   "mimetype": "text/x-python",
   "name": "python",
   "nbconvert_exporter": "python",
   "pygments_lexer": "ipython3",
   "version": "3.8.5"
  }
 },
 "nbformat": 4,
 "nbformat_minor": 4
}
