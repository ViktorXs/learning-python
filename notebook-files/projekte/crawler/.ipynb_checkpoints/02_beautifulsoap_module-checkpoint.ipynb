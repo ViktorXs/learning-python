{
 "cells": [
  {
   "cell_type": "markdown",
   "metadata": {},
   "source": [
    "# BeautifulSoup Modul\n",
    "Informationen aus der .html Datei extrahieren."
   ]
  },
  {
   "cell_type": "code",
   "execution_count": 1,
   "metadata": {},
   "outputs": [],
   "source": [
    "import requests\n",
    "from bs4 import BeautifulSoup"
   ]
  },
  {
   "cell_type": "code",
   "execution_count": 2,
   "metadata": {},
   "outputs": [],
   "source": [
    "r = requests.get(\"http://python.beispiel.programmierenlernen.io/index.php\")"
   ]
  },
  {
   "cell_type": "code",
   "execution_count": 3,
   "metadata": {},
   "outputs": [
    {
     "name": "stdout",
     "output_type": "stream",
     "text": [
      "<Response [200]>\n"
     ]
    }
   ],
   "source": [
    "print(r)  # Response erhalten"
   ]
  },
  {
   "cell_type": "markdown",
   "metadata": {},
   "source": [
    "# Parser"
   ]
  },
  {
   "cell_type": "code",
   "execution_count": 4,
   "metadata": {},
   "outputs": [],
   "source": [
    "# Mit \"\"\" übersichtlicher HTML-Code möglich\n",
    "page = \"\"\"\n",
    "<html>\n",
    "    <header>\n",
    "    <meta lang=\"de\", charset=\"utf-8\"/>\n",
    "    </header>\n",
    "    <body>\n",
    "        <h1>Hello!</h1>\n",
    "        <p class=\"firstLine\">This is an example text.</p>\n",
    "        <p class=\"description\" style=\"display: inline\">This is the second line.</p>\n",
    "    </body>\n",
    "    <footer>\n",
    "    </footer>\n",
    "</html>\n",
    "\"\"\"\n",
    "\n",
    "doc = BeautifulSoup(page, \"html.parser\")  # html.parser vergleicht/zerlegt den code"
   ]
  },
  {
   "cell_type": "code",
   "execution_count": 5,
   "metadata": {},
   "outputs": [
    {
     "name": "stdout",
     "output_type": "stream",
     "text": [
      "[<p class=\"firstLine\">This is an example text.</p>, <p class=\"description\" style=\"display: inline\">This is the second line.</p>]\n"
     ]
    }
   ],
   "source": [
    "print(doc.find_all(\"p\"))  # Alle paragraphs inkl. Attribute finden"
   ]
  },
  {
   "cell_type": "markdown",
   "metadata": {},
   "source": [
    "bf4 zerlegt die Webseite und zeigt nur das Gesuchte an."
   ]
  },
  {
   "cell_type": "code",
   "execution_count": 15,
   "metadata": {
    "scrolled": true
   },
   "outputs": [
    {
     "name": "stdout",
     "output_type": "stream",
     "text": [
      "{'class': ['firstLine']}\n",
      "<p class=\"firstLine\">This is an example text.</p>\n",
      "\n",
      "{'class': ['description'], 'style': 'display: inline'}\n",
      "<p class=\"description\" style=\"display: inline\">This is the second line.</p>\n",
      "\n"
     ]
    }
   ],
   "source": [
    "for i in doc.find_all(\"p\"):  # jede Zeile in neuer Zeile ausgeben\n",
    "    print(i.attrs)  # attrs = element.attributes = Attribute eines Elements anzeigen\n",
    "    print(i)  # mit i.string oder i.text ohne den HTML-Codes ( <p> usw.) zeigen\n",
    "    print()\n"
   ]
  },
  {
   "cell_type": "code",
   "execution_count": null,
   "metadata": {},
   "outputs": [],
   "source": []
  }
 ],
 "metadata": {
  "kernelspec": {
   "display_name": "Python 3",
   "language": "python",
   "name": "python3"
  },
  "language_info": {
   "codemirror_mode": {
    "name": "ipython",
    "version": 3
   },
   "file_extension": ".py",
   "mimetype": "text/x-python",
   "name": "python",
   "nbconvert_exporter": "python",
   "pygments_lexer": "ipython3",
   "version": "3.8.5"
  }
 },
 "nbformat": 4,
 "nbformat_minor": 4
}
