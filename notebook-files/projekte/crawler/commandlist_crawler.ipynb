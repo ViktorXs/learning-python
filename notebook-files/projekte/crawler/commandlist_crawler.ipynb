{
 "cells": [
  {
   "cell_type": "markdown",
   "metadata": {},
   "source": [
    "# HTML Seite"
   ]
  },
  {
   "cell_type": "code",
   "execution_count": 2,
   "metadata": {},
   "outputs": [],
   "source": [
    "test_page = \"\"\"\n",
    "<html>\n",
    "    <header>\n",
    "        <meta lang=\"de\", charset=\"utf-8\"/>\n",
    "    </header>\n",
    "    <body>\n",
    "        <h1>Hello!</h1>\n",
    "        <p class=\"firstline\">This is an example text.</p>\n",
    "        <p class=\"description\" style=\"display: inline\">This is the second line.</p>\n",
    "    </body>\n",
    "    <footer>\n",
    "    </footer>\n",
    "</html>\n",
    "\"\"\""
   ]
  },
  {
   "cell_type": "markdown",
   "metadata": {},
   "source": [
    "# Imports"
   ]
  },
  {
   "cell_type": "code",
   "execution_count": 3,
   "metadata": {},
   "outputs": [],
   "source": [
    "import requests\n",
    "real_page = requests.get(\"http://python.beispiel.programmierenlernen.io/index.php\", auth=(\"\", \"\"))\n",
    "# test = requests.get(test_page, auth=(\"\", \"\"))  # Im notebook geschriebene HTML test_page geht wohl nicht :("
   ]
  },
  {
   "cell_type": "code",
   "execution_count": 4,
   "metadata": {},
   "outputs": [],
   "source": [
    "from bs4 import BeautifulSoup  # zum Parsen"
   ]
  },
  {
   "cell_type": "code",
   "execution_count": 21,
   "metadata": {},
   "outputs": [
    {
     "data": {
      "text/plain": [
       "'http://python.beispiel.programmierenlernen.io/img/1.jpg'"
      ]
     },
     "execution_count": 21,
     "metadata": {},
     "output_type": "execute_result"
    }
   ],
   "source": [
    "from urllib.parse import urljoin  # Relative Links umwandeln\n",
    "\n",
    "# Beispiel\n",
    "urljoin(\"http://python.beispiel.programmierenlernen.io/index.php\", \"./img/1.jpg\")  # Erst webseite, dann relativer link"
   ]
  },
  {
   "cell_type": "code",
   "execution_count": 5,
   "metadata": {},
   "outputs": [],
   "source": [
    "t = BeautifulSoup(test_page, \"html.parser\")  # html.parser vergleicht/zerlegt den code\n",
    "r = BeautifulSoup(real_page.text, \"html.parser\")"
   ]
  },
  {
   "cell_type": "markdown",
   "metadata": {},
   "source": [
    "# Basics\n",
    "<code>BeautifulSoup</code> Funktionen"
   ]
  },
  {
   "cell_type": "code",
   "execution_count": 6,
   "metadata": {},
   "outputs": [
    {
     "name": "stdout",
     "output_type": "stream",
     "text": [
      "\n",
      "<html>\n",
      "<header>\n",
      "<meta ,=\"\" charset=\"utf-8\" lang=\"de\"/>\n",
      "</header>\n",
      "<body>\n",
      "<h1>Hello!</h1>\n",
      "<p class=\"firstline\">This is an example text.</p>\n",
      "<p class=\"description\" style=\"display: inline\">This is the second line.</p>\n",
      "</body>\n",
      "<footer>\n",
      "</footer>\n",
      "</html>\n",
      "\n"
     ]
    }
   ],
   "source": [
    "print(t)  # Response erhalten"
   ]
  },
  {
   "cell_type": "code",
   "execution_count": 7,
   "metadata": {},
   "outputs": [
    {
     "name": "stdout",
     "output_type": "stream",
     "text": [
      "\n",
      "\n",
      "\n",
      "\n",
      "\n",
      "\n",
      "Hello!\n",
      "This is an example text.\n",
      "This is the second line.\n",
      "\n",
      "\n",
      "\n",
      "\n",
      "\n"
     ]
    }
   ],
   "source": [
    "print(t.text)  # HTML-Code erhalten"
   ]
  },
  {
   "cell_type": "code",
   "execution_count": 8,
   "metadata": {},
   "outputs": [],
   "source": [
    "# print(r.__dict__)  # Alle Eigenschaften des Objekts zeigen."
   ]
  },
  {
   "cell_type": "markdown",
   "metadata": {},
   "source": [
    "## <code>requests</code> Funktionen\n",
    "_Info: Leider schaffte ich es \"bis jetzt\" nicht die requests Funktionen auf die im jupyter-notebook lokal geschriebene HTML anzuwenden._"
   ]
  },
  {
   "cell_type": "code",
   "execution_count": 9,
   "metadata": {},
   "outputs": [
    {
     "name": "stdout",
     "output_type": "stream",
     "text": [
      "{'Date': 'Fri, 11 Jun 2021 09:41:34 GMT', 'Server': 'Apache', 'X-Powered-By': 'PHP/7.4.18', 'Upgrade': 'h2c', 'Connection': 'Upgrade, Keep-Alive', 'Keep-Alive': 'timeout=15, max=100', 'Transfer-Encoding': 'chunked', 'Content-Type': 'text/html; charset=utf-8'}\n",
      "\n"
     ]
    },
    {
     "ename": "AttributeError",
     "evalue": "'str' object has no attribute 'headers'",
     "output_type": "error",
     "traceback": [
      "\u001b[1;31m---------------------------------------------------------------------------\u001b[0m",
      "\u001b[1;31mAttributeError\u001b[0m                            Traceback (most recent call last)",
      "\u001b[1;32m<ipython-input-9-10e827657484>\u001b[0m in \u001b[0;36m<module>\u001b[1;34m\u001b[0m\n\u001b[0;32m      1\u001b[0m \u001b[0mprint\u001b[0m\u001b[1;33m(\u001b[0m\u001b[0mreal_page\u001b[0m\u001b[1;33m.\u001b[0m\u001b[0mheaders\u001b[0m\u001b[1;33m)\u001b[0m  \u001b[1;31m# Headers anzeigen\u001b[0m\u001b[1;33m\u001b[0m\u001b[1;33m\u001b[0m\u001b[0m\n\u001b[0;32m      2\u001b[0m \u001b[0mprint\u001b[0m\u001b[1;33m(\u001b[0m\u001b[1;33m)\u001b[0m\u001b[1;33m\u001b[0m\u001b[1;33m\u001b[0m\u001b[0m\n\u001b[1;32m----> 3\u001b[1;33m \u001b[0mprint\u001b[0m\u001b[1;33m(\u001b[0m\u001b[0mtest_page\u001b[0m\u001b[1;33m.\u001b[0m\u001b[0mheaders\u001b[0m\u001b[1;33m)\u001b[0m  \u001b[1;31m# Tja :/\u001b[0m\u001b[1;33m\u001b[0m\u001b[1;33m\u001b[0m\u001b[0m\n\u001b[0m",
      "\u001b[1;31mAttributeError\u001b[0m: 'str' object has no attribute 'headers'"
     ]
    }
   ],
   "source": [
    "print(real_page.headers)  # Headers anzeigen\n",
    "print()\n",
    "print(test_page.headers)  # Tja :/"
   ]
  },
  {
   "cell_type": "code",
   "execution_count": 10,
   "metadata": {},
   "outputs": [
    {
     "name": "stdout",
     "output_type": "stream",
     "text": [
      "text/html; charset=utf-8\n"
     ]
    }
   ],
   "source": [
    "print(real_page.headers[\"content-type\"])"
   ]
  },
  {
   "cell_type": "code",
   "execution_count": 11,
   "metadata": {},
   "outputs": [
    {
     "name": "stdout",
     "output_type": "stream",
     "text": [
      "utf-8\n"
     ]
    }
   ],
   "source": [
    "print(real_page.encoding)"
   ]
  },
  {
   "cell_type": "markdown",
   "metadata": {},
   "source": [
    "# Analyse\n",
    "<code>BeautifulSoup</code> Funktionen"
   ]
  },
  {
   "cell_type": "code",
   "execution_count": 12,
   "metadata": {},
   "outputs": [
    {
     "name": "stdout",
     "output_type": "stream",
     "text": [
      "[<p class=\"firstline\">This is an example text.</p>, <p class=\"description\" style=\"display: inline\">This is the second line.</p>]\n"
     ]
    }
   ],
   "source": [
    "print(t.find_all(\"p\"))  # Alle paragraphs finden inkl. den Attributen"
   ]
  },
  {
   "cell_type": "markdown",
   "metadata": {},
   "source": [
    "## CSS-Selector"
   ]
  },
  {
   "cell_type": "code",
   "execution_count": 13,
   "metadata": {},
   "outputs": [
    {
     "data": {
      "text/plain": [
       "[<p class=\"firstline\">This is an example text.</p>]"
      ]
     },
     "execution_count": 13,
     "metadata": {},
     "output_type": "execute_result"
    }
   ],
   "source": [
    "t.select(\".firstline\")  # CSS-Selector"
   ]
  },
  {
   "cell_type": "code",
   "execution_count": 14,
   "metadata": {
    "scrolled": false
   },
   "outputs": [
    {
     "name": "stdout",
     "output_type": "stream",
     "text": [
      "[<h4 class=\"card-title\">\n",
      "<span class=\"emoji\">😩</span>\n",
      "<span>Polarised modular conglomeration</span>\n",
      "</h4>]\n",
      "[<h4 class=\"card-title\">\n",
      "<span class=\"emoji\">😐</span>\n",
      "<span>Cross-group contextually-based middleware</span>\n",
      "</h4>]\n",
      "[<h4 class=\"card-title\">\n",
      "<span class=\"emoji\">😌</span>\n",
      "<span>De-engineered encompassing structure</span>\n",
      "</h4>]\n",
      "[<h4 class=\"card-title\">\n",
      "<span class=\"emoji\">😚</span>\n",
      "<span>Fully-configurable multi-tasking interface</span>\n",
      "</h4>]\n",
      "[<h4 class=\"card-title\">\n",
      "<span class=\"emoji\">😠</span>\n",
      "<span>Versatile eco-centric core</span>\n",
      "</h4>]\n",
      "[<h4 class=\"card-title\">\n",
      "<span class=\"emoji\">😮</span>\n",
      "<span>Optional maximized utilisation</span>\n",
      "</h4>]\n",
      "[<h4 class=\"card-title\">\n",
      "<span class=\"emoji\">😢</span>\n",
      "<span>Open-architected secondary product</span>\n",
      "</h4>]\n"
     ]
    }
   ],
   "source": [
    "for card in r.select(\".card\"):\n",
    "    print(card.select(\".card-title\"))"
   ]
  },
  {
   "cell_type": "code",
   "execution_count": 15,
   "metadata": {},
   "outputs": [
    {
     "name": "stdout",
     "output_type": "stream",
     "text": [
      "[<span class=\"emoji\">😩</span>]\n",
      "[<span class=\"emoji\">😐</span>]\n",
      "[<span class=\"emoji\">😌</span>]\n",
      "[<span class=\"emoji\">😚</span>]\n",
      "[<span class=\"emoji\">😠</span>]\n",
      "[<span class=\"emoji\">😮</span>]\n",
      "[<span class=\"emoji\">😢</span>]\n"
     ]
    }
   ],
   "source": [
    "for card in r.select(\".card\"):\n",
    "    print(card.select(\".emoji\"))"
   ]
  },
  {
   "cell_type": "markdown",
   "metadata": {},
   "source": [
    "### Statt in Listen auch einzeln:"
   ]
  },
  {
   "cell_type": "code",
   "execution_count": 16,
   "metadata": {},
   "outputs": [
    {
     "name": "stdout",
     "output_type": "stream",
     "text": [
      "<span class=\"emoji\">😩</span>\n",
      "<span class=\"emoji\">😐</span>\n",
      "<span class=\"emoji\">😌</span>\n",
      "<span class=\"emoji\">😚</span>\n",
      "<span class=\"emoji\">😠</span>\n",
      "<span class=\"emoji\">😮</span>\n",
      "<span class=\"emoji\">😢</span>\n"
     ]
    }
   ],
   "source": [
    "for card in r.select(\".card\"):\n",
    "    print(card.select_one(\".emoji\"))  # select_one"
   ]
  },
  {
   "cell_type": "code",
   "execution_count": 17,
   "metadata": {},
   "outputs": [
    {
     "name": "stdout",
     "output_type": "stream",
     "text": [
      "😩\n",
      "😐\n",
      "😌\n",
      "😚\n",
      "😠\n",
      "😮\n",
      "😢\n"
     ]
    }
   ],
   "source": [
    "for card in r.select(\".card\"):\n",
    "    print(card.select_one(\".emoji\").text)  # Achtung: \".text\" funktioniert nicht, wenn \"_one\" nicht davorsteht!"
   ]
  },
  {
   "cell_type": "markdown",
   "metadata": {},
   "source": [
    "### Variablen erstellen"
   ]
  },
  {
   "cell_type": "code",
   "execution_count": 18,
   "metadata": {},
   "outputs": [
    {
     "name": "stdout",
     "output_type": "stream",
     "text": [
      "Ergebnis:\n",
      "😩\n",
      "Polarised modular conglomeration\n",
      "Optio numquam ut accusantium laborum unde assumenda. Ea et totam asperiores fugiat voluptatem vitae. Et provident nam et mollitia.\n",
      "./img/1.jpg\n",
      "\n",
      "Ergebnis:\n",
      "😐\n",
      "Cross-group contextually-based middleware\n",
      "Deleniti atque autem et commodi cupiditate cupiditate. Fuga illum quas aliquam velit. Labore dolor fugit quia id odio nam.\n",
      "./img/2.jpg\n",
      "\n",
      "Ergebnis:\n",
      "😌\n",
      "De-engineered encompassing structure\n",
      "Assumenda tempora inventore harum cumque voluptatibus sit et. Et omnis et dolore quod voluptas sit a.\n",
      "./img/3.jpg\n",
      "\n",
      "Ergebnis:\n",
      "😚\n",
      "Fully-configurable multi-tasking interface\n",
      "Cumque unde officia autem quia at fugit. Sint iure veritatis culpa aut provident aliquam in. Eos eum accusantium quia vel dignissimos nesciunt expedita. Rem aut accusantium et tempore.\n",
      "./img/4.jpg\n",
      "\n",
      "Ergebnis:\n",
      "😠\n",
      "Versatile eco-centric core\n",
      "Delectus distinctio quis omnis ut commodi sed. Beatae officia doloribus consequatur dolore. Consectetur impedit quia voluptas et ut. Incidunt rem mollitia fugiat quia corporis quo. Quod possimus ut et neque deserunt.\n",
      "./img/5.jpg\n",
      "\n",
      "Ergebnis:\n",
      "😮\n",
      "Optional maximized utilisation\n",
      "Consequatur sit deleniti sunt aut ullam eos. Vel ex ut sunt velit provident corporis consequatur. Ea est dolorum ut atque unde. Quasi itaque nihil pariatur.\n",
      "./img/6.jpg\n",
      "\n",
      "Ergebnis:\n",
      "😢\n",
      "Open-architected secondary product\n",
      "Reiciendis dolor quisquam tempora in. Totam ut distinctio vero. Ullam maiores dolor sunt voluptas.\n",
      "./img/7.jpg\n",
      "\n"
     ]
    }
   ],
   "source": [
    "for card in r.select(\".card\"):\n",
    "    emoji = card.select_one(\".emoji\").text\n",
    "    text = card.select_one(\".card-text\").text\n",
    "    title = card.select(\".card-title span\")[1].text  # Weil mehrere <span> Objekte existieren, ein ausgewählen mit []\n",
    "    # image = card.select_one(\"img\")  # weil <img...>\n",
    "    image = card.select_one(\"img\").attrs[\"src\"]  # Weil Dictionary, kann mit Key \"src\" Attribute angezeigt werden\n",
    "    \n",
    "    \n",
    "    print(\"Ergebnis:\")\n",
    "    print(emoji)\n",
    "    print(title)\n",
    "    print(text)\n",
    "    print(image)\n",
    "    print()\n",
    "    # print(image.attrs)\n",
    "    # print(\"Path:\" + image[\"src\"]) \n",
    "    # break"
   ]
  },
  {
   "cell_type": "code",
   "execution_count": null,
   "metadata": {},
   "outputs": [],
   "source": []
  }
 ],
 "metadata": {
  "kernelspec": {
   "display_name": "Python 3",
   "language": "python",
   "name": "python3"
  },
  "language_info": {
   "codemirror_mode": {
    "name": "ipython",
    "version": 3
   },
   "file_extension": ".py",
   "mimetype": "text/x-python",
   "name": "python",
   "nbconvert_exporter": "python",
   "pygments_lexer": "ipython3",
   "version": "3.8.5"
  }
 },
 "nbformat": 4,
 "nbformat_minor": 4
}
