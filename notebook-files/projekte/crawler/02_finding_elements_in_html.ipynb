{
 "cells": [
  {
   "cell_type": "markdown",
   "metadata": {},
   "source": [
    "# Elemente im HTML finden\n",
    "Informationen aus der .html Datei extrahieren mit beautifulsoup."
   ]
  },
  {
   "cell_type": "code",
   "execution_count": 23,
   "metadata": {},
   "outputs": [],
   "source": [
    "import requests\n",
    "from bs4 import BeautifulSoup"
   ]
  },
  {
   "cell_type": "code",
   "execution_count": 24,
   "metadata": {},
   "outputs": [],
   "source": [
    "# r = requests.get(\"http://python.beispiel.programmierenlernen.io/index.php\")\n",
    "r = requests.get(\"https://www.xsigns.de\")"
   ]
  },
  {
   "cell_type": "code",
   "execution_count": 25,
   "metadata": {},
   "outputs": [],
   "source": [
    "# print(html)  # gesamten HTML-Code anzeigen"
   ]
  },
  {
   "cell_type": "code",
   "execution_count": 72,
   "metadata": {},
   "outputs": [],
   "source": [
    "# Mit \"\"\" übersichtlicher HTML-Code möglich\n",
    "page = \"\"\" \n",
    "<html>\n",
    "    <header>\n",
    "    <meta lang=\"de\", charset=\"utf-8\"/>\n",
    "    </header>\n",
    "    <body>\n",
    "        <h1>Hello!</h1>\n",
    "        <p class=\"firstLine\">This is an example text.</p>\n",
    "        <p class=\"description\" style=\"display: inline\">This is the second line.</p>\n",
    "    </body>\n",
    "    <footer>\n",
    "    </footer>\n",
    "</html>\n",
    "\"\"\"\n",
    "\n",
    "doc = BeautifulSoup(page, \"html.parser\")  # html.parser vergleicht/zerlegt den code"
   ]
  },
  {
   "cell_type": "code",
   "execution_count": 73,
   "metadata": {},
   "outputs": [
    {
     "name": "stdout",
     "output_type": "stream",
     "text": [
      "[<p class=\"firstLine\">This is an example text.</p>, <p class=\"description\" style=\"display: inline\">This is the second line.</p>]\n"
     ]
    }
   ],
   "source": [
    "print(doc.find_all(\"p\"))  # Alle paragraphs finden inkl. den Attributen"
   ]
  },
  {
   "cell_type": "markdown",
   "metadata": {},
   "source": [
    "bf4 zerlegte die Webseite und zeigt nur das Gesuchte an."
   ]
  },
  {
   "cell_type": "code",
   "execution_count": 75,
   "metadata": {
    "scrolled": true
   },
   "outputs": [
    {
     "name": "stdout",
     "output_type": "stream",
     "text": [
      "{'class': ['firstLine']}\n",
      "This is an example text.\n",
      "\n",
      "{'class': ['description'], 'style': 'display: inline'}\n",
      "This is the second line.\n",
      "\n"
     ]
    }
   ],
   "source": [
    "for i in doc.find_all(\"p\"):  # jede Zeile in neuer Zeile ausgeben\n",
    "    print(i.attrs)  # attrs = element.attributes = Attribute eines Elements anzeigen\n",
    "    print(i.string)  # mit i.string oder i.text ohne den HTML-Codes ( <p> usw.) zeigen\n",
    "    print()\n"
   ]
  }
 ],
 "metadata": {
  "kernelspec": {
   "display_name": "Python 3",
   "language": "python",
   "name": "python3"
  },
  "language_info": {
   "codemirror_mode": {
    "name": "ipython",
    "version": 3
   },
   "file_extension": ".py",
   "mimetype": "text/x-python",
   "name": "python",
   "nbconvert_exporter": "python",
   "pygments_lexer": "ipython3",
   "version": "3.8.5"
  }
 },
 "nbformat": 4,
 "nbformat_minor": 4
}
