{
 "cells": [
  {
   "cell_type": "markdown",
   "metadata": {},
   "source": [
    "# Objektorientiert"
   ]
  },
  {
   "cell_type": "markdown",
   "metadata": {},
   "source": [
    "## Klassen"
   ]
  },
  {
   "cell_type": "code",
   "execution_count": 28,
   "metadata": {},
   "outputs": [],
   "source": [
    "import requests\n",
    "from bs4 import BeautifulSoup"
   ]
  },
  {
   "cell_type": "code",
   "execution_count": 35,
   "metadata": {},
   "outputs": [],
   "source": [
    "class CrawledArticle():  # Damit wird ein Artikel durch den ArticleFetcher gespeichert\n",
    "    def __init__(self, title, emoji, content, image):\n",
    "        self.title = title\n",
    "        self.emoji = emoji\n",
    "        self.content = content\n",
    "        self.image = image\n",
    "\n",
    "class ArticleFetcher():\n",
    "    def fetch(self):\n",
    "        r = requests.get(\"http://python.beispiel.programmierenlernen.io/index.php\")\n",
    "        page = BeautifulSoup(r.text, \"html.parser\")\n",
    "        articles = []  # Speicher vorbereitet\n",
    "\n",
    "        for card in page.select(\".card\"):\n",
    "            title = card.select(\".card-title span\")[1].text\n",
    "            emoji = card.select_one(\".emoji\").text\n",
    "            content = card.select_one(\".card-text\").text\n",
    "            image = card.select_one(\"img\").attrs[\"src\"]\n",
    "\n",
    "            crawled = CrawledArticle(title, emoji, content, image)  # Daten vom ArticleFetcher in CrawledArticle laden\n",
    "            articles.append(crawled)  # Daten vom ArticleFetcher in articles Speicher laden\n",
    "    \n",
    "        return articles"
   ]
  },
  {
   "cell_type": "code",
   "execution_count": 34,
   "metadata": {
    "scrolled": false
   },
   "outputs": [
    {
     "name": "stdout",
     "output_type": "stream",
     "text": [
      "Polarised modular conglomeration\n",
      "Cross-group contextually-based middleware\n",
      "De-engineered encompassing structure\n",
      "Fully-configurable multi-tasking interface\n",
      "Versatile eco-centric core\n",
      "Optional maximized utilisation\n",
      "Open-architected secondary product\n"
     ]
    }
   ],
   "source": [
    "fetcher = ArticleFetcher()\n",
    "articles = fetcher.fetch()\n",
    "\n",
    "for article in articles:\n",
    "    print(article.title)"
   ]
  },
  {
   "cell_type": "markdown",
   "metadata": {},
   "source": [
    "## Korrekte URL-Pfade zeigen"
   ]
  },
  {
   "cell_type": "code",
   "execution_count": 46,
   "metadata": {},
   "outputs": [
    {
     "name": "stdout",
     "output_type": "stream",
     "text": [
      "./img/1.jpg\n",
      "./img/2.jpg\n",
      "./img/3.jpg\n",
      "./img/4.jpg\n",
      "./img/5.jpg\n",
      "./img/6.jpg\n",
      "./img/7.jpg\n"
     ]
    }
   ],
   "source": [
    "# So wird nur der relative Link angegeben\n",
    "for article in articles:\n",
    "    print(article.image)"
   ]
  },
  {
   "cell_type": "code",
   "execution_count": 47,
   "metadata": {},
   "outputs": [],
   "source": [
    "#  urllib Modul benötigt um relative links umzuwandeln\n",
    "from urllib.parse import urljoin"
   ]
  },
  {
   "cell_type": "code",
   "execution_count": 51,
   "metadata": {},
   "outputs": [
    {
     "data": {
      "text/plain": [
       "'http://python.beispiel.programmierenlernen.io/img/1.jpg'"
      ]
     },
     "execution_count": 51,
     "metadata": {},
     "output_type": "execute_result"
    }
   ],
   "source": [
    "# Beispiel:\n",
    "urljoin(\"http://python.beispiel.programmierenlernen.io/index.php\", \"./img/1.jpg\")"
   ]
  },
  {
   "cell_type": "markdown",
   "metadata": {},
   "source": [
    "## Ergebnis"
   ]
  },
  {
   "cell_type": "code",
   "execution_count": 69,
   "metadata": {},
   "outputs": [],
   "source": [
    "class CrawledArticle():  # Damit wird ein Artikel durch den ArticleFetcher gespeichert\n",
    "    def __init__(self, title, emoji, content, image):\n",
    "        self.title = title\n",
    "        self.emoji = emoji\n",
    "        self.content = content\n",
    "        self.image = image\n",
    "\n",
    "class ArticleFetcher():\n",
    "    def fetch(self):\n",
    "        url = \"http://python.beispiel.programmierenlernen.io/index.php\"  # In Variable stecken, wenn mehrmals benutzt wird\n",
    "        r = requests.get(url)\n",
    "        \n",
    "        page = BeautifulSoup(r.text, \"html.parser\")\n",
    "        articles = []  # Speicher vorbereitet\n",
    "\n",
    "        for card in page.select(\".card\"):\n",
    "            title = card.select(\".card-title span\")[1].text\n",
    "            emoji = card.select_one(\".emoji\").text\n",
    "            content = card.select_one(\".card-text\").text\n",
    "            image = urljoin(url, card.select_one(\"img\").attrs[\"src\"])  # hier mit urljoin sagen, dass das die relative adresse ist\n",
    "\n",
    "            crawled = CrawledArticle(title, emoji, content, image)  # Daten vom ArticleFetcher in CrawledArticle laden\n",
    "            articles.append(crawled)  # Daten vom ArticleFetcher in articles Speicher laden\n",
    "\n",
    "        return articles"
   ]
  },
  {
   "cell_type": "code",
   "execution_count": 70,
   "metadata": {
    "scrolled": true
   },
   "outputs": [
    {
     "name": "stdout",
     "output_type": "stream",
     "text": [
      "http://python.beispiel.programmierenlernen.io/img/1.jpg\n",
      "http://python.beispiel.programmierenlernen.io/img/2.jpg\n",
      "http://python.beispiel.programmierenlernen.io/img/3.jpg\n",
      "http://python.beispiel.programmierenlernen.io/img/4.jpg\n",
      "http://python.beispiel.programmierenlernen.io/img/5.jpg\n",
      "http://python.beispiel.programmierenlernen.io/img/6.jpg\n",
      "http://python.beispiel.programmierenlernen.io/img/7.jpg\n"
     ]
    }
   ],
   "source": [
    "fetcher = ArticleFetcher()\n",
    "articles = fetcher.fetch()\n",
    "\n",
    "for article in articles:\n",
    "    print(article.image)"
   ]
  },
  {
   "cell_type": "markdown",
   "metadata": {},
   "source": [
    "# :3"
   ]
  }
 ],
 "metadata": {
  "kernelspec": {
   "display_name": "Python 3",
   "language": "python",
   "name": "python3"
  },
  "language_info": {
   "codemirror_mode": {
    "name": "ipython",
    "version": 3
   },
   "file_extension": ".py",
   "mimetype": "text/x-python",
   "name": "python",
   "nbconvert_exporter": "python",
   "pygments_lexer": "ipython3",
   "version": "3.8.5"
  }
 },
 "nbformat": 4,
 "nbformat_minor": 4
}
