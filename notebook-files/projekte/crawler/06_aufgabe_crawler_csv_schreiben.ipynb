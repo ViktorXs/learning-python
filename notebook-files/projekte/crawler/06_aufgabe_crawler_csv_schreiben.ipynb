{
 "cells": [
  {
   "cell_type": "markdown",
   "metadata": {},
   "source": [
    "# Objektorientiert"
   ]
  },
  {
   "cell_type": "markdown",
   "metadata": {},
   "source": [
    "## Aufgabe: Ausgabe als Datei speichern\n",
    "- Schaue dir das Modul csv an, und zwar die writer - Funktion: https://docs.python.org/3/library/csv.html#csv.writer\n",
    "- Passe dann den Ausgabe-Code so an, dass statt der Ausgabe hier im Notebook eine .csv-Datei gespeichert wird. Verwende als Spaltentrenner (Separator) ein Semikolon, und als \"quotechar\" die doppelten Anführungszeichen."
   ]
  },
  {
   "cell_type": "code",
   "execution_count": 40,
   "metadata": {},
   "outputs": [],
   "source": [
    "import csv\n",
    "import requests\n",
    "from bs4 import BeautifulSoup\n",
    "from urllib.parse import urljoin\n",
    "import time  # Timer, um die Webseite bei einer Schleife vor versehentlichem request-spam zu schützen."
   ]
  },
  {
   "cell_type": "code",
   "execution_count": 41,
   "metadata": {},
   "outputs": [],
   "source": [
    "class CrawledArticle():  # Damit wird ein Artikel durch den ArticleFetcher gespeichert\n",
    "    def __init__(self, title, emoji, content, image):\n",
    "        self.title = title\n",
    "        self.emoji = emoji\n",
    "        self.content = content\n",
    "        self.image = image\n",
    "        \n",
    "class ArticleFetcher():\n",
    "    def fetch(self):\n",
    "        url = \"http://python.beispiel.programmierenlernen.io/index.php\"\n",
    "        articles = []\n",
    "\n",
    "        while url != \"\":\n",
    "            print(url)\n",
    "            \n",
    "            time.sleep(1)  # Hält das Programm für eine Sekunde an\n",
    "            r = requests.get(url)\n",
    "            page = BeautifulSoup(r.text, \"html.parser\")\n",
    "            \n",
    "            for card in page.select(\".card\"):\n",
    "                title = card.select(\".card-title span\")[1].text\n",
    "                emoji = card.select_one(\".emoji\").text\n",
    "                content = card.select_one(\".card-text\").text\n",
    "                image = urljoin(url, card.select_one(\"img\").attrs[\"src\"])\n",
    "                \n",
    "                crawled = CrawledArticle(title, emoji, content, image)\n",
    "                articles.append(crawled)        \n",
    "            \n",
    "            next_button = page.select_one(\".navigation .btn\")\n",
    "            if next_button:\n",
    "                next_page = next_button.attrs[\"href\"]\n",
    "                next_page = urljoin(url, next_page)\n",
    "                url = next_page\n",
    "            else:\n",
    "                url = \"\"\n",
    "    \n",
    "        return articles"
   ]
  },
  {
   "cell_type": "markdown",
   "metadata": {},
   "source": [
    "## Artikel fetchen"
   ]
  },
  {
   "cell_type": "code",
   "execution_count": 64,
   "metadata": {
    "scrolled": true
   },
   "outputs": [
    {
     "name": "stdout",
     "output_type": "stream",
     "text": [
      "http://python.beispiel.programmierenlernen.io/index.php\n",
      "http://python.beispiel.programmierenlernen.io/index.php?page=2\n",
      "http://python.beispiel.programmierenlernen.io/index.php?page=3\n",
      "http://python.beispiel.programmierenlernen.io/index.php?page=4\n",
      "http://python.beispiel.programmierenlernen.io/index.php?page=5\n",
      "http://python.beispiel.programmierenlernen.io/index.php?page=6\n"
     ]
    }
   ],
   "source": [
    "fetcher = ArticleFetcher()\n",
    "articles = fetcher.fetch()"
   ]
  },
  {
   "cell_type": "markdown",
   "metadata": {},
   "source": [
    "## Artikel schreiben"
   ]
  },
  {
   "cell_type": "code",
   "execution_count": 69,
   "metadata": {},
   "outputs": [
    {
     "name": "stdout",
     "output_type": "stream",
     "text": [
      "done\n"
     ]
    }
   ],
   "source": [
    "with open(\"articles.csv\", \"w\", newline=\"\", encoding='utf-8') as csvfile:\n",
    "    article_writer = csv.writer(csvfile, delimiter=\";\", quotechar='\"')\n",
    "    for article in articles:\n",
    "        article_writer.writerow([article.emoji, article.title, article.content, article.image])\n",
    "        \n",
    "    print(\"done\")"
   ]
  },
  {
   "cell_type": "markdown",
   "metadata": {},
   "source": [
    "## Musterlösung"
   ]
  },
  {
   "cell_type": "code",
   "execution_count": 73,
   "metadata": {},
   "outputs": [
    {
     "name": "stdout",
     "output_type": "stream",
     "text": [
      "http://python.beispiel.programmierenlernen.io/index.php\n",
      "http://python.beispiel.programmierenlernen.io/index.php?page=2\n",
      "http://python.beispiel.programmierenlernen.io/index.php?page=3\n",
      "http://python.beispiel.programmierenlernen.io/index.php?page=4\n",
      "http://python.beispiel.programmierenlernen.io/index.php?page=5\n",
      "http://python.beispiel.programmierenlernen.io/index.php?page=6\n"
     ]
    }
   ],
   "source": [
    "import csv\n",
    "fetcher = ArticleFetcher()\n",
    "\n",
    "with open(\"articles_muster.csv\", \"w\", newline=\"\", encoding=\"utf-8\") as csvfile:\n",
    "    articlewriter = csv.writer(csvfile, delimiter=\";\", quotechar='\"')\n",
    "    \n",
    "    for article in fetcher.fetch():\n",
    "        articlewriter.writerow([article.emoji, article.title, article.content, article.image])"
   ]
  },
  {
   "cell_type": "code",
   "execution_count": null,
   "metadata": {},
   "outputs": [],
   "source": []
  }
 ],
 "metadata": {
  "kernelspec": {
   "display_name": "Python 3",
   "language": "python",
   "name": "python3"
  },
  "language_info": {
   "codemirror_mode": {
    "name": "ipython",
    "version": 3
   },
   "file_extension": ".py",
   "mimetype": "text/x-python",
   "name": "python",
   "nbconvert_exporter": "python",
   "pygments_lexer": "ipython3",
   "version": "3.8.5"
  }
 },
 "nbformat": 4,
 "nbformat_minor": 4
}
