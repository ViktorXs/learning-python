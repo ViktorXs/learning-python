{
 "cells": [
  {
   "cell_type": "markdown",
   "metadata": {},
   "source": [
    "# Trump - Twitter - Bot\n",
    "Ein Text-Generator der zufällige Tweets generiert.\n",
    "\n",
    "## Exkurs: Zufallszahlen\n",
    "Dafür wird die Funktion <code>randint()</code> benötigt und dafür muss zunächst das random-Modul importiert werden:"
   ]
  },
  {
   "cell_type": "code",
   "execution_count": 43,
   "metadata": {},
   "outputs": [],
   "source": [
    "import random"
   ]
  },
  {
   "cell_type": "markdown",
   "metadata": {},
   "source": [
    "Dadurch werden zufällig Ganzzahlen generiert:"
   ]
  },
  {
   "cell_type": "code",
   "execution_count": 44,
   "metadata": {},
   "outputs": [
    {
     "name": "stdout",
     "output_type": "stream",
     "text": [
      "5\n"
     ]
    }
   ],
   "source": [
    "print(random.randint(0, 30))"
   ]
  },
  {
   "cell_type": "markdown",
   "metadata": {},
   "source": [
    "## Begriffelisten für den Generator\n",
    "Idealerweise häufig verwendete (schon durch memes bekanntgewordene) Begriffe ansammeln. Am besten pro Satzbaustein jeweils ein Array erstellen:"
   ]
  },
  {
   "cell_type": "code",
   "execution_count": 103,
   "metadata": {},
   "outputs": [],
   "source": [
    "textblock1 = [\"Putin,\", \"Hillary,\", \"Obama\", \"Fake News,\", \"Mexico,\", \"Arnold Schwarzenegger\", \"The Democrats\"]\n",
    "textblock2 = [\"no talent,\", \"on the way down,\", \"really poor numbers,\", \"nasty tone,\", \"looking like a fool,\", \"bad hombre,\"]\n",
    "textblock3 = [\"got destroyed by my ratings.\", \"rigged the election.\", \"had a much smaller crowd.\", \"will pay for the wall.\"]\n",
    "textblock4 = [\"So sad\", \"Apologize\", \"So true\", \"Media won't report\", \"Big trouble\", \"Fantastic job\", \"Stay tuned\"]"
   ]
  },
  {
   "cell_type": "markdown",
   "metadata": {},
   "source": [
    "Listen von Listen können auch erstellt werden:"
   ]
  },
  {
   "cell_type": "code",
   "execution_count": 129,
   "metadata": {},
   "outputs": [
    {
     "name": "stdout",
     "output_type": "stream",
     "text": [
      "[['Putin,', 'Hillary,', 'Obama', 'Fake News,', 'Mexico,', 'Arnold Schwarzenegger', 'The Democrats'], ['no talent,', 'on the way down,', 'really poor numbers,', 'nasty tone,', 'looking like a fool,', 'bad hombre,'], ['got destroyed by my ratings.', 'rigged the election.', 'had a much smaller crowd.', 'will pay for the wall.'], ['So sad', 'Apologize', 'So true', \"Media won't report\", 'Big trouble', 'Fantastic job', 'Stay tuned']]\n"
     ]
    }
   ],
   "source": [
    "bestWords = [textblock1, textblock2, textblock3, textblock4]\n",
    "print(bestWords)"
   ]
  },
  {
   "cell_type": "markdown",
   "metadata": {},
   "source": [
    "## Tweet-Generator bauen"
   ]
  },
  {
   "cell_type": "code",
   "execution_count": 143,
   "metadata": {},
   "outputs": [
    {
     "name": "stdout",
     "output_type": "stream",
     "text": [
      "Mexico, no talent, got destroyed by my ratings. Fantastic job!\n"
     ]
    }
   ],
   "source": [
    "sentence = []\n",
    "\n",
    "for part in bestWords:\n",
    "    r = random.randint(0, len(part) - 1)\n",
    "    sentence.append(part[r])\n",
    "print(\" \".join(sentence) + \"!\")"
   ]
  },
  {
   "cell_type": "markdown",
   "metadata": {},
   "source": [
    "## Generator selber erweitern"
   ]
  },
  {
   "cell_type": "code",
   "execution_count": 145,
   "metadata": {},
   "outputs": [
    {
     "name": "stdout",
     "output_type": "stream",
     "text": [
      "BMW veredelt schon Waschmaschinen zuende.\n"
     ]
    }
   ],
   "source": [
    "part1 = [\"Audi\", \"BMW\", \"Mercedes\", \"Opel\", \"Porsche\"]\n",
    "part2 = [\"baut\", \"pfuscht\", \"veredelt\", \"macht\", \"will\", \"muss\", \"kann\"]\n",
    "part3 = [\"schnelle\", \"nur\", \"manchmal\", \"gerne\", \"oft\", \"schon\", \"kuriose\"]\n",
    "part4 = [\"Autos\", \"Waschmaschinen\", \"Zeuch\", \"Absurditäten\", \"Menschen\", \"Drohnen\", \"Katastrophen\"]\n",
    "part5 = [\"zusammen.\", \"herum.\", \"zuende.\", \"fertig.\", \"sammeln.\", \"ein.\", \"ineinander.\", \"durcheinander.\"]\n",
    "allParts = [part1, part2, part3, part4, part5]\n",
    "sentence = []\n",
    "\n",
    "for parts in allParts:\n",
    "    r = random.randint(0, len(parts) - 1)\n",
    "    sentence.append(parts[r])\n",
    "\n",
    "print(\" \".join(sentence))"
   ]
  },
  {
   "cell_type": "code",
   "execution_count": null,
   "metadata": {},
   "outputs": [],
   "source": []
  }
 ],
 "metadata": {
  "kernelspec": {
   "display_name": "Python 3",
   "language": "python",
   "name": "python3"
  },
  "language_info": {
   "codemirror_mode": {
    "name": "ipython",
    "version": 3
   },
   "file_extension": ".py",
   "mimetype": "text/x-python",
   "name": "python",
   "nbconvert_exporter": "python",
   "pygments_lexer": "ipython3",
   "version": "3.8.5"
  }
 },
 "nbformat": 4,
 "nbformat_minor": 4
}
