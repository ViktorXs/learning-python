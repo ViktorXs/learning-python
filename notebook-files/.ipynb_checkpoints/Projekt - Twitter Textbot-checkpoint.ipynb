{
 "cells": [
  {
   "cell_type": "markdown",
   "metadata": {},
   "source": [
    "# Trump - Twitter - Bot\n",
    "Ein Text-Generator der zufällige Tweets generiert.\n",
    "\n",
    "## Exkurs: Zufallszahlen\n",
    "Dafür wird die Funktion <code>randint()</code> benötigt und dafür muss zunächst das random-Modul importiert werden:"
   ]
  },
  {
   "cell_type": "code",
   "execution_count": 1,
   "metadata": {},
   "outputs": [],
   "source": [
    "import random"
   ]
  },
  {
   "cell_type": "markdown",
   "metadata": {},
   "source": [
    "Dadurch werden zufällig Ganzzahlen generiert:"
   ]
  },
  {
   "cell_type": "code",
   "execution_count": 5,
   "metadata": {},
   "outputs": [
    {
     "name": "stdout",
     "output_type": "stream",
     "text": [
      "25\n"
     ]
    }
   ],
   "source": [
    "print(random.randint(0, 30))"
   ]
  },
  {
   "cell_type": "markdown",
   "metadata": {},
   "source": [
    "## Begriffeliste für den Generator\n",
    "Idealerweise häufig verwendete (schon durch memes bekanntgewordene) Begriffe ansammeln. Am besten pro Satzbaustein jeweils ein Array erstellen:"
   ]
  },
  {
   "cell_type": "code",
   "execution_count": 6,
   "metadata": {},
   "outputs": [],
   "source": [
    "baustein1 = [\"Putin,\", \"Hillary,\", \"Obama\", \"Fake News,\", \"Mexico,\", \"Arnold Schwarzenegger\", \"The Democrats\"]\n",
    "baustein2 = [\"no talent,\", \"on the way down,\", \"really poor numbers,\", \"nasty tone,\", \"looking like a fool,\", \"bad hombre,\"]\n",
    "baustein3 = [\"got destroyed by my ratings.\", \"rigged the election.\", \"had a much smaller crowd.\", \"will pay for the wall.\"]\n",
    "baustein4 = [\"So sad\", \"Apologize\", \"So true\", \"Media won't report\", \"Big trouble\", \"Fantastic job\", \"Stay tuned\"]"
   ]
  },
  {
   "cell_type": "markdown",
   "metadata": {},
   "source": [
    "Listen von Listen können auch erstellt werden:"
   ]
  },
  {
   "cell_type": "code",
   "execution_count": 9,
   "metadata": {},
   "outputs": [],
   "source": [
    "bestWords = [baustein1, baustein2, baustein3, baustein4]\n",
    "#print(bestWords)"
   ]
  },
  {
   "cell_type": "markdown",
   "metadata": {},
   "source": [
    "## Tweet-Generator bauen"
   ]
  },
  {
   "cell_type": "code",
   "execution_count": null,
   "metadata": {},
   "outputs": [],
   "source": []
  },
  {
   "cell_type": "markdown",
   "metadata": {},
   "source": [
    "## Generator selber erweitern"
   ]
  },
  {
   "cell_type": "code",
   "execution_count": null,
   "metadata": {},
   "outputs": [],
   "source": []
  }
 ],
 "metadata": {
  "kernelspec": {
   "display_name": "Python 3",
   "language": "python",
   "name": "python3"
  },
  "language_info": {
   "codemirror_mode": {
    "name": "ipython",
    "version": 3
   },
   "file_extension": ".py",
   "mimetype": "text/x-python",
   "name": "python",
   "nbconvert_exporter": "python",
   "pygments_lexer": "ipython3",
   "version": "3.8.5"
  }
 },
 "nbformat": 4,
 "nbformat_minor": 4
}
