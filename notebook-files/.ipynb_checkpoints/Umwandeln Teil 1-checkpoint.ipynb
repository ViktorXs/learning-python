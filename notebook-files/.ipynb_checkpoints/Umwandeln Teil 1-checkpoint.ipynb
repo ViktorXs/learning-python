{
 "cells": [
  {
   "cell_type": "markdown",
   "metadata": {},
   "source": [
    "# Umwandeln\n",
    "\n",
    "Zeichensätze (Strings) in Zahlen umwandeln. \n",
    "Hierbei verwende ich int und float um Ganz- und Fließkommazahlen zu bekommen."
   ]
  },
  {
   "cell_type": "markdown",
   "metadata": {},
   "source": [
    "## Ganz- & Fließkommazahl"
   ]
  },
  {
   "cell_type": "code",
   "execution_count": 9,
   "metadata": {
    "scrolled": true
   },
   "outputs": [],
   "source": [
    "a = \"12\"\n",
    "b = \"8.5\"\n",
    "c = int(a) + float(b)"
   ]
  },
  {
   "cell_type": "code",
   "execution_count": 10,
   "metadata": {},
   "outputs": [
    {
     "name": "stdout",
     "output_type": "stream",
     "text": [
      "128.5\n",
      "20.5\n",
      "20.5\n"
     ]
    }
   ],
   "source": [
    "print(a + b) # print als string\n",
    "\n",
    "print(c) #print die gestringten variablen in c\n",
    "\n",
    "print(int(a) + float(b)) # a und b beim print in Zahlen umwandeln"
   ]
  },
  {
   "cell_type": "markdown",
   "metadata": {},
   "source": [
    "## Zahl -> String"
   ]
  },
  {
   "cell_type": "code",
   "execution_count": 11,
   "metadata": {},
   "outputs": [
    {
     "name": "stdout",
     "output_type": "stream",
     "text": [
      "Ich bin 20.5 Jahre alt.\n"
     ]
    }
   ],
   "source": [
    "print(\"Ich bin \" + str(c) + \" Jahre alt.\")"
   ]
  }
 ],
 "metadata": {
  "kernelspec": {
   "display_name": "Python 3",
   "language": "python",
   "name": "python3"
  },
  "language_info": {
   "codemirror_mode": {
    "name": "ipython",
    "version": 3
   },
   "file_extension": ".py",
   "mimetype": "text/x-python",
   "name": "python",
   "nbconvert_exporter": "python",
   "pygments_lexer": "ipython3",
   "version": "3.8.8"
  }
 },
 "nbformat": 4,
 "nbformat_minor": 4
}
