{
 "cells": [
  {
   "cell_type": "markdown",
   "metadata": {},
   "source": [
    "# Eigene Übungen zum Wiederholen\n",
    "Hier werde ich immer wieder mal üben und wiederholen, was ich bereits gelernt habe."
   ]
  },
  {
   "cell_type": "code",
   "execution_count": 9,
   "metadata": {},
   "outputs": [
    {
     "name": "stdout",
     "output_type": "stream",
     "text": [
      "Yes\n",
      "True\n"
     ]
    }
   ],
   "source": [
    "car = \"Audi\"\n",
    "if \"Audi\" in car:\n",
    "    print(\"Yes\")\n",
    "print(\"Audi\" in car)"
   ]
  },
  {
   "cell_type": "markdown",
   "metadata": {},
   "source": [
    "## Bisherige Befehle\n",
    "<code>\n",
    "<b>Basics</b>\n",
    "print()                                          // Ausgabe\n",
    "test = \"Dies ist eine Variable mit einem String\" // eine Art Speicher\n",
    "print(a + b)                                     // Variable ausgeben\n",
    "test.append(\"Beispiel\")                          // Eintrag in Variable \"test\" einfügen\n",
    "len(test)                                        // Anzahl von Elementen in \"test\"\n",
    "test[0]                                          // Bestimmtes Element aus test azeigen\n",
    "</code>\n",
    "<code>\n",
    "<b>Löschen</b>\n",
    "test.pop()                // Wenn ohne Zahl, letzten Element löschen\n",
    "a = test.pop()            // mit print() zeigen, welches Element entfernt ist\n",
    "</code>\n",
    "<code>\n",
    "<b>Umwandeln</b>\n",
    "int()                     // Umwandeln in Zahl\n",
    "float()                   // Umwandeln in Zahl mit Nachkommastellen\n",
    "str()                     // Umwandeln in String\n",
    "print(\", \".join(test))    // Separatoren für Array verwenden\n",
    "test.split()\", \"          // String in Array umwandeln (Jedes Wort ein Wert)\n",
    "</code>\n",
    "<code>\n",
    "<b>if, else, elif</b>\n",
    "if test == test1<b>:</b>                // Wenn Bedingung erfüllt mit Operator... <b>Doppelpunkt beachten!</b>\n",
    "    print(\"is identical\")        // ... dann gib aus, ...\n",
    "else:                            // ... ansonsten ...\n",
    "    print(\"is not identical\")    // ... gib aus.\n",
    "elif test !=  test2:             // Und wenn...\n",
    "</code>\n",
    "<code>\n",
    "<b>Booleans and & or</b>\n",
    "if (test > 1 <b>and</b> test < 3) <b>or</b> (test == 1):\n",
    "    print(\"yes\")\n",
    "</code>\n",
    "<code>\n",
    "<b>in-Operator</b>\n",
    "car = [\"Audi\", ...]\n",
    "    print(\"Audi\" <b>in</b> car)      // Ergebnis ist \"True\"\n",
    "if \"Audi\" <b>in</b> sentence:        // Wenn Wert in variable sentence enthalten = True\n",
    "    print(\"Yes\")\n",
    "</code>\n",
    "<code>\n",
    "<b>not-Operator</b>\n",
    "if <b>not</b> age >= 18 // Negierung von Werten. Aus True wird False... Allgemein nicht ratsam.\n",
    "</code>\n",
    "<code>\n",
    "<b>while-Schleife</b>\n",
    "\n",
    "</code>"
   ]
  },
  {
   "cell_type": "code",
   "execution_count": null,
   "metadata": {},
   "outputs": [],
   "source": []
  }
 ],
 "metadata": {
  "kernelspec": {
   "display_name": "Python 3",
   "language": "python",
   "name": "python3"
  },
  "language_info": {
   "codemirror_mode": {
    "name": "ipython",
    "version": 3
   },
   "file_extension": ".py",
   "mimetype": "text/x-python",
   "name": "python",
   "nbconvert_exporter": "python",
   "pygments_lexer": "ipython3",
   "version": "3.8.5"
  }
 },
 "nbformat": 4,
 "nbformat_minor": 4
}
