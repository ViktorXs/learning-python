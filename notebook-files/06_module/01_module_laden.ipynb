{
 "cells": [
  {
   "cell_type": "markdown",
   "metadata": {},
   "source": [
    "# Module in Python laden\n",
    "Existiert eine <code>*.py</code> Datei, kann auf diese zugegriffen werden.<br>\n",
    "Beispieldatei <code>hello.py</code>, welches <b>nur</b> <code>print(\"Hello World!\")</code> enthält.<br>\n",
    "Funktionen aus Modulen können erst abgerufen werden, wenn sie importiert sind. Ansonsten wird ein Fehler ausgegeben."
   ]
  },
  {
   "cell_type": "markdown",
   "metadata": {},
   "source": [
    "## Per <code>import</code>"
   ]
  },
  {
   "cell_type": "code",
   "execution_count": 3,
   "metadata": {},
   "outputs": [
    {
     "name": "stdout",
     "output_type": "stream",
     "text": [
      "Hello World!\n"
     ]
    }
   ],
   "source": [
    "import hello_01"
   ]
  },
  {
   "cell_type": "markdown",
   "metadata": {},
   "source": [
    "Achtung, die Datei wird nur einmal importiert, sodass die \"Hello World!\"-Ausgabe dieser Datei nur ein mal stattfindet:\n",
    "<br>_Für die erneute Ausgabe müsste der jupyter Kernel neu gestartet werden. Z.B. auch wenn in der <code>.py</code> Datei Änderungen stattfanden._"
   ]
  },
  {
   "cell_type": "code",
   "execution_count": 4,
   "metadata": {},
   "outputs": [],
   "source": [
    "import hello_01"
   ]
  },
  {
   "cell_type": "markdown",
   "metadata": {},
   "source": [
    "In der Datei z.B. <code>hello_02.py</code> ist \"Hello World\" in einer Funktion und lässt sich ebenso importieren und abrufen:"
   ]
  },
  {
   "cell_type": "code",
   "execution_count": 5,
   "metadata": {},
   "outputs": [
    {
     "name": "stdout",
     "output_type": "stream",
     "text": [
      "<module 'hello_02' from 'C:\\\\Users\\\\PC2020\\\\Arbeitsverzeichnis\\\\Tutorials & Kurse\\\\Udemy Python Bootcamp\\\\learning-python\\\\notebook-files\\\\06_module\\\\hello_02.py'>\n"
     ]
    }
   ],
   "source": [
    "import hello_02\n",
    "print(hello_02)  # Modul ausgeben"
   ]
  },
  {
   "cell_type": "markdown",
   "metadata": {},
   "source": [
    "Die Funktionen aus der Datei abrufen:"
   ]
  },
  {
   "cell_type": "code",
   "execution_count": 6,
   "metadata": {},
   "outputs": [
    {
     "name": "stdout",
     "output_type": "stream",
     "text": [
      "Hello World!\n"
     ]
    }
   ],
   "source": [
    "hello_02.world()"
   ]
  },
  {
   "cell_type": "code",
   "execution_count": 7,
   "metadata": {},
   "outputs": [
    {
     "name": "stdout",
     "output_type": "stream",
     "text": [
      "How do you do?\n"
     ]
    }
   ],
   "source": [
    "hello_02.message()"
   ]
  },
  {
   "cell_type": "markdown",
   "metadata": {},
   "source": [
    "## Per <code>from</code>\n",
    "Importiere aus der datei <code>hello_02.py</code> die module <code>world</code> und <code>message</code>"
   ]
  },
  {
   "cell_type": "code",
   "execution_count": 8,
   "metadata": {},
   "outputs": [],
   "source": [
    "from hello_02 import world, message"
   ]
  },
  {
   "cell_type": "markdown",
   "metadata": {},
   "source": [
    "dadurch können die Funktionen <code>world</code> und <code>message</code> direkt benutzt werden."
   ]
  },
  {
   "cell_type": "code",
   "execution_count": 9,
   "metadata": {},
   "outputs": [
    {
     "name": "stdout",
     "output_type": "stream",
     "text": [
      "Hello World!\n",
      "How do you do?\n"
     ]
    }
   ],
   "source": [
    "world()\n",
    "message()"
   ]
  },
  {
   "cell_type": "markdown",
   "metadata": {},
   "source": [
    "### Möglich, aber nicht empfohlen mit <code>import *</code>\n",
    "Alle Funktionen aus dem Modul importieren:"
   ]
  },
  {
   "cell_type": "code",
   "execution_count": 10,
   "metadata": {},
   "outputs": [],
   "source": [
    "from hello_02 import *"
   ]
  },
  {
   "cell_type": "code",
   "execution_count": 11,
   "metadata": {},
   "outputs": [
    {
     "name": "stdout",
     "output_type": "stream",
     "text": [
      "Hello World!\n",
      "How do you do?\n"
     ]
    }
   ],
   "source": [
    "world()\n",
    "message()"
   ]
  }
 ],
 "metadata": {
  "kernelspec": {
   "display_name": "Python 3",
   "language": "python",
   "name": "python3"
  },
  "language_info": {
   "codemirror_mode": {
    "name": "ipython",
    "version": 3
   },
   "file_extension": ".py",
   "mimetype": "text/x-python",
   "name": "python",
   "nbconvert_exporter": "python",
   "pygments_lexer": "ipython3",
   "version": "3.8.5"
  }
 },
 "nbformat": 4,
 "nbformat_minor": 4
}
