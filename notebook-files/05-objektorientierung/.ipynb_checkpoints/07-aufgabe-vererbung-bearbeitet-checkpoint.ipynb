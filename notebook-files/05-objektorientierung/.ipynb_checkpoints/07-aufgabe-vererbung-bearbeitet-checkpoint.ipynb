{
 "cells": [
  {
   "cell_type": "markdown",
   "metadata": {},
   "source": [
    "## Aufgabe: Vererbung\n",
    "\n",
    "#### Aufgabe 1:\n",
    "\n",
    "Vervollständige die Klasse \"FileReader\" so, dass bei Aufruf der lines() - Methode die Datei Zeile für Zeile eingelesen wird. Die lines() - Methode soll dann eine Liste der Zeilen in der Datei zurückgeben.\n",
    "\n",
    "#### Aufgabe 2:\n",
    "\n",
    "Erstelle die Klasse \"CsvReader\", sodass der \"FileReader\" erweitert wird. Bei Aufruf der lines() soll die Datei als .csv-Datei eingelesen werden, sprich es soll eine mehrdimensionale Liste zurückgegeben werden. \n",
    "\n",
    "**Wichtig:** Überlass' das Einlesen der Datei dem \"FileReader\", und erweitere die lines() - Methode im Csv-Reader um die Funktionalität, die benötigt wird, damit die mehrdimensionale Liste zurückgegeben wird!"
   ]
  },
  {
   "cell_type": "code",
   "execution_count": 116,
   "metadata": {},
   "outputs": [],
   "source": [
    "class FileReader():\n",
    "    def __init__(self, filename):\n",
    "        self.filename = filename\n",
    "    def lines(self):\n",
    "        lines = []\n",
    "        with open(self.filename, \"r\") as file:\n",
    "            for line in file:\n",
    "                lines.append(line.strip())\n",
    "            return lines\n",
    "\n",
    "class CsvReader(FileReader):     # FileReader vererben\n",
    "    def __init__(self, filename):\n",
    "        super().__init__(filename)     # Constructor von FileReader vererben\n",
    "    def lines(self):\n",
    "        return [line.split(\",\") for line in super().lines()]     # List comprehension mit vererbter lines variable\n",
    "\n",
    "# Alternativ ohne weitere Vererbung\n",
    "\n",
    "    # linesSplitted = []\n",
    "    # for line in lines:\n",
    "    #     linesSplitted.append(line.split(\",\"))\n",
    "    # return linesSplitted"
   ]
  },
  {
   "cell_type": "code",
   "execution_count": 117,
   "metadata": {},
   "outputs": [
    {
     "name": "stdout",
     "output_type": "stream",
     "text": [
      "['Nachname,Vorname', 'Mustermann,Max', 'Mueller,Monika']\n"
     ]
    }
   ],
   "source": [
    "f = FileReader(\"./datei.csv\")\n",
    "print(f.lines())\n",
    "\n",
    "# Hier soll ausgegeben werden:\n",
    "# [\"Nachname,Vorname\", \"Mustermann,Max\", \"Mueller,Monika\"]"
   ]
  },
  {
   "cell_type": "code",
   "execution_count": 118,
   "metadata": {},
   "outputs": [
    {
     "name": "stdout",
     "output_type": "stream",
     "text": [
      "[['Nachname', 'Vorname'], ['Mustermann', 'Max'], ['Mueller', 'Monika']]\n"
     ]
    }
   ],
   "source": [
    "f = CsvReader(\"./datei.csv\")\n",
    "print(f.lines())\n",
    "\n",
    "# Hier soll ausgegeben werden:\n",
    "# [[\"Nachname\", \"Vorname\"], [\"Mustermann\", \"Max\"], [\"Mueller\", \"Monika\"]]"
   ]
  },
  {
   "cell_type": "markdown",
   "metadata": {},
   "source": [
    "### Eigene Spielerei: Abkürzungswahnsinn. Verständnis der Zusammenhänge"
   ]
  },
  {
   "cell_type": "code",
   "execution_count": 123,
   "metadata": {},
   "outputs": [],
   "source": [
    "class FR():\n",
    "    def __init__(s, n):\n",
    "        s.n = n\n",
    "\n",
    "    def b(s):\n",
    "        b = []\n",
    "        with open(s.n, \"r\") as d:\n",
    "            for l in d:\n",
    "                b.append(l.strip())\n",
    "            return b\n",
    "\n",
    "class CR(FR):\n",
    "    def __init__(s, n):\n",
    "        super().__init__(n)\n",
    "\n",
    "    def b(s):\n",
    "        return [l.split(\",\") for l in super().b()]"
   ]
  },
  {
   "cell_type": "code",
   "execution_count": 124,
   "metadata": {},
   "outputs": [
    {
     "name": "stdout",
     "output_type": "stream",
     "text": [
      "['Nachname,Vorname', 'Mustermann,Max', 'Mueller,Monika']\n",
      "[['Nachname', 'Vorname'], ['Mustermann', 'Max'], ['Mueller', 'Monika']]\n"
     ]
    }
   ],
   "source": [
    "f = FR(\"./datei.csv\")\n",
    "print(f.b())\n",
    "\n",
    "f = CR(\"./datei.csv\")\n",
    "print(f.b())"
   ]
  },
  {
   "cell_type": "code",
   "execution_count": null,
   "metadata": {},
   "outputs": [],
   "source": []
  }
 ],
 "metadata": {
  "kernelspec": {
   "display_name": "Python 3",
   "language": "python",
   "name": "python3"
  },
  "language_info": {
   "codemirror_mode": {
    "name": "ipython",
    "version": 3
   },
   "file_extension": ".py",
   "mimetype": "text/x-python",
   "name": "python",
   "nbconvert_exporter": "python",
   "pygments_lexer": "ipython3",
   "version": "3.8.5"
  }
 },
 "nbformat": 4,
 "nbformat_minor": 2
}
