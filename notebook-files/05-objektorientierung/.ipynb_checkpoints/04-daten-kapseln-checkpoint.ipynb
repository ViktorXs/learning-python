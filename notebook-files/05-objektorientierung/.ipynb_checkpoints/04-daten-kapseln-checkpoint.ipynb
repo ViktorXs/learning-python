{
 "cells": [
  {
   "cell_type": "markdown",
   "metadata": {},
   "source": [
    "# Beispiel: Daten mit Objektorientierung kapseln"
   ]
  },
  {
   "cell_type": "code",
   "execution_count": 18,
   "metadata": {},
   "outputs": [
    {
     "name": "stdout",
     "output_type": "stream",
     "text": [
      "147741\n"
     ]
    },
    {
     "ename": "NameError",
     "evalue": "name 'self' is not defined",
     "output_type": "error",
     "traceback": [
      "\u001b[1;31m---------------------------------------------------------------------------\u001b[0m",
      "\u001b[1;31mNameError\u001b[0m                                 Traceback (most recent call last)",
      "\u001b[1;32m<ipython-input-18-060a0c7a3cee>\u001b[0m in \u001b[0;36m<module>\u001b[1;34m\u001b[0m\n\u001b[0;32m     17\u001b[0m \u001b[1;33m\u001b[0m\u001b[0m\n\u001b[0;32m     18\u001b[0m \u001b[0mprint\u001b[0m\u001b[1;33m(\u001b[0m\u001b[0mbook\u001b[0m\u001b[1;33m.\u001b[0m\u001b[0mget\u001b[0m\u001b[1;33m(\u001b[0m\u001b[1;34m\"Cable\"\u001b[0m\u001b[1;33m)\u001b[0m\u001b[1;33m)\u001b[0m\u001b[1;33m\u001b[0m\u001b[1;33m\u001b[0m\u001b[0m\n\u001b[1;32m---> 19\u001b[1;33m \u001b[0mprint\u001b[0m\u001b[1;33m(\u001b[0m\u001b[0mself\u001b[0m\u001b[1;33m.\u001b[0m\u001b[0m__entries\u001b[0m\u001b[1;33m)\u001b[0m\u001b[1;33m\u001b[0m\u001b[1;33m\u001b[0m\u001b[0m\n\u001b[0m",
      "\u001b[1;31mNameError\u001b[0m: name 'self' is not defined"
     ]
    }
   ],
   "source": [
    "class Katalog():\n",
    "    def __init__(self):\n",
    "        self.__entries = {}\n",
    "    \n",
    "    def add(self, article, serial):\n",
    "        self.__entries[article] = serial\n",
    "\n",
    "    def get(self, article):\n",
    "        if article in self.__entries:\n",
    "            return self.__entries[article]\n",
    "        else:\n",
    "            return None\n",
    "\n",
    "book = Katalog()\n",
    "book.add(\"Headset\", 123321)\n",
    "book.add(\"Cable\", 147741)\n",
    "\n",
    "print(book.get(\"Cable\"))\n",
    "print(self.__entries)"
   ]
  },
  {
   "cell_type": "markdown",
   "metadata": {},
   "source": [
    "## Selbstübung"
   ]
  },
  {
   "cell_type": "code",
   "execution_count": 54,
   "metadata": {},
   "outputs": [
    {
     "name": "stdout",
     "output_type": "stream",
     "text": [
      "Audi\n",
      "Porsche\n"
     ]
    }
   ],
   "source": [
    "class Cars():\n",
    "    def __init__(self):\n",
    "        self.__entries = {}\n",
    "        \n",
    "    def add(self, model, brand):\n",
    "        self.__entries[model] = brand\n",
    "        \n",
    "    def get(self, model):\n",
    "        if model in self.__entries:\n",
    "            return self.__entries[model]\n",
    "        \n",
    "        \n",
    "car = Cars()\n",
    "car.add(\"S\", \"Tesla\")\n",
    "car.add(\"3\", \"Tesla\")\n",
    "car.add(\"X\", \"Tesla\")\n",
    "car.add(\"Y\", \"Tesla\")\n",
    "\n",
    "car.add(\"A3\", \"Audi\")\n",
    "car.add(\"Boxter\", \"Porsche\")\n",
    "\n",
    "print(car.get(\"A3\"))\n",
    "print(car.get(\"Boxter\"))"
   ]
  }
 ],
 "metadata": {
  "kernelspec": {
   "display_name": "Python 3",
   "language": "python",
   "name": "python3"
  },
  "language_info": {
   "codemirror_mode": {
    "name": "ipython",
    "version": 3
   },
   "file_extension": ".py",
   "mimetype": "text/x-python",
   "name": "python",
   "nbconvert_exporter": "python",
   "pygments_lexer": "ipython3",
   "version": "3.8.5"
  }
 },
 "nbformat": 4,
 "nbformat_minor": 4
}
