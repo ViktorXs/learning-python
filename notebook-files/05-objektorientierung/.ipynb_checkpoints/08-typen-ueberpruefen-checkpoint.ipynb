{
 "cells": [
  {
   "cell_type": "markdown",
   "metadata": {},
   "source": [
    "# Typ feststellen mit <code>isinstance</code> oder <code>type</code>"
   ]
  },
  {
   "cell_type": "code",
   "execution_count": 37,
   "metadata": {},
   "outputs": [],
   "source": [
    "class Book():\n",
    "    def __init__(self, title, author):\n",
    "        self.title = title\n",
    "        self.author = author\n",
    "    \n",
    "    def name(self):\n",
    "        return self.title + \" \" + self.author\n",
    "\n",
    "class BookWithYear(Book):\n",
    "    def __init__(self, title, author, year):\n",
    "        super().__init__(title, author)\n",
    "        self.year = year\n",
    "\n",
    "    def name(self):\n",
    "        return super().name() + \" from \" + str(self.year) * \".\""
   ]
  },
  {
   "cell_type": "code",
   "execution_count": 38,
   "metadata": {},
   "outputs": [],
   "source": [
    "book1 = Book(\"The pragmatic programmer\", \"Andy Hunt & Dave Thomas\"),\n",
    "book2 = BookWithYear(\"The pragmatic programmer\", \"Andy Hunt & Dave Thomas\", 1999)"
   ]
  },
  {
   "cell_type": "code",
   "execution_count": 39,
   "metadata": {},
   "outputs": [
    {
     "name": "stdout",
     "output_type": "stream",
     "text": [
      "<class 'tuple'>\n",
      "<class '__main__.BookWithYear'>\n"
     ]
    }
   ],
   "source": [
    "print(type(book1)) # Irgendwas stimmt nicht im code in Class Book() o.O Wieso kommt 'tuple' raus\n",
    "print(type(book2))"
   ]
  },
  {
   "cell_type": "code",
   "execution_count": null,
   "metadata": {},
   "outputs": [],
   "source": []
  }
 ],
 "metadata": {
  "kernelspec": {
   "display_name": "Python 3",
   "language": "python",
   "name": "python3"
  },
  "language_info": {
   "codemirror_mode": {
    "name": "ipython",
    "version": 3
   },
   "file_extension": ".py",
   "mimetype": "text/x-python",
   "name": "python",
   "nbconvert_exporter": "python",
   "pygments_lexer": "ipython3",
   "version": "3.8.5"
  }
 },
 "nbformat": 4,
 "nbformat_minor": 4
}
