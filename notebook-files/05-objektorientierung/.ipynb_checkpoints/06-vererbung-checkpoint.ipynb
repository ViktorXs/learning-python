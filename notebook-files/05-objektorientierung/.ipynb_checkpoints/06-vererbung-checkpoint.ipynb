{
 "cells": [
  {
   "cell_type": "markdown",
   "metadata": {},
   "source": [
    "# Vererbung\n",
    "Daten besser aufteilen und modellieren."
   ]
  },
  {
   "cell_type": "markdown",
   "metadata": {},
   "source": [
    "## Problem: Doppelter Code"
   ]
  },
  {
   "cell_type": "code",
   "execution_count": 86,
   "metadata": {},
   "outputs": [],
   "source": [
    "class Book():\n",
    "    def __init__(self, title, author):\n",
    "        self.title = title\n",
    "        self.author = author\n",
    "\n",
    "    def showBook(self):\n",
    "        return \"'\" + self.title + \"' from '\" + self.author + \"'\"\n",
    "    \n",
    "# Wenn ein Buch ein Releasejahr hat und das andere nicht, kann man eine neue Klasse erstellen:\n",
    "class BookWithYear():\n",
    "    def __init__(self, title, author, year):\n",
    "        self.title = title\n",
    "        self.author = author\n",
    "        self.year = year\n",
    "\n",
    "    def showBook(self):\n",
    "        return \"'\" + self.title + \"' from '\" + self.author + \"' was released in \" + str(self.year)\n",
    "\n",
    "# !! Dadurch gibt es aber viel doppelten Code...\n",
    "\n",
    "book1 = Book(\"Horrorgeschichten\", \"H.P. Lovecraft\")\n",
    "\n",
    "book2 = BookWithYear(\"I can't believe people are making religions out of my fantasies.\", \"L. Ron Hubbard\", 2021)"
   ]
  },
  {
   "cell_type": "code",
   "execution_count": 87,
   "metadata": {},
   "outputs": [
    {
     "name": "stdout",
     "output_type": "stream",
     "text": [
      "'Horrorgeschichten' from 'H.P. Lovecraft'\n",
      "\n",
      "'I can't believe people are making religions out of my fantasies.' from 'L. Ron Hubbard' was released in 2021\n"
     ]
    }
   ],
   "source": [
    "print(book1.showBook())\n",
    "print()\n",
    "print(book2.showBook())"
   ]
  },
  {
   "cell_type": "markdown",
   "metadata": {},
   "source": [
    "## Stattdessen vererben:"
   ]
  },
  {
   "cell_type": "code",
   "execution_count": 88,
   "metadata": {},
   "outputs": [],
   "source": [
    "class Book():\n",
    "    def __init__(self, title, author):\n",
    "        self.title = title\n",
    "        self.author = author\n",
    "\n",
    "    def showBook(self):\n",
    "        return \"'\" + self.title + \"' by '\" + self.author + \"'\"\n",
    "\n",
    "class BookWithYear(Book):     # Zu vererbende Klasse in die Klammern setzen\n",
    "    def __init__(self, title, author, year):\n",
    "        super().__init__(title, author)     # Constructor von der Elternklasse Book aufrufen mit super().\n",
    "        self.year = year                    # \"super().__init__\" bezieht sich auf Book() in class BookWithYear(Book)!\n",
    "\n",
    "book1 = Book(\"Horrorgeschichten\", \"H.P. Lovecraft\")\n",
    "\n",
    "book2 = BookWithYear(\"I can't believe people are making religions out of my fantasies.\", \"L. Ron Hubbard\", 2021)"
   ]
  },
  {
   "cell_type": "code",
   "execution_count": 89,
   "metadata": {},
   "outputs": [
    {
     "name": "stdout",
     "output_type": "stream",
     "text": [
      "'Horrorgeschichten' by 'H.P. Lovecraft'\n",
      "\n",
      "'I can't believe people are making religions out of my fantasies.' by 'L. Ron Hubbard'\n"
     ]
    }
   ],
   "source": [
    "print(book1.showBook())\n",
    "print()\n",
    "print(book2.showBook())"
   ]
  },
  {
   "cell_type": "markdown",
   "metadata": {},
   "source": [
    "## Überschreiben:"
   ]
  },
  {
   "cell_type": "code",
   "execution_count": 90,
   "metadata": {},
   "outputs": [],
   "source": [
    "class Book():\n",
    "    def __init__(self, title, author):\n",
    "        self.title = title\n",
    "        self.author = author\n",
    "\n",
    "    def showBook(self):\n",
    "        return \"'\" + self.title + \"' by '\" + self.author + \"'\"\n",
    "\n",
    "class BookWithYear(Book):\n",
    "    def __init__(self, title, author, year):\n",
    "        super().__init__(title, author)\n",
    "        self.year = year\n",
    "    \n",
    "    def showBook(self):     # Methode überschreibt durch BookWithYear(Book) die showBook()-Methode in Book())\n",
    "        return super().showBook() + \" from \" + str(self.year) + \".\"    # Mit super() vererben.\n",
    "\n",
    "book1 = Book(\"Horrorgeschichten\", \"H.P. Lovecraft\")\n",
    "\n",
    "book2 = BookWithYear(\"I can't believe people are making religions out of my fantasies.\", \"L. Ron Hubbard\", 2021)"
   ]
  },
  {
   "cell_type": "code",
   "execution_count": 91,
   "metadata": {
    "scrolled": true
   },
   "outputs": [
    {
     "name": "stdout",
     "output_type": "stream",
     "text": [
      "'Horrorgeschichten' by 'H.P. Lovecraft'\n",
      "\n",
      "'I can't believe people are making religions out of my fantasies.' by 'L. Ron Hubbard' from 2021.\n"
     ]
    }
   ],
   "source": [
    "print(book1.showBook())\n",
    "print()\n",
    "print(book2.showBook())"
   ]
  },
  {
   "cell_type": "markdown",
   "metadata": {},
   "source": [
    "## Ernstfall:"
   ]
  },
  {
   "cell_type": "code",
   "execution_count": 98,
   "metadata": {},
   "outputs": [],
   "source": [
    "class Book():\n",
    "    def __init__(self, title, author):\n",
    "        self.title = title\n",
    "        self.author = author\n",
    "\n",
    "    def showBook(self):\n",
    "        return \"'\" + self.title + \"' by '\" + self.author + \"'\"\n",
    "\n",
    "class BookWithYear(Book):\n",
    "    def __init__(self, title, author, year):\n",
    "        super().__init__(title, author)\n",
    "        self.year = year\n",
    "    \n",
    "    def showBook(self):\n",
    "        return super().showBook() + \" from \" + str(self.year) + \".\"    # Mit super() vererben.\n",
    "\n",
    "books = [\n",
    "    Book(\"Sachen\", \"Dr. Aachen\"),\n",
    "    BookWithYear(\"Machen\", \"Herr Rachen\", 1966),\n",
    "    BookWithYear(\"Menschen\", \"Fr. Ensch\", 1977),\n",
    "    Book(\"Einfach so\", \"Ernst Kompliziert\"),\n",
    "    Book(\"Ohne Grund\", \"Planloser\"),\n",
    "    BookWithYear(\"Weil doch aus Gründen\", \"Irgendjemand\", 2010),\n",
    "    Book(\"Der Meinung eine Meinung geben\", \"Ms. Forgotten\"),\n",
    "    BookWithYear(\"Wollen aber nichts zugeben\", \"Fremde aus der Zukunft\", 2030),\n",
    "    Book(\"Mir gehen die Ideen aus\", \"Miktor Vaier\")\n",
    "]"
   ]
  },
  {
   "cell_type": "code",
   "execution_count": 99,
   "metadata": {
    "scrolled": true
   },
   "outputs": [
    {
     "name": "stdout",
     "output_type": "stream",
     "text": [
      "'Sachen' by 'Dr. Aachen'\n",
      "'Machen' by 'Herr Rachen' from 1966.\n",
      "'Menschen' by 'Fr. Ensch' from 1977.\n",
      "'Einfach so' by 'Ernst Kompliziert'\n",
      "'Ohne Grund' by 'Planloser'\n",
      "'Weil doch aus Gründen' by 'Irgendjemand' from 2010.\n",
      "'Der Meinung eine Meinung geben' by 'Ms. Forgotten'\n",
      "'Wollen aber nichts zugeben' by 'Fremde aus der Zukunft' from 2030.\n",
      "'Mir gehen die Ideen aus' by 'Miktor Vaier'\n"
     ]
    }
   ],
   "source": [
    "for book in books:\n",
    "    print(book.showBook())"
   ]
  }
 ],
 "metadata": {
  "kernelspec": {
   "display_name": "Python 3",
   "language": "python",
   "name": "python3"
  },
  "language_info": {
   "codemirror_mode": {
    "name": "ipython",
    "version": 3
   },
   "file_extension": ".py",
   "mimetype": "text/x-python",
   "name": "python",
   "nbconvert_exporter": "python",
   "pygments_lexer": "ipython3",
   "version": "3.8.5"
  }
 },
 "nbformat": 4,
 "nbformat_minor": 4
}
