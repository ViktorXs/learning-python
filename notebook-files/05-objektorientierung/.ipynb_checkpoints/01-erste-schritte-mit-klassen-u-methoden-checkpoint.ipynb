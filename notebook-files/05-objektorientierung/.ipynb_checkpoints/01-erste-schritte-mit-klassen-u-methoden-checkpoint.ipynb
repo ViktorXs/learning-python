{
 "cells": [
  {
   "cell_type": "markdown",
   "metadata": {},
   "source": [
    "# Objektorientierung\n",
    "Problem mit Variablen und Funktionen ist, dass es irgendann viele \"lose\" Funktionen & Variablen gibt und dadurch die Übersicht leidet.\n",
    "- Klassen erstellen<br>\n",
    "- Was sind Methoden"
   ]
  },
  {
   "cell_type": "markdown",
   "metadata": {},
   "source": [
    "# Problem:\n",
    "Beispielvariablen mit Funktion:"
   ]
  },
  {
   "cell_type": "code",
   "execution_count": 172,
   "metadata": {},
   "outputs": [],
   "source": [
    "firstName = \"Viktor\"\n",
    "surname = \"Maier\"\n",
    "age = 34\n",
    "job = \"Fachinformatiker/in Anwendungsentwicklung\"\n",
    "\n",
    "def getFullDes():\n",
    "    person = firstName + \" \" + surname + \". Age: \" + str(age) + \". Asssociated job is the \" + \"'\" + job + \"'.\"\n",
    "    print(person)"
   ]
  },
  {
   "cell_type": "code",
   "execution_count": 173,
   "metadata": {
    "scrolled": true
   },
   "outputs": [
    {
     "name": "stdout",
     "output_type": "stream",
     "text": [
      "Viktor Maier. Age: 34. Asssociated job is the 'Fachinformatiker/in Anwendungsentwicklung'.\n"
     ]
    }
   ],
   "source": [
    "getFullDes()"
   ]
  },
  {
   "cell_type": "markdown",
   "metadata": {},
   "source": [
    "## Funktionen können gebündelt werden\n",
    "Objekte sind gebündelte Funktionen, die z.B. komplexere Berechnungen durchführen und durch das gesamte Programm verfügbar sind.<br>\n",
    "In den weiteren Beispielen hier, werden die Objekte für den Zweck des Lernens simpel gehalten."
   ]
  },
  {
   "cell_type": "markdown",
   "metadata": {},
   "source": [
    "## Eigene Variable mit dot notation schreiben"
   ]
  },
  {
   "cell_type": "code",
   "execution_count": 174,
   "metadata": {},
   "outputs": [],
   "source": [
    "class Colleague():     # In der Regel großgeschrieben, sodass man erkennt, dass es eine Klasse ist\n",
    "    pass     # weil eine leere Klasse nicht durchlaufen kann, mit  pass  Python erlauben hier tortzdem weiter zu gehen\n",
    "\n",
    "def getFullDes(colleague):     # ! Achtung weiter unten weiterlesen!\n",
    "    print(colleague.firstName + \" \" + colleague.surname + \". Age: \" + str(colleague.age) + \". Asssociated job is the \" + \"'\" + colleague.job + \"'.\")\n",
    "\n",
    "viktor = Colleague()\n",
    "viktor.firstName = \"Viktor\"\n",
    "viktor.surname = \"Maier\"\n",
    "viktor.age = 34\n",
    "viktor.job = \"Fachinformatiker/in Anwendungsentwicklung\"\n",
    "\n",
    "natalie = Colleague()\n",
    "natalie.firstName = \"Natalie\"\n",
    "natalie.surname = \"Flores\"\n",
    "natalie.age = 29\n",
    "natalie.job = \"Schilder- & Lichtreklamehersteller/in\""
   ]
  },
  {
   "cell_type": "code",
   "execution_count": 175,
   "metadata": {
    "scrolled": true
   },
   "outputs": [
    {
     "name": "stdout",
     "output_type": "stream",
     "text": [
      "Viktor Maier. Age: 34. Asssociated job is the 'Fachinformatiker/in Anwendungsentwicklung'.\n",
      "Natalie Flores. Age: 29. Asssociated job is the 'Schilder- & Lichtreklamehersteller/in'.\n"
     ]
    }
   ],
   "source": [
    "getFullDes(viktor)\n",
    "getFullDes(natalie)"
   ]
  },
  {
   "cell_type": "markdown",
   "metadata": {},
   "source": [
    "## ! Funktionen kollidieren.\n",
    "Siehe Vergleich oben und unten mit <code><b>getFullDesc()</b></code>.\n",
    "Eine Funktion kann nur einmal vergeben werden.\n",
    "In Jupyter wird die Funktion einfach überschrieben und stellt kein Problem dar. "
   ]
  },
  {
   "cell_type": "code",
   "execution_count": 176,
   "metadata": {},
   "outputs": [
    {
     "name": "stdout",
     "output_type": "stream",
     "text": [
      "Foods GmbH & Co. KG The World since Anno 0\n"
     ]
    }
   ],
   "source": [
    "def getFullDesc(company):   # !!\n",
    "    print(company.legalName + \" \" + company.ceo + \" since \" + company.since)\n",
    "\n",
    "c = Company()\n",
    "c.legalName = \"Foods GmbH & Co. KG\"\n",
    "c.ceo = \"The World\"\n",
    "c.since = \"Anno 0\"\n",
    "\n",
    "getFullDesc(c)"
   ]
  },
  {
   "cell_type": "markdown",
   "metadata": {},
   "source": [
    "### Jupyter überschreibt die Funktion mit der letzten Zuweisung"
   ]
  },
  {
   "cell_type": "code",
   "execution_count": 177,
   "metadata": {},
   "outputs": [
    {
     "ename": "AttributeError",
     "evalue": "'Colleague' object has no attribute 'legalName'",
     "output_type": "error",
     "traceback": [
      "\u001b[1;31m---------------------------------------------------------------------------\u001b[0m",
      "\u001b[1;31mAttributeError\u001b[0m                            Traceback (most recent call last)",
      "\u001b[1;32m<ipython-input-177-26073655db37>\u001b[0m in \u001b[0;36m<module>\u001b[1;34m\u001b[0m\n\u001b[1;32m----> 1\u001b[1;33m \u001b[0mgetFullDesc\u001b[0m\u001b[1;33m(\u001b[0m\u001b[0mviktor\u001b[0m\u001b[1;33m)\u001b[0m     \u001b[1;31m# Es wird ein Fehler ausgegeben\u001b[0m\u001b[1;33m\u001b[0m\u001b[1;33m\u001b[0m\u001b[0m\n\u001b[0m",
      "\u001b[1;32m<ipython-input-176-bb8ef5652df0>\u001b[0m in \u001b[0;36mgetFullDesc\u001b[1;34m(company)\u001b[0m\n\u001b[0;32m      1\u001b[0m \u001b[1;32mdef\u001b[0m \u001b[0mgetFullDesc\u001b[0m\u001b[1;33m(\u001b[0m\u001b[0mcompany\u001b[0m\u001b[1;33m)\u001b[0m\u001b[1;33m:\u001b[0m   \u001b[1;31m# !!\u001b[0m\u001b[1;33m\u001b[0m\u001b[1;33m\u001b[0m\u001b[0m\n\u001b[1;32m----> 2\u001b[1;33m     \u001b[0mprint\u001b[0m\u001b[1;33m(\u001b[0m\u001b[0mcompany\u001b[0m\u001b[1;33m.\u001b[0m\u001b[0mlegalName\u001b[0m \u001b[1;33m+\u001b[0m \u001b[1;34m\" \"\u001b[0m \u001b[1;33m+\u001b[0m \u001b[0mcompany\u001b[0m\u001b[1;33m.\u001b[0m\u001b[0mceo\u001b[0m \u001b[1;33m+\u001b[0m \u001b[1;34m\" since \"\u001b[0m \u001b[1;33m+\u001b[0m \u001b[0mcompany\u001b[0m\u001b[1;33m.\u001b[0m\u001b[0msince\u001b[0m\u001b[1;33m)\u001b[0m\u001b[1;33m\u001b[0m\u001b[1;33m\u001b[0m\u001b[0m\n\u001b[0m\u001b[0;32m      3\u001b[0m \u001b[1;33m\u001b[0m\u001b[0m\n\u001b[0;32m      4\u001b[0m \u001b[0mc\u001b[0m \u001b[1;33m=\u001b[0m \u001b[0mCompany\u001b[0m\u001b[1;33m(\u001b[0m\u001b[1;33m)\u001b[0m\u001b[1;33m\u001b[0m\u001b[1;33m\u001b[0m\u001b[0m\n\u001b[0;32m      5\u001b[0m \u001b[0mc\u001b[0m\u001b[1;33m.\u001b[0m\u001b[0mlegalName\u001b[0m \u001b[1;33m=\u001b[0m \u001b[1;34m\"Foods GmbH & Co. KG\"\u001b[0m\u001b[1;33m\u001b[0m\u001b[1;33m\u001b[0m\u001b[0m\n",
      "\u001b[1;31mAttributeError\u001b[0m: 'Colleague' object has no attribute 'legalName'"
     ]
    }
   ],
   "source": [
    "getFullDesc(viktor)     # Es wird ein Fehler ausgegeben"
   ]
  },
  {
   "cell_type": "markdown",
   "metadata": {},
   "source": [
    "## Lösung: Klassen und einheitliche Funktionsnamen.\n",
    "### Z.B.: <code><b>name</b></code> & <code><b>self</b></code>\n",
    "Wenn eine Funktion in einer Klasse erstellt ist, wird auch von einer <b>Methode</b> gesprochen."
   ]
  },
  {
   "cell_type": "markdown",
   "metadata": {},
   "source": [
    "### Beispiel 1"
   ]
  },
  {
   "cell_type": "code",
   "execution_count": 12,
   "metadata": {},
   "outputs": [],
   "source": [
    "class Colleague():\n",
    "    def name(self):     # self bezieht sich auf den Wert davor\n",
    "        print(self.firstName + \" \" + self.surname + \". Age: \" + str(self.age) + \". Asssociated job is the \" + \"'\" + self.job + \"'.\")\n",
    "\n",
    "viktor = Colleague()     # selfbezieht sich hier z.B. auf viktor\n",
    "viktor.firstName = \"Viktor\"\n",
    "viktor.surname = \"Maier\"\n",
    "viktor.age = 34\n",
    "viktor.job = \"Fachinformatiker/in Anwendungsentwicklung\"\n",
    "\n",
    "natalie = Colleague()\n",
    "natalie.firstName = \"Natalie\"\n",
    "natalie.surname = \"Flores\"\n",
    "natalie.age = 29\n",
    "natalie.job = \"Schilder- & Lichtreklamehersteller/in\""
   ]
  },
  {
   "cell_type": "code",
   "execution_count": 13,
   "metadata": {},
   "outputs": [
    {
     "name": "stdout",
     "output_type": "stream",
     "text": [
      "Viktor Maier. Age: 34. Asssociated job is the 'Fachinformatiker/in Anwendungsentwicklung'.\n",
      "Natalie Flores. Age: 29. Asssociated job is the 'Schilder- & Lichtreklamehersteller/in'.\n"
     ]
    }
   ],
   "source": [
    "viktor.name()     # Bezieht sich auf viktor\n",
    "natalie.name()     # Bezieht sich auf natalie"
   ]
  },
  {
   "cell_type": "markdown",
   "metadata": {},
   "source": [
    "### Beispiel 2"
   ]
  },
  {
   "cell_type": "code",
   "execution_count": 14,
   "metadata": {},
   "outputs": [],
   "source": [
    "class Company():\n",
    "    def name(self):   # !!\n",
    "        print(self.legalName + \" \" + self.ceo + \" since \" + str(self.since))\n",
    "soundc\n",
    "c = Company()\n",
    "c.legalName = \"Foods GmbH & Co. KG\"\n",
    "c.ceo = \"The World\"\n",
    "c.since = 1900"
   ]
  },
  {
   "cell_type": "code",
   "execution_count": 15,
   "metadata": {},
   "outputs": [
    {
     "name": "stdout",
     "output_type": "stream",
     "text": [
      "Foods GmbH & Co. KG The World since 1900\n"
     ]
    }
   ],
   "source": [
    "c.name()     # Bezieht sich auf c"
   ]
  },
  {
   "cell_type": "markdown",
   "metadata": {},
   "source": [
    "## Ergebnis:\n",
    "Dadurch, dass die Funktionen in Klassen für sich stehen, weiß Python nun, wo z.B. <code>viktor</code> zu finden ist. <br>\n",
    "Kann differenzieren, in welchem Objekt welcher <code>name</code> steht."
   ]
  },
  {
   "cell_type": "code",
   "execution_count": 16,
   "metadata": {},
   "outputs": [
    {
     "name": "stdout",
     "output_type": "stream",
     "text": [
      "Viktor Maier. Age: 34. Asssociated job is the 'Fachinformatiker/in Anwendungsentwicklung'.\n"
     ]
    }
   ],
   "source": [
    "viktor.name()"
   ]
  },
  {
   "cell_type": "code",
   "execution_count": 17,
   "metadata": {},
   "outputs": [
    {
     "name": "stdout",
     "output_type": "stream",
     "text": [
      "Foods GmbH & Co. KG The World since 1900\n"
     ]
    }
   ],
   "source": [
    "c.name()"
   ]
  },
  {
   "cell_type": "markdown",
   "metadata": {},
   "source": [
    "### Beispiel\n",
    "Kann außerhalb von der Klasse abgerufen werden:"
   ]
  },
  {
   "cell_type": "code",
   "execution_count": 19,
   "metadata": {},
   "outputs": [
    {
     "name": "stdout",
     "output_type": "stream",
     "text": [
      "Natalie Flores. Age: 29. Asssociated job is the 'Schilder- & Lichtreklamehersteller/in'.\n",
      "Natalie Flores. Age: 29. Asssociated job is the 'Schilder- & Lichtreklamehersteller/in'.\n",
      "Natalie Flores. Age: 29. Asssociated job is the 'Schilder- & Lichtreklamehersteller/in'.\n",
      "Foods GmbH & Co. KG The World since 1900\n",
      "Foods GmbH & Co. KG The World since 1900\n",
      "Foods GmbH & Co. KG The World since 1900\n",
      "Viktor Maier. Age: 34. Asssociated job is the 'Fachinformatiker/in Anwendungsentwicklung'.\n",
      "Viktor Maier. Age: 34. Asssociated job is the 'Fachinformatiker/in Anwendungsentwicklung'.\n",
      "Viktor Maier. Age: 34. Asssociated job is the 'Fachinformatiker/in Anwendungsentwicklung'.\n"
     ]
    }
   ],
   "source": [
    "def name_3x(var):\n",
    "    var.name()\n",
    "    var.name()\n",
    "    var.name()\n",
    "\n",
    "name_3x(natalie)\n",
    "name_3x(c)\n",
    "name_3x(viktor)"
   ]
  },
  {
   "cell_type": "code",
   "execution_count": null,
   "metadata": {},
   "outputs": [],
   "source": []
  }
 ],
 "metadata": {
  "kernelspec": {
   "display_name": "Python 3",
   "language": "python",
   "name": "python3"
  },
  "language_info": {
   "codemirror_mode": {
    "name": "ipython",
    "version": 3
   },
   "file_extension": ".py",
   "mimetype": "text/x-python",
   "name": "python",
   "nbconvert_exporter": "python",
   "pygments_lexer": "ipython3",
   "version": "3.8.5"
  }
 },
 "nbformat": 4,
 "nbformat_minor": 4
}
