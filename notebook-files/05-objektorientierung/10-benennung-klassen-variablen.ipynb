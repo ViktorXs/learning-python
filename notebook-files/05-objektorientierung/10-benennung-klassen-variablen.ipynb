{
 "cells": [
  {
   "cell_type": "markdown",
   "metadata": {},
   "source": [
    "# Benennung von Klassen und Variablen\n",
    "## Style Guide:\n",
    "https://www.python.org/dev/peps/pep-0008/"
   ]
  },
  {
   "cell_type": "markdown",
   "metadata": {},
   "source": [
    "- PascalCase für Klassen\n",
    "- camelCase gar nicht!\n",
    "- sneak_case für Variablen und Dateinamen"
   ]
  },
  {
   "cell_type": "code",
   "execution_count": 10,
   "metadata": {},
   "outputs": [
    {
     "name": "stdout",
     "output_type": "stream",
     "text": [
      "Hallo\n",
      "<__main__.MehrereWoerter object at 0x000001B686977250>\n"
     ]
    }
   ],
   "source": [
    "class MehrereWoerter():             # Klassen mit PascalCase\n",
    "    def __init__(self):\n",
    "        print(\"Hallo\")\n",
    "    \n",
    "    def im_a_function(self):     # Methoden, Funktionen mit sneak_case\n",
    "        print(\"Welt!\")\n",
    "\n",
    "das_sind_mehrere_woerter = MehrereWoerter()      # Variablen sneak_case\n",
    "\n",
    "print(das_sind_mehrere_woerter)"
   ]
  }
 ],
 "metadata": {
  "kernelspec": {
   "display_name": "Python 3",
   "language": "python",
   "name": "python3"
  },
  "language_info": {
   "codemirror_mode": {
    "name": "ipython",
    "version": 3
   },
   "file_extension": ".py",
   "mimetype": "text/x-python",
   "name": "python",
   "nbconvert_exporter": "python",
   "pygments_lexer": "ipython3",
   "version": "3.8.5"
  }
 },
 "nbformat": 4,
 "nbformat_minor": 4
}
