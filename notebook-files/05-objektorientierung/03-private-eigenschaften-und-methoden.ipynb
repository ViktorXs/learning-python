{
 "cells": [
  {
   "cell_type": "markdown",
   "metadata": {},
   "source": [
    "# Erklärung: Sichtbarkeit von Methoden & Variablen\n",
    "<i>Ein Programm arbeitet vergleichsweise wie ein Supermarkt.</i><br>\n",
    "Der Kunde bekommt nur die Dinge zu Gesicht und kann nur mit solchen Sachen interagieren, die nur für ihn vorgesehen sind. Die Obstwaage benutzen, Artikel suchen und in den Einkaufswagen legen, bezahlen,  die Toilette benutzen.<br>\n",
    "<br>\n",
    "Jedoch besitzt der Kunde nicht das Recht, Artikel für den Markt nachzubestellen, die Stromkosten einsehen, die Arbeitszeiten und Abteilungen der Mitarbeiter zuweisen und sonstige \"interne\" Dinge beeinflussen. Von diesen Dingen sollte der Kunde nichts mitbekommen, sodass er nur das machen kann, wofür er zum Markt kommt."
   ]
  },
  {
   "cell_type": "markdown",
   "metadata": {},
   "source": [
    "Und so gilt dasselbe Prinzip auch mit Programmen. Der Anwender nutzt das Programm wofür es gemacht wurde, aber nicht um es zu manipulieren<br>\n",
    "Deshalb ist es wichtig, dass der Großteil vom Programmcode für den Anwender im Hintergrund \"privat\" abläuft.<br>\n",
    "<br>\n",
    "Der Grund für das Verstecken ist der, dass der Anwender nicht aus Versehen einen Fehler verursacht."
   ]
  },
  {
   "cell_type": "markdown",
   "metadata": {},
   "source": [
    "## In Python\n",
    "Die Sichtbarkeit von Methoden und Variablen einschränken / verstecken:"
   ]
  },
  {
   "cell_type": "markdown",
   "metadata": {},
   "source": [
    "Wenn man z.B. mit einer Eigenschaft einschränkt:"
   ]
  },
  {
   "cell_type": "code",
   "execution_count": 40,
   "metadata": {},
   "outputs": [
    {
     "name": "stdout",
     "output_type": "stream",
     "text": [
      "Viktor Maier\n",
      "User permission No. 2\n",
      "\n",
      "Viktor Maier\n",
      "User permission No. 100\n"
     ]
    }
   ],
   "source": [
    "class Person():\n",
    "    \n",
    "    def __init__(self, firstName, lastName):\n",
    "        self.firstName = firstName\n",
    "        self.lastName = lastName\n",
    "        self.term = 0\n",
    "        \n",
    "    def increaseTerm(self):\n",
    "        if self.term >= 4:     # 1. Man kann hier z.B. die Anzahl des Berechtigungslevels einschränken.\n",
    "            return\n",
    "        self.term = self.term + 1\n",
    "\n",
    "    def pers(self):\n",
    "        print(self.firstName + \" \" + self.lastName)\n",
    "        print(\"User permission No. \" + str(self.term))\n",
    "\n",
    "viktor = Person(\"Viktor\", \"Maier\")\n",
    "viktor.increaseTerm()\n",
    "viktor.increaseTerm()\n",
    "\n",
    "viktor.pers()\n",
    "print()\n",
    "\n",
    "viktor.term = 100 # 2. Die Einschränkung lässt sich dennoch umgehen, weil man immer noch auf die Eigenschaft von Außen zugreifen kann.\n",
    "viktor.pers()"
   ]
  },
  {
   "cell_type": "markdown",
   "metadata": {},
   "source": [
    "## _\n",
    "Oder an den entscheidenden Funktionen ein Unterstrich einfügt.<br>\n",
    "Zählt unter Entwicklern als Konvention zum Markieren, dass an der jeweiligen Eigenschaft nicht direkt rumgespielt werden sollte, sondern dafür die entsprechende Methode verwenden."
   ]
  },
  {
   "cell_type": "code",
   "execution_count": 41,
   "metadata": {},
   "outputs": [
    {
     "name": "stdout",
     "output_type": "stream",
     "text": [
      "Viktor Maier\n",
      "User permission No. 4\n",
      "\n",
      "Viktor Maier\n",
      "User permission No. 4\n",
      "\n",
      "Viktor Maier\n",
      "User permission No. 101\n"
     ]
    }
   ],
   "source": [
    "class Person():\n",
    "    \n",
    "    def __init__(self, firstName, lastName):\n",
    "        self.firstName = firstName\n",
    "        self.lastName = lastName\n",
    "        self._term = 0    # _term\n",
    "        \n",
    "    def increaseTerm(self):\n",
    "        if self._term >= 4:    # _term\n",
    "            return\n",
    "        self._term = self._term + 1    # _term\n",
    "\n",
    "    def pers(self):\n",
    "        print(self.firstName + \" \" + self.lastName)\n",
    "        print(\"User permission No. \" + str(self._term))    # _term\n",
    "\n",
    "viktor = Person(\"Viktor\", \"Maier\")\n",
    "viktor.increaseTerm()\n",
    "viktor.increaseTerm()\n",
    "viktor.increaseTerm()\n",
    "viktor.increaseTerm()\n",
    "viktor.increaseTerm()\n",
    "viktor.increaseTerm()\n",
    "\n",
    "viktor.pers()\n",
    "print()\n",
    "\n",
    "viktor.term = 100     # wird nicht angepasst, weil _term nicht gefunden wird\n",
    "viktor.pers()\n",
    "print()\n",
    "\n",
    "viktor._term = 101     # Erst, wenn auch hier _ verwendet wird.\n",
    "viktor.pers()"
   ]
  },
  {
   "cell_type": "markdown",
   "metadata": {},
   "source": [
    "## __\n",
    "Mit zwei Unterstrichen wird die jeweilige Eigenschaft als eine \"private\" Eigenschaft markiert. Man darf von Außen gar nicht darauf zugreifen und die Werte lassen sich nicht ändern:"
   ]
  },
  {
   "cell_type": "code",
   "execution_count": 40,
   "metadata": {},
   "outputs": [
    {
     "name": "stdout",
     "output_type": "stream",
     "text": [
      "Viktor Maier\n",
      "User permission No. 2\n",
      "\n"
     ]
    },
    {
     "ename": "AttributeError",
     "evalue": "'Person' object has no attribute '__term'",
     "output_type": "error",
     "traceback": [
      "\u001b[1;31m---------------------------------------------------------------------------\u001b[0m",
      "\u001b[1;31mAttributeError\u001b[0m                            Traceback (most recent call last)",
      "\u001b[1;32m<ipython-input-40-950c557065e1>\u001b[0m in \u001b[0;36m<module>\u001b[1;34m\u001b[0m\n\u001b[0;32m     22\u001b[0m \u001b[0mviktor\u001b[0m\u001b[1;33m.\u001b[0m\u001b[0mpers\u001b[0m\u001b[1;33m(\u001b[0m\u001b[1;33m)\u001b[0m\u001b[1;33m\u001b[0m\u001b[1;33m\u001b[0m\u001b[0m\n\u001b[0;32m     23\u001b[0m \u001b[0mprint\u001b[0m\u001b[1;33m(\u001b[0m\u001b[1;33m)\u001b[0m\u001b[1;33m\u001b[0m\u001b[1;33m\u001b[0m\u001b[0m\n\u001b[1;32m---> 24\u001b[1;33m \u001b[0mprint\u001b[0m\u001b[1;33m(\u001b[0m\u001b[0mviktor\u001b[0m\u001b[1;33m.\u001b[0m\u001b[0m__term\u001b[0m\u001b[1;33m)\u001b[0m     \u001b[1;31m# Gibt das Attribut \"nicht\", um von Außen darauf nicht mehr zugreifen zu können.\u001b[0m\u001b[1;33m\u001b[0m\u001b[1;33m\u001b[0m\u001b[0m\n\u001b[0m",
      "\u001b[1;31mAttributeError\u001b[0m: 'Person' object has no attribute '__term'"
     ]
    }
   ],
   "source": [
    "class Person():\n",
    "    \n",
    "    def __init__(self, firstName, lastName):\n",
    "        self.firstName = firstName\n",
    "        self.lastName = lastName\n",
    "        self.__term = 0     # __term\n",
    "        \n",
    "    def increaseTerm(self):\n",
    "        if self.__term >= 4:     # __term\n",
    "            return\n",
    "        self.__term = self.__term + 1     # __term\n",
    "\n",
    "    def pers(self):\n",
    "        print(self.firstName + \" \" + self.lastName)\n",
    "        print(\"User permission No. \" + str(self.__term))     # __term\n",
    "\n",
    "viktor = Person(\"Viktor\", \"Maier\")\n",
    "\n",
    "viktor.increaseTerm()\n",
    "viktor.increaseTerm()\n",
    "\n",
    "viktor.pers()\n",
    "print()\n",
    "print(viktor.__term)     # Gibt das Attribut \"nicht\", um von Außen darauf nicht mehr zugreifen zu können."
   ]
  },
  {
   "cell_type": "code",
   "execution_count": 10,
   "metadata": {
    "scrolled": true
   },
   "outputs": [
    {
     "name": "stdout",
     "output_type": "stream",
     "text": [
      "Viktor Maier\n",
      "User permission No. 2\n",
      "\n",
      "Viktor Maier\n",
      "User permission No. 2\n",
      "\n",
      "Viktor Maier\n",
      "User permission No. 2\n",
      "\n",
      "Viktor Maier\n",
      "User permission No. 2\n",
      "None\n"
     ]
    }
   ],
   "source": [
    "# Wird goar nix angepasst\n",
    "viktor.term = 100\n",
    "viktor.pers()\n",
    "print()\n",
    "\n",
    "viktor._term = 101\n",
    "viktor.pers()\n",
    "print()\n",
    "\n",
    "viktor.__term = 102\n",
    "viktor.pers()\n",
    "print()\n",
    "\n",
    "print(viktor.pers())"
   ]
  },
  {
   "cell_type": "markdown",
   "metadata": {},
   "source": [
    "## <i>¿Aber was ist hier los?</i>"
   ]
  },
  {
   "cell_type": "code",
   "execution_count": 11,
   "metadata": {},
   "outputs": [
    {
     "name": "stdout",
     "output_type": "stream",
     "text": [
      "Viktor Maier\n",
      "User permission No. 2\n",
      "None\n",
      "\n",
      "100\n",
      "\n",
      "101\n",
      "102\n"
     ]
    }
   ],
   "source": [
    "# Was da laus\n",
    "print(viktor.pers())\n",
    "print()\n",
    "print(viktor.term)\n",
    "print()\n",
    "print(viktor._term)\n",
    "print(viktor.__term)"
   ]
  },
  {
   "cell_type": "markdown",
   "metadata": {},
   "source": [
    "## Deshalb noch weiter einkapseln"
   ]
  },
  {
   "cell_type": "code",
   "execution_count": 43,
   "metadata": {},
   "outputs": [
    {
     "name": "stdout",
     "output_type": "stream",
     "text": [
      "2\n",
      "\n",
      "Viktor Maier\n",
      "User permission No. 2\n"
     ]
    }
   ],
   "source": [
    "class Person():\n",
    "    \n",
    "    def __init__(self, firstName, lastName):\n",
    "        self.firstName = firstName\n",
    "        self.lastName = lastName\n",
    "        self.__term = 0\n",
    "        \n",
    "    def increaseTerm(self):\n",
    "        if self.__term >= 4:\n",
    "            return\n",
    "        self.__term = self.__term + 1 \n",
    "        \n",
    "    def getTerm(self):    # Getter\n",
    "        return self.__term\n",
    "        \n",
    "    def pers(self):\n",
    "        print(self.firstName + \" \" + self.lastName)\n",
    "        print(\"User permission No. \" + str(self.__term))\n",
    "\n",
    "viktor = Person(\"Viktor\", \"Maier\")\n",
    "\n",
    "viktor.increaseTerm()\n",
    "viktor.increaseTerm()\n",
    "\n",
    "print(viktor.getTerm())     # Abrufen geht nur über den Getter\n",
    "# print(viktor.__term)     # Aber nicht mehr per direkten Zugriff (Fehlermeldung)\n",
    "print()\n",
    "viktor.pers()"
   ]
  },
  {
   "cell_type": "markdown",
   "metadata": {},
   "source": [
    "## Methoden einschränken"
   ]
  },
  {
   "cell_type": "code",
   "execution_count": 68,
   "metadata": {},
   "outputs": [
    {
     "name": "stdout",
     "output_type": "stream",
     "text": [
      "Did something\n",
      "Viktor Maier\n",
      "User permission No. 2\n",
      "\n"
     ]
    },
    {
     "ename": "AttributeError",
     "evalue": "'Person' object has no attribute '__doSomething'",
     "output_type": "error",
     "traceback": [
      "\u001b[1;31m---------------------------------------------------------------------------\u001b[0m",
      "\u001b[1;31mAttributeError\u001b[0m                            Traceback (most recent call last)",
      "\u001b[1;32m<ipython-input-68-8ab9c460a02a>\u001b[0m in \u001b[0;36m<module>\u001b[1;34m\u001b[0m\n\u001b[0;32m     28\u001b[0m \u001b[1;33m\u001b[0m\u001b[0m\n\u001b[0;32m     29\u001b[0m \u001b[0mprint\u001b[0m\u001b[1;33m(\u001b[0m\u001b[1;33m)\u001b[0m\u001b[1;33m\u001b[0m\u001b[1;33m\u001b[0m\u001b[0m\n\u001b[1;32m---> 30\u001b[1;33m \u001b[0mviktor\u001b[0m\u001b[1;33m.\u001b[0m\u001b[0m__doSomething\u001b[0m\u001b[1;33m(\u001b[0m\u001b[1;33m)\u001b[0m     \u001b[1;31m# 3. wird eingeschränkt\u001b[0m\u001b[1;33m\u001b[0m\u001b[1;33m\u001b[0m\u001b[0m\n\u001b[0m",
      "\u001b[1;31mAttributeError\u001b[0m: 'Person' object has no attribute '__doSomething'"
     ]
    }
   ],
   "source": [
    "class Person():\n",
    "    def __init__(self, firstName, lastName):\n",
    "        self.firstName = firstName\n",
    "        self.lastName = lastName\n",
    "        self.__term = 0\n",
    "        \n",
    "        self.__doSomething()     # 2. hier ausführen\n",
    "        \n",
    "    def increaseTerm(self):\n",
    "        if self.__term >= 4:\n",
    "            return\n",
    "        self.__term = self.__term + 1 \n",
    "        \n",
    "    def getTerm(self):\n",
    "        return self.__term\n",
    "    \n",
    "    def pers(self):\n",
    "        print(self.firstName + \" \" + self.lastName)\n",
    "        print(\"User permission No. \" + str(self.__term))\n",
    "    \n",
    "    def __doSomething(self):     # 1. Unterstrich an Funktion / Methode\n",
    "        print(\"Did something\")\n",
    "\n",
    "viktor = Person(\"Viktor\", \"Maier\")\n",
    "viktor.increaseTerm()\n",
    "viktor.increaseTerm()\n",
    "viktor.pers()\n",
    "\n",
    "print()\n",
    "viktor.__doSomething()     # 3. wird eingeschränkt"
   ]
  },
  {
   "cell_type": "code",
   "execution_count": null,
   "metadata": {},
   "outputs": [],
   "source": []
  }
 ],
 "metadata": {
  "kernelspec": {
   "display_name": "Python 3",
   "language": "python",
   "name": "python3"
  },
  "language_info": {
   "codemirror_mode": {
    "name": "ipython",
    "version": 3
   },
   "file_extension": ".py",
   "mimetype": "text/x-python",
   "name": "python",
   "nbconvert_exporter": "python",
   "pygments_lexer": "ipython3",
   "version": "3.8.5"
  }
 },
 "nbformat": 4,
 "nbformat_minor": 4
}
