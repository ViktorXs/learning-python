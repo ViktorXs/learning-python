{
 "cells": [
  {
   "cell_type": "markdown",
   "metadata": {},
   "source": [
    "# Methoden, die eine Klasse implementieren kann\n",
    "- Klasse direkt ausgeben\n",
    "- len(variable) berechnen"
   ]
  },
  {
   "cell_type": "code",
   "execution_count": 16,
   "metadata": {},
   "outputs": [
    {
     "name": "stdout",
     "output_type": "stream",
     "text": [
      "Audi\n"
     ]
    }
   ],
   "source": [
    "class Cars():\n",
    "    def __init__(self):\n",
    "        self.__entries = {}\n",
    "    def add(self, model, brand):\n",
    "        self.__entries[model] = brand\n",
    "    def get(self, model):\n",
    "        if model in self.__entries:\n",
    "            return self.__entries[model]\n",
    "        else:\n",
    "            return None        \n",
    "        \n",
    "car = Cars()\n",
    "car.add(\"S\", \"Tesla\")\n",
    "car.add(\"A3\", \"Audi\")\n",
    "car.add(\"Boxter\", \"Porsche\")\n",
    "\n",
    "print(car.get(\"A3\"))"
   ]
  },
  {
   "cell_type": "code",
   "execution_count": 18,
   "metadata": {},
   "outputs": [
    {
     "name": "stdout",
     "output_type": "stream",
     "text": [
      "<__main__.Cars object at 0x0000022364F752B0>\n"
     ]
    }
   ],
   "source": [
    "print(car)     # Zum Debuggen. Zeigt die Adresse auf dem Arbeitsspeicher an"
   ]
  },
  {
   "cell_type": "code",
   "execution_count": 24,
   "metadata": {},
   "outputs": [
    {
     "name": "stdout",
     "output_type": "stream",
     "text": [
      "Audi\n"
     ]
    }
   ],
   "source": [
    "class Cars():\n",
    "    def __init__(self):\n",
    "        self.__entries = {}\n",
    "    def add(self, model, brand):\n",
    "        self.__entries[model] = brand\n",
    "    def get(self, model):\n",
    "        if model in self.__entries:\n",
    "            return self.__entries[model]\n",
    "        else:\n",
    "            return None\n",
    "\n",
    "    def __str__(self):     # Methode um einen Variable car = Cars() \n",
    "        return \"Nope\"\n",
    "        \n",
    "        \n",
    "car = Cars()\n",
    "car.add(\"S\", \"Tesla\")\n",
    "car.add(\"A3\", \"Audi\")\n",
    "car.add(\"Boxter\", \"Porsche\")\n",
    "\n",
    "print(car.get(\"A3\"))"
   ]
  },
  {
   "cell_type": "code",
   "execution_count": 25,
   "metadata": {},
   "outputs": [
    {
     "name": "stdout",
     "output_type": "stream",
     "text": [
      "<class '__main__.Cars'>\n",
      "\n",
      "Nope\n"
     ]
    }
   ],
   "source": [
    "print(Cars)\n",
    "print()\n",
    "print(car)"
   ]
  },
  {
   "cell_type": "code",
   "execution_count": null,
   "metadata": {},
   "outputs": [],
   "source": []
  }
 ],
 "metadata": {
  "kernelspec": {
   "display_name": "Python 3",
   "language": "python",
   "name": "python3"
  },
  "language_info": {
   "codemirror_mode": {
    "name": "ipython",
    "version": 3
   },
   "file_extension": ".py",
   "mimetype": "text/x-python",
   "name": "python",
   "nbconvert_exporter": "python",
   "pygments_lexer": "ipython3",
   "version": "3.8.5"
  }
 },
 "nbformat": 4,
 "nbformat_minor": 4
}
