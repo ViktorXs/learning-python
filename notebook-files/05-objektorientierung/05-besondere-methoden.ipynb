{
 "cells": [
  {
   "cell_type": "markdown",
   "metadata": {},
   "source": [
    "# Methoden, die eine Klasse implementieren kann\n",
    "- Klasse direkt ausgeben\n",
    "- len(variable) berechnen"
   ]
  },
  {
   "cell_type": "code",
   "execution_count": 1,
   "metadata": {},
   "outputs": [
    {
     "name": "stdout",
     "output_type": "stream",
     "text": [
      "Audi\n"
     ]
    }
   ],
   "source": [
    "class Cars():\n",
    "    def __init__(self):\n",
    "        self.__entries = {}\n",
    "    def add(self, model, brand):\n",
    "        self.__entries[model] = brand\n",
    "    def get(self, model):\n",
    "        if model in self.__entries:\n",
    "            return self.__entries[model]\n",
    "        else:\n",
    "            return None        \n",
    "        \n",
    "car = Cars()\n",
    "car.add(\"S\", \"Tesla\")\n",
    "car.add(\"A3\", \"Audi\")\n",
    "car.add(\"Boxter\", \"Porsche\")\n",
    "\n",
    "print(car.get(\"A3\"))"
   ]
  },
  {
   "cell_type": "code",
   "execution_count": 2,
   "metadata": {},
   "outputs": [
    {
     "name": "stdout",
     "output_type": "stream",
     "text": [
      "<__main__.Cars object at 0x000001E46D661D30>\n"
     ]
    }
   ],
   "source": [
    "print(car)     # Zum Debuggen. Zeigt die Adresse auf dem Arbeitsspeicher an"
   ]
  },
  {
   "cell_type": "markdown",
   "metadata": {},
   "source": [
    "## Ausgabe mit <code>__ str __</code> überschreiben:"
   ]
  },
  {
   "cell_type": "code",
   "execution_count": 3,
   "metadata": {},
   "outputs": [
    {
     "name": "stdout",
     "output_type": "stream",
     "text": [
      "Audi\n"
     ]
    }
   ],
   "source": [
    "class Cars():\n",
    "    def __init__(self):\n",
    "        self._entries = {}\n",
    "    def add(self, model, brand):\n",
    "        self._entries[model] = brand\n",
    "    def get(self, model):\n",
    "        if model in self._entries:\n",
    "            return self._entries[model]\n",
    "        else:\n",
    "            return None\n",
    "\n",
    "    def __str__(self):     # Methode um die Ausgabe von \"print(car)\" zu überschreiben. \n",
    "        return \"Nope :*\"\n",
    "        \n",
    "        \n",
    "car = Cars()\n",
    "car.add(\"S\", \"Tesla\")\n",
    "car.add(\"A3\", \"Audi\")\n",
    "car.add(\"Boxter\", \"Porsche\")\n",
    "\n",
    "print(car.get(\"A3\"))"
   ]
  },
  {
   "cell_type": "code",
   "execution_count": 4,
   "metadata": {},
   "outputs": [
    {
     "name": "stdout",
     "output_type": "stream",
     "text": [
      "Nope :*\n",
      "\n",
      "<class '__main__.Cars'>\n",
      "\n",
      "{'S': 'Tesla', 'A3': 'Audi', 'Boxter': 'Porsche'}\n"
     ]
    }
   ],
   "source": [
    "print(car)\n",
    "print()\n",
    "print(Cars)\n",
    "print()\n",
    "print(car._entries)"
   ]
  },
  {
   "cell_type": "markdown",
   "metadata": {},
   "source": [
    "## Ein gutes Pattern:"
   ]
  },
  {
   "cell_type": "code",
   "execution_count": 90,
   "metadata": {},
   "outputs": [
    {
     "name": "stdout",
     "output_type": "stream",
     "text": [
      "Audi\n"
     ]
    }
   ],
   "source": [
    "class Cars():\n",
    "    def __init__(self):\n",
    "        self._entries = {}\n",
    "    def add(self, model, brand):\n",
    "        self._entries[model] = brand\n",
    "    def get(self, model):\n",
    "        if model in self._entries:\n",
    "            return self._entries[model]\n",
    "        else:\n",
    "            return None\n",
    "\n",
    "    def __str__(self):\n",
    "        return \"Cars list(\" + str(self._entries) + \")\" # Inhalt als String anzeigen  \n",
    "\n",
    "car = Cars()\n",
    "car.add(\"S\", \"Tesla\")\n",
    "car.add(\"A3\", \"Audi\")\n",
    "car.add(\"Boxter\", \"Porsche\")\n",
    "\n",
    "print(car.get(\"A3\"))"
   ]
  },
  {
   "cell_type": "markdown",
   "metadata": {},
   "source": [
    "### Weitere Möglichkeiten"
   ]
  },
  {
   "cell_type": "code",
   "execution_count": 91,
   "metadata": {},
   "outputs": [
    {
     "name": "stdout",
     "output_type": "stream",
     "text": [
      "Cars list({'S': 'Tesla', 'A3': 'Audi', 'Boxter': 'Porsche'})\n"
     ]
    },
    {
     "data": {
      "text/plain": [
       "<__main__.Cars at 0x1e46db03850>"
      ]
     },
     "execution_count": 91,
     "metadata": {},
     "output_type": "execute_result"
    }
   ],
   "source": [
    "print(car)\n",
    "\n",
    "car     # Speicheradresse auch einfach mal so anzeigen lassen"
   ]
  },
  {
   "cell_type": "code",
   "execution_count": 92,
   "metadata": {},
   "outputs": [
    {
     "data": {
      "text/plain": [
       "<__main__.Cars at 0x1e46db03850>"
      ]
     },
     "execution_count": 92,
     "metadata": {},
     "output_type": "execute_result"
    }
   ],
   "source": [
    "def showAdress():\n",
    "    return car\n",
    "\n",
    "showAdress()"
   ]
  },
  {
   "cell_type": "code",
   "execution_count": 93,
   "metadata": {},
   "outputs": [
    {
     "data": {
      "text/plain": [
       "\"Cars list({'S': 'Tesla', 'A3': 'Audi', 'Boxter': 'Porsche'})\""
      ]
     },
     "execution_count": 93,
     "metadata": {},
     "output_type": "execute_result"
    }
   ],
   "source": [
    "str(car)"
   ]
  },
  {
   "cell_type": "code",
   "execution_count": 94,
   "metadata": {},
   "outputs": [
    {
     "data": {
      "text/plain": [
       "\"Cars list({'S': 'Tesla', 'A3': 'Audi', 'Boxter': 'Porsche'})\""
      ]
     },
     "execution_count": 94,
     "metadata": {},
     "output_type": "execute_result"
    }
   ],
   "source": [
    "\"{}\".format(car)"
   ]
  },
  {
   "cell_type": "markdown",
   "metadata": {},
   "source": [
    "### Ausgabe mit  <code>__ repr __</code>\n",
    "+ mit len() und <code>__ len __</code>"
   ]
  },
  {
   "cell_type": "code",
   "execution_count": 121,
   "metadata": {},
   "outputs": [
    {
     "name": "stdout",
     "output_type": "stream",
     "text": [
      "Cars list({'S': 'Tesla', 'A3': 'Audi', 'Boxter': 'Porsche'})\n",
      "3\n"
     ]
    },
    {
     "data": {
      "text/plain": [
       "Cars list({'S': 'Tesla', 'A3': 'Audi', 'Boxter': 'Porsche'})"
      ]
     },
     "execution_count": 121,
     "metadata": {},
     "output_type": "execute_result"
    }
   ],
   "source": [
    "class Cars():\n",
    "    def __init__(self):\n",
    "        self._entries = {}\n",
    "    def add(self, model, brand):\n",
    "        self._entries[model] = brand\n",
    "    def get(self, model):\n",
    "        if model in self._entries:\n",
    "            return self._entries[model]\n",
    "        else:\n",
    "            return None\n",
    "        \n",
    "    def __str__(self):\n",
    "        return \"Cars list(\" + str(self._entries) + \")\"\n",
    "# __repr__\n",
    "    def __repr__(self):     \n",
    "        return \"Cars list(\" + str(self._entries) + \")\" \n",
    "# oder so\n",
    "    def __repr__(self):\n",
    "        return self.__str__()\n",
    "\n",
    "# __ len __\n",
    "    def __len__(self):\n",
    "        return len(self._entries)\n",
    "\n",
    "car = Cars()\n",
    "car.add(\"S\", \"Tesla\")\n",
    "car.add(\"A3\", \"Audi\")\n",
    "car.add(\"Boxter\", \"Porsche\")\n",
    "\n",
    "print(car)\n",
    "\n",
    "print(len(car))     # mit __ len __()\n",
    "\n",
    "car # __repr__"
   ]
  },
  {
   "cell_type": "markdown",
   "metadata": {},
   "source": [
    "## Länge mit <code>len()</code> ausgeben"
   ]
  }
 ],
 "metadata": {
  "kernelspec": {
   "display_name": "Python 3",
   "language": "python",
   "name": "python3"
  },
  "language_info": {
   "codemirror_mode": {
    "name": "ipython",
    "version": 3
   },
   "file_extension": ".py",
   "mimetype": "text/x-python",
   "name": "python",
   "nbconvert_exporter": "python",
   "pygments_lexer": "ipython3",
   "version": "3.8.5"
  }
 },
 "nbformat": 4,
 "nbformat_minor": 4
}
