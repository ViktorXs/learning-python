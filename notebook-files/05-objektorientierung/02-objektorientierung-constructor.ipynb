{
 "cells": [
  {
   "cell_type": "markdown",
   "metadata": {},
   "source": [
    "# Objektorientierung: Constructor, Eigenschaften abändern\n",
    "- Eigenschaften einer Klasse definieren\n",
    "- Eigenschaften einer Instanz ändern"
   ]
  },
  {
   "cell_type": "markdown",
   "metadata": {},
   "source": [
    "## Ausgangssituation"
   ]
  },
  {
   "cell_type": "code",
   "execution_count": 21,
   "metadata": {},
   "outputs": [],
   "source": [
    "class Person():\n",
    "    def indiv(self):\n",
    "        print(self.firstName + \" \" + self.lastName + \" is \" + str(self.age) + \" years old.\")\n",
    "\n",
    "viktor = Person()\n",
    "viktor.firstName = \"Viktor\"\n",
    "viktor.lastName = \"Maier\"\n",
    "viktor.age = 34\n",
    "\n",
    "andreas = Person()\n",
    "andreas.firstName = \"Andreas\"\n",
    "andreas.lastName = \"Rathjens\"\n",
    "andreas.age = 36"
   ]
  },
  {
   "cell_type": "code",
   "execution_count": 22,
   "metadata": {},
   "outputs": [
    {
     "name": "stdout",
     "output_type": "stream",
     "text": [
      "Viktor Maier is 34 years old.\n",
      "Andreas Rathjens is 36 years old.\n"
     ]
    }
   ],
   "source": [
    "viktor.indiv()\n",
    "andreas.indiv()"
   ]
  },
  {
   "cell_type": "markdown",
   "metadata": {},
   "source": [
    "## initiiere"
   ]
  },
  {
   "cell_type": "code",
   "execution_count": 80,
   "metadata": {},
   "outputs": [],
   "source": [
    "class Person():\n",
    "    \n",
    "    def __init__(self, firstName, lastName, age, hasCar):     # Konstruktor.\n",
    "                                                      # Wird neu ausgeführt, wenn Funktion aufgerufen wird.\n",
    "                                                      # self bezieht sich auf pers(self)\n",
    "        self.firstName = firstName     # mit dem firstName aus pers(self) verknüpfen\n",
    "        self.lastName = lastName     # usw...\n",
    "        self.age = age\n",
    "        self.hasCar = hasCar\n",
    "\n",
    "    def pers(self):\n",
    "        if self.hasCar == True:\n",
    "            print(self.firstName + \" \" + self.lastName + \" is \" + str(self.age) + \" years old, and is able to drive.\")\n",
    "        else:\n",
    "            print(self.firstName + \" \" + self.lastName + \" is \" + str(self.age) + \" years old, and isn't able to drive.\")\n",
    "\n",
    "viktor = Person(\"Viktor\", \"Maier\", 34, True)\n",
    "andreas = Person(\"Andreas\", \"Rathjens\", 36, False)\n",
    "till = Person(\"Till\", \"Angrick\", 32, True)"
   ]
  },
  {
   "cell_type": "code",
   "execution_count": 81,
   "metadata": {},
   "outputs": [
    {
     "name": "stdout",
     "output_type": "stream",
     "text": [
      "Viktor Maier is 34 years old, and is able to drive.\n",
      "Andreas Rathjens is 36 years old, and isn't able to drive.\n",
      "Till Angrick is 32 years old, and is able to drive.\n"
     ]
    }
   ],
   "source": [
    "viktor.pers()\n",
    "andreas.pers()\n",
    "till.pers()"
   ]
  },
  {
   "cell_type": "code",
   "execution_count": null,
   "metadata": {},
   "outputs": [],
   "source": []
  }
 ],
 "metadata": {
  "kernelspec": {
   "display_name": "Python 3",
   "language": "python",
   "name": "python3"
  },
  "language_info": {
   "codemirror_mode": {
    "name": "ipython",
    "version": 3
   },
   "file_extension": ".py",
   "mimetype": "text/x-python",
   "name": "python",
   "nbconvert_exporter": "python",
   "pygments_lexer": "ipython3",
   "version": "3.8.5"
  }
 },
 "nbformat": 4,
 "nbformat_minor": 4
}
