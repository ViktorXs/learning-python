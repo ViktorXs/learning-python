{
 "cells": [
  {
   "cell_type": "markdown",
   "metadata": {},
   "source": [
    "# Statische Variablen\n",
    "Nicht empfohlene Schreibvariante"
   ]
  },
  {
   "cell_type": "code",
   "execution_count": 58,
   "metadata": {},
   "outputs": [],
   "source": [
    "class Book:\n",
    "    price = \"Expensive\""
   ]
  },
  {
   "cell_type": "code",
   "execution_count": 59,
   "metadata": {},
   "outputs": [],
   "source": [
    "b = Book()\n",
    "c = Book()"
   ]
  },
  {
   "cell_type": "code",
   "execution_count": 63,
   "metadata": {},
   "outputs": [
    {
     "name": "stdout",
     "output_type": "stream",
     "text": [
      "Cheap\n",
      "Cheap\n"
     ]
    }
   ],
   "source": [
    "print(b.price)\n",
    "print(c.price)"
   ]
  },
  {
   "cell_type": "code",
   "execution_count": 61,
   "metadata": {},
   "outputs": [
    {
     "data": {
      "text/plain": [
       "'Expensive'"
      ]
     },
     "execution_count": 61,
     "metadata": {},
     "output_type": "execute_result"
    }
   ],
   "source": [
    "Book.price  # Man kann auf die Statische Variable von überall aus zugreifen"
   ]
  },
  {
   "cell_type": "code",
   "execution_count": 64,
   "metadata": {
    "scrolled": true
   },
   "outputs": [
    {
     "name": "stdout",
     "output_type": "stream",
     "text": [
      "Cheap\n",
      "Cheap\n",
      "Cheap\n"
     ]
    }
   ],
   "source": [
    "Book.price = \"Cheap\"  # Die Variable für alle Instanzen ändern.\n",
    "print(Book.price)\n",
    "print(b.price)\n",
    "print(c.price)"
   ]
  },
  {
   "cell_type": "markdown",
   "metadata": {},
   "source": [
    "Dadurch hat man den Wert der Variable für alle Bücher verändert."
   ]
  },
  {
   "cell_type": "markdown",
   "metadata": {},
   "source": [
    "# Lieber Instanzvariablen"
   ]
  },
  {
   "cell_type": "code",
   "execution_count": 71,
   "metadata": {},
   "outputs": [
    {
     "name": "stdout",
     "output_type": "stream",
     "text": [
      "Expensive\n",
      "Cheap\n"
     ]
    }
   ],
   "source": [
    "class Book:\n",
    "    def __init__(self, price):\n",
    "        self.price = price\n",
    "\n",
    "d = Book(\"Expensive\")\n",
    "e = Book(\"Cheap\")\n",
    "\n",
    "print(d.price)  # Jede Instanz hat einen eigenen Wert der Variable\n",
    "print(e.price)"
   ]
  }
 ],
 "metadata": {
  "kernelspec": {
   "display_name": "Python 3",
   "language": "python",
   "name": "python3"
  },
  "language_info": {
   "codemirror_mode": {
    "name": "ipython",
    "version": 3
   },
   "file_extension": ".py",
   "mimetype": "text/x-python",
   "name": "python",
   "nbconvert_exporter": "python",
   "pygments_lexer": "ipython3",
   "version": "3.8.5"
  }
 },
 "nbformat": 4,
 "nbformat_minor": 4
}
