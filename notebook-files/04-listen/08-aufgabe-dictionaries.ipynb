{
 "cells": [
  {
   "cell_type": "markdown",
   "metadata": {},
   "source": [
    "# Aufgabe: Dictionaries"
   ]
  },
  {
   "cell_type": "markdown",
   "metadata": {},
   "source": [
    "Die Datei \"/names.csv\" einlesen, berechnen welcher Name insgesamt in den gesamten USA am Häufigsten vergeben wurde."
   ]
  },
  {
   "cell_type": "markdown",
   "metadata": {},
   "source": [
    "- Zuerst Daten in Dictionary einlesen, zählen, wie oft jeder Vorname insgesamt vorkommt.\n",
    "- Dictionary analysieren und den häufigsten Namen finden. \n",
    "- Gegebenenfalls Strings in Zahlen umwandeln.\n",
    "- Gesamten Code in einer Zelle halten."
   ]
  },
  {
   "cell_type": "markdown",
   "metadata": {},
   "source": [
    "## Code"
   ]
  },
  {
   "cell_type": "code",
   "execution_count": 1,
   "metadata": {},
   "outputs": [
    {
     "name": "stdout",
     "output_type": "stream",
     "text": [
      "1,Mary,1910,F,AK,14\n",
      "\n"
     ]
    }
   ],
   "source": [
    "idNr = 0\n",
    "name = \"\"\n",
    "year = 0\n",
    "gender = \"\"\n",
    "state = \"\"\n",
    "freq = 0\n",
    "\n",
    "count = {}\n",
    "\n",
    "with open(\"../data/names.csv\", \"r\") as file:\n",
    "    for line in file:\n",
    "        splitted = line.strip().split(\",\")\n",
    "        if splitted[0] == \"Id\":\n",
    "            continue\n",
    "\n",
    "        splitted[1]\n",
    "        \n",
    "        print(line)\n",
    "        break\n"
   ]
  },
  {
   "cell_type": "markdown",
   "metadata": {},
   "source": [
    "## Schmierblatt"
   ]
  },
  {
   "cell_type": "code",
   "execution_count": 49,
   "metadata": {},
   "outputs": [
    {
     "name": "stdout",
     "output_type": "stream",
     "text": [
      "{'A': 1, 'B': 3, 'C': 1}\n"
     ]
    }
   ],
   "source": [
    "liste = [\"A\", \"B\", \"B\", \"C\", \"B\"]\n",
    "\n",
    "d = {}\n",
    "for element in liste:\n",
    "    if element in d:\n",
    "        d[element] = d[element] + 1\n",
    "    else:\n",
    "        d[element] = 1\n",
    "print(d)"
   ]
  },
  {
   "cell_type": "code",
   "execution_count": 44,
   "metadata": {},
   "outputs": [
    {
     "ename": "SyntaxError",
     "evalue": "invalid syntax (<ipython-input-44-a990ecb8a316>, line 1)",
     "output_type": "error",
     "traceback": [
      "\u001b[1;36m  File \u001b[1;32m\"<ipython-input-44-a990ecb8a316>\"\u001b[1;36m, line \u001b[1;32m1\u001b[0m\n\u001b[1;33m    if name == name\u001b[0m\n\u001b[1;37m                    ^\u001b[0m\n\u001b[1;31mSyntaxError\u001b[0m\u001b[1;31m:\u001b[0m invalid syntax\n"
     ]
    }
   ],
   "source": [
    "if name == name \n",
    "    "
   ]
  },
  {
   "cell_type": "code",
   "execution_count": null,
   "metadata": {},
   "outputs": [],
   "source": []
  }
 ],
 "metadata": {
  "kernelspec": {
   "display_name": "Python 3",
   "language": "python",
   "name": "python3"
  },
  "language_info": {
   "codemirror_mode": {
    "name": "ipython",
    "version": 3
   },
   "file_extension": ".py",
   "mimetype": "text/x-python",
   "name": "python",
   "nbconvert_exporter": "python",
   "pygments_lexer": "ipython3",
   "version": "3.8.5"
  }
 },
 "nbformat": 4,
 "nbformat_minor": 4
}
