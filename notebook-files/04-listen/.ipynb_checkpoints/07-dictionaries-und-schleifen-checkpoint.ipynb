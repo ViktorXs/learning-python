{
 "cells": [
  {
   "cell_type": "code",
   "execution_count": null,
   "metadata": {},
   "outputs": [],
   "source": [
    "# Dictionaries und Schleifen"
   ]
  },
  {
   "cell_type": "code",
   "execution_count": 66,
   "metadata": {
    "scrolled": true
   },
   "outputs": [
    {
     "name": "stdout",
     "output_type": "stream",
     "text": [
      "'audire' Audi Automobilwerke Zwickau\n",
      "1909\n",
      "\n",
      "Bayerische Motoren Werke Aktiengesellschaft\n",
      "1916\n",
      "\n",
      "Daimler Aktiengesellschaft\n",
      "1926\n",
      "\n",
      "Opel Automobile GmbH\n",
      "1862\n",
      "\n"
     ]
    }
   ],
   "source": [
    "cities = {\"Berlin\": \"BER\", \"Helsinki\": \"HEL\", \"Saigon\": \"SGN\"}\n",
    "\n",
    "carManufacturers = {\n",
    "    \"'audire' Audi Automobilwerke Zwickau\": 1909, \n",
    "    \"Bayerische Motoren Werke Aktiengesellschaft\": 1916, \n",
    "    \"Daimler Aktiengesellschaft\": 1926, \n",
    "    \"Opel Automobile GmbH\": 1862\n",
    "}\n",
    "\n",
    "for key in carManufacturers:\n",
    "    value = carManufacturers[key]\n",
    "    print(key)\n",
    "    print(value)\n",
    "    print()"
   ]
  },
  {
   "cell_type": "markdown",
   "metadata": {},
   "source": [
    "## Dictionary in Tupel ausgeben"
   ]
  },
  {
   "cell_type": "code",
   "execution_count": 65,
   "metadata": {},
   "outputs": [
    {
     "name": "stdout",
     "output_type": "stream",
     "text": [
      "'audire' Audi Automobilwerke Zwickau: 1909\n",
      "Bayerische Motoren Werke Aktiengesellschaft: 1916\n",
      "Daimler Aktiengesellschaft: 1926\n",
      "Opel Automobile GmbH: 1862\n"
     ]
    }
   ],
   "source": [
    "for key, value in carManufacturers.items():\n",
    "    print(key + \": \" + str(value))"
   ]
  },
  {
   "cell_type": "code",
   "execution_count": 67,
   "metadata": {},
   "outputs": [
    {
     "name": "stdout",
     "output_type": "stream",
     "text": [
      "dict_items([('Berlin', 'BER'), ('Helsinki', 'HEL'), ('Saigon', 'SGN')])\n"
     ]
    }
   ],
   "source": [
    "print(cities.items())"
   ]
  },
  {
   "cell_type": "markdown",
   "metadata": {},
   "source": [
    "### Eigene Übungen"
   ]
  },
  {
   "cell_type": "code",
   "execution_count": 72,
   "metadata": {},
   "outputs": [
    {
     "name": "stdout",
     "output_type": "stream",
     "text": [
      "Berlin: BER\n",
      "Helsinki: HEL\n",
      "Saigon: SGN\n"
     ]
    }
   ],
   "source": [
    "for key in cities:\n",
    "    value = cities[key]\n",
    "    print(key + \": \" + value)"
   ]
  },
  {
   "cell_type": "code",
   "execution_count": 71,
   "metadata": {},
   "outputs": [
    {
     "name": "stdout",
     "output_type": "stream",
     "text": [
      "Berlin: BER\n",
      "Helsinki: HEL\n",
      "Saigon: SGN\n"
     ]
    }
   ],
   "source": [
    "for key, value in cities.items():\n",
    "    print(key + \": \" + value)"
   ]
  },
  {
   "cell_type": "code",
   "execution_count": null,
   "metadata": {},
   "outputs": [],
   "source": []
  }
 ],
 "metadata": {
  "kernelspec": {
   "display_name": "Python 3",
   "language": "python",
   "name": "python3"
  },
  "language_info": {
   "codemirror_mode": {
    "name": "ipython",
    "version": 3
   },
   "file_extension": ".py",
   "mimetype": "text/x-python",
   "name": "python",
   "nbconvert_exporter": "python",
   "pygments_lexer": "ipython3",
   "version": "3.8.5"
  }
 },
 "nbformat": 4,
 "nbformat_minor": 4
}
