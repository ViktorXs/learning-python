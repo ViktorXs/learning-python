{
 "cells": [
  {
<<<<<<< HEAD
<<<<<<< HEAD:notebook-files/04-listen/.ipynb_checkpoints/04-dictionaries-checkpoint.ipynb
=======
>>>>>>> 73f7be91054cce145e2662c0de4ec8b2e6fbdde2
   "cell_type": "markdown",
   "metadata": {},
   "source": [
    "# Dictionaries"
<<<<<<< HEAD
=======
   "cell_type": "code",
   "execution_count": 1,
   "metadata": {},
   "outputs": [
    {
     "name": "stdout",
     "output_type": "stream",
     "text": [
      "Hallo Welt\n"
     ]
    }
   ],
   "source": [
    "print(\"Hallo Welt\")"
>>>>>>> 73f7be91054cce145e2662c0de4ec8b2e6fbdde2:notebook-files/01-basics/hallo-welt.ipynb
=======
>>>>>>> 73f7be91054cce145e2662c0de4ec8b2e6fbdde2
   ]
  },
  {
   "cell_type": "code",
   "execution_count": null,
<<<<<<< HEAD
   "metadata": {
    "collapsed": true
   },
=======
   "metadata": {},
>>>>>>> 73f7be91054cce145e2662c0de4ec8b2e6fbdde2
   "outputs": [],
   "source": []
  }
 ],
 "metadata": {
  "kernelspec": {
   "display_name": "Python 3",
   "language": "python",
   "name": "python3"
  },
  "language_info": {
   "codemirror_mode": {
    "name": "ipython",
    "version": 3
   },
   "file_extension": ".py",
   "mimetype": "text/x-python",
   "name": "python",
   "nbconvert_exporter": "python",
   "pygments_lexer": "ipython3",
   "version": "3.8.5"
  }
 },
 "nbformat": 4,
<<<<<<< HEAD
<<<<<<< HEAD:notebook-files/04-listen/.ipynb_checkpoints/04-dictionaries-checkpoint.ipynb
 "nbformat_minor": 4
=======
 "nbformat_minor": 2
>>>>>>> 73f7be91054cce145e2662c0de4ec8b2e6fbdde2:notebook-files/01-basics/hallo-welt.ipynb
=======
 "nbformat_minor": 4
>>>>>>> 73f7be91054cce145e2662c0de4ec8b2e6fbdde2
}
