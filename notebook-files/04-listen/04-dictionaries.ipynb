{
 "cells": [
  {
   "cell_type": "markdown",
   "metadata": {},
   "source": [
    "# Dictionaries\n",
    "Mit geschweiften Klammern"
   ]
  },
  {
   "cell_type": "code",
   "execution_count": 74,
   "metadata": {},
   "outputs": [],
   "source": [
    "# Dictionaries haben immer eine Zuordnung\n",
    "d = {\"Berlin\": \"BER\", \"Helsinki\": \"HEL\", \"Saigon\": \"SGN\"} # Einem Schlüssel einen Wert zuordnen {key:value, key:value, ...}\n",
    "cars = {\"Audi\": \"'audire' Audi Automobilwerke GmbH Zwickau\", \"BMW\": \"Bayerische Motoren Werke Aktiengesellschaft\", \"Mercedes Benz\": \"Daimler Aktiengesellschaft\", \"Opel\": \"Opel Automobile GmbH\"}"
   ]
  },
  {
   "cell_type": "code",
   "execution_count": 75,
   "metadata": {},
   "outputs": [],
   "source": [
    "# Ablage für später. Mehrere Values für einen Key möglich?\n",
    "# cars = {\"Audi\": \"'audire' Audi Automobilwerke GmbH Zwickau\" 1909, \"BMW\": \"Bayerische Motoren Werke Aktiengesellschaft\" 1916, \"Mercedes Benz\": \"Daimler Aktiengesellschaft\" 1926, \"Opel\": \"Opel Automobile GmbH\" 1862}"
   ]
  },
  {
   "cell_type": "code",
   "execution_count": 76,
   "metadata": {},
   "outputs": [
    {
     "name": "stdout",
     "output_type": "stream",
     "text": [
      "{'Audi': \"'audire' Audi Automobilwerke GmbH Zwickau\", 'BMW': 'Bayerische Motoren Werke Aktiengesellschaft', 'Mercedes Benz': 'Daimler Aktiengesellschaft', 'Opel': 'Opel Automobile GmbH'}\n"
     ]
    }
   ],
   "source": [
    "print(cars)"
   ]
  },
  {
   "cell_type": "markdown",
   "metadata": {},
   "source": [
    "## Einen Wert ausgeben"
   ]
  },
  {
   "cell_type": "code",
   "execution_count": 77,
   "metadata": {},
   "outputs": [
    {
     "name": "stdout",
     "output_type": "stream",
     "text": [
      "Opel Automobile GmbH\n"
     ]
    }
   ],
   "source": [
    "print(cars[\"Opel\"])"
   ]
  },
  {
   "cell_type": "markdown",
   "metadata": {},
   "source": [
    "## Element hinzufügen"
   ]
  },
  {
   "cell_type": "code",
   "execution_count": 107,
   "metadata": {},
   "outputs": [
    {
     "name": "stdout",
     "output_type": "stream",
     "text": [
      "United States of America\n"
     ]
    }
   ],
   "source": [
    "cars[\"Ferrari\"] = \"'Scudera' Auto Avio Costruzioni Ferrari\"\n",
    "\n",
    "d[\"USA\"] = \"United States of America\"\n",
    "print(d[\"USA\"])"
   ]
  },
  {
   "cell_type": "code",
   "execution_count": 79,
   "metadata": {},
   "outputs": [
    {
     "name": "stdout",
     "output_type": "stream",
     "text": [
      "{'Audi': \"'audire' Audi Automobilwerke GmbH Zwickau\", 'BMW': 'Bayerische Motoren Werke Aktiengesellschaft', 'Mercedes Benz': 'Daimler Aktiengesellschaft', 'Opel': 'Opel Automobile GmbH', 'Ferrari': \"'Scudera' Auto Avio Costruzioni Ferrari\"}\n"
     ]
    }
   ],
   "source": [
    "print(cars)"
   ]
  },
  {
   "cell_type": "markdown",
   "metadata": {},
   "source": [
    "## Element entfernen"
   ]
  },
  {
   "cell_type": "code",
   "execution_count": 80,
   "metadata": {},
   "outputs": [],
   "source": [
    "del cars[\"Opel\"]"
   ]
  },
  {
   "cell_type": "code",
   "execution_count": 81,
   "metadata": {},
   "outputs": [
    {
     "name": "stdout",
     "output_type": "stream",
     "text": [
      "{'Audi': \"'audire' Audi Automobilwerke GmbH Zwickau\", 'BMW': 'Bayerische Motoren Werke Aktiengesellschaft', 'Mercedes Benz': 'Daimler Aktiengesellschaft', 'Ferrari': \"'Scudera' Auto Avio Costruzioni Ferrari\"}\n"
     ]
    }
   ],
   "source": [
    "print(cars)"
   ]
  },
  {
   "cell_type": "markdown",
   "metadata": {},
   "source": [
    "## Abfragen ob etwas enthalten ist"
   ]
  },
  {
   "cell_type": "code",
   "execution_count": 106,
   "metadata": {},
   "outputs": [
    {
     "name": "stdout",
     "output_type": "stream",
     "text": [
      "We are sorry, Nvidia GeForce RTX 3090s are currently not available.\n",
      "\n",
      "Audis are available in our vehicle shop.\n"
     ]
    }
   ],
   "source": [
    "cars = {\"Audi\": \"'audire' Audi Automobilwerke GmbH Zwickau\", \"BMW\": \"Bayerische Motoren Werke Aktiengesellschaft\", \"Mercedes Benz\": \"Daimler Aktiengesellschaft\", \"Opel\": \"Opel Automobile GmbH\"}\n",
    "\n",
    "def search(name):\n",
    "    if name in cars:\n",
    "        print(name + \"s\" + \" are available in our vehicle shop.\")\n",
    "    else:\n",
    "        print(\"We are sorry, \" + name + \"s\" + \" are currently not available.\")  \n",
    "\n",
    "search(\"Nvidia GeForce RTX 3090\")\n",
    "print(\"\")\n",
    "search(\"Audi\")"
   ]
  },
  {
   "cell_type": "markdown",
   "metadata": {},
   "source": [
    "## Auf Elemente zugreifen"
   ]
  },
  {
   "cell_type": "code",
   "execution_count": 109,
   "metadata": {},
   "outputs": [],
   "source": [
    "cars = {\"Audi\": \"'audire' Audi Automobilwerke GmbH Zwickau\", \"BMW\": \"Bayerische Motoren Werke Aktiengesellschaft\", \"Mercedes Benz\": \"Daimler Aktiengesellschaft\", \"Opel\": \"Opel Automobile GmbH\"}\n",
    "del cars[\"Opel\"]"
   ]
  },
  {
   "cell_type": "code",
   "execution_count": 110,
   "metadata": {},
   "outputs": [
    {
     "name": "stdout",
     "output_type": "stream",
     "text": [
      "'audire' Audi Automobilwerke GmbH Zwickau\n",
      "'audire' Audi Automobilwerke GmbH Zwickau\n"
     ]
    }
   ],
   "source": [
    "print(cars[\"Audi\"])\n",
    "print(cars.get(\"Audi\"))"
   ]
  },
  {
   "cell_type": "code",
   "execution_count": 111,
   "metadata": {},
   "outputs": [
    {
     "name": "stdout",
     "output_type": "stream",
     "text": [
      "None\n",
      ".get() hat funktioniert\n"
     ]
    },
    {
     "ename": "KeyError",
     "evalue": "'Opel'",
     "output_type": "error",
     "traceback": [
      "\u001b[1;31m---------------------------------------------------------------------------\u001b[0m",
      "\u001b[1;31mKeyError\u001b[0m                                  Traceback (most recent call last)",
      "\u001b[1;32m<ipython-input-111-739b0f43e5e1>\u001b[0m in \u001b[0;36m<module>\u001b[1;34m\u001b[0m\n\u001b[0;32m      2\u001b[0m \u001b[0mprint\u001b[0m\u001b[1;33m(\u001b[0m\u001b[1;34m\".get() hat funktioniert\"\u001b[0m\u001b[1;33m)\u001b[0m\u001b[1;33m\u001b[0m\u001b[1;33m\u001b[0m\u001b[0m\n\u001b[0;32m      3\u001b[0m \u001b[1;31m# Ausgabe gibt \"None\" aus mit-get(), anstelle eines harten Fehlers, welches das Programm stoppt:\u001b[0m\u001b[1;33m\u001b[0m\u001b[1;33m\u001b[0m\u001b[1;33m\u001b[0m\u001b[0m\n\u001b[1;32m----> 4\u001b[1;33m \u001b[0mprint\u001b[0m\u001b[1;33m(\u001b[0m\u001b[0mcars\u001b[0m\u001b[1;33m[\u001b[0m\u001b[1;34m\"Opel\"\u001b[0m\u001b[1;33m]\u001b[0m\u001b[1;33m)\u001b[0m\u001b[1;33m\u001b[0m\u001b[1;33m\u001b[0m\u001b[0m\n\u001b[0m",
      "\u001b[1;31mKeyError\u001b[0m: 'Opel'"
     ]
    }
   ],
   "source": [
    "print(cars.get(\"Opel\"))\n",
    "print(\".get() hat funktioniert\") \n",
    "# Ausgabe gibt \"None\" aus mit-get(), anstelle eines harten Fehlers, welches das Programm stoppt:\n",
    "print(cars[\"Opel\"])"
   ]
  },
  {
   "cell_type": "markdown",
   "metadata": {},
   "source": [
    "### Bevorzugt mit [ ] arbeiten, weil...\n",
    "... lieber ein Programm durch den Fehler stoppen lassen um den Fehler sofort zu debuggen, statt das Programm mit einem Fehler mit .get() unbemerkt weiter laufen zu lassen.  "
   ]
  },
  {
   "cell_type": "code",
   "execution_count": null,
   "metadata": {},
   "outputs": [],
   "source": []
  }
 ],
 "metadata": {
  "kernelspec": {
   "display_name": "Python 3",
   "language": "python",
   "name": "python3"
  },
  "language_info": {
   "codemirror_mode": {
    "name": "ipython",
    "version": 3
   },
   "file_extension": ".py",
   "mimetype": "text/x-python",
   "name": "python",
   "nbconvert_exporter": "python",
   "pygments_lexer": "ipython3",
   "version": "3.8.5"
  }
 },
 "nbformat": 4,
 "nbformat_minor": 4
}
