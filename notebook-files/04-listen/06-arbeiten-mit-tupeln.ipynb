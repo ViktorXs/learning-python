{
 "cells": [
  {
   "cell_type": "markdown",
   "metadata": {},
   "source": [
    "# Arbeiten mit Tupeln"
   ]
  },
  {
   "cell_type": "markdown",
   "metadata": {},
   "source": [
    "## Entpacken"
   ]
  },
  {
   "cell_type": "code",
   "execution_count": 86,
   "metadata": {},
   "outputs": [
    {
     "name": "stdout",
     "output_type": "stream",
     "text": [
      "Viktor Maier\n",
      "34\n",
      "Anwendungsentwickler\n"
     ]
    }
   ],
   "source": [
    "apprentice = (\"Viktor Maier\", 34, \"Anwendungsentwickler\")\n",
    "name, age, job = apprentice     # Entpacken\n",
    "\n",
    "print(name)     # voilá\n",
    "print(age)\n",
    "print(job)"
   ]
  },
  {
   "cell_type": "code",
   "execution_count": 88,
   "metadata": {
    "scrolled": true
   },
   "outputs": [
    {
     "name": "stdout",
     "output_type": "stream",
     "text": [
      "Viktor Maier 34 Anwendungsentwickler\n"
     ]
    }
   ],
   "source": [
    "apprentice = (\"Viktor Maier\", 34, \"Anwendungsentwickler\")\n",
    "apprentice = name, age, job     # Funktioniert, aber ist diese Art akzeptabel?\n",
    "\n",
    "print(name, age, job)"
   ]
  },
  {
   "cell_type": "markdown",
   "metadata": {},
   "source": [
    "### Anzahl <b>muss</b> stimmen!"
   ]
  },
  {
   "cell_type": "code",
   "execution_count": 82,
   "metadata": {},
   "outputs": [
    {
     "ename": "ValueError",
     "evalue": "too many values to unpack (expected 3)",
     "output_type": "error",
     "traceback": [
      "\u001b[1;31m---------------------------------------------------------------------------\u001b[0m",
      "\u001b[1;31mValueError\u001b[0m                                Traceback (most recent call last)",
      "\u001b[1;32m<ipython-input-82-348ddb015657>\u001b[0m in \u001b[0;36m<module>\u001b[1;34m\u001b[0m\n\u001b[0;32m      1\u001b[0m \u001b[0mapprentice\u001b[0m \u001b[1;33m=\u001b[0m \u001b[1;33m(\u001b[0m\u001b[1;34m\"Viktor Maier\"\u001b[0m\u001b[1;33m,\u001b[0m \u001b[1;36m34\u001b[0m\u001b[1;33m,\u001b[0m \u001b[1;34m\"Anwendungsentwickler\"\u001b[0m\u001b[1;33m,\u001b[0m \u001b[1;34m\"Russe\"\u001b[0m\u001b[1;33m)\u001b[0m\u001b[1;33m\u001b[0m\u001b[1;33m\u001b[0m\u001b[0m\n\u001b[1;32m----> 2\u001b[1;33m \u001b[0mname\u001b[0m\u001b[1;33m,\u001b[0m \u001b[0mage\u001b[0m\u001b[1;33m,\u001b[0m \u001b[0mjob\u001b[0m \u001b[1;33m=\u001b[0m \u001b[0mapprentice\u001b[0m\u001b[1;33m\u001b[0m\u001b[1;33m\u001b[0m\u001b[0m\n\u001b[0m\u001b[0;32m      3\u001b[0m \u001b[1;33m\u001b[0m\u001b[0m\n\u001b[0;32m      4\u001b[0m \u001b[0mprint\u001b[0m\u001b[1;33m(\u001b[0m\u001b[0mjob\u001b[0m\u001b[1;33m)\u001b[0m\u001b[1;33m\u001b[0m\u001b[1;33m\u001b[0m\u001b[0m\n",
      "\u001b[1;31mValueError\u001b[0m: too many values to unpack (expected 3)"
     ]
    }
   ],
   "source": [
    "apprentice = (\"Viktor Maier\", 34, \"Anwendungsentwickler\", \"Russe\")\n",
    "name, age, job = apprentice\n",
    "\n",
    "print(job)"
   ]
  },
  {
   "cell_type": "markdown",
   "metadata": {},
   "source": [
    "## Tupel in Listen"
   ]
  },
  {
   "cell_type": "code",
   "execution_count": 83,
   "metadata": {},
   "outputs": [
    {
     "name": "stdout",
     "output_type": "stream",
     "text": [
      "Viktor Maier\n",
      "34\n",
      "Anwendungsentwickler\n",
      "\n",
      "Vanessa A.\n",
      "28\n",
      "Foliererin\n",
      "\n",
      "Viktor Maier 34 Anwendungsentwickler\n",
      "Vanessa A. 28 Foliererin\n"
     ]
    }
   ],
   "source": [
    "apprentices = [\n",
    "    (\"Viktor Maier\", 34, \"Anwendungsentwickler\"),\n",
    "    (\"Vanessa A.\", 28, \"Foliererin\")\n",
    "]\n",
    "\n",
    "for apprentice in apprentices:\n",
    "    name, age, job = apprentice\n",
    "    print(name)\n",
    "    print(age)\n",
    "    print(job)\n",
    "    print(\"\")\n",
    "\n",
    "# Oder noch besser\n",
    "for name, age, job in apprentices:\n",
    "    print(name, age, job)"
   ]
  },
  {
   "cell_type": "code",
   "execution_count": 85,
   "metadata": {},
   "outputs": [
    {
     "name": "stdout",
     "output_type": "stream",
     "text": [
      "Audi 'audire' Audi Automobilwerke Zwickau 1909\n",
      "BMW Bayerische Motoren Werke Aktiengesellschaft 1916\n",
      "Mercedes Benz Daimler Aktiengesellschaft 1926\n",
      "Opel Opel Automobile GmbH 1862\n"
     ]
    }
   ],
   "source": [
    "carManufacturer = [\n",
    "    (\"Audi\", \"'audire' Audi Automobilwerke Zwickau\", 1909),\n",
    "    (\"BMW\", \"Bayerische Motoren Werke Aktiengesellschaft\", 1916),\n",
    "    (\"Mercedes Benz\", \"Daimler Aktiengesellschaft\", 1926),\n",
    "    (\"Opel\", \"Opel Automobile GmbH\", 1862)\n",
    "]\n",
    "\n",
    "for brandName, fullBrandName, creationYear in carManufacturer:\n",
    "    print(brandName, fullBrandName, creationYear)"
   ]
  },
  {
   "cell_type": "code",
   "execution_count": null,
   "metadata": {},
   "outputs": [],
   "source": []
  }
 ],
 "metadata": {
  "kernelspec": {
   "display_name": "Python 3",
   "language": "python",
   "name": "python3"
  },
  "language_info": {
   "codemirror_mode": {
    "name": "ipython",
    "version": 3
   },
   "file_extension": ".py",
   "mimetype": "text/x-python",
   "name": "python",
   "nbconvert_exporter": "python",
   "pygments_lexer": "ipython3",
   "version": "3.8.5"
  }
 },
 "nbformat": 4,
 "nbformat_minor": 4
}
