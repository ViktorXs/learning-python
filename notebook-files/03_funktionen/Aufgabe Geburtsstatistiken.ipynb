{
 "cells": [
  {
   "cell_type": "markdown",
   "metadata": {},
   "source": [
    "## Aufgabe\n",
    "Finde heraus, wie oft der Name \"Max\" als männlicher Vorname in Kalifornien zwischen 1950 und 2000 (jeweils einschließlich) vergeben wurde. Verwende dazu die bereitgestellte .csv - Datei (../data/names.csv)"
   ]
  },
  {
   "cell_type": "code",
   "execution_count": 17,
   "metadata": {
    "scrolled": true
   },
   "outputs": [
    {
     "name": "stdout",
     "output_type": "stream",
     "text": [
      "['1950', '1951', '1952', '1953', '1954', '1955', '1956', '1957', '1958', '1959', '1960', '1961', '1962', '1963', '1964', '1965', '1966', '1967', '1968', '1969', '1970', '1971', '1972', '1973', '1974', '1975', '1976', '1977', '1978', '1979', '1980', '1981', '1982', '1983', '1984', '1985', '1986', '1987', '1988', '1989', '1990', '1991', '1992', '1993', '1994', '1995', '1996', '1997', '1998', '1999', '2000']\n",
      "\n",
      "[57, 55, 50, 53, 49, 53, 50, 68, 59, 55, 63, 70, 55, 64, 63, 53, 64, 63, 65, 44, 69, 47, 45, 63, 60, 73, 56, 62, 40, 58, 78, 81, 77, 84, 97, 146, 144, 269, 239, 273, 337, 284, 323, 310, 261, 250, 234, 250, 285, 296, 341]\n",
      "\n"
     ]
    }
   ],
   "source": [
    "name = \"Max\"\n",
    "gender = \"M\"\n",
    "state = \"CA\"\n",
    "\n",
    "xa = []\n",
    "ya = []\n",
    "\n",
    "# Daten sammeln\n",
    "with open(\"../daten/names.csv\", \"r\") as file:\n",
    "    for line in file:\n",
    "        peopleCount = line.strip().split(\",\")\n",
    "        if peopleCount[2] == \"Year\":\n",
    "            continue\n",
    "        if peopleCount[1] == name and int(peopleCount[2]) >= 1950 and int(peopleCount[2]) <= 2000 and peopleCount[3] == gender and peopleCount[4] == state:\n",
    "            xa.append(peopleCount[2])\n",
    "            ya.append(int(peopleCount[5]))\n",
    "print(xa)\n",
    "print()\n",
    "print(ya)\n",
    "print()"
   ]
  },
  {
   "cell_type": "markdown",
   "metadata": {},
   "source": [
    "## Darstellung"
   ]
  },
  {
   "cell_type": "code",
   "execution_count": 13,
   "metadata": {},
   "outputs": [
    {
     "data": {
      "image/png": "[encoded data removed]",
      "text/plain": [
       "<Figure size 432x288 with 1 Axes>"
      ]
     },
     "metadata": {
      "needs_background": "light"
     },
     "output_type": "display_data"
    }
   ],
   "source": [
    "%matplotlib inline\n",
    "import matplotlib.pyplot as plt\n",
    "plt.plot(xa, ya)\n",
    "plt.show()"
   ]
  },
  {
   "cell_type": "code",
   "execution_count": 18,
   "metadata": {},
   "outputs": [
    {
     "name": "stdout",
     "output_type": "stream",
     "text": [
      "In California between 1950 and 2000 were 6385 Max's born!\n"
     ]
    }
   ],
   "source": [
    "print(\"In California between 1950 and 2000 were \" + str(sum(ya)) + \" Max's born!\")"
   ]
  },
  {
   "cell_type": "code",
   "execution_count": null,
   "metadata": {},
   "outputs": [],
   "source": []
  }
 ],
 "metadata": {
  "kernelspec": {
   "display_name": "Python 3",
   "language": "python",
   "name": "python3"
  },
  "language_info": {
   "codemirror_mode": {
    "name": "ipython",
    "version": 3
   },
   "file_extension": ".py",
   "mimetype": "text/x-python",
   "name": "python",
   "nbconvert_exporter": "python",
   "pygments_lexer": "ipython3",
   "version": "3.8.5"
  }
 },
 "nbformat": 4,
 "nbformat_minor": 4
}
