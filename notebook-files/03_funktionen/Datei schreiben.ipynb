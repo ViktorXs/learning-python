{
 "cells": [
  {
   "cell_type": "markdown",
   "metadata": {},
   "source": [
    "# <code>.write()</code>"
   ]
  },
  {
   "cell_type": "code",
   "execution_count": 48,
   "metadata": {},
   "outputs": [],
   "source": [
    "file = open(\"schreiben.txt\", \"w\")     # \"w\" Schreibberechtigung\n",
    "\n",
    "file.write(\"Rotzfrech reingeschrieben!\\n\")     # Zeilenumbruch mit \"\\n\" für die nächste Zeile\n",
    "file.write(\"Katastrophe!\")\n",
    "\n",
    "file.close()"
   ]
  },
  {
   "cell_type": "markdown",
   "metadata": {},
   "source": [
    "### Liste schreiben"
   ]
  },
  {
   "cell_type": "code",
   "execution_count": 43,
   "metadata": {},
   "outputs": [],
   "source": [
    "file = open(\"schreiben.txt\", \"w\")     # \"w\" Schreibberechtigung\n",
    "\n",
    "individuals = [\"Hans\", \"Franz\", \"Klaus\", \"Peter\", \"Olaf\", \"Günther\"]\n",
    "\n",
    "for individual in individuals:\n",
    "    file.write(individual + \"\\n\")\n",
    "\n",
    "file.close()"
   ]
  },
  {
   "cell_type": "markdown",
   "metadata": {},
   "source": [
    "### Inhalt hinzufügen mit <code>\"a\"</code>-append"
   ]
  },
  {
   "cell_type": "code",
   "execution_count": 45,
   "metadata": {},
   "outputs": [],
   "source": [
    "file = open(\"schreiben.txt\", \"a\")     # \"a\" Statt überschreiben, Daten anhängen.\n",
    "\n",
    "individuals = [\"Hans\", \"Franz\", \"Klaus\", \"Peter\", \"Olaf\", \"Günther\"]\n",
    "\n",
    "for individual in individuals:\n",
    "    file.write(individual + \"\\n\")\n",
    "\n",
    "file.close()"
   ]
  },
  {
   "cell_type": "markdown",
   "metadata": {},
   "source": [
    "## Check:"
   ]
  },
  {
   "cell_type": "code",
   "execution_count": 2,
   "metadata": {},
   "outputs": [
    {
     "name": "stdout",
     "output_type": "stream",
     "text": [
      "Rotzfrech reingeschrieben!\n",
      "Katastrophe!Hans\n",
      "Franz\n",
      "Klaus\n",
      "Peter\n",
      "Olaf\n",
      "Günther\n"
     ]
    }
   ],
   "source": [
    "file = open(\"schreiben.txt\", \"r\")     # \"r\" = Leseberechtigung\n",
    "for line in file:\n",
    "    print(line.strip())     # Funktion .strip entfernt unnötige Zeilenumbrüche und Symbole\n",
    "file.close()"
   ]
  },
  {
   "cell_type": "code",
   "execution_count": null,
   "metadata": {},
   "outputs": [],
   "source": []
  }
 ],
 "metadata": {
  "kernelspec": {
   "display_name": "Python 3",
   "language": "python",
   "name": "python3"
  },
  "language_info": {
   "codemirror_mode": {
    "name": "ipython",
    "version": 3
   },
   "file_extension": ".py",
   "mimetype": "text/x-python",
   "name": "python",
   "nbconvert_exporter": "python",
   "pygments_lexer": "ipython3",
   "version": "3.8.5"
  }
 },
 "nbformat": 4,
 "nbformat_minor": 4
}
