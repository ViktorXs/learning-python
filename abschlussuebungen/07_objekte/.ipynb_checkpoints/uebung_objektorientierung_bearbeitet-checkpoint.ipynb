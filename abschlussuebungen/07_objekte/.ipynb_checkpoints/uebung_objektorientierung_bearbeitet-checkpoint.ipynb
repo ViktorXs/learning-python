{
 "cells": [
  {
   "cell_type": "markdown",
   "metadata": {},
   "source": [
    "# Übung: Objektorientierte Programmierung\n",
    "\n",
    "Anbei findest du ein paar Aufgaben zum Programmieren. Viel Spaß dabei! :)\n",
    "\n",
    "Wenn du mit diesem Übungsblatt fertig bist, kannst du deine Lösung mit der Musterlösung in Textform (Datei: `Uebung Objektorientierung (Musterloesung)`) vergleichen. \n",
    "\n",
    "Die Video-Musterlösung (in der nächsten Lektion) ist besonders ausführlich gehalten. Wenn du alles richtig gelöst hast, ist es vollkommen okay, wenn du diese Lektion dann überspringst."
   ]
  },
  {
   "cell_type": "markdown",
   "metadata": {},
   "source": [
    "## Aufgabe 1: Modelliere einen Würfel"
   ]
  },
  {
   "cell_type": "markdown",
   "metadata": {},
   "source": [
    "Erstelle eine Klasse _Cube_, mit der du einen Würfel modellierst! Die Würfel-Klasse soll als Eigenschaft die Länge einer Würfel-Seite besitzen. Darüber hinaus soll die Klasse auch zwei Methoden haben: die Methode `volume()` berechnet das Volumen und gibt es aus, die Methode `surface()` berechnet die Oberfläche und gibt sie aus."
   ]
  },
  {
   "cell_type": "markdown",
   "metadata": {},
   "source": [
    "### Gegeben:"
   ]
  },
  {
   "cell_type": "code",
   "execution_count": 38,
   "metadata": {},
   "outputs": [
    {
     "name": "stdout",
     "output_type": "stream",
     "text": [
      "Ergebnis:\n",
      "54\n",
      "27\n"
     ]
    }
   ],
   "source": [
    "class Cube():\n",
    "    # Ergänze hier deinen Code\n",
    "        \n",
    "\n",
    "# danach erzeugen wir eine Instanz deiner Cube-Klasse \n",
    "a = Cube(3)\n",
    "\n",
    "# und testen die Methoden\n",
    "a.surface()\n",
    "a.volume()"
   ]
  },
  {
   "cell_type": "markdown",
   "metadata": {},
   "source": [
    "## Erwartete Ausgabe:\n",
    "\n",
    "```\n",
    "54\n",
    "27\n",
    "```"
   ]
  },
  {
   "cell_type": "markdown",
   "metadata": {},
   "source": [
    "### Meine Notizen\n",
    "Volumen: <code>V = a³</code><br>\n",
    "Oberfläche: <code>A = 6 * a²</code>"
   ]
  },
  {
   "cell_type": "markdown",
   "metadata": {},
   "source": [
    "### Mein Lösungsweg:"
   ]
  },
  {
   "cell_type": "code",
   "execution_count": 35,
   "metadata": {
    "scrolled": true
   },
   "outputs": [
    {
     "name": "stdout",
     "output_type": "stream",
     "text": [
      "Ergebnis:\n",
      "54\n",
      "27\n",
      "\n",
      "59.21762640653615\n",
      "31.006276680299816\n",
      "\n",
      "10584\n",
      "74088\n"
     ]
    }
   ],
   "source": [
    "class Cube():\n",
    "    # Ergänze hier deinen Code\n",
    "    def __init__(self, length):\n",
    "        self.length = length\n",
    "    def volume(self):\n",
    "        volume = self.length ** 3\n",
    "        print(volume)\n",
    "    def surface(self):\n",
    "        surface = self.length ** 2 * 6\n",
    "        print(surface)\n",
    "\n",
    "# danach erzeugen wir eine Instanz deiner Cube-Klasse \n",
    "a = Cube(3)\n",
    "b = Cube(math.pi)\n",
    "c = Cube(42)\n",
    "\n",
    "# und testen die Methoden\n",
    "print(\"Ergebnis:\")\n",
    "a.surface()\n",
    "a.volume()\n",
    "print()\n",
    "b.surface()\n",
    "b.volume()\n",
    "print()\n",
    "c.surface()\n",
    "c.volume()"
   ]
  },
  {
   "cell_type": "markdown",
   "metadata": {},
   "source": [
    "## Aufgabe 2: Modelliere ein Kugel"
   ]
  },
  {
   "cell_type": "markdown",
   "metadata": {},
   "source": [
    "Die Kugel-Klasse soll als Eigenschaft den Radius übergeben bekommen. Zudem soll sie - ähnlich wie der Würfel - zwei Methoden haben: `surface()` um den Oberflächeninhalt zu berechnen, `volume()` um das Volumen zu berechnen.\n",
    "\n",
    "Damit du diese Berechnungen durchführen kannst, benötigst du die Kreiszahl Pi. Diese steht dir nach einem `import math` unter `math.pi` zur Verfügung (was der `import` - Befehl genau macht, schauen wir uns noch später im Kurs an).\n",
    "\n",
    "Die Formeln für den Oberflächeninhalt / das Volumen einer Kugel darfst du im Internet nachgucken."
   ]
  },
  {
   "cell_type": "markdown",
   "metadata": {},
   "source": [
    "### Gegeben:"
   ]
  },
  {
   "cell_type": "code",
   "execution_count": 116,
   "metadata": {},
   "outputs": [
    {
     "name": "stdout",
     "output_type": "stream",
     "text": [
      "3.141592653589793\n"
     ]
    }
   ],
   "source": [
    "import math\n",
    "print(math.pi)"
   ]
  },
  {
   "cell_type": "code",
   "execution_count": null,
   "metadata": {},
   "outputs": [],
   "source": [
    "import math\n",
    "\n",
    "class Ball():\n",
    "    # Ergänze hier deinen Code\n",
    "        \n",
    "\n",
    "b = Ball(4)\n",
    "b.surface()\n",
    "b.volume()"
   ]
  },
  {
   "cell_type": "markdown",
   "metadata": {},
   "source": [
    "### Meine Notizen\n",
    "Volumen: <code>V = 4/3 * Pi * r³</code><br>\n",
    "Oberfläche: <code>A = 4 * Pi * r²</code>"
   ]
  },
  {
   "cell_type": "markdown",
   "metadata": {},
   "source": [
    "### Mein Lösungsweg:"
   ]
  },
  {
   "cell_type": "code",
   "execution_count": 39,
   "metadata": {},
   "outputs": [
    {
     "name": "stdout",
     "output_type": "stream",
     "text": [
      "Surface:\n",
      "201.06192982974676\n",
      "\n",
      "Volume:\n",
      "268.082573106329\n"
     ]
    }
   ],
   "source": [
    "import math\n",
    "\n",
    "class Ball():\n",
    "    # Ergänze hier deinen Code\n",
    "    def __init__(self, radius):\n",
    "        self.radius = radius\n",
    "\n",
    "    def surface(self):\n",
    "        surface = self.radius ** 2 * math.pi * 4\n",
    "        print(surface)\n",
    "\n",
    "    def volume(self):\n",
    "        volume = self.radius ** 3 * math.pi * 4 / 3\n",
    "        print(volume)\n",
    "\n",
    "b = Ball(4)\n",
    "\n",
    "print(\"Surface:\")\n",
    "b.surface()\n",
    "\n",
    "print(\"\\nVolume:\")\n",
    "b.volume()"
   ]
  },
  {
   "cell_type": "markdown",
   "metadata": {},
   "source": [
    "## Erwartete Ausgabe<br>\n",
    "es reicht, wenn die Zahlenwerte auf ein paar Nachkommastellen genau sind:\n",
    "\n",
    "```\n",
    "201.06192982974676\n",
    "268.082573106329\n",
    "```"
   ]
  },
  {
   "cell_type": "markdown",
   "metadata": {},
   "source": [
    "### Weitere Experimente:"
   ]
  },
  {
   "cell_type": "code",
   "execution_count": 44,
   "metadata": {},
   "outputs": [
    {
     "name": "stdout",
     "output_type": "stream",
     "text": [
      "Surface:\n",
      "8\n",
      "100.53096491487338\n",
      "\n",
      "Volume:\n",
      "268.082573106329\n"
     ]
    }
   ],
   "source": [
    "# Weitere Experimente\n",
    "import math\n",
    "\n",
    "class Ball():\n",
    "    # Ergänze hier deinen Code\n",
    "    def __init__(self, radius):\n",
    "        self.radius = radius\n",
    "\n",
    "    def diameter(self):  # Mit Durchmesser rechnen.\n",
    "        diameter = self.radius * 2\n",
    "        print(self.radius * 2)\n",
    "        return diameter\n",
    "\n",
    "    def surface(self):\n",
    "        surface = self.diameter() * math.pi * 4\n",
    "        print(surface)\n",
    "\n",
    "    def volume(self):\n",
    "        volume = self.radius ** 3 * math.pi * 4 / 3\n",
    "        print(volume)\n",
    "\n",
    "b = Ball(4)\n",
    "\n",
    "print(\"Surface:\")\n",
    "b.surface()\n",
    "\n",
    "print(\"\\nVolume:\")\n",
    "b.volume()"
   ]
  },
  {
   "cell_type": "markdown",
   "metadata": {},
   "source": [
    "## Aufgabe 3: Modelliere ein Konto\n",
    "\n",
    "**a.)**\n",
    "\n",
    "Erstelle die Konto-Klasse _Account_ mit der Eigenschaft Kontostand _credits_! Diese Eigenschaft wird mit einem Startkapital initialisiert. Die Methode `display()` soll den aktuellen Kontostand ausgeben. "
   ]
  },
  {
   "cell_type": "markdown",
   "metadata": {},
   "source": [
    "### Gegeben:"
   ]
  },
  {
   "cell_type": "code",
   "execution_count": 8,
   "metadata": {},
   "outputs": [
    {
     "name": "stdout",
     "output_type": "stream",
     "text": [
      "500\n"
     ]
    }
   ],
   "source": [
    "class Account():\n",
    "    # Ergänze hier deinen Code\n",
    "        \n",
    "Kunde111 = Account(500)\n",
    "Kunde111.display()"
   ]
  },
  {
   "cell_type": "markdown",
   "metadata": {},
   "source": [
    "### Mein Lösungsweg:"
   ]
  },
  {
   "cell_type": "code",
   "execution_count": 72,
   "metadata": {},
   "outputs": [
    {
     "name": "stdout",
     "output_type": "stream",
     "text": [
      "500\n"
     ]
    }
   ],
   "source": [
    "class Account():\n",
    "    def __init__(self, credits):\n",
    "        self.credits = credits\n",
    "\n",
    "    def display(self):\n",
    "        print(self.credits)\n",
    "        \n",
    "Kunde111 = Account(500)\n",
    "Kunde111.display()\n"
   ]
  },
  {
   "cell_type": "markdown",
   "metadata": {},
   "source": [
    "## Erwartete Ausgabe:\n",
    "\n",
    "```\n",
    "500\n",
    "```"
   ]
  },
  {
   "cell_type": "markdown",
   "metadata": {},
   "source": [
    "**b.)**\n",
    "\n",
    "Ergänze die Klasse _Account_ um zwei Methoden (`pay_in()` zum Einzahlen, `withdraw()` zum Abheben), so dass du Geldbeträge einzahlen und abbuchen kannst, und der Kontostand entsprechend angepasst wird. \n",
    "\n",
    "Du sollst nur Geld abheben können, so lange auch Geld auf dem Konto ist. Ein Dispo-Kredit wird nicht gewährt. In dem Fall soll eine Fehlermeldung ausgegeben werden, in der steht, wieviel Geld maximal abgebucht werden kann."
   ]
  },
  {
   "cell_type": "markdown",
   "metadata": {},
   "source": [
    "### Gegeben:"
   ]
  },
  {
   "cell_type": "code",
   "execution_count": 9,
   "metadata": {},
   "outputs": [
    {
     "name": "stdout",
     "output_type": "stream",
     "text": [
      "500\n",
      "540\n",
      "515\n",
      "Du kannst nur noch 515€ abheben!\n"
     ]
    }
   ],
   "source": [
    "class Account():\n",
    "    \n",
    "    # Ergänze hier deinen Code. Du darfst den Code aus a) \n",
    "    # natürlich hierhin übernehmen.\n",
    "    \n",
    "        \n",
    "Kunde111 = Account(500)\n",
    "Kunde111.display()\n",
    "Kunde111.pay_in(40)\n",
    "Kunde111.display()\n",
    "Kunde111.withdraw(25)\n",
    "Kunde111.display()\n",
    "Kunde111.withdraw(600)"
   ]
  },
  {
   "cell_type": "markdown",
   "metadata": {},
   "source": [
    "### Mein Lösungsweg"
   ]
  },
  {
   "cell_type": "code",
   "execution_count": 40,
   "metadata": {
    "scrolled": true
   },
   "outputs": [
    {
     "name": "stdout",
     "output_type": "stream",
     "text": [
      "500\n",
      "540\n",
      "490\n",
      "690\n",
      "Transaktion abgebrochen! Ihr Guthaben von 690€ reicht für die Abbuchung von 950€ nicht aus!\n",
      "690\n"
     ]
    }
   ],
   "source": [
    "class Account():\n",
    "    def __init__(self, credits):\n",
    "        self.credits = credits\n",
    "\n",
    "    def display(self):\n",
    "        print(self.credits)\n",
    "\n",
    "    def pay_in(self, cash):\n",
    "        self.credits = self.credits + cash\n",
    "\n",
    "    def withdraw(self, cash):\n",
    "        if self.credits >= cash:\n",
    "            self.credits -= cash\n",
    "            return  # Statt else\n",
    "\n",
    "        print(\"Transaktion abgebrochen! Ihr Guthaben von \" + str(self.credits) + \"€ reicht für die Abbuchung von \" + str(cash) + \"€ nicht aus!\")\n",
    "\n",
    "Kunde111 = Account(500)\n",
    "Kunde111.display()\n",
    "Kunde111.pay_in(40)\n",
    "Kunde111.display()\n",
    "Kunde111.withdraw(50)\n",
    "Kunde111.display()\n",
    "Kunde111.pay_in(200)\n",
    "Kunde111.display()\n",
    "Kunde111.withdraw(950)\n",
    "Kunde111.display()"
   ]
  },
  {
   "cell_type": "markdown",
   "metadata": {},
   "source": [
    "## Erwartete Ausgabe:\n",
    "\n",
    "```\n",
    "500\n",
    "540\n",
    "515\n",
    "Du kannst nur noch 515€ abheben!\n",
    "```"
   ]
  },
  {
   "cell_type": "markdown",
   "metadata": {},
   "source": [
    "**c.)**\n",
    "\n",
    "Bislang ist das Konto noch ungeschützt - wir brauchen eine PIN! Ergänze in der Klasse die Eigenschaft _pin_! So wie mit dem Startkapital soll das Konto auch mit einer PIN initialisiert werden.\n",
    "\n",
    "Von nun an muss man beim Geldabheben nicht nur den Betrag, sondern auch die PIN angeben: Nur wenn die PIN mit der des Kontos übereinstimmt, kann auch Geld abgebucht werden, ansonsten kommt es zu einer Fehlermeldung!"
   ]
  },
  {
   "cell_type": "markdown",
   "metadata": {},
   "source": [
    "## Gegeben:"
   ]
  },
  {
   "cell_type": "code",
   "execution_count": 11,
   "metadata": {},
   "outputs": [
    {
     "name": "stdout",
     "output_type": "stream",
     "text": [
      "500\n",
      "540\n",
      "515\n",
      "Falsche PIN! Konto gesperrt! Du bist verhaftet! Hände hoch!\n"
     ]
    }
   ],
   "source": [
    "class Account():\n",
    "    # Ergänze hier deinen Code. Du darfst den Code aus b) \n",
    "    # natürlich hierhin übernehmen.\n",
    "    \n",
    "        \n",
    "Kunde111 = Account(500, \"1234\")\n",
    "Kunde111.display()\n",
    "Kunde111.pay_in(40)\n",
    "Kunde111.display()\n",
    "Kunde111.withdraw(25, \"1234\")\n",
    "Kunde111.display()\n",
    "Kunde111.withdraw(600, \"12345\")"
   ]
  },
  {
   "cell_type": "markdown",
   "metadata": {},
   "source": [
    "### Mein Lösungsweg:\n",
    "Mit Unterstützung von Majk."
   ]
  },
  {
   "cell_type": "code",
   "execution_count": 89,
   "metadata": {
    "scrolled": true
   },
   "outputs": [
    {
     "name": "stdout",
     "output_type": "stream",
     "text": [
      "500\n",
      "375\n",
      "275\n",
      "PIN Eingabe inkorrekt! Transaktion abgebrochen.\n",
      "275\n"
     ]
    }
   ],
   "source": [
    "class Account():\n",
    "    def __init__(self, credits, pin):\n",
    "        self.credits = credits\n",
    "        self.pin = pin\n",
    "\n",
    "    def display(self):\n",
    "        print(self.credits)\n",
    "\n",
    "    def pay_in(self, cash):\n",
    "        self.credits = self.credits + cash\n",
    "\n",
    "    def withdraw(self, cash, pin):\n",
    "        if pin != self.pin:\n",
    "            print(\"PIN Eingabe inkorrekt! Transaktion abgebrochen.\")\n",
    "            return  # Statt else, in der if nach der 'fehlerhaften' Pin-Eingabe warten und mit return beenden.\n",
    "        \n",
    "        if self.credits >= cash:\n",
    "            self.credits -= cash\n",
    "            return\n",
    "            \n",
    "        print(\"Transaktion nicht möglich! Ihr Guthaben von \" + str(self.credits) + \"€ reicht nicht aus!\")\n",
    "\n",
    "Kunde_0001 = Account(500, \"1337\")\n",
    "Kunde_0001.display()\n",
    "Kunde_0001.pay_in(50)\n",
    "Kunde_0001.withdraw(175, \"1337\")\n",
    "Kunde_0001.display()\n",
    "Kunde_0001.withdraw(100, \"1337\")\n",
    "Kunde_0001.display()\n",
    "Kunde_0001.withdraw(800, \"1234\")\n",
    "Kunde_0001.display()"
   ]
  },
  {
   "cell_type": "markdown",
   "metadata": {},
   "source": [
    "## Erwartete Ausgabe:\n",
    "\n",
    "```\n",
    "500\n",
    "540\n",
    "515\n",
    "Falsche PIN! Konto gesperrt! Du bist verhaftet! Hände hoch!\n",
    "```"
   ]
  },
  {
   "cell_type": "markdown",
   "metadata": {},
   "source": [
    "### Aufgabe 4: Modelliere einen Zug\n",
    "\n",
    "\n",
    "**a.)**\n",
    "\n",
    "Jetzt wirst du Zugobjekte bauen! Erstelle die Klasse _Train_, die mit den Eigenschaften _route_ und _position_ initialisiert wird! Bei _route_ handelt es sich um eine Liste mit den Haltebahnhöfen des Zuges. _position_ steht für den Index des Bahnhofs aus der Liste, an dem sich der Zug gerade befindet.<br>\n",
    "Mit der Methode `show_station()` soll der Name dieses Bahnhofs ausgegeben werden."
   ]
  },
  {
   "cell_type": "markdown",
   "metadata": {},
   "source": [
    "## Gegeben:"
   ]
  },
  {
   "cell_type": "code",
   "execution_count": 12,
   "metadata": {},
   "outputs": [
    {
     "name": "stdout",
     "output_type": "stream",
     "text": [
      "Paris\n"
     ]
    }
   ],
   "source": [
    "class Train():\n",
    "    # Ergänze hier deinen Code\n",
    "    \n",
    "orientexpress = Train([\"Paris\", \"Budapest\", \"Bukarest\", \"Istanbul\"], 0)\n",
    "orientexpress.show_station()"
   ]
  },
  {
   "cell_type": "markdown",
   "metadata": {},
   "source": [
    "### Mein Lösungsweg:\n",
    "Mit Musterlösung gelöst ab <code>def show_station</code>. Das ist wieder so simpel, dass es für mich schwer war so einfach zu denken ^^"
   ]
  },
  {
   "cell_type": "code",
   "execution_count": 4,
   "metadata": {},
   "outputs": [
    {
     "name": "stdout",
     "output_type": "stream",
     "text": [
      "Paris\n",
      "Sagittarius A\n"
     ]
    }
   ],
   "source": [
    "class Train():\n",
    "    def __init__(self, route, position):\n",
    "        self.route = route\n",
    "        self.position = position\n",
    "\n",
    "    def show_station(self):\n",
    "        print(self.route[self.position])  # Gelöst wie in \"Übung 2 Auf Listen zugreifen\" mit den eckigen Klammern.\n",
    "        \n",
    "orientexpress = Train([\"Paris\", \"Budapest\", \"Bukarest\", \"Istanbul\"], 0)\n",
    "orientexpress.show_station()\n",
    "\n",
    "irgendwohin = Train([\"Rotenburg(Wümme)\", \"Mond\", \"Neptun\", \"Sagittarius A\"], 3)\n",
    "irgendwohin.show_station()"
   ]
  },
  {
   "cell_type": "markdown",
   "metadata": {},
   "source": [
    "## Erwartete Ausgabe:\n",
    "\n",
    "```\n",
    "Paris\n",
    "```\n"
   ]
  },
  {
   "cell_type": "markdown",
   "metadata": {},
   "source": [
    "**b.)**\n",
    "\n",
    "Bisher sitzt ein Zug der Klasse _Train_ noch in seinem Startbahnhof fest. Ergänze nun zwei Methoden `move()` und `move_back()`, mit denen man einen Zug auf seiner Route zur nächsten bzw. zur vorherigen Station bewegen kann, sofern es diese Station auf der Route gibt. Der Zug darf seine Route nicht verlassen!\n"
   ]
  },
  {
   "cell_type": "markdown",
   "metadata": {},
   "source": [
    "## Gegeben:"
   ]
  },
  {
   "cell_type": "code",
   "execution_count": 14,
   "metadata": {},
   "outputs": [
    {
     "name": "stdout",
     "output_type": "stream",
     "text": [
      "Paris\n",
      "Budapest\n",
      "Bukarest\n",
      "Istanbul\n",
      "Endstation! Alle aussteigen!\n",
      "Bukarest\n"
     ]
    }
   ],
   "source": [
    "class Train():\n",
    "    \n",
    "    # Ergänze hier deinen Code. Du darfst natürlich deinen Code aus\n",
    "    # Teilaufgabe a) hierhin übernehmen.\n",
    "            \n",
    "orientexpress = Train([\"Paris\", \"Budapest\", \"Bukarest\", \"Istanbul\"], 0)\n",
    "orientexpress.show_station()\n",
    "orientexpress.move()\n",
    "orientexpress.show_station()\n",
    "orientexpress.move()\n",
    "orientexpress.show_station()\n",
    "orientexpress.move()\n",
    "orientexpress.show_station()\n",
    "orientexpress.move()\n",
    "orientexpress.move_back()\n",
    "orientexpress.show_station()"
   ]
  },
  {
   "cell_type": "markdown",
   "metadata": {},
   "source": [
    "### Mein Lösungsweg"
   ]
  },
  {
   "cell_type": "code",
   "execution_count": 37,
   "metadata": {},
   "outputs": [
    {
     "name": "stdout",
     "output_type": "stream",
     "text": [
      "Paris\n",
      "Budapest\n",
      "Bukarest\n",
      "Istanbul\n",
      "Endstation! Alle aussteigen!\n",
      "Bukarest\n"
     ]
    }
   ],
   "source": [
    "class Train():\n",
    "    def __init__(self, route, position):\n",
    "        self.route = route\n",
    "        self.position = position\n",
    "\n",
    "    def show_station(self):\n",
    "        print(self.route[self.position])\n",
    "    \n",
    "    def move(self):\n",
    "        if self.position < len(self.route) - 1:\n",
    "            self.position += 1\n",
    "        else:\n",
    "            print(\"Endstation! Alle aussteigen!\")    \n",
    "    \n",
    "    def move_back(self):\n",
    "        if self.position != 0:\n",
    "            self.position -= 1\n",
    "        \n",
    "orientexpress = Train([\"Paris\", \"Budapest\", \"Bukarest\", \"Istanbul\"], 0)\n",
    "orientexpress.show_station()\n",
    "orientexpress.move()\n",
    "orientexpress.show_station()\n",
    "orientexpress.move()\n",
    "orientexpress.show_station()\n",
    "orientexpress.move()\n",
    "orientexpress.show_station()\n",
    "orientexpress.move()\n",
    "orientexpress.move_back()\n",
    "orientexpress.show_station()"
   ]
  },
  {
   "cell_type": "markdown",
   "metadata": {},
   "source": [
    "## Erwartete Ausgabe:\n",
    "\n",
    "```\n",
    "Paris\n",
    "Budapest\n",
    "Bukarest\n",
    "Istanbul\n",
    "Endstation! Alle aussteigen!\n",
    "Bukarest\n",
    "```"
   ]
  },
  {
   "cell_type": "markdown",
   "metadata": {},
   "source": [
    "### Übung"
   ]
  },
  {
   "cell_type": "code",
   "execution_count": 41,
   "metadata": {},
   "outputs": [
    {
     "name": "stdout",
     "output_type": "stream",
     "text": [
      "Rotenburg(Wümme)\n",
      "Mond\n",
      "Neptun\n",
      "Sagittarius A\n",
      "Andromeda\n",
      "Well, we've reached the End of the 'World' we know.\n",
      "The Matrix\n"
     ]
    }
   ],
   "source": [
    "class X_Wing:\n",
    "    def __init__(self, location, loc_id):\n",
    "        self.location = location\n",
    "        self.loc_id = loc_id\n",
    "    \n",
    "    def show_station(self):\n",
    "        print(self.location[self.loc_id])\n",
    "        \n",
    "    def fly(self):\n",
    "        if self.loc_id < len(self.location) - 1:  # Evtl. geht das auch mit list comprehension?\n",
    "            self.loc_id += 1\n",
    "        else:\n",
    "            print(\"Well, we've reached the End of the 'World' we know.\")\n",
    "    \n",
    "    def fly_back(self):\n",
    "        if self.loc_id > 0:\n",
    "            self.loc_id += 1\n",
    "        \n",
    "\n",
    "spacecruise = X_Wing([\"Rotenburg(Wümme)\", \"Mond\", \"Neptun\", \"Sagittarius A\", \"Andromeda\", \"Outer Space\", \"The Matrix\"], 0)\n",
    "spacecruise.show_station()\n",
    "spacecruise.fly()\n",
    "spacecruise.show_station()\n",
    "spacecruise.fly_back()\n",
    "spacecruise.show_station()\n",
    "spacecruise.fly()\n",
    "spacecruise.show_station()\n",
    "spacecruise.fly()\n",
    "spacecruise.show_station()\n",
    "spacecruise.fly()\n",
    "spacecruise.fly()\n",
    "spacecruise.fly()\n",
    "spacecruise.show_station()"
   ]
  },
  {
   "cell_type": "markdown",
   "metadata": {},
   "source": [
    "**c.)**\n",
    "\n",
    "Die Route soll nachträglich bearbeitet werden können, indem man mit einer Methode `bypass_station()` einen anzugebenden Haltebahnhof von der Route entfernt. Der Zug soll dann sicherheitshalber an den Start der Route versetzt werden, sofern er sich nicht schon dort befindet.\n",
    "\n",
    "**Tipp:** Erinnere dich an die Methoden für Listen! :-)"
   ]
  },
  {
   "cell_type": "markdown",
   "metadata": {},
   "source": [
    "## Gegeben:"
   ]
  },
  {
   "cell_type": "code",
   "execution_count": 15,
   "metadata": {},
   "outputs": [
    {
     "name": "stdout",
     "output_type": "stream",
     "text": [
      "Bukarest\n"
     ]
    }
   ],
   "source": [
    "class Train():\n",
    "    \n",
    "    # Ergänze hier deinen Code. Du darfst natürlich deinen Code aus\n",
    "    # Teilaufgabe b) hierhin übernehmen.\n",
    "    \n",
    "            \n",
    "orientexpress = Train([\"Paris\", \"Budapest\", \"Bukarest\", \"Istanbul\"], 0)\n",
    "orientexpress.bypass_station(\"Budapest\")\n",
    "orientexpress.move()\n",
    "orientexpress.show_station()"
   ]
  },
  {
   "cell_type": "markdown",
   "metadata": {},
   "source": [
    "### Mein Lösungsweg:"
   ]
  },
  {
   "cell_type": "code",
   "execution_count": 4,
   "metadata": {},
   "outputs": [
    {
     "name": "stdout",
     "output_type": "stream",
     "text": [
      "Budapest\n"
     ]
    }
   ],
   "source": [
    "class Train():\n",
    "    def __init__(self, route, position):\n",
    "        self.route = route\n",
    "        self.position = position\n",
    "        \n",
    "    def show_station(self):\n",
    "        print(self.route[self.position])\n",
    "    \n",
    "    def bypass_station(self, bypass):\n",
    "        # self.route[self.position] = bypass\n",
    "        if bypass in self.route:\n",
    "            self.route.remove(bypass)\n",
    "            self.position = 0  # Hätte ja -= 1 gemacht, weil er meint ja: \"an den Start der Route setzen.\", aber das Ergebnis ergebe nicht der erwarteten Ausgabe.\n",
    "        print(self.route)\n",
    "    \n",
    "    def move(self):\n",
    "        if self.position < len(self.route) - 1:\n",
    "            self.position += 1\n",
    "        else:\n",
    "            print(\"Endstation! Alle aussteigen!\")    \n",
    "    \n",
    "    def move_back(self):\n",
    "        if self.position != 0:\n",
    "            self.position -= 1\n",
    "        \n",
    "orientexpress = Train([\"Paris\", \"Budapest\", \"Bukarest\", \"Istanbul\"], 1)\n",
    "orientexpress.bypass_station(\"Budapest\")\n",
    "orientexpress.show_station()"
   ]
  },
  {
   "cell_type": "markdown",
   "metadata": {},
   "source": [
    "## Erwartete Ausgabe:\n",
    "\n",
    "```\n",
    "Bukarest\n",
    "```"
   ]
  },
  {
   "cell_type": "markdown",
   "metadata": {},
   "source": [
    "#### Gut gemacht :-) "
   ]
  }
 ],
 "metadata": {
  "kernelspec": {
   "display_name": "Python 3",
   "language": "python",
   "name": "python3"
  },
  "language_info": {
   "codemirror_mode": {
    "name": "ipython",
    "version": 3
   },
   "file_extension": ".py",
   "mimetype": "text/x-python",
   "name": "python",
   "nbconvert_exporter": "python",
   "pygments_lexer": "ipython3",
   "version": "3.8.5"
  }
 },
 "nbformat": 4,
 "nbformat_minor": 2
}
