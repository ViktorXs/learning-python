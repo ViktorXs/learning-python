{
 "cells": [
  {
   "cell_type": "markdown",
   "metadata": {},
   "source": [
    "# Kommentare in Python\n",
    "\n",
    "Kommentare in Python verwenden"
   ]
  },
  {
   "cell_type": "code",
   "execution_count": 2,
   "metadata": {},
   "outputs": [
    {
     "name": "stdout",
     "output_type": "stream",
     "text": [
      "Hello Mercury\n",
      "Hello Venus\n",
      "Hello Erde\n",
      "Hello Mars\n",
      "Hello Jupiter\n",
      "Hello Saturn\n",
      "Hello Neptun\n",
      "Hello Uranus\n",
      "Hello Pluto\n"
     ]
    }
   ],
   "source": [
    "print(\"Hello Mercury\")\n",
    "print(\"Hello Venus\")\n",
    "print(\"Hello Erde\")\n",
    "print(\"Hello Mars\")\n",
    "print(\"Hello Jupiter\")\n",
    "print(\"Hello Saturn\")\n",
    "print(\"Hello Neptune\")\n",
    "print(\"Hello Uranus\")\n",
    "print(\"Hello Pluto\")"
   ]
  },
  {
   "cell_type": "code",
   "execution_count": null,
   "metadata": {},
   "outputs": [],
   "source": []
  }
 ],
 "metadata": {
  "kernelspec": {
   "display_name": "Python 3",
   "language": "python",
   "name": "python3"
  },
  "language_info": {
   "codemirror_mode": {
    "name": "ipython",
    "version": 3
   },
   "file_extension": ".py",
   "mimetype": "text/x-python",
   "name": "python",
   "nbconvert_exporter": "python",
   "pygments_lexer": "ipython3",
   "version": "3.8.5"
  }
 },
 "nbformat": 4,
 "nbformat_minor": 4
}
