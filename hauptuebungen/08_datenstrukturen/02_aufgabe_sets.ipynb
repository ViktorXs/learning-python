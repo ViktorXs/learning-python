{
 "cells": [
  {
   "cell_type": "markdown",
   "metadata": {},
   "source": [
    "## Aufgabe: Sets\n",
    "\n",
    "Den Umgang mit einem Set möchten wir jetzt natürlich etwas üben. ;-)\n",
    "\n",
    "**Aufgabe:**\n",
    "\n",
    "Öffne die ../data/names.csv - Datei als .csv-Datei und berechne die Anzahl der verschiedenen Vornamen, die in dieser Datei aufgelistet sind!\n",
    "\n",
    "**Tipps:**\n",
    "\n",
    "- Die Dokumentation zum csv-Modul von Python findest du hier: https://docs.python.org/3.6/library/csv.html.\n",
    "- Verwende dazu ein Set. Damit geht das ganze ziemlich easy. :-)"
   ]
  },
  {
   "cell_type": "markdown",
   "metadata": {},
   "source": [
    "## Mein Lösungsversuch"
   ]
  },
  {
   "cell_type": "code",
   "execution_count": 3,
   "metadata": {},
   "outputs": [
    {
     "name": "stdout",
     "output_type": "stream",
     "text": [
      "['5647426', 'Waylon', '2014', 'M', 'WY', '5']\n",
      "1\n"
     ]
    }
   ],
   "source": [
    "import csv\n",
    "\n",
    "with open(\"../data/names.csv\", newline='') as file:\n",
    "    namereader = csv.reader(file, delimiter=',')\n",
    "    \n",
    "    for line in namereader:\n",
    "        if line[0] == \"Id\":\n",
    "            continue\n",
    "    \n",
    "    print(line)\n",
    "    \n",
    "    names = set()\n",
    "    names.add(line[1])\n",
    "    \n",
    "print(len(names))"
   ]
  },
  {
   "cell_type": "code",
   "execution_count": 2,
   "metadata": {},
   "outputs": [
    {
     "name": "stdout",
     "output_type": "stream",
     "text": [
      "0\n"
     ]
    }
   ],
   "source": [
    "import csv\n",
    "\n",
    "with open(\"../data/names.csv\", newline='') as file:\n",
    "    read_names = csv.reader(file, delimiter=',')\n",
    "    \n",
    "    for line in read_names:\n",
    "        if line[0] == \"Id\":\n",
    "            continue\n",
    "            \n",
    "    count = 0\n",
    "    names = set()\n",
    "    \n",
    "    if count != 0:\n",
    "        names.add(line)\n",
    "    count = count + 1\n",
    "    print(len(names))\n",
    "\n",
    "# QWRfvjhngupepgfnö<sgkfm argh!!"
   ]
  },
  {
   "cell_type": "markdown",
   "metadata": {},
   "source": [
    "## Nach Musterlösung"
   ]
  },
  {
   "cell_type": "code",
   "execution_count": 2,
   "metadata": {},
   "outputs": [
    {
     "name": "stdout",
     "output_type": "stream",
     "text": [
      "30274\n"
     ]
    }
   ],
   "source": [
    "import csv\n",
    "\n",
    "\n",
    "with open(\"../data/names.csv\", newline='') as file:\n",
    "    namereader = csv.reader(file, delimiter=',')\n",
    "    count = 0 # \"Zählvariable zum Feststellen ob ich in der ersten Zeile bin...\"\n",
    "    names = set()\n",
    "    \n",
    "    for line in namereader:\n",
    "        if count != 0: # \"Wenn wir nicht in der ersten Zeile sind...\"\n",
    "            names.add(line[1]) # [1] Um auf das zweite Element in der Zeile zuzugreifen.\n",
    "        count = count + 1\n",
    "print(len(names))\n"
   ]
  },
  {
   "cell_type": "markdown",
   "metadata": {},
   "source": [
    "## Neuer Lösungsversuch mit weiteren Ideen"
   ]
  },
  {
   "cell_type": "code",
   "execution_count": 3,
   "metadata": {},
   "outputs": [
    {
     "name": "stdout",
     "output_type": "stream",
     "text": [
      "30274\n"
     ]
    }
   ],
   "source": [
    "import csv\n",
    "\n",
    "\n",
    "class NameCounter():\n",
    "    file_path = \"../data/names.csv\"\n",
    "    try:\n",
    "        with open(file_path, newline=\"\") as file:\n",
    "            namereader = csv.reader(file, delimiter=\",\")\n",
    "            names = set()\n",
    "            counter = 0\n",
    "            \n",
    "            for line in namereader:\n",
    "                if counter != 0:\n",
    "                    names.add(line[1])\n",
    "                counter = counter + 1\n",
    "                \n",
    "            print(len(names))\n",
    "            \n",
    "    except FileNotFoundError:\n",
    "        print(\"No such file found! Check directory!\")\n"
   ]
  },
  {
   "cell_type": "code",
   "execution_count": null,
   "metadata": {},
   "outputs": [],
   "source": []
  }
 ],
 "metadata": {
  "kernelspec": {
   "display_name": "Python 3",
   "language": "python",
   "name": "python3"
  },
  "language_info": {
   "codemirror_mode": {
    "name": "ipython",
    "version": 3
   },
   "file_extension": ".py",
   "mimetype": "text/x-python",
   "name": "python",
   "nbconvert_exporter": "python",
   "pygments_lexer": "ipython3",
   "version": "3.8.5"
  }
 },
 "nbformat": 4,
 "nbformat_minor": 2
}
