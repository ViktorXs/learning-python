{
 "cells": [
  {
   "cell_type": "markdown",
   "metadata": {},
   "source": [
    "## Aufgabe: PriorityQueue\n",
    "\n",
    "\n",
    "Ermittle den 5.-häufigsten Vornamen, der in den USA vergeben wurde! Lies dazu die ../data/names.csv - Datei ein. Verwende dazu zuerst ein Dictionary, mit dem du die Häufigkeit der Vornamen zählst und anschließend eine PriorityQueue, um die Top 5 Vornamen zu ermitteln."
   ]
  },
  {
   "cell_type": "code",
   "execution_count": 5,
   "metadata": {
    "scrolled": true
   },
   "outputs": [],
   "source": [
    "import csv\n",
    "import queue\n",
    "\n",
    "\n",
    "names = {}\n",
    "\n",
    "with open(\"../data/names.csv\", newline=\"\") as file:\n",
    "    reader = csv.reader(file, delimiter=\",\", quotechar=\"'\")\n",
    "\n",
    "    for line in reader:\n",
    "        if line[0] == \"Id\":\n",
    "            continue\n",
    "\n",
    "# Dictionary bauen\n",
    "        name = line[1]\n",
    "        freq = int(line[5])\n",
    "        \n",
    "        if name in names:\n",
    "            names[name] = names[name] + freq  # Wenn Name wieder vorkommt, die Anzahl dazurechnen\n",
    "        else:\n",
    "            names[name] = freq\n",
    "    \n",
    "# Priority Queue\n",
    "    most_names = queue.PriorityQueue()\n",
    "    \n",
    "    for name, freq in names.items():  # .items um alle werte und schlüssel aus der dictionary auszugeben.\n",
    "        most_names.put((-freq, name))  # Bei Priority ist der erste Wert immer die Dringlichkeit."
   ]
  },
  {
   "cell_type": "code",
   "execution_count": 6,
   "metadata": {},
   "outputs": [
    {
     "name": "stdout",
     "output_type": "stream",
     "text": [
      "(-4957166, 'James')\n",
      "(-4845414, 'John')\n",
      "(-4725713, 'Robert')\n",
      "(-4312975, 'Michael')\n",
      "(-3839236, 'William')\n"
     ]
    }
   ],
   "source": [
    "# PriorityQueue abrufen.\n",
    "for i in range(0, 5):\n",
    "    print(most_names.get())"
   ]
  }
 ],
 "metadata": {
  "kernelspec": {
   "display_name": "Python 3",
   "language": "python",
   "name": "python3"
  },
  "language_info": {
   "codemirror_mode": {
    "name": "ipython",
    "version": 3
   },
   "file_extension": ".py",
   "mimetype": "text/x-python",
   "name": "python",
   "nbconvert_exporter": "python",
   "pygments_lexer": "ipython3",
   "version": "3.8.5"
  }
 },
 "nbformat": 4,
 "nbformat_minor": 4
}
