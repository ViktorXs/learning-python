{
 "cells": [
  {
   "cell_type": "markdown",
   "metadata": {},
   "source": [
    "# Datenstrukturen in Python"
   ]
  },
  {
   "cell_type": "code",
   "execution_count": 22,
   "metadata": {},
   "outputs": [
    {
     "name": "stdout",
     "output_type": "stream",
     "text": [
      "{'D', 'A', 'B', 'C'}\n"
     ]
    }
   ],
   "source": [
    "# ungeordnete Sammlung von Element, wo jedes nur ein mal vorkommen darf.\n",
    "a_set = {\"A\", \"B\", \"C\", \"D\"}\n",
    "print(a_set)"
   ]
  },
  {
   "cell_type": "code",
   "execution_count": 23,
   "metadata": {},
   "outputs": [
    {
     "name": "stdout",
     "output_type": "stream",
     "text": [
      "{'A', 'B', 'E', 'C', 'D'}\n"
     ]
    }
   ],
   "source": [
    "# Es können nachträglich Daten hinzugefügt werden.\n",
    "a_set.add(\"E\")\n",
    "print(a_set)"
   ]
  },
  {
   "cell_type": "code",
   "execution_count": 24,
   "metadata": {},
   "outputs": [
    {
     "name": "stdout",
     "output_type": "stream",
     "text": [
      "{'A', 'B', 'E', 'C', 'D'}\n"
     ]
    }
   ],
   "source": [
    "# Aber nicht doppelte. Deshalb ist Set sehr performant.\n",
    "a_set.add(\"E\")\n",
    "print(a_set)"
   ]
  },
  {
   "cell_type": "code",
   "execution_count": 26,
   "metadata": {},
   "outputs": [
    {
     "name": "stdout",
     "output_type": "stream",
     "text": [
      "E ist im Set enthalten.\n"
     ]
    }
   ],
   "source": [
    "if \"E\" in a_set:\n",
    "    print(\"E ist im Set enthalten.\")"
   ]
  },
  {
   "cell_type": "code",
   "execution_count": 30,
   "metadata": {},
   "outputs": [
    {
     "name": "stdout",
     "output_type": "stream",
     "text": [
      "{'D', 'A', 'B', 'E'}\n",
      "4\n"
     ]
    }
   ],
   "source": [
    "# Anzeigen, was sich in z.B. listing befindet und doppelte Einträge werden aussortiert.\n",
    "\n",
    "a_list = \"A B A A D E B A E\"\n",
    "letters = set()  # leeres set erstellen. NICHT mit set{}! Das steht schon für leere dictionaries.\n",
    "for letter in a_list.split(\" \"):\n",
    "    letters.add(letter)\n",
    "print(letters)\n",
    "print(len(letters))"
   ]
  }
 ],
 "metadata": {
  "kernelspec": {
   "display_name": "Python 3",
   "language": "python",
   "name": "python3"
  },
  "language_info": {
   "codemirror_mode": {
    "name": "ipython",
    "version": 3
   },
   "file_extension": ".py",
   "mimetype": "text/x-python",
   "name": "python",
   "nbconvert_exporter": "python",
   "pygments_lexer": "ipython3",
   "version": "3.8.5"
  }
 },
 "nbformat": 4,
 "nbformat_minor": 4
}
