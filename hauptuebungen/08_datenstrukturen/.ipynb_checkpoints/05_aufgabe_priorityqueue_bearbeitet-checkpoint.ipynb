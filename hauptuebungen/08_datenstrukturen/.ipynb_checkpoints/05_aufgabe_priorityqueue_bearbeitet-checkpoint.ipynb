{
 "cells": [
  {
   "cell_type": "markdown",
   "metadata": {},
   "source": [
    "## Aufgabe: PriorityQueue\n",
    "\n",
    "\n",
    "Ermittle den 5.-häufigsten Vornamen, der in den USA vergeben wurde! Lies dazu die ../data/names.csv - Datei ein. Verwende dazu zuerst ein Dictionary, mit dem du die Häufigkeit der Vornamen zählst und anschließend eine PriorityQueue, um die Top 5 Vornamen zu ermitteln."
   ]
  },
  {
   "cell_type": "code",
   "execution_count": 6,
   "metadata": {
    "scrolled": true
   },
   "outputs": [],
   "source": [
    "import csv\n",
    "import queue\n",
    "\n",
    "\n",
    "names = {}\n",
    "\n",
    "with open(\"../data/names.csv\", newline=\"\") as file:\n",
    "    reader = csv.reader(file, delimiter=\",\", quotechar=\"'\")\n",
    "    \n",
    "    for line in reader:\n",
    "        if line[0] == \"Id\":\n",
    "            continue\n",
    "            \n",
    "        name = line[1]\n",
    "        freq = int(line[5])\n",
    "        \n",
    "        if name in names:\n",
    "            names[name] = names[name] + freq\n",
    "        else:\n",
    "            names[name] = freq\n",
    "        \n",
    "    most_names = queue.PriorityQueue()\n",
    "    \n",
    "    for name, freq in names.items():\n",
    "        most_names.put((-freq, name))"
   ]
  },
  {
   "cell_type": "code",
   "execution_count": 8,
   "metadata": {},
   "outputs": [
    {
     "name": "stdout",
     "output_type": "stream",
     "text": [
      "(-3740495, 'Mary')\n",
      "(-3562278, 'David')\n",
      "(-2534949, 'Richard')\n",
      "(-2485220, 'Joseph')\n",
      "(-2252146, 'Charles')\n"
     ]
    }
   ],
   "source": [
    "for i in range(0, 5):\n",
    "    print(most_names.get())"
   ]
  },
  {
   "cell_type": "code",
   "execution_count": null,
   "metadata": {},
   "outputs": [],
   "source": []
  }
 ],
 "metadata": {
  "kernelspec": {
   "display_name": "Python 3",
   "language": "python",
   "name": "python3"
  },
  "language_info": {
   "codemirror_mode": {
    "name": "ipython",
    "version": 3
   },
   "file_extension": ".py",
   "mimetype": "text/x-python",
   "name": "python",
   "nbconvert_exporter": "python",
   "pygments_lexer": "ipython3",
   "version": "3.8.5"
  }
 },
 "nbformat": 4,
 "nbformat_minor": 4
}
