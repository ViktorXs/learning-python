{
 "cells": [
  {
   "cell_type": "markdown",
   "metadata": {},
   "source": [
    "# Weitere Datenstruktur: Queue / Warteschlange\n",
    "- Eintrag hinzufügen\n",
    "- Eintrag vom Anfang entfernen\n",
    "\n",
    "Sinnvoll, wenn neue Sachen reinkommen und in der selben Reihenfolge rauskommen sollen, aber keine Listen dafür geeignet sind."
   ]
  },
  {
   "cell_type": "code",
   "execution_count": 1,
   "metadata": {},
   "outputs": [
    {
     "data": {
      "text/plain": [
       "deque(['Hallo', 'Welt', 'Wie gehts dir?', 'Super?'])"
      ]
     },
     "execution_count": 1,
     "metadata": {},
     "output_type": "execute_result"
    }
   ],
   "source": [
    "import queue\n",
    "\n",
    "q = queue.Queue()\n",
    "\n",
    "q.put(\"Hallo\")\n",
    "q.put(\"Welt\")\n",
    "q.put(\"Wie gehts dir?\")\n",
    "q.put(\"Super?\")\n",
    "\n",
    "q.queue"
   ]
  },
  {
   "cell_type": "code",
   "execution_count": 11,
   "metadata": {},
   "outputs": [
    {
     "name": "stdout",
     "output_type": "stream",
     "text": [
      "<queue.Queue object at 0x000001DC7AFB74F0>\n",
      "<class 'queue.Queue'>\n",
      "deque(['Apfel', 'Banane', 'Clementine', 'Drachenfrucht', 'Erdbeere', 'Feige'])\n"
     ]
    }
   ],
   "source": [
    "import queue\n",
    "\n",
    "\n",
    "waiting_list = queue.Queue()\n",
    "\n",
    "waiting_list.put(\"Apfel\")\n",
    "waiting_list.put(\"Banane\")\n",
    "waiting_list.put(\"Clementine\")\n",
    "waiting_list.put(\"Drachenfrucht\")\n",
    "waiting_list.put(\"Erdbeere\")\n",
    "waiting_list.put(\"Feige\")\n",
    "\n",
    "waiting_list.queue\n",
    "\n",
    "print(waiting_list)\n",
    "print(type(waiting_list))\n",
    "print(waiting_list.queue)"
   ]
  },
  {
   "cell_type": "markdown",
   "metadata": {},
   "source": [
    "## Aus der Warteschlange nehmen\n",
    "Den ältesten Eintrag (also immer das Erste/Nächste Element) nehmen."
   ]
  },
  {
   "cell_type": "code",
   "execution_count": 4,
   "metadata": {},
   "outputs": [
    {
     "name": "stdout",
     "output_type": "stream",
     "text": [
      "Hallo\n",
      "Apfel\n"
     ]
    }
   ],
   "source": [
    "print(q.get())\n",
    "\n",
    "print(waiting_list.get())"
   ]
  },
  {
   "cell_type": "code",
   "execution_count": 5,
   "metadata": {},
   "outputs": [
    {
     "name": "stdout",
     "output_type": "stream",
     "text": [
      "Welt\n",
      "Banane\n"
     ]
    }
   ],
   "source": [
    "print(q.get())\n",
    "print(waiting_list.get())"
   ]
  },
  {
   "cell_type": "markdown",
   "metadata": {},
   "source": [
    "## Warteschlange leeren\n",
    "Sachen in eine variable speichern"
   ]
  },
  {
   "cell_type": "code",
   "execution_count": 6,
   "metadata": {},
   "outputs": [
    {
     "ename": "TypeError",
     "evalue": "'Queue' object is not callable",
     "output_type": "error",
     "traceback": [
      "\u001b[1;31m---------------------------------------------------------------------------\u001b[0m",
      "\u001b[1;31mTypeError\u001b[0m                                 Traceback (most recent call last)",
      "\u001b[1;32m<ipython-input-6-ea256589e364>\u001b[0m in \u001b[0;36m<module>\u001b[1;34m\u001b[0m\n\u001b[1;32m----> 1\u001b[1;33m \u001b[1;32mwhile\u001b[0m \u001b[0mwaiting_list\u001b[0m\u001b[1;33m(\u001b[0m\u001b[1;33m)\u001b[0m \u001b[1;33m>=\u001b[0m \u001b[1;36m0\u001b[0m\u001b[1;33m:\u001b[0m\u001b[1;33m\u001b[0m\u001b[1;33m\u001b[0m\u001b[0m\n\u001b[0m\u001b[0;32m      2\u001b[0m     \u001b[0mel\u001b[0m \u001b[1;33m=\u001b[0m \u001b[0mwaiting_list\u001b[0m\u001b[1;33m.\u001b[0m\u001b[0mget\u001b[0m\u001b[1;33m(\u001b[0m\u001b[1;33m)\u001b[0m\u001b[1;33m\u001b[0m\u001b[1;33m\u001b[0m\u001b[0m\n\u001b[0;32m      3\u001b[0m \u001b[0mprint\u001b[0m\u001b[1;33m(\u001b[0m\u001b[0mel\u001b[0m\u001b[1;33m)\u001b[0m\u001b[1;33m\u001b[0m\u001b[1;33m\u001b[0m\u001b[0m\n",
      "\u001b[1;31mTypeError\u001b[0m: 'Queue' object is not callable"
     ]
    }
   ],
   "source": [
    "while waiting_list() >= 0:\n",
    "    el = waiting_list.get()\n",
    "print(el)"
   ]
  },
  {
   "cell_type": "code",
   "execution_count": 12,
   "metadata": {},
   "outputs": [
    {
     "name": "stdout",
     "output_type": "stream",
     "text": [
      "Apfel\n",
      "Banane\n",
      "Clementine\n",
      "Drachenfrucht\n",
      "Erdbeere\n",
      "Feige\n"
     ]
    }
   ],
   "source": [
    "while not waiting_list.empty():\n",
    "    elements = waiting_list.get()\n",
    "    print(elements)"
   ]
  },
  {
   "cell_type": "code",
   "execution_count": null,
   "metadata": {},
   "outputs": [],
   "source": []
  }
 ],
 "metadata": {
  "kernelspec": {
   "display_name": "Python 3",
   "language": "python",
   "name": "python3"
  },
  "language_info": {
   "codemirror_mode": {
    "name": "ipython",
    "version": 3
   },
   "file_extension": ".py",
   "mimetype": "text/x-python",
   "name": "python",
   "nbconvert_exporter": "python",
   "pygments_lexer": "ipython3",
   "version": "3.8.5"
  }
 },
 "nbformat": 4,
 "nbformat_minor": 4
}
