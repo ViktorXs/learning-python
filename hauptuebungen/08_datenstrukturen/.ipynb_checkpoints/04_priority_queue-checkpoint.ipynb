{
 "cells": [
  {
   "cell_type": "markdown",
   "metadata": {},
   "source": [
    "# PriorityQueue\n",
    "Sortiert automatisch Einträge.\n",
    "Z.B. danach, was die 5 häufigsten Wörter, die in einem Text vorkommen?\n",
    "\n",
    "Beim Eintragen von Elementen, kann mit einem Tupel die Dringlichkeit dem jeweiligen Element vergegeben werden."
   ]
  },
  {
   "cell_type": "code",
   "execution_count": 1,
   "metadata": {},
   "outputs": [],
   "source": [
    "import queue\n",
    "fruit = queue.PriorityQueue()\n",
    "\n",
    "fruit.put((14, \"Apfel\"))  # Im Tupel erst die Dringlichkeit, dann das Element eintragen\n",
    "fruit.put((20, \"Banane\"))\n",
    "fruit.put((5, \"Clementine\"))\n",
    "fruit.put((9, \"Drachenfrucht\"))\n",
    "fruit.put((17, \"Erdbeere\"))\n",
    "fruit.put((12, \"Feige\"))"
   ]
  },
  {
   "cell_type": "code",
   "execution_count": 3,
   "metadata": {},
   "outputs": [
    {
     "data": {
      "text/plain": [
       "(9, 'Drachenfrucht')"
      ]
     },
     "execution_count": 3,
     "metadata": {},
     "output_type": "execute_result"
    }
   ],
   "source": [
    "fruit.get()  # .get() bringt das Element mit der geringsten Dringlichkeit."
   ]
  },
  {
   "cell_type": "code",
   "execution_count": 4,
   "metadata": {},
   "outputs": [
    {
     "name": "stdout",
     "output_type": "stream",
     "text": [
      "(12, 'Feige')\n"
     ]
    }
   ],
   "source": [
    "print(fruit.get())"
   ]
  },
  {
   "cell_type": "code",
   "execution_count": 5,
   "metadata": {},
   "outputs": [
    {
     "name": "stdout",
     "output_type": "stream",
     "text": [
      "(14, 'Apfel')\n"
     ]
    }
   ],
   "source": [
    "print(fruit.get())"
   ]
  },
  {
   "cell_type": "code",
   "execution_count": null,
   "metadata": {},
   "outputs": [],
   "source": []
  }
 ],
 "metadata": {
  "kernelspec": {
   "display_name": "Python 3",
   "language": "python",
   "name": "python3"
  },
  "language_info": {
   "codemirror_mode": {
    "name": "ipython",
    "version": 3
   },
   "file_extension": ".py",
   "mimetype": "text/x-python",
   "name": "python",
   "nbconvert_exporter": "python",
   "pygments_lexer": "ipython3",
   "version": "3.8.5"
  }
 },
 "nbformat": 4,
 "nbformat_minor": 4
}
