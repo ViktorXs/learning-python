{
 "cells": [
  {
   "cell_type": "markdown",
   "metadata": {},
   "source": [
    "# PriorityQueue\n",
    "Sortiert automatisch Einträge.\n",
    "Z.B. danach, was die 5 häufigsten Wörter, die in einem Text vorkommen?\n",
    "\n",
    "Beim Eintragen von Elementen, kann mit einem Tupel die Dringlichkeit dem jeweiligen Element vergegeben werden."
   ]
  },
  {
   "cell_type": "code",
   "execution_count": 2,
   "metadata": {},
   "outputs": [],
   "source": [
    "import queue\n",
    "\n",
    "\n",
    "fruit = queue.PriorityQueue()\n",
    "\n",
    "fruit.put((14, \"Apfel\"))  # Im Tupel erst die Dringlichkeit, dann das Element eintragen\n",
    "fruit.put((20, \"Banane\"))\n",
    "fruit.put((5, \"Clementine\"))\n",
    "fruit.put((9, \"Drachenfrucht\"))\n",
    "fruit.put((17, \"Erdbeere\"))\n",
    "fruit.put((12, \"Feige\"))"
   ]
  },
  {
   "cell_type": "code",
   "execution_count": 3,
   "metadata": {},
   "outputs": [
    {
     "data": {
      "text/plain": [
       "(5, 'Clementine')"
      ]
     },
     "execution_count": 3,
     "metadata": {},
     "output_type": "execute_result"
    }
   ],
   "source": [
    "fruit.get()  # .get() bringt das Element mit der geringsten Dringlichkeit."
   ]
  },
  {
   "cell_type": "code",
   "execution_count": 4,
   "metadata": {},
   "outputs": [
    {
     "name": "stdout",
     "output_type": "stream",
     "text": [
      "(9, 'Drachenfrucht')\n"
     ]
    }
   ],
   "source": [
    "print(fruit.get())"
   ]
  },
  {
   "cell_type": "code",
   "execution_count": 5,
   "metadata": {},
   "outputs": [
    {
     "name": "stdout",
     "output_type": "stream",
     "text": [
      "(12, 'Feige')\n"
     ]
    }
   ],
   "source": [
    "print(fruit.get())"
   ]
  },
  {
   "cell_type": "markdown",
   "metadata": {},
   "source": [
    "## Häufigkeit von Wörter zählen"
   ]
  },
  {
   "cell_type": "code",
   "execution_count": 6,
   "metadata": {},
   "outputs": [
    {
     "name": "stdout",
     "output_type": "stream",
     "text": [
      "{'A': 6, 'B': 9, 'C': 6, 'D': 8, 'E': 3, 'F': 2, 'G': 6}\n"
     ]
    }
   ],
   "source": [
    "text = \"A A A A A A B B B B B B B B B C C C C C C D D D D D D D D E E E F F G G G G G G\"\n",
    "\n",
    "freq = {}\n",
    "\n",
    "for word in text.split(\" \"):\n",
    "    if word in freq:\n",
    "        freq[word] = freq[word] + 1\n",
    "    else:\n",
    "        freq[word] = 1\n",
    "print(freq)\n",
    "        \n",
    "pq = queue.PriorityQueue()\n",
    "for word, number in freq.items():\n",
    "    pq.put((number, word))"
   ]
  },
  {
   "cell_type": "code",
   "execution_count": 12,
   "metadata": {},
   "outputs": [
    {
     "name": "stdout",
     "output_type": "stream",
     "text": [
      "(2, 'F')\n"
     ]
    }
   ],
   "source": [
    "print(pq.get())"
   ]
  },
  {
   "cell_type": "code",
   "execution_count": 1,
   "metadata": {},
   "outputs": [
    {
     "name": "stdout",
     "output_type": "stream",
     "text": [
      "{'A': 6, 'B': 9, 'C': 6, 'D': 8, 'E': 3, 'F': 2, 'G': 6, 'H': 4, 'I': 2, 'J': 1, 'K': 1, 'L': 1, 'M': 2, 'N': 1, 'O': 2}\n",
      "{'A': 2, 'B': 1, 'C': 3, 'D': 4, 'E': 2, 'F': 1, 'G': 8}\n"
     ]
    }
   ],
   "source": [
    "import queue\n",
    "\n",
    "\n",
    "letters_string = \"A A A A A A B B B B B B B B B C C C C C C D D D D D D D D E E E F F G G G G G G H H H H I I J K L M M N O O\"\n",
    "letters_list = [\"A\", \"A\", \"B\", \"C\", \"C\", \"C\", \"D\", \"D\", \"D\", \"D\", \"E\", \"E\", \"F\", \"G\", \"G\", \"G\", \"G\", \"G\", \"G\", \"G\", \"G\"]\n",
    "\n",
    "ds = {}\n",
    "dl = {}\n",
    "\n",
    "# string\n",
    "for letter_dict in letters_string.split(\" \"):\n",
    "    if letter_dict in ds:\n",
    "        ds[letter_dict] = ds[letter_dict] + 1\n",
    "    else:\n",
    "        ds[letter_dict] = 1\n",
    "\n",
    "# list\n",
    "for letter_list in letters_list:\n",
    "    if letter_list in dl:\n",
    "        dl[letter_list] = dl[letter_list] + 1\n",
    "    else:\n",
    "        dl[letter_list] = 1\n",
    "\n",
    "print(ds)\n",
    "print(dl)\n"
   ]
  },
  {
   "cell_type": "markdown",
   "metadata": {},
   "source": [
    "## Mit dem Ranking Faktor der Priority Queue zählen"
   ]
  },
  {
   "cell_type": "code",
   "execution_count": 2,
   "metadata": {},
   "outputs": [],
   "source": [
    "list_words = queue.PriorityQueue()\n",
    "\n",
    "for word, number in dl.items():\n",
    "    list_words.put((number, word))"
   ]
  },
  {
   "cell_type": "code",
   "execution_count": null,
   "metadata": {},
   "outputs": [
    {
     "name": "stdout",
     "output_type": "stream",
     "text": [
      "(1, 'B')\n",
      "(1, 'F')\n",
      "(2, 'A')\n",
      "(2, 'E')\n",
      "(3, 'C')\n",
      "(4, 'D')\n",
      "(8, 'G')\n"
     ]
    }
   ],
   "source": [
    "print(list_words.get())\n",
    "print(list_words.get())\n",
    "print(list_words.get())\n",
    "print(list_words.get())\n",
    "print(list_words.get())\n",
    "print(list_words.get())\n",
    "print(list_words.get())"
   ]
  },
  {
   "cell_type": "code",
   "execution_count": null,
   "metadata": {},
   "outputs": [
    {
     "name": "stdout",
     "output_type": "stream",
     "text": [
      "(-8, 'G')\n",
      "(-4, 'D')\n",
      "(-3, 'C')\n",
      "(-2, 'A')\n",
      "(-2, 'E')\n",
      "(-1, 'B')\n",
      "(-1, 'F')\n"
     ]
    }
   ],
   "source": [
    "most_used = queue.PriorityQueue()\n",
    "\n",
    "for word, number in dl.items():\n",
    "    most_used.put((-number, word))  # Umgekehrte Reihenfolge mit - vor dem Schlüssel\n",
    "\n",
    "print(most_used.get())\n",
    "print(most_used.get())\n",
    "print(most_used.get())\n",
    "print(most_used.get())\n",
    "print(most_used.get())\n",
    "print(most_used.get())\n",
    "print(most_used.get())\n",
    "print(most_used.get())\n",
    "print(most_used.get())"
   ]
  },
  {
   "cell_type": "code",
   "execution_count": null,
   "metadata": {},
   "outputs": [],
   "source": []
  }
 ],
 "metadata": {
  "kernelspec": {
   "display_name": "Python 3",
   "language": "python",
   "name": "python3"
  },
  "language_info": {
   "codemirror_mode": {
    "name": "ipython",
    "version": 3
   },
   "file_extension": ".py",
   "mimetype": "text/x-python",
   "name": "python",
   "nbconvert_exporter": "python",
   "pygments_lexer": "ipython3",
   "version": "3.8.5"
  }
 },
 "nbformat": 4,
 "nbformat_minor": 4
}
