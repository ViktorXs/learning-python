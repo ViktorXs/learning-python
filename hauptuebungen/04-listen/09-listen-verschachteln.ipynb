{
 "cells": [
  {
   "cell_type": "markdown",
   "metadata": {},
   "source": [
    "# Listen verschachteln\n",
    "Eine Art mehrdimensionale Liste, in der sich mehrere Listen befinden."
   ]
  },
  {
   "cell_type": "code",
   "execution_count": 1,
   "metadata": {},
   "outputs": [],
   "source": [
    "cities = [\n",
    "    [\"Berlin\", \"München\", \"Hamburg\", \"Köln\", \"Hannover\", \"Ingolstadt\", \"Buxtehude\"],     # Äußere Liste\n",
    "    [\"Budapest\", \"Barcelona\", \"Tokyo\", \"Hong Kong\", \"New York\", \"Paris\", \"Moscow\"]     # Innere Liste\n",
    "]"
   ]
  },
  {
   "cell_type": "code",
   "execution_count": 2,
   "metadata": {},
   "outputs": [
    {
     "data": {
      "text/plain": [
       "['Budapest', 'Barcelona', 'Tokyo', 'Hong Kong', 'New York', 'Paris', 'Moscow']"
      ]
     },
     "execution_count": 2,
     "metadata": {},
     "output_type": "execute_result"
    }
   ],
   "source": [
    "cities[1]"
   ]
  },
  {
   "cell_type": "code",
   "execution_count": 5,
   "metadata": {},
   "outputs": [
    {
     "data": {
      "text/plain": [
       "['Berlin', 'München', 'Hamburg', 'Köln', 'Hannover', 'Ingolstadt', 'Buxtehude']"
      ]
     },
     "execution_count": 5,
     "metadata": {},
     "output_type": "execute_result"
    }
   ],
   "source": [
    "cities[0]"
   ]
  },
  {
   "cell_type": "code",
   "execution_count": 6,
   "metadata": {},
   "outputs": [
    {
     "data": {
      "text/plain": [
       "'Köln'"
      ]
     },
     "execution_count": 6,
     "metadata": {},
     "output_type": "execute_result"
    }
   ],
   "source": [
    "cities[0][3]     # Werte aus einer der inneren Listen ausgeben (liste[bel. Liste][Wert])"
   ]
  },
  {
   "cell_type": "markdown",
   "metadata": {},
   "source": [
    "# Listen in Dictionaries"
   ]
  },
  {
   "cell_type": "code",
   "execution_count": 34,
   "metadata": {},
   "outputs": [],
   "source": [
    "cars = {\n",
    "    \"German cars\": [\"Audi\", \"BMW\", \"Volkswagen\", \"Mercedes Benz\", \"Opel\", \"Porsche\"],\n",
    "    \"British cars\": [\"Jaguar\", \"Rolls Royce\", \"Bentley\", \"TVR\", \"Aston Martin\", \"Mini\", \"McLaren\", \"Lotus\"],\n",
    "    \"Italian cars\": [\"Alfa Romeo\", \"Ferrari\", \"Lamborghini\", \"Fiat\", \"Lancia\", \"Maserati\", \"Pagani\" ],\n",
    "    \"US cars\": [\"Ford\", \"Cadillac\", \"Dodge\", \"Pontiac\", \"Chevrolet\", \"Corvette\", \"Tesla\"]\n",
    "}"
   ]
  },
  {
   "cell_type": "code",
   "execution_count": 35,
   "metadata": {},
   "outputs": [
    {
     "name": "stdout",
     "output_type": "stream",
     "text": [
      "['Ford', 'Cadillac', 'Dodge', 'Pontiac', 'Chevrolet', 'Corvette', 'Tesla']\n",
      "['Alfa Romeo', 'Ferrari', 'Lamborghini', 'Fiat', 'Lancia', 'Maserati', 'Pagani']\n",
      "['Jaguar', 'Rolls Royce', 'Bentley', 'TVR', 'Aston Martin', 'Mini', 'McLaren', 'Lotus']\n",
      "['Audi', 'BMW', 'Volkswagen', 'Mercedes Benz', 'Opel', 'Porsche']\n"
     ]
    }
   ],
   "source": [
    "print(cars[\"US cars\"])\n",
    "print(cars[\"Italian cars\"])\n",
    "print(cars[\"British cars\"])\n",
    "print(cars[\"German cars\"])"
   ]
  },
  {
   "cell_type": "code",
   "execution_count": null,
   "metadata": {},
   "outputs": [],
   "source": []
  }
 ],
 "metadata": {
  "kernelspec": {
   "display_name": "Python 3",
   "language": "python",
   "name": "python3"
  },
  "language_info": {
   "codemirror_mode": {
    "name": "ipython",
    "version": 3
   },
   "file_extension": ".py",
   "mimetype": "text/x-python",
   "name": "python",
   "nbconvert_exporter": "python",
   "pygments_lexer": "ipython3",
   "version": "3.8.5"
  }
 },
 "nbformat": 4,
 "nbformat_minor": 4
}
