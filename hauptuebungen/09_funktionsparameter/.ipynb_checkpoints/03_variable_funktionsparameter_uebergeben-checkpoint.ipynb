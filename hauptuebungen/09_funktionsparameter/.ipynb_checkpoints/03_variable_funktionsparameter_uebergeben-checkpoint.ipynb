{
 "cells": [
  {
   "cell_type": "markdown",
   "metadata": {},
   "source": [
    "# Variable Funktionsparameter übergeben\n"
   ]
  },
  {
   "cell_type": "code",
   "execution_count": 1,
   "metadata": {},
   "outputs": [
    {
     "name": "stdout",
     "output_type": "stream",
     "text": [
      "1\n",
      "2\n",
      "3\n"
     ]
    }
   ],
   "source": [
    "def f(a, b, c):\n",
    "    print(a)\n",
    "    print(b)\n",
    "    print(c)\n",
    "\n",
    "f(1, 2, 3)  # Parameter werden der Funktion f übergeben."
   ]
  },
  {
   "cell_type": "markdown",
   "metadata": {},
   "source": [
    "## Problem: Liste"
   ]
  },
  {
   "cell_type": "code",
   "execution_count": 8,
   "metadata": {},
   "outputs": [
    {
     "name": "stdout",
     "output_type": "stream",
     "text": [
      "1\n",
      "2\n",
      "3\n"
     ]
    }
   ],
   "source": [
    "def f(a, b, c):\n",
    "    print(a)\n",
    "    print(b)\n",
    "    print(c)\n",
    "\n",
    "l = [1, 2, 3]  # Liste\n",
    "\n",
    "f(l[0], l[1], l[2])     # Parameter der Liste werden der Funktion f übergeben. \n",
    "                        # Wird unübersichtlich, wenn noch mehr Daten einzugeben sind.\n"
   ]
  },
  {
   "cell_type": "markdown",
   "metadata": {},
   "source": [
    "## Einfachere Schreibweise\n",
    "Ein Sternchen / Multiplikationszeichen <code>*</code> sagt zu Python bei Übergabe von einer Variable die Liste zu zerlegen und jedes Listenelement zu übergeben."
   ]
  },
  {
   "cell_type": "code",
   "execution_count": 3,
   "metadata": {},
   "outputs": [
    {
     "name": "stdout",
     "output_type": "stream",
     "text": [
      "1\n",
      "2\n",
      "3\n"
     ]
    }
   ],
   "source": [
    "def f(a, b, c):\n",
    "    print(a)\n",
    "    print(b)\n",
    "    print(c)\n",
    "\n",
    "l = [1, 2, 3]  # Liste\n",
    "f(*l)  # Parameter der Liste werden der Funktion f übergeben."
   ]
  },
  {
   "cell_type": "markdown",
   "metadata": {},
   "source": [
    "### Übungen"
   ]
  },
  {
   "cell_type": "code",
   "execution_count": 4,
   "metadata": {},
   "outputs": [
    {
     "name": "stdout",
     "output_type": "stream",
     "text": [
      "Aber Hallo wie gehts euch so\n"
     ]
    }
   ],
   "source": [
    "def list_names(a, b, c, d, e, f):\n",
    "    print(a, b, c, d, e, f)\n",
    "\n",
    "names = [\"Aber\", \"Hallo\", \"wie\", \"gehts\", \"euch\", \"so\"]\n",
    "list_names(*names)"
   ]
  },
  {
   "cell_type": "markdown",
   "metadata": {},
   "source": [
    "#### Noch einfacher. Mit <code>*</code> beliebig viele Parameter erhalten\n",
    "<code>*</code> Übergibt Datenstrukturen als Tupel."
   ]
  },
  {
   "cell_type": "code",
   "execution_count": 26,
   "metadata": {},
   "outputs": [
    {
     "name": "stdout",
     "output_type": "stream",
     "text": [
      "(1, 2, 3, \"'4'\", 5, 6, 7, \"'8'\", \"'9'\", 10, \"'Unbelievable'\")\n"
     ]
    }
   ],
   "source": [
    "def list_names(*params):\n",
    "    print(params)\n",
    "\n",
    "list_names(1, 2, 3, \"'4'\", 5, 6, 7, \"'8'\", \"'9'\", 10, \"'Unbelievable'\")"
   ]
  },
  {
   "cell_type": "code",
   "execution_count": 36,
   "metadata": {},
   "outputs": [
    {
     "data": {
      "text/plain": [
       "13"
      ]
     },
     "execution_count": 36,
     "metadata": {},
     "output_type": "execute_result"
    }
   ],
   "source": [
    "def count_max(*values):\n",
    "    current_max = 0\n",
    "    \n",
    "    for i in values:\n",
    "        if i > current_max:\n",
    "            current_max = i\n",
    "    return current_max\n",
    "\n",
    "count_max(1, 2, 3, 4, 5, 6, 7, 8, 9, 10, 11, 12, 13)"
   ]
  },
  {
   "cell_type": "code",
   "execution_count": 37,
   "metadata": {},
   "outputs": [
    {
     "data": {
      "text/plain": [
       "94"
      ]
     },
     "execution_count": 37,
     "metadata": {},
     "output_type": "execute_result"
    }
   ],
   "source": [
    "def sum_max(*max):\n",
    "    print(max)\n",
    "    counter = 0\n",
    "    \n",
    "    for i in max:\n",
    "        counter = counter + i\n",
    "    return counter\n",
    "        \n",
    "sum_max(3, 7, 9, 12, 18, 20, 25)"
   ]
  },
  {
   "cell_type": "markdown",
   "metadata": {},
   "source": [
    "#### Statt interne Variable ein Standardparameter angeben\n",
    "Statt eine Variable extra zu definieren, kann sie auch als Standardparameter den ersten Wert annehmen, worüber die Funktion die höchste Zahl ausrechnet."
   ]
  },
  {
   "cell_type": "code",
   "execution_count": 42,
   "metadata": {},
   "outputs": [
    {
     "name": "stdout",
     "output_type": "stream",
     "text": [
      "1\n",
      "(2, 3, 4, 5, 6, 7, 8, 9, 10, 11, 12, 13)\n"
     ]
    },
    {
     "data": {
      "text/plain": [
       "13"
      ]
     },
     "execution_count": 42,
     "metadata": {},
     "output_type": "execute_result"
    }
   ],
   "source": [
    "def count_max(current_max, *values):\n",
    "    print(current_max)  # current_max erhält ersten Wert\n",
    "    print(values)  # aus den restlichen Werten zusammengefasst\n",
    "    \n",
    "    for i in values:\n",
    "        if i > current_max:\n",
    "            current_max = i\n",
    "    return current_max\n",
    "\n",
    "count_max(1, 2, 3, 4, 5, 6, 7, 8, 9, 10, 11, 12, 13)"
   ]
  },
  {
   "cell_type": "code",
   "execution_count": null,
   "metadata": {},
   "outputs": [],
   "source": []
  }
 ],
 "metadata": {
  "kernelspec": {
   "display_name": "Python 3",
   "language": "python",
   "name": "python3"
  },
  "language_info": {
   "codemirror_mode": {
    "name": "ipython",
    "version": 3
   },
   "file_extension": ".py",
   "mimetype": "text/x-python",
   "name": "python",
   "nbconvert_exporter": "python",
   "pygments_lexer": "ipython3",
   "version": "3.8.5"
  }
 },
 "nbformat": 4,
 "nbformat_minor": 4
}
