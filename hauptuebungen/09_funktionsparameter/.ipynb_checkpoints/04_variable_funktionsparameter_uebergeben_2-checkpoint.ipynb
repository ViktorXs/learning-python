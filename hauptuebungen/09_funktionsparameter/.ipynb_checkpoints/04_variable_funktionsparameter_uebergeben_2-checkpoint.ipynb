{
 "cells": [
  {
   "cell_type": "markdown",
   "metadata": {},
   "source": [
    "# Funktionsparameter mit <code>**</code> in Dictionary übergeben"
   ]
  },
  {
   "cell_type": "code",
   "execution_count": 5,
   "metadata": {},
   "outputs": [
    {
     "name": "stdout",
     "output_type": "stream",
     "text": [
      "{'key_1': 'Value_01', 'key_2': 'Value_2', 'key_3': 'Value_3'}\n"
     ]
    }
   ],
   "source": [
    "def f(**args):  # ** für Dictionaries\n",
    "    print(args)\n",
    "\n",
    "f(key_1=\"Value_01\", key_2=\"Value_2\", key_3=\"Value_3\")  # Schlüssel=\"Wert\" definieren"
   ]
  },
  {
   "cell_type": "code",
   "execution_count": 21,
   "metadata": {},
   "outputs": [
    {
     "name": "stdout",
     "output_type": "stream",
     "text": [
      "Schlüssel 1 passt\n",
      "Schlüssel 2 passt\n"
     ]
    }
   ],
   "source": [
    "def g(key1, key2):\n",
    "    print(key1)\n",
    "    print(key2)\n",
    "    \n",
    "dic = {\"key1\": \"Schlüssel 1 passt\", \"key2\": \"Schlüssel 2 passt\"}\n",
    "\n",
    "g(key1=dic[\"key1\"], key2=dic[\"key2\"])"
   ]
  },
  {
   "cell_type": "code",
   "execution_count": 20,
   "metadata": {},
   "outputs": [
    {
     "name": "stdout",
     "output_type": "stream",
     "text": [
      "Schlüssel 1 passt\n",
      "Schlüssel 2 passt\n"
     ]
    }
   ],
   "source": [
    "def g(key1, key2):\n",
    "    print(key1)\n",
    "    print(key2)\n",
    "    \n",
    "dic = {\"key1\": \"Schlüssel 1 passt\", \"key2\": \"Schlüssel 2 passt\"}\n",
    "\n",
    "g(**dic)"
   ]
  },
  {
   "cell_type": "markdown",
   "metadata": {},
   "source": [
    "## Beispiel: In Grafik"
   ]
  },
  {
   "cell_type": "code",
   "execution_count": 3,
   "metadata": {},
   "outputs": [
    {
     "name": "stdout",
     "output_type": "stream",
     "text": [
      "{'color': 'b', 'linewidth': 5}\n"
     ]
    },
    {
     "data": {
      "image/png": "[encoded data removed]",
      "text/plain": [
       "<Figure size 432x288 with 1 Axes>"
      ]
     },
     "metadata": {
      "needs_background": "light"
     },
     "output_type": "display_data"
    }
   ],
   "source": [
    "import matplotlib.pyplot as plt\n",
    "\n",
    "def create_plot(**plot_params):\n",
    "    print(plot_params)\n",
    "    \n",
    "    plt.plot([1, 2, 3], [2, 3, 0], **plot_params)  # Notwendigen Parameter wedern durch die Vergabe automatisch erstellt.\n",
    "    plt.show()\n",
    "\n",
    "create_plot(color=\"b\", linewidth=5, )  # Die Parameter werden 1:1 durchgereicht."
   ]
  },
  {
   "cell_type": "markdown",
   "metadata": {},
   "source": [
    "### Übungen"
   ]
  },
  {
   "cell_type": "code",
   "execution_count": 10,
   "metadata": {},
   "outputs": [
    {
     "data": {
      "image/png": "[encoded data removed]",
      "text/plain": [
       "<Figure size 432x288 with 1 Axes>"
      ]
     },
     "metadata": {
      "needs_background": "light"
     },
     "output_type": "display_data"
    }
   ],
   "source": [
    "def create_plots(**params):\n",
    "    plt.plot([1, 2, 3, 4], [1, 3, 8, 24], **params)\n",
    "\n",
    "create_plots(color=\"r\", linewidth=0.7, linestyle=\"dashed\")  # Hier können beliebig weitere Parameter für die Grafik vergeben werden und sie werden automatisch innerhalb der Funktion erkannt."
   ]
  },
  {
   "cell_type": "code",
   "execution_count": null,
   "metadata": {},
   "outputs": [],
   "source": []
  }
 ],
 "metadata": {
  "kernelspec": {
   "display_name": "Python 3",
   "language": "python",
   "name": "python3"
  },
  "language_info": {
   "codemirror_mode": {
    "name": "ipython",
    "version": 3
   },
   "file_extension": ".py",
   "mimetype": "text/x-python",
   "name": "python",
   "nbconvert_exporter": "python",
   "pygments_lexer": "ipython3",
   "version": "3.8.5"
  }
 },
 "nbformat": 4,
 "nbformat_minor": 4
}
