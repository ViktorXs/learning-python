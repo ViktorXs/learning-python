{
 "cells": [
  {
   "cell_type": "markdown",
   "metadata": {},
   "source": [
    "# Funktionsparameter übergeben\n",
    "\n",
    "In Python unterscheidet man zwische 2 Arten von Variablen:\n",
    "- Primitive Datentypen (Zahl, String, Booleans, ...)\n",
    "- Datenstrukturen"
   ]
  },
  {
   "cell_type": "markdown",
   "metadata": {},
   "source": [
    "## Übergabe von Parameter"
   ]
  },
  {
   "cell_type": "code",
   "execution_count": 11,
   "metadata": {},
   "outputs": [
    {
     "name": "stdout",
     "output_type": "stream",
     "text": [
      "1\n",
      "2\n",
      "3\n"
     ]
    }
   ],
   "source": [
    "def f(a, b, c):\n",
    "    print(a)\n",
    "    print(b)\n",
    "    print(c)\n",
    "\n",
    "f(1, 2, 3)  # Parameter werden der Funktion f übergeben."
   ]
  },
  {
   "cell_type": "markdown",
   "metadata": {},
   "source": [
    "## Beispiel"
   ]
  },
  {
   "cell_type": "code",
   "execution_count": 7,
   "metadata": {},
   "outputs": [
    {
     "name": "stdout",
     "output_type": "stream",
     "text": [
      "3\n",
      "5\n",
      "3\n"
     ]
    }
   ],
   "source": [
    "a = 5\n",
    "\n",
    "def f(x):\n",
    "    x = 3  # 2.  # DANN ändere Wert, das von a kommt, in x = 3 um!\n",
    "    print(x)\n",
    "    \n",
    "f(a)  # 1. Kopiere Wert in Funktion f.\n",
    "print(a)\n",
    "\n",
    "f(x = 2)\n"
   ]
  },
  {
   "cell_type": "markdown",
   "metadata": {},
   "source": [
    "### Übung"
   ]
  },
  {
   "cell_type": "code",
   "execution_count": 8,
   "metadata": {},
   "outputs": [
    {
     "name": "stdout",
     "output_type": "stream",
     "text": [
      "Wie geht es ihnen?\n",
      "Wie geht es ihnen?\n"
     ]
    }
   ],
   "source": [
    "frage = \"Was ist hier los?\"\n",
    "\n",
    "def frage_funktion(x = \"Hat wer eine Frage?\"):  # Standardparameter\n",
    "    x = \"Wie geht es ihnen?\"  # Alle übergebenen Werte werden von einer in der Funktion erstellten Variable überschrieben.\n",
    "    print(x)\n",
    "\n",
    "frage_funktion(frage)  # Dies wird zuletzt übergeben.\n",
    "\n",
    "frage_funktion(x = \"Und sonst so?\")  # Gleiches gilt auch, wenn der Standardparameter verändert wird.\n"
   ]
  },
  {
   "cell_type": "markdown",
   "metadata": {},
   "source": [
    "## Datenstrukturen\n",
    "### <code>.append</code> \n",
    "Diese Methode sollte möglichst vermieden werden, weil man damit leicht Listen außerhalb einer Funktion versehentlich abändern kann. Der Code wird dadurch dann irgendwann ziemlich unübersichtlich."
   ]
  },
  {
   "cell_type": "code",
   "execution_count": 9,
   "metadata": {},
   "outputs": [
    {
     "name": "stdout",
     "output_type": "stream",
     "text": [
      "['Guten', 'Tag']\n",
      "['Guten', 'Tag', '!']\n",
      "\n",
      "['Guten', 'Tag', '!']\n"
     ]
    }
   ],
   "source": [
    "greet = [\"Guten\", \"Tag\"]\n",
    "print(greet)\n",
    "\n",
    "def the_greeter(x):\n",
    "    x.append(\"!\")  # weil x mit .append() an greet eingefügt wird, wird der Parameter auch in der Variable greet verändert.\n",
    "    print(x)\n",
    "\n",
    "the_greeter(greet)  # Man setz greet mit x aus der Funktion gleich.\n",
    "\n",
    "print()\n",
    "print(greet)\n"
   ]
  },
  {
   "cell_type": "markdown",
   "metadata": {},
   "source": [
    "### <code>x = </code>\n",
    "Besser eine Kopie in der Funktion erstellen."
   ]
  },
  {
   "cell_type": "code",
   "execution_count": 10,
   "metadata": {},
   "outputs": [
    {
     "name": "stdout",
     "output_type": "stream",
     "text": [
      "['Guten', 'Tag']\n",
      "['Guten', 'Tag', '!']\n",
      "\n",
      "['Guten', 'Tag']\n"
     ]
    }
   ],
   "source": [
    "greet = [\"Guten\", \"Tag\"]\n",
    "print(greet)\n",
    "\n",
    "def the_greeter(x):\n",
    "    x = [\"Guten\", \"Tag\", \"!\"]  # Hier wird eine Kopie von greet als neue Variable \"x\" erstellt.\n",
    "    print(x)\n",
    "\n",
    "the_greeter(greet)\n",
    "\n",
    "print()\n",
    "print(greet)  # Variable greet bleibt unverändert.\n"
   ]
  },
  {
   "cell_type": "code",
   "execution_count": null,
   "metadata": {},
   "outputs": [],
   "source": []
  }
 ],
 "metadata": {
  "kernelspec": {
   "display_name": "Python 3",
   "language": "python",
   "name": "python3"
  },
  "language_info": {
   "codemirror_mode": {
    "name": "ipython",
    "version": 3
   },
   "file_extension": ".py",
   "mimetype": "text/x-python",
   "name": "python",
   "nbconvert_exporter": "python",
   "pygments_lexer": "ipython3",
   "version": "3.8.5"
  }
 },
 "nbformat": 4,
 "nbformat_minor": 4
}
