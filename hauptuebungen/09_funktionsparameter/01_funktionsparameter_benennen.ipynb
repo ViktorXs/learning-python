{
 "cells": [
  {
   "cell_type": "markdown",
   "metadata": {},
   "source": [
    "# Funktionsparameter benennen\n",
    "Wenn eine Funktion sehr viele Parameter übergeben bekommt, dann wird der Funktionsaufruf sehr schnell unübersichtlich."
   ]
  },
  {
   "cell_type": "code",
   "execution_count": 28,
   "metadata": {},
   "outputs": [
    {
     "name": "stdout",
     "output_type": "stream",
     "text": [
      "Moin!\n",
      "Moin!\n",
      "Moin!\n",
      "Moin!\n",
      "Moin!\n"
     ]
    }
   ],
   "source": [
    "def multi_print(number, word):  # Hier können Standardparameter vergeben weden\n",
    "    for i in range(0, number):\n",
    "        print(word)\n",
    "multi_print(5, \"Moin!\")"
   ]
  },
  {
   "cell_type": "markdown",
   "metadata": {},
   "source": [
    "## Standardparameter"
   ]
  },
  {
   "cell_type": "code",
   "execution_count": 26,
   "metadata": {},
   "outputs": [
    {
     "name": "stdout",
     "output_type": "stream",
     "text": [
      "Grüße gehen raus\n",
      "Grüße gehen raus\n",
      "Grüße gehen raus\n",
      "\n",
      "Moin\n",
      "Moin\n"
     ]
    }
   ],
   "source": [
    "def der_gruesser(number = 3, greet = \"Grüße gehen raus\"):  # Hier können Standardparameter vergeben weden\n",
    "    for i in range(0, number):\n",
    "        print(greet)\n",
    "\n",
    "\n",
    "der_gruesser()\n",
    "print()\n",
    "der_gruesser(2, \"Moin\")  # Standardparameter lassen sich ändern, wie mit der normalen methode ohne Standardparameter.\n"
   ]
  },
  {
   "cell_type": "markdown",
   "metadata": {},
   "source": [
    "### Übung & GoodToKnow:"
   ]
  },
  {
   "cell_type": "code",
   "execution_count": 74,
   "metadata": {},
   "outputs": [
    {
     "name": "stdout",
     "output_type": "stream",
     "text": [
      "Erledigt\n",
      "\n",
      "\n",
      "Hallo\n",
      "Hallo\n",
      "Hallo\n",
      "\n",
      "Erledigt\n",
      "Erledigt\n",
      "Erledigt\n",
      "Erledigt\n",
      "\n",
      "Alles Durcheinander\n",
      "Alles Durcheinander\n"
     ]
    }
   ],
   "source": [
    "def multi_print(number = 3, note = \"Erledigt\"):  # Diese Parameter sind nun standardparameter \n",
    "    for i in range(number):\n",
    "        print(note)\n",
    "\n",
    "multi_print(1)  # Der ERSTE Standardparameter lässt sich einfach ändern\n",
    "print()\n",
    "\n",
    "# multi_print(\"Hallo\")  # Der zweite Parameter lässt sich nicht so einfach ändern. Es wird vom Ersten ausgegangen.\n",
    "print()\n",
    "\n",
    "multi_print(note = \"Hallo\")  # Der zweite und weitere Parameter müssen wie Standardparameter vergeben werden\n",
    "print()\n",
    "\n",
    "multi_print(number = 4)\n",
    "print()\n",
    "\n",
    "multi_print(note = \"Alles Durcheinander\", number = 2)  # Dabei spielt die Reihenfolge der Parameter keine Rolle."
   ]
  },
  {
   "cell_type": "code",
   "execution_count": null,
   "metadata": {},
   "outputs": [],
   "source": []
  }
 ],
 "metadata": {
  "kernelspec": {
   "display_name": "Python 3",
   "language": "python",
   "name": "python3"
  },
  "language_info": {
   "codemirror_mode": {
    "name": "ipython",
    "version": 3
   },
   "file_extension": ".py",
   "mimetype": "text/x-python",
   "name": "python",
   "nbconvert_exporter": "python",
   "pygments_lexer": "ipython3",
   "version": "3.8.5"
  }
 },
 "nbformat": 4,
 "nbformat_minor": 4
}
