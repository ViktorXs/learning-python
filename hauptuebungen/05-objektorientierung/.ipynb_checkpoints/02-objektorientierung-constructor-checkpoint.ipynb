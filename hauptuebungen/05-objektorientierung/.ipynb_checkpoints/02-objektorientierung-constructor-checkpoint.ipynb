{
 "cells": [
  {
   "cell_type": "markdown",
   "metadata": {},
   "source": [
    "# Objektorientierung: Constructor, Eigenschaften abändern\n",
    "- Eigenschaften einer Klasse definieren\n",
    "- Eigenschaften einer Instanz ändern"
   ]
  },
  {
   "cell_type": "markdown",
   "metadata": {},
   "source": [
    "## Ausgangssituation"
   ]
  },
  {
   "cell_type": "code",
   "execution_count": 21,
   "metadata": {},
   "outputs": [],
   "source": [
    "class Person():\n",
    "    def indiv(self):\n",
    "        print(self.firstName + \" \" + self.lastName + \" is \" + str(self.age) + \" years old.\")\n",
    "\n",
    "viktor = Person()\n",
    "viktor.firstName = \"Viktor\"\n",
    "viktor.lastName = \"Maier\"\n",
    "viktor.age = 34\n",
    "\n",
    "andreas = Person()\n",
    "andreas.firstName = \"Andreas\"\n",
    "andreas.lastName = \"Rathjens\"\n",
    "andreas.age = 36"
   ]
  },
  {
   "cell_type": "code",
   "execution_count": 22,
   "metadata": {},
   "outputs": [
    {
     "name": "stdout",
     "output_type": "stream",
     "text": [
      "Viktor Maier is 34 years old.\n",
      "Andreas Rathjens is 36 years old.\n"
     ]
    }
   ],
   "source": [
    "viktor.indiv()\n",
    "andreas.indiv()"
   ]
  },
  {
   "cell_type": "markdown",
   "metadata": {},
   "source": [
    "## initiiere"
   ]
  },
  {
   "cell_type": "code",
   "execution_count": 8,
   "metadata": {},
   "outputs": [],
   "source": [
    "class Person():\n",
    "    \n",
    "    def __init__(self, firstName, lastName, age, hasCar):     # Konstruktor.\n",
    "                                                      # Wird neu ausgeführt, wenn Funktion aufgerufen wird.\n",
    "                                                      # self bezieht sich auf pers(self)\n",
    "        self.firstName = firstName     # mit dem firstName aus pers(self) verknüpfen\n",
    "        self.lastName = lastName     # usw...\n",
    "        self.age = age\n",
    "        self.hasCar = hasCar\n",
    "        self.term = 0\n",
    "        \n",
    "    def increaseTerm(self):\n",
    "        self.term = self.term + 1\n",
    "\n",
    "    def pers(self):\n",
    "        if self.hasCar == True:\n",
    "            print(self.firstName + \" \" + self.lastName + \" is \" + str(self.age) + \" years old, and is able to drive.\")\n",
    "        else:\n",
    "            print(self.firstName + \" \" + self.lastName + \" is \" + str(self.age) + \" years old, and isn't able to drive.\")\n",
    "        print(\"User permission No. \" + str(self.term))\n",
    "\n",
    "viktor = Person(\"Viktor\", \"Maier\", 34, True)\n",
    "viktor.increaseTerm()\n",
    "viktor.increaseTerm()\n",
    "viktor.increaseTerm()\n",
    "\n",
    "andreas = Person(\"Andreas\", \"Rathjens\", 36, False)\n",
    "andreas.increaseTerm()\n",
    "\n",
    "till = Person(\"Till\", \"Schwieger\", 57, True)"
   ]
  },
  {
   "cell_type": "code",
   "execution_count": 9,
   "metadata": {},
   "outputs": [
    {
     "name": "stdout",
     "output_type": "stream",
     "text": [
      "Viktor Maier is 34 years old, and is able to drive.\n",
      "User permission No. 3\n",
      "\n",
      "Andreas Rathjens is 36 years old, and isn't able to drive.\n",
      "User permission No. 1\n",
      "\n",
      "Till Schwieger is 57 years old, and is able to drive.\n",
      "User permission No. 0\n"
     ]
    }
   ],
   "source": [
    "viktor.pers()\n",
    "print()\n",
    "andreas.pers()\n",
    "print()\n",
    "till.pers()"
   ]
  },
  {
   "cell_type": "code",
   "execution_count": null,
   "metadata": {},
   "outputs": [],
   "source": []
  }
 ],
 "metadata": {
  "kernelspec": {
   "display_name": "Python 3",
   "language": "python",
   "name": "python3"
  },
  "language_info": {
   "codemirror_mode": {
    "name": "ipython",
    "version": 3
   },
   "file_extension": ".py",
   "mimetype": "text/x-python",
   "name": "python",
   "nbconvert_exporter": "python",
   "pygments_lexer": "ipython3",
   "version": "3.8.5"
  }
 },
 "nbformat": 4,
 "nbformat_minor": 4
}
