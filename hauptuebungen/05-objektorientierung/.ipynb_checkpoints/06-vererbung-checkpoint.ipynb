{
 "cells": [
  {
   "cell_type": "markdown",
   "metadata": {},
   "source": [
    "# Vererbung\n",
    "Daten besser aufteilen und modellieren.\n",
    "\n",
    "##### Beschreibungen als Kommentare im Code!"
   ]
  },
  {
   "cell_type": "markdown",
   "metadata": {},
   "source": [
    "## Problem: Doppelter Code"
   ]
  },
  {
   "cell_type": "code",
   "execution_count": 7,
   "metadata": {},
   "outputs": [],
   "source": [
    "class Book():\n",
    "    def __init__(self, title, author):\n",
    "        self.title = title\n",
    "        self.author = author\n",
    "\n",
    "    def showBook(self):\n",
    "        return \"'\" + self.title + \"' from '\" + self.author + \"'\"\n",
    "    \n",
    "# Wenn ein Buch ein Releasejahr hat und das andere nicht, kann man eine neue Klasse erstellen:\n",
    "class BookWithYear():\n",
    "    def __init__(self, title, author, year):\n",
    "        self.title = title\n",
    "        self.author = author\n",
    "        self.year = year\n",
    "\n",
    "    def showBook(self):\n",
    "        return \"'\" + self.title + \"' from '\" + self.author + \"' was released in \" + str(self.year)\n",
    "\n",
    "# !! Dadurch gibt es aber viel doppelten Code...\n",
    "\n",
    "book1 = Book(\"Horrorgeschichten\", \"H.P. Lovecraft\")\n",
    "\n",
    "book2 = BookWithYear(\"I can't believe people are making religions out of my fantasies.\", \"L. Ron Hubbard\", 2021)"
   ]
  },
  {
   "cell_type": "code",
   "execution_count": 8,
   "metadata": {},
   "outputs": [
    {
     "name": "stdout",
     "output_type": "stream",
     "text": [
      "'Horrorgeschichten' from 'H.P. Lovecraft'\n",
      "\n",
      "'I can't believe people are making religions out of my fantasies.' from 'L. Ron Hubbard' was released in 2021\n"
     ]
    }
   ],
   "source": [
    "print(book1.showBook())\n",
    "print()\n",
    "print(book2.showBook())"
   ]
  },
  {
   "cell_type": "markdown",
   "metadata": {},
   "source": [
    "## Stattdessen vererben:"
   ]
  },
  {
   "cell_type": "code",
   "execution_count": 9,
   "metadata": {},
   "outputs": [],
   "source": [
    "class Book():\n",
    "    def __init__(self, title, author):\n",
    "        self.title = title\n",
    "        self.author = author\n",
    "\n",
    "    def showBook(self):\n",
    "        return \"'\" + self.title + \"' by '\" + self.author + \"'\"\n",
    "\n",
    "class BookWithYear(Book):     # Zu vererbende Klasse in die Klammern setzen\n",
    "    def __init__(self, title, author, year):\n",
    "        super().__init__(title, author)     # Constructor von der Elternklasse Book aufrufen mit super().\n",
    "        self.year = year                    # \"super().__init__\" bezieht sich auf Book() in class BookWithYear(Book)!\n",
    "\n",
    "book1 = Book(\"Horrorgeschichten\", \"H.P. Lovecraft\")\n",
    "\n",
    "book2 = BookWithYear(\"I can't believe people are making religions out of my fantasies.\", \"L. Ron Hubbard\", 2021)"
   ]
  },
  {
   "cell_type": "code",
   "execution_count": 10,
   "metadata": {},
   "outputs": [
    {
     "name": "stdout",
     "output_type": "stream",
     "text": [
      "'Horrorgeschichten' by 'H.P. Lovecraft'\n",
      "\n",
      "'I can't believe people are making religions out of my fantasies.' by 'L. Ron Hubbard'\n"
     ]
    }
   ],
   "source": [
    "print(book1.showBook())\n",
    "print()\n",
    "print(book2.showBook())"
   ]
  },
  {
   "cell_type": "markdown",
   "metadata": {},
   "source": [
    "## Überschreiben:"
   ]
  },
  {
   "cell_type": "code",
   "execution_count": 11,
   "metadata": {},
   "outputs": [],
   "source": [
    "class Book():\n",
    "    def __init__(self, title, author):\n",
    "        self.title = title\n",
    "        self.author = author\n",
    "\n",
    "    def showBook(self):\n",
    "        return \"'\" + self.title + \"' by '\" + self.author + \"'\"\n",
    "\n",
    "class BookWithYear(Book):\n",
    "    def __init__(self, title, author, year):\n",
    "        super().__init__(title, author)\n",
    "        self.year = year\n",
    "    \n",
    "    def showBook(self):     # Methode überschreibt durch BookWithYear(Book) die showBook()-Methode in Book())\n",
    "        return \"Working student: \" + \"'\" + self.title + \"' by '\" + self.author + \"'\" + \" from \" + str(self.year) + \".\" # Überschreoben, oder ...\n",
    "        return super().showBook() + \" from \" + str(self.year) + \".\"    # ... mit super() vererben.\n",
    "\n",
    "book1 = Book(\"Horrorgeschichten\", \"H.P. Lovecraft\")\n",
    "\n",
    "book2 = BookWithYear(\"I can't believe people are making religions out of my fantasies.\", \"L. Ron Hubbard\", 2021)"
   ]
  },
  {
   "cell_type": "code",
   "execution_count": 12,
   "metadata": {
    "scrolled": true
   },
   "outputs": [
    {
     "name": "stdout",
     "output_type": "stream",
     "text": [
      "'Horrorgeschichten' by 'H.P. Lovecraft'\n",
      "\n",
      "Working student: 'I can't believe people are making religions out of my fantasies.' by 'L. Ron Hubbard' from 2021.\n"
     ]
    }
   ],
   "source": [
    "print(book1.showBook())\n",
    "print()\n",
    "print(book2.showBook())"
   ]
  },
  {
   "cell_type": "markdown",
   "metadata": {},
   "source": [
    "## Ernstfall:"
   ]
  },
  {
   "cell_type": "code",
   "execution_count": 1,
   "metadata": {},
   "outputs": [],
   "source": [
    "class Book():\n",
    "    def __init__(self, title, author, publisher, copies):\n",
    "        self.title = title\n",
    "        self.author = author\n",
    "        self.publisher = publisher\n",
    "        self.copies = copies\n",
    "\n",
    "    def showBook(self):\n",
    "        print()\n",
    "        return \"'\" + self.title + \"' by '\" + self.author + \"'\" + \" & published by \" + self.publisher + \" with \" + str(self.copies) + \" sold copies.\"\n",
    "\n",
    "class BookWithYear(Book):\n",
    "    def __init__(self, title, author, publisher, copies, year, pages):\n",
    "        super().__init__(title, author, publisher, copies)\n",
    "        self.year = year\n",
    "        self.pages = pages\n",
    "    \n",
    "    def showBook(self):\n",
    "        return super().showBook() + \" Published in \" + str(self.year) + \". Book has \" + str(self.pages) + \" pages.\"\n",
    "\n",
    "books = [\n",
    "    Book(\"Sachen\", \"Dr. Aachen\", \"Publabla\", 100000),\n",
    "    BookWithYear(\"Machen\", \"Herr Rachen\", \"Wir verkaufen nur\", 8410, 1966, 250),\n",
    "    BookWithYear(\"Menschen\", \"Fr. Ensch\", \"Die Versteher\", 8100000000, 1977, 2),\n",
    "    Book(\"Einfach so\", \"Ernst Kompliziert\", \"Achsooo\", 5003),\n",
    "    Book(\"Ohne Grund\", \"Planloser\", \"Reasons Given\", 984),\n",
    "    BookWithYear(\"Weil doch aus Gründen\", \"Irgendjemand\", \"Reading Nonsense\", 1847533, 2010, 1200),\n",
    "    Book(\"Der Meinung eine Meinung geben\", \"Ms. Forgotten\", \"Die Unterdrückten\", 8740),\n",
    "    BookWithYear(\"Wollen aber nichts zugeben\", \"Fremde aus der Zukunft\", \"Fact-factory\", 55410, 2030, 119),\n",
    "    Book(\"Mir gehen die Ideen aus\", \"Miktor Vaier\", \"Ohne Orientierung wie Immer\", 20014)\n",
    "]"
   ]
  },
  {
   "cell_type": "code",
   "execution_count": 2,
   "metadata": {
    "scrolled": true
   },
   "outputs": [
    {
     "name": "stdout",
     "output_type": "stream",
     "text": [
      "\n",
      "'Sachen' by 'Dr. Aachen' & published by Publabla with 100000 sold copies.\n",
      "\n",
      "'Machen' by 'Herr Rachen' & published by Wir verkaufen nur with 8410 sold copies. Published in 1966. Book has 250 pages.\n",
      "\n",
      "'Menschen' by 'Fr. Ensch' & published by Die Versteher with 8100000000 sold copies. Published in 1977. Book has 2 pages.\n",
      "\n",
      "'Einfach so' by 'Ernst Kompliziert' & published by Achsooo with 5003 sold copies.\n",
      "\n",
      "'Ohne Grund' by 'Planloser' & published by Reasons Given with 984 sold copies.\n",
      "\n",
      "'Weil doch aus Gründen' by 'Irgendjemand' & published by Reading Nonsense with 1847533 sold copies. Published in 2010. Book has 1200 pages.\n",
      "\n",
      "'Der Meinung eine Meinung geben' by 'Ms. Forgotten' & published by Die Unterdrückten with 8740 sold copies.\n",
      "\n",
      "'Wollen aber nichts zugeben' by 'Fremde aus der Zukunft' & published by Fact-factory with 55410 sold copies. Published in 2030. Book has 119 pages.\n",
      "\n",
      "'Mir gehen die Ideen aus' by 'Miktor Vaier' & published by Ohne Orientierung wie Immer with 20014 sold copies.\n"
     ]
    }
   ],
   "source": [
    "for book in books:\n",
    "    print(book.showBook())"
   ]
  },
  {
   "cell_type": "code",
   "execution_count": null,
   "metadata": {},
   "outputs": [],
   "source": []
  }
 ],
 "metadata": {
  "kernelspec": {
   "display_name": "Python 3",
   "language": "python",
   "name": "python3"
  },
  "language_info": {
   "codemirror_mode": {
    "name": "ipython",
    "version": 3
   },
   "file_extension": ".py",
   "mimetype": "text/x-python",
   "name": "python",
   "nbconvert_exporter": "python",
   "pygments_lexer": "ipython3",
   "version": "3.8.5"
  }
 },
 "nbformat": 4,
 "nbformat_minor": 4
}
