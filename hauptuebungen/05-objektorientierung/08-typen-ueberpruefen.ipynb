{
 "cells": [
  {
   "cell_type": "markdown",
   "metadata": {},
   "source": [
    "# Typ feststellen mit <code>isinstance</code> oder <code>type</code>"
   ]
  },
  {
   "cell_type": "markdown",
   "metadata": {},
   "source": [
    "## <code>type()</code>"
   ]
  },
  {
   "cell_type": "code",
   "execution_count": 251,
   "metadata": {},
   "outputs": [],
   "source": [
    "class Book:\n",
    "    def __init__(self, title, author):\n",
    "        self.title = title\n",
    "        self.author = author\n",
    "    \n",
    "    def name(self):\n",
    "        return \"'\" + self.title + \"' by '\" + self.author + \"'.\"\n",
    "\n",
    "class BookWithYear(Book):\n",
    "    def __init__(self, title, author, year):\n",
    "        super().__init__(title, author)\n",
    "        self.year = year\n",
    "\n",
    "    def name(self):\n",
    "        return super().name() + \" Released \" + str(self.year) + \".\""
   ]
  },
  {
   "cell_type": "code",
   "execution_count": 252,
   "metadata": {},
   "outputs": [],
   "source": [
    "book1 = Book(\"The pragmatic programmer\", \"Andy Hunt & Dave Thomas\")\n",
    "book2 = BookWithYear(\"The pragmatic programmer\", \"Andy Hunt & Dave Thomas\", 1999)"
   ]
  },
  {
   "cell_type": "code",
   "execution_count": 253,
   "metadata": {},
   "outputs": [
    {
     "name": "stdout",
     "output_type": "stream",
     "text": [
      "<class '__main__.Book'>\n",
      "<class '__main__.BookWithYear'>\n"
     ]
    }
   ],
   "source": [
    "print(type(book1))     # mit type() dene exakten Typ einer Variable ermitteln. In dem Falle ist es Book()...\n",
    "print(type(book2))     # ... und hier BookWithYear"
   ]
  },
  {
   "cell_type": "code",
   "execution_count": 254,
   "metadata": {},
   "outputs": [
    {
     "name": "stdout",
     "output_type": "stream",
     "text": [
      "Diese Zeile wird nur für Buch mit Erscheinungsjahr ausgegeben\n"
     ]
    }
   ],
   "source": [
    "if type(book2) == BookWithYear:\n",
    "    print(\"Diese Zeile wird nur für Buch mit Erscheinungsjahr ausgegeben\")"
   ]
  },
  {
   "cell_type": "code",
   "execution_count": 255,
   "metadata": {
    "scrolled": true
   },
   "outputs": [
    {
     "name": "stdout",
     "output_type": "stream",
     "text": [
      "'The pragmatic programmer' by 'Andy Hunt & Dave Thomas'. Released 1999.\n"
     ]
    }
   ],
   "source": [
    "print(book2.name())"
   ]
  },
  {
   "cell_type": "markdown",
   "metadata": {},
   "source": [
    "## <code>isinstance()</code>"
   ]
  },
  {
   "cell_type": "code",
   "execution_count": 256,
   "metadata": {},
   "outputs": [
    {
     "name": "stdout",
     "output_type": "stream",
     "text": [
      "True\n",
      "True\n",
      "\n",
      "False\n",
      "True\n"
     ]
    }
   ],
   "source": [
    "print(isinstance(book2, BookWithYear)) # Fragen, ob erster Wert zur Klasse BookWithYear gehört\n",
    "print(isinstance(book2, Book)) # Weil book2 von Book() erbt, gehört es auch zu Book().\n",
    "print()\n",
    "print(isinstance(book1, BookWithYear)) # Ein Parent kann aber keinem Erbenden gehören: False\n",
    "print(isinstance(book1, Book))"
   ]
  },
  {
   "cell_type": "markdown",
   "metadata": {},
   "source": [
    "## Eigene Übungen"
   ]
  },
  {
   "cell_type": "code",
   "execution_count": 257,
   "metadata": {},
   "outputs": [
    {
     "name": "stdout",
     "output_type": "stream",
     "text": [
      "True\n"
     ]
    }
   ],
   "source": [
    "var = book2\n",
    "which = BookWithYear\n",
    "\n",
    "print(isinstance(var, which))"
   ]
  },
  {
   "cell_type": "code",
   "execution_count": 258,
   "metadata": {},
   "outputs": [
    {
     "name": "stdout",
     "output_type": "stream",
     "text": [
      "'Machen' by 'Herr Rachen'. Released 1966.\n",
      "'Menschen' by 'Fr. Ensch'. Released 1977.\n",
      "'Weil doch aus Gründen' by 'Irgendjemand'. Released 2010.\n",
      "'Wollen aber nichts zugeben' by 'Fremde aus der Zukunft'. Released 2030.\n"
     ]
    }
   ],
   "source": [
    "books = [\n",
    "    Book(\"Sachen\", \"Dr. Aachen\"),\n",
    "    BookWithYear(\"Machen\", \"Herr Rachen\", 1966),\n",
    "    BookWithYear(\"Menschen\", \"Fr. Ensch\", 1977),\n",
    "    Book(\"Einfach so\", \"Ernst Kompliziert\"),\n",
    "    Book(\"Ohne Grund\", \"Planloser\"),\n",
    "    BookWithYear(\"Weil doch aus Gründen\", \"Irgendjemand\", 2010),\n",
    "    Book(\"Der Meinung eine Meinung geben\", \"Ms. Forgotten\"),\n",
    "    BookWithYear(\"Wollen aber nichts zugeben\", \"Fremde aus der Zukunft\", 2030),\n",
    "    Book(\"Mir gehen die Ideen aus\", \"Miktor Vaier\")\n",
    "]\n",
    "\n",
    "for book in books:\n",
    "    if type(book) == BookWithYear:\n",
    "#    if isinstance(book, BookWithYear):\n",
    "        print(book.name())"
   ]
  },
  {
   "cell_type": "code",
   "execution_count": null,
   "metadata": {},
   "outputs": [],
   "source": []
  }
 ],
 "metadata": {
  "kernelspec": {
   "display_name": "Python 3",
   "language": "python",
   "name": "python3"
  },
  "language_info": {
   "codemirror_mode": {
    "name": "ipython",
    "version": 3
   },
   "file_extension": ".py",
   "mimetype": "text/x-python",
   "name": "python",
   "nbconvert_exporter": "python",
   "pygments_lexer": "ipython3",
   "version": "3.8.5"
  }
 },
 "nbformat": 4,
 "nbformat_minor": 4
}
