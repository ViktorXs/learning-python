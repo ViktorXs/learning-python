{
 "cells": [
  {
   "cell_type": "markdown",
   "metadata": {},
   "source": [
    "# Exceptions in Python\n",
    "Mehrere Exceptions abfangen und Eigene erstellen."
   ]
  },
  {
   "cell_type": "markdown",
   "metadata": {},
   "source": [
    "## Mehrere Exceptions"
   ]
  },
  {
   "cell_type": "code",
   "execution_count": 2,
   "metadata": {},
   "outputs": [
    {
     "name": "stdout",
     "output_type": "stream",
     "text": [
      "No 'datei.xyz'file found\n"
     ]
    }
   ],
   "source": [
    "filename = \"datei.xyz\"\n",
    "\n",
    "try:\n",
    "    with open(filename, \"r\") as file:  # Error 1\n",
    "        print(file)\n",
    "    print(5 / 0)  # Error 2\n",
    "\n",
    "# Exceptions\n",
    "except ZeroDivisionError:\n",
    "    print(\"No division on 0\")\n",
    "except FileNotFoundError:\n",
    "    print(\"No \" + \"'\" + str(filename) + \"'\" + \"file found\")"
   ]
  },
  {
   "cell_type": "markdown",
   "metadata": {},
   "source": [
    "## Über mehrere Ebenen"
   ]
  },
  {
   "cell_type": "code",
   "execution_count": 3,
   "metadata": {},
   "outputs": [
    {
     "name": "stdout",
     "output_type": "stream",
     "text": [
      "hmm :/\n"
     ]
    }
   ],
   "source": [
    "def ja_ne_is_klar():\n",
    "    print(5 / 0)\n",
    "\n",
    "try:\n",
    "    ja_ne_is_klar()\n",
    "except ZeroDivisionError:\n",
    "    print(\"hmm :/\")"
   ]
  },
  {
   "cell_type": "markdown",
   "metadata": {},
   "source": [
    "## Eigene Fehlerklassen implementieren"
   ]
  },
  {
   "cell_type": "code",
   "execution_count": 4,
   "metadata": {},
   "outputs": [
    {
     "ename": "InvalidEmailError",
     "evalue": "Email doesn't contain an @",
     "output_type": "error",
     "traceback": [
      "\u001b[1;31m---------------------------------------------------------------------------\u001b[0m",
      "\u001b[1;31mInvalidEmailError\u001b[0m                         Traceback (most recent call last)",
      "\u001b[1;32m<ipython-input-4-09c5e01b0126>\u001b[0m in \u001b[0;36m<module>\u001b[1;34m\u001b[0m\n\u001b[0;32m      6\u001b[0m         \u001b[1;32mraise\u001b[0m \u001b[0mInvalidEmailError\u001b[0m\u001b[1;33m(\u001b[0m\u001b[1;34m\"Email doesn't contain an @\"\u001b[0m\u001b[1;33m)\u001b[0m \u001b[1;31m# Mit Fehlernachricht.\u001b[0m\u001b[1;33m\u001b[0m\u001b[1;33m\u001b[0m\u001b[0m\n\u001b[0;32m      7\u001b[0m \u001b[1;33m\u001b[0m\u001b[0m\n\u001b[1;32m----> 8\u001b[1;33m \u001b[0msend_mail\u001b[0m\u001b[1;33m(\u001b[0m\u001b[1;34m\"Ichbins.web.de\"\u001b[0m\u001b[1;33m,\u001b[0m \u001b[1;34m\"Hallo\"\u001b[0m\u001b[1;33m,\u001b[0m \u001b[1;34m\"Hallo, ich bins.\"\u001b[0m\u001b[1;33m)\u001b[0m  \u001b[1;31m# hier wurde das @ vergessen.\u001b[0m\u001b[1;33m\u001b[0m\u001b[1;33m\u001b[0m\u001b[0m\n\u001b[0m\u001b[0;32m      9\u001b[0m \u001b[0mprint\u001b[0m\u001b[1;33m(\u001b[0m\u001b[1;34m\"Test\"\u001b[0m\u001b[1;33m)\u001b[0m\u001b[1;33m\u001b[0m\u001b[1;33m\u001b[0m\u001b[0m\n",
      "\u001b[1;32m<ipython-input-4-09c5e01b0126>\u001b[0m in \u001b[0;36msend_mail\u001b[1;34m(email, subject, content)\u001b[0m\n\u001b[0;32m      4\u001b[0m \u001b[1;32mdef\u001b[0m \u001b[0msend_mail\u001b[0m\u001b[1;33m(\u001b[0m\u001b[0memail\u001b[0m\u001b[1;33m,\u001b[0m \u001b[0msubject\u001b[0m\u001b[1;33m,\u001b[0m \u001b[0mcontent\u001b[0m\u001b[1;33m)\u001b[0m\u001b[1;33m:\u001b[0m\u001b[1;33m\u001b[0m\u001b[1;33m\u001b[0m\u001b[0m\n\u001b[0;32m      5\u001b[0m     \u001b[1;32mif\u001b[0m \u001b[1;32mnot\u001b[0m \u001b[1;34m\"@\"\u001b[0m \u001b[1;32min\u001b[0m \u001b[0memail\u001b[0m\u001b[1;33m:\u001b[0m  \u001b[1;31m# definieren, was nicht stimmen soll, um den Fehler auszulösen.\u001b[0m\u001b[1;33m\u001b[0m\u001b[1;33m\u001b[0m\u001b[0m\n\u001b[1;32m----> 6\u001b[1;33m         \u001b[1;32mraise\u001b[0m \u001b[0mInvalidEmailError\u001b[0m\u001b[1;33m(\u001b[0m\u001b[1;34m\"Email doesn't contain an @\"\u001b[0m\u001b[1;33m)\u001b[0m \u001b[1;31m# Mit Fehlernachricht.\u001b[0m\u001b[1;33m\u001b[0m\u001b[1;33m\u001b[0m\u001b[0m\n\u001b[0m\u001b[0;32m      7\u001b[0m \u001b[1;33m\u001b[0m\u001b[0m\n\u001b[0;32m      8\u001b[0m \u001b[0msend_mail\u001b[0m\u001b[1;33m(\u001b[0m\u001b[1;34m\"Ichbins.web.de\"\u001b[0m\u001b[1;33m,\u001b[0m \u001b[1;34m\"Hallo\"\u001b[0m\u001b[1;33m,\u001b[0m \u001b[1;34m\"Hallo, ich bins.\"\u001b[0m\u001b[1;33m)\u001b[0m  \u001b[1;31m# hier wurde das @ vergessen.\u001b[0m\u001b[1;33m\u001b[0m\u001b[1;33m\u001b[0m\u001b[0m\n",
      "\u001b[1;31mInvalidEmailError\u001b[0m: Email doesn't contain an @"
     ]
    }
   ],
   "source": [
    "class InvalidEmailError(Exception):  # Einfach nur eine Klasse erstellen und passen.\n",
    "    pass\n",
    "\n",
    "def send_mail(email, subject, content):\n",
    "    if not \"@\" in email:  # definieren, was nicht stimmen soll, um den Fehler auszulösen.\n",
    "        raise InvalidEmailError(\"Email doesn't contain an @\") # Mit Fehlernachricht.\n",
    "\n",
    "send_mail(\"Ichbins.web.de\", \"Hallo\", \"Hallo, ich bins.\")  # hier wurde das @ vergessen.\n",
    "print(\"Test\")"
   ]
  },
  {
   "cell_type": "markdown",
   "metadata": {},
   "source": [
    "## Und eigene Fehlerklasse excepten"
   ]
  },
  {
   "cell_type": "code",
   "execution_count": 5,
   "metadata": {},
   "outputs": [
    {
     "name": "stdout",
     "output_type": "stream",
     "text": [
      "Test 1\n"
     ]
    }
   ],
   "source": [
    "try:\n",
    "    send_mail(\"holidaytime_at.gmx.com\", \"Greetings\", \"Im from Jamaica\")\n",
    "except InvalidEmailError:\n",
    "    print(\"Test 1\")"
   ]
  },
  {
   "cell_type": "code",
   "execution_count": 6,
   "metadata": {},
   "outputs": [
    {
     "name": "stdout",
     "output_type": "stream",
     "text": [
      "You are not Viktor.\n",
      "Test1\n"
     ]
    }
   ],
   "source": [
    "class InvalidNameError(Exception):\n",
    "    pass\n",
    "\n",
    "def name_enter(name, surname):\n",
    "    if not \"Viktor\" in name:\n",
    "        raise InvalidNameError()\n",
    "\n",
    "name_enter(\"Viktor\", \"Maier\")\n",
    "\n",
    "try:\n",
    "    name_enter(\"Peter\", \"Pan\")\n",
    "\n",
    "except InvalidNameError:\n",
    "    print(\"You are not Viktor.\")\n",
    "print(\"Test1\")"
   ]
  },
  {
   "cell_type": "code",
   "execution_count": null,
   "metadata": {},
   "outputs": [],
   "source": []
  }
 ],
 "metadata": {
  "kernelspec": {
   "display_name": "Python 3",
   "language": "python",
   "name": "python3"
  },
  "language_info": {
   "codemirror_mode": {
    "name": "ipython",
    "version": 3
   },
   "file_extension": ".py",
   "mimetype": "text/x-python",
   "name": "python",
   "nbconvert_exporter": "python",
   "pygments_lexer": "ipython3",
   "version": "3.8.5"
  }
 },
 "nbformat": 4,
 "nbformat_minor": 4
}
