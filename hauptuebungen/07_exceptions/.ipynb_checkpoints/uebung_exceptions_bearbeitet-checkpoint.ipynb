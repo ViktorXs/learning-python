{
 "cells": [
  {
   "cell_type": "markdown",
   "metadata": {},
   "source": [
    "# Übung Exceptions\n",
    "\n",
    "Viel Erfolg bei diesen Übungsaufgaben :)\n",
    "\n",
    "Wenn du mit diesem Übungsblatt fertig bist, kannst du deine Lösung mit der Musterlösung in Textform (Datei: `Uebung Exceptions (Musterloesung)`) vergleichen. \n",
    "\n",
    "Die Video-Musterlösung (in der nächsten Lektion) ist besonders ausführlich gehalten. Wenn du alles richtig gelöst hast, ist es vollkommen okay, wenn du diese Lektion dann überspringst."
   ]
  },
  {
   "cell_type": "markdown",
   "metadata": {},
   "source": [
    "### Aufgabe\n",
    "\n",
    "Deine Zeit im Online-Shop der Mathemagierin neigt sich dem Ende entgegen - du bist bereit für größere Aufgaben! Doch du solltest zuvor noch sicherstellen, dass auch weniger kompetente Anwender deines Codes den Shop nicht ins Verderben führen werden..."
   ]
  },
  {
   "cell_type": "markdown",
   "metadata": {},
   "source": [
    "**a.)** \n",
    "\n",
    "Schreibe eine Exception, die den Fehler abfängt, wenn jemand versucht die folgende Datei zu öffnen, die nicht in diesem Verzeichnis existiert! Gib in dem Fall die Nachricht \"Datei wurde nicht gefunden\" aus. Achte auch darauf, die Datei mit einem geeigneten Konstrukt zu öffnen, falls sie zukünftig doch existieren sollte - ohne, dass es dann zu Fehlern kommen kann, weil die Datei nicht richtig geschlossen wurde."
   ]
  },
  {
   "cell_type": "code",
   "execution_count": 2,
   "metadata": {},
   "outputs": [
    {
     "name": "stdout",
     "output_type": "stream",
     "text": [
      "Datei wurde nicht gefunden.\n"
     ]
    },
    {
     "ename": "NameError",
     "evalue": "name 'file' is not defined",
     "output_type": "error",
     "traceback": [
      "\u001b[1;31m---------------------------------------------------------------------------\u001b[0m",
      "\u001b[1;31mNameError\u001b[0m                                 Traceback (most recent call last)",
      "\u001b[1;32m<ipython-input-2-5da1862cf121>\u001b[0m in \u001b[0;36m<module>\u001b[1;34m\u001b[0m\n\u001b[0;32m      6\u001b[0m     \u001b[0mprint\u001b[0m\u001b[1;33m(\u001b[0m\u001b[1;34m\"Datei wurde nicht gefunden.\"\u001b[0m\u001b[1;33m)\u001b[0m\u001b[1;33m\u001b[0m\u001b[1;33m\u001b[0m\u001b[0m\n\u001b[0;32m      7\u001b[0m \u001b[1;32mfinally\u001b[0m\u001b[1;33m:\u001b[0m\u001b[1;33m\u001b[0m\u001b[1;33m\u001b[0m\u001b[0m\n\u001b[1;32m----> 8\u001b[1;33m     \u001b[0mfile\u001b[0m\u001b[1;33m.\u001b[0m\u001b[0mclose\u001b[0m\u001b[1;33m(\u001b[0m\u001b[1;33m)\u001b[0m\u001b[1;33m\u001b[0m\u001b[1;33m\u001b[0m\u001b[0m\n\u001b[0m",
      "\u001b[1;31mNameError\u001b[0m: name 'file' is not defined"
     ]
    }
   ],
   "source": [
    "# hier kommt dein Code hin\n",
    "try:\n",
    "    file = open(\"nicht_oeffnen.txt\", \"r\")\n",
    "    print(file)\n",
    "except FileNotFoundError:\n",
    "    print(\"Datei wurde nicht gefunden.\")\n",
    "finally:\n",
    "    file.close()"
   ]
  },
  {
   "cell_type": "markdown",
   "metadata": {},
   "source": [
    "**b.)**\n",
    "\n",
    "Schau dir an, welcher Fehlertyp bei der Ausführung des folgenden Code auftritt. Fange den Fehler mit **try except** ab und gib eine passende Fehlermeldung aus!"
   ]
  },
  {
   "cell_type": "code",
   "execution_count": 3,
   "metadata": {},
   "outputs": [
    {
     "name": "stdout",
     "output_type": "stream",
     "text": [
      "150\n",
      "1150\n",
      "Key fehlt im dictionary\n"
     ]
    }
   ],
   "source": [
    "articles = [\"Unsichtbare Tastatur\", \"Holographisches Display\", \"Endlosschleifenschneider\"]\n",
    "\n",
    "prices = {\"Unsichtbare Tastatur\": 150, \"Holographisches Display\": 1150}\n",
    "\n",
    "\n",
    "def print_prices():\n",
    "    for article in articles:\n",
    "        try:\n",
    "            print(prices[article])\n",
    "        except KeyError:\n",
    "            print(\"Key fehlt im dictionary\")\n",
    "\n",
    "print_prices()"
   ]
  },
  {
   "cell_type": "markdown",
   "metadata": {},
   "source": [
    "Erwartete Ausgabe:\n",
    "\n",
    "```\n",
    "150\n",
    "1150\n",
    "key fehlt im dictionary\n",
    "```"
   ]
  },
  {
   "cell_type": "markdown",
   "metadata": {},
   "source": [
    "**c.)** \n",
    "\n",
    "Zuletzt erstellst du noch eine Fehlerklasse, die aufgerufen wird, wenn es sich bei d um ein leeres dictionary handelt. Dann soll ein `EmptyDictionaryError` auftreten mit dem Hinweis, dass das dictionary d kein Element enthält."
   ]
  },
  {
   "cell_type": "code",
   "execution_count": 9,
   "metadata": {},
   "outputs": [
    {
     "ename": "EmptyDictionaryError",
     "evalue": "d enthält kein Element",
     "output_type": "error",
     "traceback": [
      "\u001b[1;31m---------------------------------------------------------------------------\u001b[0m",
      "\u001b[1;31mEmptyDictionaryError\u001b[0m                      Traceback (most recent call last)",
      "\u001b[1;32m<ipython-input-9-e9719c16053a>\u001b[0m in \u001b[0;36m<module>\u001b[1;34m\u001b[0m\n\u001b[0;32m      5\u001b[0m \u001b[1;33m\u001b[0m\u001b[0m\n\u001b[0;32m      6\u001b[0m \u001b[1;32mif\u001b[0m \u001b[0mlen\u001b[0m\u001b[1;33m(\u001b[0m\u001b[0md\u001b[0m\u001b[1;33m)\u001b[0m \u001b[1;33m==\u001b[0m \u001b[1;36m0\u001b[0m\u001b[1;33m:\u001b[0m\u001b[1;33m\u001b[0m\u001b[1;33m\u001b[0m\u001b[0m\n\u001b[1;32m----> 7\u001b[1;33m     \u001b[1;32mraise\u001b[0m \u001b[0mEmptyDictionaryError\u001b[0m\u001b[1;33m(\u001b[0m\u001b[1;34m\"d enthält kein Element\"\u001b[0m\u001b[1;33m)\u001b[0m\u001b[1;33m\u001b[0m\u001b[1;33m\u001b[0m\u001b[0m\n\u001b[0m",
      "\u001b[1;31mEmptyDictionaryError\u001b[0m: d enthält kein Element"
     ]
    }
   ],
   "source": [
    "class EmptyDictionaryError(Exception):\n",
    "    pass\n",
    "\n",
    "d = {}\n",
    "\n",
    "if len(d) == 0:\n",
    "    raise EmptyDictionaryError(\"d enthält kein Element\")"
   ]
  },
  {
   "cell_type": "markdown",
   "metadata": {},
   "source": [
    "Erwartete Ausgabe:\n",
    "\n",
    "```\n",
    "---------------------------------------------------------------------------\n",
    "EmptyDictionaryError                      Traceback (most recent call last)\n",
    "<ipython-input-7-75e49afb1af6> in <module>()\n",
    "      5 \n",
    "      6 if len(d) == 0:\n",
    "----> 7     raise EmptyDictionaryError(\"d enthält kein Element\")\n",
    "\n",
    "EmptyDictionaryError: d enthält kein Element\n",
    "```\n"
   ]
  },
  {
   "cell_type": "markdown",
   "metadata": {},
   "source": [
    "### Gut gemacht! :-)"
   ]
  },
  {
   "cell_type": "code",
   "execution_count": null,
   "metadata": {
    "collapsed": true
   },
   "outputs": [],
   "source": []
  }
 ],
 "metadata": {
  "kernelspec": {
   "display_name": "Python 3",
   "language": "python",
   "name": "python3"
  }
 },
 "nbformat": 4,
 "nbformat_minor": 2
}
