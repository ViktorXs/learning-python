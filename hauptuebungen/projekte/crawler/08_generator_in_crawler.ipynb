{
 "cells": [
  {
   "cell_type": "code",
   "execution_count": 16,
   "metadata": {},
   "outputs": [],
   "source": [
    "import csv\n",
    "import requests\n",
    "from bs4 import BeautifulSoup\n",
    "from urllib.parse import urljoin\n",
    "import time"
   ]
  },
  {
   "cell_type": "code",
   "execution_count": 13,
   "metadata": {},
   "outputs": [],
   "source": [
    "class CrawledArticle():\n",
    "    def __init__(self, title, emoji, content, image):\n",
    "        self.title = title\n",
    "        self.emoji = emoji\n",
    "        self.content = content\n",
    "        self.image = image\n",
    "        \n",
    "class ArticleFetcher():\n",
    "    def fetch(self):\n",
    "        url = \"http://python.beispiel.programmierenlernen.io/index.php\"\n",
    "\n",
    "        while url != \"\":\n",
    "            print(url)\n",
    "            # articles = []  # nicht mehr benötigt\n",
    "            \n",
    "            time.sleep(1)\n",
    "            r = requests.get(url)\n",
    "            page = BeautifulSoup(r.text, \"html.parser\")\n",
    "            \n",
    "            for card in page.select(\".card\"):\n",
    "                title = card.select(\".card-title span\")[1].text\n",
    "                emoji = card.select_one(\".emoji\").text\n",
    "                content = card.select_one(\".card-text\").text\n",
    "                image = urljoin(url, card.select_one(\"img\").attrs[\"src\"])\n",
    "                \n",
    "                # crawled = CrawledArticle(title, emoji, content, image)  # Nicht notwendig...\n",
    "                # articles.append(crawled)  # ...in Variable zu speichern\n",
    "                \n",
    "                yield CrawledArticle(title, emoji, content, image)  # stattdessen yield\n",
    "                \n",
    "            next_button = page.select_one(\".navigation .btn\")\n",
    "            if next_button:\n",
    "                next_page = next_button.attrs[\"href\"]\n",
    "                next_page = urljoin(url, next_page)\n",
    "                url = next_page\n",
    "            else:\n",
    "                url = \"\"\n",
    "                print(\"done\")"
   ]
  },
  {
   "cell_type": "code",
   "execution_count": 14,
   "metadata": {},
   "outputs": [],
   "source": [
    "fetcher = ArticleFetcher()"
   ]
  },
  {
   "cell_type": "markdown",
   "metadata": {},
   "source": [
    "## Mit Generator gewünschte Menge ausgeben:\n",
    "Beschränken, wie weit gezählt werden soll. Der Generator geht nur sweit vorgegeben, während herkömmlich erst alle Seiten durchgegangen werden und dann die gewünschte Anzahl zurückgegeben wird."
   ]
  },
  {
   "cell_type": "code",
   "execution_count": 20,
   "metadata": {},
   "outputs": [
    {
     "name": "stdout",
     "output_type": "stream",
     "text": [
      "http://python.beispiel.programmierenlernen.io/index.php\n",
      "😩: Polarised modular conglomeration\n",
      "😐: Cross-group contextually-based middleware\n",
      "😌: De-engineered encompassing structure\n",
      "😚: Fully-configurable multi-tasking interface\n",
      "😠: Versatile eco-centric core\n",
      "😮: Optional maximized utilisation\n",
      "😢: Open-architected secondary product\n",
      "http://python.beispiel.programmierenlernen.io/index.php?page=2\n",
      "😠: Realigned zerotolerance function\n",
      "😆: Quality-focused user-facing help-desk\n",
      "😤: Proactive user-facing opensystem\n",
      "😟: Decentralized holistic moderator\n",
      "😌: Mandatory tangible application\n",
      "😓: Digitized dedicated budgetarymanagement\n",
      "😞: Organized well-modulated concept\n",
      "http://python.beispiel.programmierenlernen.io/index.php?page=3\n",
      "😢: Balanced optimal openarchitecture\n",
      "😏: Universal explicit throughput\n",
      "😳: Polarised mobile algorithm\n",
      "😚: Mandatory homogeneous infrastructure\n",
      "😲: Business-focused interactive implementation\n",
      "done\n"
     ]
    }
   ],
   "source": [
    "with open(\"articles.csv\", \"w\", newline=\"\", encoding='utf-8') as csvfile:\n",
    "    article_writer = csv.writer(csvfile, delimiter=\";\", quotechar='\"')\n",
    "    counter = 0  # Counter Vorgabe für beschränkung\n",
    "    \n",
    "    for article in fetcher.fetch():\n",
    "        if counter == 19:  # Beschränken\n",
    "            break\n",
    "        counter = counter + 1\n",
    "        \n",
    "        article_writer.writerow([article.emoji, article.title, article.content, article.image])\n",
    "        \n",
    "        print(article.emoji + \": \" + article.title)\n",
    "    print(\"done\")"
   ]
  },
  {
   "cell_type": "code",
   "execution_count": null,
   "metadata": {},
   "outputs": [],
   "source": []
  }
 ],
 "metadata": {
  "kernelspec": {
   "display_name": "Python 3",
   "language": "python",
   "name": "python3"
  },
  "language_info": {
   "codemirror_mode": {
    "name": "ipython",
    "version": 3
   },
   "file_extension": ".py",
   "mimetype": "text/x-python",
   "name": "python",
   "nbconvert_exporter": "python",
   "pygments_lexer": "ipython3",
   "version": "3.8.5"
  }
 },
 "nbformat": 4,
 "nbformat_minor": 4
}
