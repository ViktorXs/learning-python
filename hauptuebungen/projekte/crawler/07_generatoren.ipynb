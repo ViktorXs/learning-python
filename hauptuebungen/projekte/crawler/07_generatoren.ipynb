{
 "cells": [
  {
   "cell_type": "markdown",
   "metadata": {},
   "source": [
    "# Python Wissen: Generatoren\n",
    "Crawler vereinfachen mit Generatoren\n",
    "\n",
    "Problem: Manchmal interessieren mich nur die ersten 5 Einträge und manchmal auch Alle.\n",
    "Wie der .fetch() - Methode beibringen, welche Einträge mich interessieren?"
   ]
  },
  {
   "cell_type": "markdown",
   "metadata": {},
   "source": [
    "## Was sind Generatoren?\n",
    "Daten werden on the fly generiert, wenn man sie wirklich benötigt.\n",
    "\n",
    "### Herkömmlich mit Variable:"
   ]
  },
  {
   "cell_type": "code",
   "execution_count": 22,
   "metadata": {},
   "outputs": [
    {
     "name": "stdout",
     "output_type": "stream",
     "text": [
      "[0, 1, 2, 3, 4, 5, 6, 7, 8, 9]\n",
      "0\n",
      "1\n",
      "2\n",
      "3\n",
      "4\n",
      "5\n",
      "6\n",
      "7\n",
      "8\n",
      "9\n"
     ]
    }
   ],
   "source": [
    "def gen_liste():\n",
    "    liste = []  # Zuerst Liste aufbauen\n",
    "    \n",
    "    for i in range(0, 10):  # Wird mit der for-Schleife durchgegangen\n",
    "        liste.append(i)\n",
    "    print(liste)  # Die Liste wird zwischenzeitlich fertig berechnet\n",
    "    return liste\n",
    "\n",
    "for example in gen_liste():\n",
    "    print(example)"
   ]
  },
  {
   "cell_type": "markdown",
   "metadata": {},
   "source": [
    "## Generator:"
   ]
  },
  {
   "cell_type": "code",
   "execution_count": 34,
   "metadata": {},
   "outputs": [
    {
     "name": "stdout",
     "output_type": "stream",
     "text": [
      "0\n",
      "1\n",
      "2\n",
      "3\n",
      "4\n",
      "5\n",
      "6\n",
      "7\n",
      "8\n",
      "9\n"
     ]
    }
   ],
   "source": [
    "def gen_generator():\n",
    "    for i in range(0, 10):\n",
    "        yield i  # Generator\n",
    "\n",
    "for element in gen_generator():\n",
    "    print(element)"
   ]
  },
  {
   "cell_type": "markdown",
   "metadata": {},
   "source": [
    "## Unterschiede:"
   ]
  },
  {
   "cell_type": "markdown",
   "metadata": {},
   "source": [
    "### Herkömmlich:"
   ]
  },
  {
   "cell_type": "code",
   "execution_count": 33,
   "metadata": {},
   "outputs": [
    {
     "name": "stdout",
     "output_type": "stream",
     "text": [
      "liste: 0\n",
      "liste: 1\n",
      "liste: 2\n",
      "liste: 3\n",
      "liste: 4\n",
      "liste: 5\n",
      "liste: 6\n",
      "liste: 7\n",
      "liste: 8\n",
      "liste: 9\n",
      "[0, 1, 2, 3, 4, 5, 6, 7, 8, 9]\n",
      "for: 0\n",
      "for: 1\n",
      "for: 2\n",
      "for: 3\n",
      "for: 4\n",
      "for: 5\n",
      "for: 6\n",
      "for: 7\n",
      "for: 8\n",
      "for: 9\n"
     ]
    }
   ],
   "source": [
    "def gen_liste():\n",
    "    liste = []  # Zuerst Liste aufbauen\n",
    "    \n",
    "    for i in range(0, 10):  # Wird mit der for-Schleife durchgegangen\n",
    "        print(\"liste: \" + str(i))  # Liste wird zuerst generiert\n",
    "        liste.append(i)\n",
    "    print(liste)  # Die Liste wird zwischenzeitlich fertig berechnet\n",
    "    return liste\n",
    "\n",
    "for example in gen_liste():\n",
    "    print(\"for: \" + str(example))  # Liste wird dann durchgegangen"
   ]
  },
  {
   "cell_type": "markdown",
   "metadata": {},
   "source": [
    "### Generator"
   ]
  },
  {
   "cell_type": "code",
   "execution_count": 32,
   "metadata": {},
   "outputs": [
    {
     "name": "stdout",
     "output_type": "stream",
     "text": [
      "gen: 0\n",
      "for: 0\n",
      "gen: 1\n",
      "for: 1\n",
      "gen: 2\n",
      "for: 2\n",
      "gen: 3\n",
      "for: 3\n",
      "gen: 4\n",
      "for: 4\n",
      "gen: 5\n",
      "for: 5\n",
      "gen: 6\n",
      "for: 6\n",
      "gen: 7\n",
      "for: 7\n",
      "gen: 8\n",
      "for: 8\n",
      "gen: 9\n",
      "for: 9\n"
     ]
    }
   ],
   "source": [
    "def gen_generator():\n",
    "    for i in range(0, 10):\n",
    "        print(\"gen: \" + str(i))\n",
    "        yield i\n",
    "# Wenn erster Wert generiert, wird die Funktion angehalten und Wert in \"element\" geschrieben...\n",
    "\n",
    "for element in gen_generator():\n",
    "    print(\"for: \" + str(element))  # ... und wird in der for-Schleife ausgegeben."
   ]
  }
 ],
 "metadata": {
  "kernelspec": {
   "display_name": "Python 3",
   "language": "python",
   "name": "python3"
  },
  "language_info": {
   "codemirror_mode": {
    "name": "ipython",
    "version": 3
   },
   "file_extension": ".py",
   "mimetype": "text/x-python",
   "name": "python",
   "nbconvert_exporter": "python",
   "pygments_lexer": "ipython3",
   "version": "3.8.5"
  }
 },
 "nbformat": 4,
 "nbformat_minor": 4
}
