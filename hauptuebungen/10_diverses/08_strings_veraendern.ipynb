{
 "cells": [
  {
   "cell_type": "markdown",
   "metadata": {},
   "source": [
    "# Mit Strings arbeiten\n",
    "Nützliche Funktionen:\n",
    "- .upper()\n",
    "- .lower()\n",
    "\n",
    "- .startswith()\n",
    "- .endswith()\n",
    "\n",
    "- .strip()\n",
    "- .lstrip()\n",
    "- .rstrip()\n",
    "\n",
    "- .find()\n",
    "\n",
    "- .replace()"
   ]
  },
  {
   "cell_type": "markdown",
   "metadata": {},
   "source": [
    "## Großbuchstaben mit <code>.upper()</code>"
   ]
  },
  {
   "cell_type": "code",
   "execution_count": 38,
   "metadata": {},
   "outputs": [
    {
     "name": "stdout",
     "output_type": "stream",
     "text": [
      "HALLO\n",
      "OH, HALLO\n"
     ]
    }
   ],
   "source": [
    "print(\"Hallo\".upper())\n",
    "\n",
    "capital = \"Oh, Hallo\".upper()\n",
    "print(capital)"
   ]
  },
  {
   "cell_type": "markdown",
   "metadata": {},
   "source": [
    "## Kleinbuchstaben mit <code>.lower()</code>"
   ]
  },
  {
   "cell_type": "code",
   "execution_count": 39,
   "metadata": {},
   "outputs": [
    {
     "name": "stdout",
     "output_type": "stream",
     "text": [
      "oh, hallo\n"
     ]
    }
   ],
   "source": [
    "minuscle = \"Oh, Hallo\".lower()\n",
    "print(minuscle)"
   ]
  },
  {
   "cell_type": "markdown",
   "metadata": {},
   "source": [
    "## Nach ersten oder letzten Zeichen suchen"
   ]
  },
  {
   "cell_type": "markdown",
   "metadata": {},
   "source": [
    "### statt herkömmlich mit <code>if</code>"
   ]
  },
  {
   "cell_type": "code",
   "execution_count": 68,
   "metadata": {},
   "outputs": [
    {
     "name": "stdout",
     "output_type": "stream",
     "text": [
      "True\n"
     ]
    }
   ],
   "source": [
    "sentence00 = \"Eines Tages ging Heinsi in den Wald\"\n",
    "\n",
    "if sentence00[+0] == \"E\":\n",
    "    print(\"True\")"
   ]
  },
  {
   "cell_type": "markdown",
   "metadata": {},
   "source": [
    "### Anfang finden mit <code>.startswith()</code>"
   ]
  },
  {
   "cell_type": "code",
   "execution_count": 73,
   "metadata": {
    "scrolled": true
   },
   "outputs": [
    {
     "name": "stdout",
     "output_type": "stream",
     "text": [
      "'sentence01' starts with 'Ein'.\n",
      "True\n"
     ]
    }
   ],
   "source": [
    "sentence01 = \"Eines Tages ging Heinsi in den Wald\"  # Erstes Wort in Leserichtung nur ein Buchstabe oder mehrere Buchstaben\n",
    "if sentence01.startswith(\"Ein\"):\n",
    "    print(\"'sentence01' starts with 'Ein'.\")\n",
    "\n",
    "#  oder\n",
    "sentence01 = \"Eines Tages ging Heinsi in den Wald\".startswith(\"E\")  # Erstes Wort in Leserichtung nur ein Buchstabe oder mehrere Buchstaben\n",
    "print(sentence01)"
   ]
  },
  {
   "cell_type": "markdown",
   "metadata": {},
   "source": [
    "### Ende finden mit <code>.endswith()</code>"
   ]
  },
  {
   "cell_type": "code",
   "execution_count": 72,
   "metadata": {
    "scrolled": true
   },
   "outputs": [
    {
     "name": "stdout",
     "output_type": "stream",
     "text": [
      "'sentence02' ends with 'ald'.\n",
      "True\n"
     ]
    }
   ],
   "source": [
    "sentence02 = \"Eines Tages ging Heinsi in den Wald\"\n",
    "if sentence02.endswith(\"ald\"):              # letztes Wort oder Zeichen. Immer die letzten Buchstaben. Z.B.: \"Wald\", \"ald\", ld\", \"d\"\n",
    "    print(\"'sentence02' ends with 'ald'.\")  # Aber nicht nach Leserichtung des letzten Wortes! Geht nicht z.B.: \"W\", \"Wa\", \"Wal\"\n",
    "\n",
    "sentence02 = \"Eines Tages ging Heinsi in den Wald\".endswith(\"o\")\n",
    "print(ends_with)"
   ]
  },
  {
   "cell_type": "markdown",
   "metadata": {},
   "source": [
    "## Zeichen entfernen mit .<code>strip()</code>, <code>.lstrip()</code> & <code>.rstrip()</code>"
   ]
  },
  {
   "cell_type": "code",
   "execution_count": 104,
   "metadata": {},
   "outputs": [
    {
     "name": "stdout",
     "output_type": "stream",
     "text": [
      "___Hallo meine_Freunde der Nacht.___\n"
     ]
    }
   ],
   "source": [
    "word = \"___Hallo meine_Freunde der Nacht.___\"\n",
    "print(word)"
   ]
  },
  {
   "cell_type": "code",
   "execution_count": 105,
   "metadata": {},
   "outputs": [
    {
     "name": "stdout",
     "output_type": "stream",
     "text": [
      "Hallo meine_Freunde der Nacht\n"
     ]
    }
   ],
   "source": [
    "print(word.strip(\"_.\"))  # Leerzeichen/Unterstriche und Punkte uvm. entfernen"
   ]
  },
  {
   "cell_type": "code",
   "execution_count": 108,
   "metadata": {},
   "outputs": [
    {
     "name": "stdout",
     "output_type": "stream",
     "text": [
      "Hallo meine_Freunde der Nacht.___\n",
      "___Hallo meine_Freunde der Nacht.\n",
      "Hallo meine_Freunde der Nacht.\n"
     ]
    }
   ],
   "source": [
    "print(word.lstrip(\"_\"))  # nur auf den linken Seiten Zeichen löschen\n",
    "print(word.rstrip(\"_\"))\n",
    "print(word.strip(\"_\"))"
   ]
  },
  {
   "cell_type": "code",
   "execution_count": 114,
   "metadata": {},
   "outputs": [
    {
     "name": "stdout",
     "output_type": "stream",
     "text": [
      "Wird das Wetter heute und morgen gut\n"
     ]
    }
   ],
   "source": [
    "sentence03 = \"Wird das Wetter heute, und morgen gut?!?\"\n",
    "print(sentence03.rstrip(\"!?.\"))"
   ]
  },
  {
   "cell_type": "markdown",
   "metadata": {},
   "source": [
    "## Positionen finden mit <code>.find()</code>"
   ]
  },
  {
   "cell_type": "code",
   "execution_count": 124,
   "metadata": {},
   "outputs": [
    {
     "name": "stdout",
     "output_type": "stream",
     "text": [
      "21\n",
      "-1\n"
     ]
    }
   ],
   "source": [
    "sentence03 = \"Wird das Wetter heute, und morgen gut?!?\"\n",
    "print(sentence03.find(\",\"))\n",
    "print(sentence03.find(\".\"))  # -1 Ausgabe, wenn keine Zeichen gefunden werden"
   ]
  },
  {
   "cell_type": "code",
   "execution_count": 125,
   "metadata": {},
   "outputs": [
    {
     "name": "stdout",
     "output_type": "stream",
     "text": [
      ",\n"
     ]
    }
   ],
   "source": [
    "print(sentence03[21])"
   ]
  },
  {
   "cell_type": "markdown",
   "metadata": {},
   "source": [
    "## Ersetzen mit <code>.replace()</code>"
   ]
  },
  {
   "cell_type": "code",
   "execution_count": 133,
   "metadata": {},
   "outputs": [
    {
     "name": "stdout",
     "output_type": "stream",
     "text": [
      "Wird_das_Wetter_heute,_und_morgen_gut?!?\n",
      "Wird das Wittir hiuti, und morgin gut?!?\n"
     ]
    }
   ],
   "source": [
    "sentence03 = \"Wird das Wetter heute, und morgen gut?!?\"\n",
    "print(sentence03.replace(\" \", \"_\"))  # Ersten Wert ersetzen mit zweiten\n",
    "print(sentence03.replace(\"e\", \"i\"))"
   ]
  }
 ],
 "metadata": {
  "kernelspec": {
   "display_name": "Python 3",
   "language": "python",
   "name": "python3"
  },
  "language_info": {
   "codemirror_mode": {
    "name": "ipython",
    "version": 3
   },
   "file_extension": ".py",
   "mimetype": "text/x-python",
   "name": "python",
   "nbconvert_exporter": "python",
   "pygments_lexer": "ipython3",
   "version": "3.8.5"
  }
 },
 "nbformat": 4,
 "nbformat_minor": 4
}
