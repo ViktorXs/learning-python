{
 "cells": [
  {
   "cell_type": "markdown",
   "metadata": {},
   "source": [
    "# Strings formatieren mit <code>.format()</code>\n",
    "Z.B. Werte in ein String setzen.\n",
    "## Bisher reichte  <code>str()</code> für einfache Ausgaben:"
   ]
  },
  {
   "cell_type": "code",
   "execution_count": 12,
   "metadata": {},
   "outputs": [
    {
     "name": "stdout",
     "output_type": "stream",
     "text": [
      "Ich habe 10 Fische im Aquarium.\n"
     ]
    }
   ],
   "source": [
    "n = 10\n",
    "print(\"Ich habe \" + str(n) + \" Fische im Aquarium.\")"
   ]
  },
  {
   "cell_type": "markdown",
   "metadata": {},
   "source": [
    "## Kompliziert in Dictionaries mit <code>.replace()</code> und <code>.str()</code>"
   ]
  },
  {
   "cell_type": "code",
   "execution_count": 13,
   "metadata": {},
   "outputs": [
    {
     "name": "stdout",
     "output_type": "stream",
     "text": [
      "There are 8 fishes available.\n"
     ]
    }
   ],
   "source": [
    "n = 8\n",
    "translations = {\n",
    "    \"show fish count\": \"There are XXX fishes available.\"\n",
    "}\n",
    "print(translations[\"show fish count\"].replace(\"XXX\", str(n)))"
   ]
  },
  {
   "cell_type": "markdown",
   "metadata": {},
   "source": [
    "## Mit <code>{<i>Platzhalter</i>}</code> & <code>.format(<i>Platzhalter</i>)</code> für komplexere Ausgaben:\n",
    "<code>{ }</code> gibt einen Platzhalter. Die Zahl bestimmt die Platzhalter für <code>format()</code> <code>format(Platzhalter1, Platzhalter2, usw.)</code><br>\n",
    "Mit <code>format()</code> können Zahlen und Strings kombiniert werden ohne sie mit <code>int()</code> oder <code>str()</code> zu formatieren. "
   ]
  },
  {
   "cell_type": "code",
   "execution_count": 72,
   "metadata": {},
   "outputs": [
    {
     "name": "stdout",
     "output_type": "stream",
     "text": [
      "Ich habe 7 Fische.\n"
     ]
    }
   ],
   "source": [
    "n = 7\n",
    "translation = {\n",
    "    \"number_of_fishes\": \"Ich habe {0} Fische.\"\n",
    "}\n",
    "print(translation[\"number_of_fishes\"].format(n))  # statt .replace() & .str()"
   ]
  },
  {
   "cell_type": "code",
   "execution_count": 73,
   "metadata": {},
   "outputs": [
    {
     "name": "stdout",
     "output_type": "stream",
     "text": [
      "Ich habe 6 Fische und 6 Schnecken im Aquarium.\n"
     ]
    }
   ],
   "source": [
    "print(\"Ich habe {0} Fische und {1} {2} im {3}.\".format(6, 6, \"Schnecken\", container))"
   ]
  },
  {
   "cell_type": "markdown",
   "metadata": {},
   "source": [
    "## Nachkommastellen"
   ]
  },
  {
   "cell_type": "code",
   "execution_count": 108,
   "metadata": {},
   "outputs": [
    {
     "name": "stdout",
     "output_type": "stream",
     "text": [
      "The mystery of 3.142\n",
      "Ich habe 6 Fische und 6.00000 Schnecken im Aquarium.\n"
     ]
    }
   ],
   "source": [
    "pi = 3.1415926\n",
    "print(\"The mystery of {0:.3f}\".format(pi))  # \":.3f\" = (.3) = gerundet auf 3 Nachkommastellen, f = float\n",
    "\n",
    "print(\"Ich habe {0} Fische und {1:.5f} {2} im {3}.\".format(6, 6, \"Schnecken\", container))"
   ]
  },
  {
   "cell_type": "markdown",
   "metadata": {},
   "source": [
    "### Übungen"
   ]
  },
  {
   "cell_type": "code",
   "execution_count": 101,
   "metadata": {},
   "outputs": [
    {
     "name": "stdout",
     "output_type": "stream",
     "text": [
      "Ich habe 5 Fische und 8 Schnecken im Aquarium.\n"
     ]
    }
   ],
   "source": [
    "n = 5\n",
    "s = 8\n",
    "container = \"Aquarium\"\n",
    "print(\"Ich habe {0} Fische und {1} Schnecken im {2}.\".format(n, s, container))"
   ]
  },
  {
   "cell_type": "code",
   "execution_count": 76,
   "metadata": {},
   "outputs": [
    {
     "name": "stdout",
     "output_type": "stream",
     "text": [
      "Ich habe 3 Fische und 11 Schnecken im Aquarium.\n"
     ]
    }
   ],
   "source": [
    "# Übung\n",
    "a = \"Ich\"\n",
    "b = \"habe\"\n",
    "c = 3\n",
    "d = \"Fische\"\n",
    "e = \"und\"\n",
    "f = 11\n",
    "g = \"Schnecken\"\n",
    "h = \"im\"\n",
    "i = \"Aquarium.\"\n",
    "\n",
    "print(\"{0} {1} {2} {3} {4} {5} {6} {7} {8}\".format(a, b, c, d, e, f, g, h, i))"
   ]
  },
  {
   "cell_type": "code",
   "execution_count": 84,
   "metadata": {},
   "outputs": [
    {
     "name": "stdout",
     "output_type": "stream",
     "text": [
      "Ich habe 2 Aquarien.\n",
      "Ich habe 1 Fisch und 13 Schnecken\n"
     ]
    }
   ],
   "source": [
    "# Anarchie\n",
    "print(\"{0} {1} {number} {container}\".format(\"Ich\", \"habe\", number = 2, container = \"Aquarien.\"))\n",
    "\n",
    "print(\"{0} {1} {number} {animal} {and_} {num} {snail}\".format(\"Ich\", \"habe\", number = 1, animal = \"Fisch\", and_ = \"und\", num = 13, snail = \"Schnecken\"))"
   ]
  },
  {
   "cell_type": "markdown",
   "metadata": {},
   "source": [
    "#### nach keyword argument keine nummerierte Platzhalter mehr  möglich"
   ]
  },
  {
   "cell_type": "code",
   "execution_count": 110,
   "metadata": {},
   "outputs": [
    {
     "ename": "SyntaxError",
     "evalue": "positional argument follows keyword argument (<ipython-input-110-63c5edba2216>, line 2)",
     "output_type": "error",
     "traceback": [
      "\u001b[1;36m  File \u001b[1;32m\"<ipython-input-110-63c5edba2216>\"\u001b[1;36m, line \u001b[1;32m2\u001b[0m\n\u001b[1;33m    print(\"{0} {1} {number} {animal} {4}\".format(\"Ich\", \"habe\", number = 2, animal = \"Fische\", \"und\"))\u001b[0m\n\u001b[1;37m                                                                                               ^\u001b[0m\n\u001b[1;31mSyntaxError\u001b[0m\u001b[1;31m:\u001b[0m positional argument follows keyword argument\n"
     ]
    }
   ],
   "source": [
    "# SyntaxError: positional argument follows keyword argument\n",
    "print(\"{0} {1} {number} {animal} {4}\".format(\"Ich\", \"habe\", number = 2, animal = \"Fische\", \"und\"))"
   ]
  }
 ],
 "metadata": {
  "kernelspec": {
   "display_name": "Python 3",
   "language": "python",
   "name": "python3"
  },
  "language_info": {
   "codemirror_mode": {
    "name": "ipython",
    "version": 3
   },
   "file_extension": ".py",
   "mimetype": "text/x-python",
   "name": "python",
   "nbconvert_exporter": "python",
   "pygments_lexer": "ipython3",
   "version": "3.8.5"
  }
 },
 "nbformat": 4,
 "nbformat_minor": 4
}
