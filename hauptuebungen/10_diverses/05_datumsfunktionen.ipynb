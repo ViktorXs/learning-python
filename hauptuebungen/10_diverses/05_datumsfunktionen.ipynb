{
 "cells": [
  {
   "cell_type": "markdown",
   "metadata": {},
   "source": [
    "# Rechnen  mit Datumswerten"
   ]
  },
  {
   "cell_type": "markdown",
   "metadata": {},
   "source": [
    "Datetime Modul: https://docs.python.org/3/library/datetime.html"
   ]
  },
  {
   "cell_type": "code",
   "execution_count": 1,
   "metadata": {},
   "outputs": [],
   "source": [
    "from datetime import datetime"
   ]
  },
  {
   "cell_type": "markdown",
   "metadata": {},
   "source": [
    "## Aktuelles Datum und aktuelle Zeit anzeigen"
   ]
  },
  {
   "cell_type": "code",
   "execution_count": 37,
   "metadata": {},
   "outputs": [
    {
     "name": "stdout",
     "output_type": "stream",
     "text": [
      "2021-06-30 11:59:58.240531\n"
     ]
    }
   ],
   "source": [
    "def request_time():\n",
    "    print(datetime.now())\n",
    "\n",
    "\n",
    "request_time()"
   ]
  },
  {
   "cell_type": "code",
   "execution_count": 11,
   "metadata": {},
   "outputs": [
    {
     "name": "stdout",
     "output_type": "stream",
     "text": [
      "2021-06-30 12:08:20.245010\n"
     ]
    },
    {
     "data": {
      "text/plain": [
       "datetime.datetime(2021, 6, 30, 12, 8, 20, 245010)"
      ]
     },
     "execution_count": 11,
     "metadata": {},
     "output_type": "execute_result"
    }
   ],
   "source": [
    "print(datetime.now())\n",
    "datetime.now()"
   ]
  },
  {
   "cell_type": "markdown",
   "metadata": {},
   "source": [
    "## Einen Tag bestimmen\n",
    "now = datetime(Jahr, Monat, Tag, Stunden, Minuten, Sekunden)"
   ]
  },
  {
   "cell_type": "code",
   "execution_count": 32,
   "metadata": {},
   "outputs": [
    {
     "name": "stdout",
     "output_type": "stream",
     "text": [
      "2022-02-24 13:00:00\n",
      "2021-06-30 12:18:47.093445\n"
     ]
    }
   ],
   "source": [
    "a_day = datetime(2022, 2, 24, 13,)  # Minuten und Sekunden werden als Nullen angezeigt, wenn kein Wert\n",
    "print(a_day)\n",
    "now = datetime.now()\n",
    "print(now)"
   ]
  },
  {
   "cell_type": "markdown",
   "metadata": {},
   "source": [
    "### Dieses Datum unterschiedlich abfragen"
   ]
  },
  {
   "cell_type": "code",
   "execution_count": 24,
   "metadata": {},
   "outputs": [
    {
     "name": "stdout",
     "output_type": "stream",
     "text": [
      "13 h\n",
      "0 min\n",
      "0 sec\n",
      "24 d\n",
      "2 m\n",
      "2022 y\n"
     ]
    },
    {
     "data": {
      "text/plain": [
       "2022"
      ]
     },
     "execution_count": 24,
     "metadata": {},
     "output_type": "execute_result"
    }
   ],
   "source": [
    "print(str(a_day.hour) + \" h\")\n",
    "print(str(a_day.minute) + \" min\")\n",
    "print(str(a_day.second) + \" sec\")\n",
    "print(str(a_day.day) + \" d\")\n",
    "print(str(a_day.month) + \" m\")\n",
    "print(str(a_day.year) + \" y\")\n",
    "\n",
    "a_day.hour\n",
    "a_day.second\n",
    "a_day.day\n",
    "a_day.month\n",
    "a_day.year"
   ]
  },
  {
   "cell_type": "markdown",
   "metadata": {},
   "source": [
    "### UNIX-<code>.timestamp()</code>\n",
    "Anzeigen von Sekunden seit dem 01.01.1970."
   ]
  },
  {
   "cell_type": "code",
   "execution_count": 30,
   "metadata": {},
   "outputs": [
    {
     "name": "stdout",
     "output_type": "stream",
     "text": [
      "1645704000.0\n"
     ]
    }
   ],
   "source": [
    "print(a_day.timestamp())"
   ]
  },
  {
   "cell_type": "markdown",
   "metadata": {},
   "source": [
    "#### Differenz ausrechnen"
   ]
  },
  {
   "cell_type": "code",
   "execution_count": 38,
   "metadata": {},
   "outputs": [
    {
     "name": "stdout",
     "output_type": "stream",
     "text": [
      "20655064.755247116\n",
      "239 days, 0:31:04.755247\n"
     ]
    }
   ],
   "source": [
    "a_day = datetime(2022, 2, 24, 13,)  # Minuten und Sekunden werden als Nullen angezeigt, wenn kein Wert\n",
    "now = datetime.now()\n",
    "\n",
    "difference_unix = a_day.timestamp() - now.timestamp()\n",
    "diff_for_humans = a_day - now\n",
    "\n",
    "print(difference_unix)\n",
    "print(diff_for_humans)"
   ]
  },
  {
   "cell_type": "markdown",
   "metadata": {},
   "source": [
    "## Einzelne datetime Module\n",
    "datetime() präsentiert eine volle Datumsangabe (Tag unkl. Zeit)\n",
    "Mit den einzelnen Modulen kann z.B. eine bestimmte Datumsangabe benutzt werden.\n",
    "\n",
    "\n",
    "Importieren nicht vergessen"
   ]
  },
  {
   "cell_type": "code",
   "execution_count": 46,
   "metadata": {},
   "outputs": [
    {
     "name": "stdout",
     "output_type": "stream",
     "text": [
      "Day: 1987-02-24. Time: 07:13:00.123456\n"
     ]
    }
   ],
   "source": [
    "from datetime import date, time\n",
    "\n",
    "my_day = date(1987, 2, 24)\n",
    "my_time = time(7, 13, 0, 123456)\n",
    "\n",
    "print(\"Day: \" + str(my_day) + \". Time: \" + str(my_time))"
   ]
  },
  {
   "cell_type": "markdown",
   "metadata": {},
   "source": [
    "### Weitere Möglichkeiten mit den Modulen"
   ]
  },
  {
   "cell_type": "code",
   "execution_count": 52,
   "metadata": {},
   "outputs": [
    {
     "name": "stdout",
     "output_type": "stream",
     "text": [
      "True\n",
      "False\n",
      "True\n",
      "False\n",
      "True\n",
      "False\n",
      "False\n",
      "True\n"
     ]
    }
   ],
   "source": [
    "print(date(2012, 5, 15) < date(2018, 3, 8))  # True\n",
    "print(date(2012, 5, 15) > date(2018, 3, 8))  # False\n",
    "print(date(2012, 5, 15) != date(2018, 3, 8))  # True\n",
    "print(date(2012, 5, 15) == date(2018, 3, 8))  # False\n",
    "print(date(2012, 5, 15) == date(2012, 5, 15))  # True\n",
    "print(datetime(2012, 5, 15, 12, 30, 25) == date(2012, 5, 15))  # False\n",
    "print(datetime(2012, 5, 15, 0, 0, 0) == date(2012, 5, 15))  # False\n",
    "print(datetime(2012, 5, 15, 0, 0, 0) == datetime(2012, 5, 15))  # True"
   ]
  },
  {
   "cell_type": "code",
   "execution_count": 55,
   "metadata": {},
   "outputs": [
    {
     "name": "stdout",
     "output_type": "stream",
     "text": [
      "2050-10-20 20:30:40\n",
      "20:30:40\n",
      "2050-10-20\n"
     ]
    }
   ],
   "source": [
    "# Datum angeben und mit den date und time modulen abrufen\n",
    "dt = datetime(2050, 10, 20, 20, 30, 40)\n",
    "print(dt)\n",
    "print(dt.time())\n",
    "print(dt.date())"
   ]
  },
  {
   "cell_type": "code",
   "execution_count": 58,
   "metadata": {},
   "outputs": [
    {
     "name": "stdout",
     "output_type": "stream",
     "text": [
      "2017-08-12 20:30:00\n"
     ]
    }
   ],
   "source": [
    "# date und time kombinieren\n",
    "print(datetime.combine(date(2017, 8, 12), time(20, 30, 0)))"
   ]
  },
  {
   "cell_type": "code",
   "execution_count": null,
   "metadata": {},
   "outputs": [],
   "source": []
  }
 ],
 "metadata": {
  "kernelspec": {
   "display_name": "Python 3",
   "language": "python",
   "name": "python3"
  },
  "language_info": {
   "codemirror_mode": {
    "name": "ipython",
    "version": 3
   },
   "file_extension": ".py",
   "mimetype": "text/x-python",
   "name": "python",
   "nbconvert_exporter": "python",
   "pygments_lexer": "ipython3",
   "version": "3.8.5"
  }
 },
 "nbformat": 4,
 "nbformat_minor": 4
}
