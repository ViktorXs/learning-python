{
 "cells": [
  {
   "cell_type": "markdown",
   "metadata": {},
   "source": [
    "# Datumswerte korrekt ausgeben\n",
    "Dokumentation: https://docs.python.org/3/library/datetime.html#strftime-strptime-behavior\n",
    "## Datumsangaben mit <code>.strftime()</code> formatieren\n",
    "\n",
    "Wichtige Direktiven:\n",
    "<pre>\n",
    "%a = Tag als abgekürzten Namen ausgeben\n",
    "%d = Tag als Zahl\n",
    "%m = Monat als Zahl\n",
    "%y = Jahr als zweistellige Zahl\n",
    "%Y = Jahr als Jahrtausend\n",
    "</pre>"
   ]
  },
  {
   "cell_type": "code",
   "execution_count": 1,
   "metadata": {},
   "outputs": [],
   "source": [
    "from datetime import datetime\n",
    "\n",
    "now = datetime.now()"
   ]
  },
  {
   "cell_type": "code",
   "execution_count": 2,
   "metadata": {},
   "outputs": [
    {
     "data": {
      "text/plain": [
       "'Fri, 02.07.2021'"
      ]
     },
     "execution_count": 2,
     "metadata": {},
     "output_type": "execute_result"
    }
   ],
   "source": [
    "now.strftime(\"%a, %d.%m.%Y\")"
   ]
  },
  {
   "cell_type": "markdown",
   "metadata": {},
   "source": [
    "## Datumswerte einlesen mit <code>.strptime()</code>"
   ]
  },
  {
   "cell_type": "code",
   "execution_count": 14,
   "metadata": {},
   "outputs": [
    {
     "name": "stdout",
     "output_type": "stream",
     "text": [
      "30.06.2021\n",
      "2021-06-30 00:00:00\n"
     ]
    }
   ],
   "source": [
    "d = \"30.06.2021\"\n",
    "print(d)\n",
    "\n",
    "striptime = datetime.strptime(d, \"%d.%m.%Y\")  # dasselbe Format angeben, wie es in dem String ist\n",
    "print(striptime)"
   ]
  }
 ],
 "metadata": {
  "kernelspec": {
   "display_name": "Python 3",
   "language": "python",
   "name": "python3"
  },
  "language_info": {
   "codemirror_mode": {
    "name": "ipython",
    "version": 3
   },
   "file_extension": ".py",
   "mimetype": "text/x-python",
   "name": "python",
   "nbconvert_exporter": "python",
   "pygments_lexer": "ipython3",
   "version": "3.8.5"
  }
 },
 "nbformat": 4,
 "nbformat_minor": 4
}
