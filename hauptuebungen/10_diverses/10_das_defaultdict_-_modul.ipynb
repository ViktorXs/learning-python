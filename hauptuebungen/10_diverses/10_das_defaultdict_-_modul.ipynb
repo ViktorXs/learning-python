{
 "cells": [
  {
   "cell_type": "markdown",
   "metadata": {},
   "source": [
    "# Fortgeschrittene Datenstruktur: DefaultDict - Modul\n",
    "\"Unglaublich mächtig. Verdammt Cool\" - Jannis Seemann\n",
    "\n",
    "Will man auf einen Eintrag in einem Dictionary zugreifen, welches nicht existiert, schlägt das Zugreifen in einer normalen dictionary logischerweise fehl.<br>\n",
    "Mit DefaultDict können Dictionaries beim Abrufen erzeugt werden und automatisch befüllen."
   ]
  },
  {
   "cell_type": "code",
   "execution_count": 180,
   "metadata": {},
   "outputs": [],
   "source": [
    "from collections import defaultdict"
   ]
  },
  {
   "cell_type": "markdown",
   "metadata": {},
   "source": [
    "Es muss zunächst eine Funktion geben, die eine 0 oder einen leeren String erzeugt."
   ]
  },
  {
   "cell_type": "code",
   "execution_count": 181,
   "metadata": {},
   "outputs": [
    {
     "name": "stdout",
     "output_type": "stream",
     "text": [
      "generate() wurde aufgerufen.\n"
     ]
    },
    {
     "data": {
      "text/plain": [
       "''"
      ]
     },
     "execution_count": 181,
     "metadata": {},
     "output_type": "execute_result"
    }
   ],
   "source": [
    "def generate():\n",
    "    print(\"generate() wurde aufgerufen.\")\n",
    "    return \"\" # Wert wird für die dictionary erzeugt. Ob 0 als Zahl oder leerer String\n",
    "generate()"
   ]
  },
  {
   "cell_type": "code",
   "execution_count": 182,
   "metadata": {},
   "outputs": [
    {
     "name": "stdout",
     "output_type": "stream",
     "text": [
      "generate() wurde aufgerufen.\n",
      "\n",
      "defaultdict(<function generate at 0x00000270CAE7D4C0>, {'Key': ''})\n"
     ]
    }
   ],
   "source": [
    "d = defaultdict(generate)\n",
    "print(d[\"Key\"])\n",
    "print(d)"
   ]
  },
  {
   "cell_type": "markdown",
   "metadata": {},
   "source": [
    "## Statt Funktion erstellen,  <code>int</code> oder <code>str</code> als Funktion im <code>defaultdict()</code> aufrufen:"
   ]
  },
  {
   "cell_type": "code",
   "execution_count": 208,
   "metadata": {},
   "outputs": [
    {
     "name": "stdout",
     "output_type": "stream",
     "text": [
      "0\n",
      "defaultdict(<class 'int'>, {'Key': 0})\n"
     ]
    }
   ],
   "source": [
    "d1 = defaultdict(int)\n",
    "\n",
    "print(d1[\"Key\"])\n",
    "print(d1)"
   ]
  },
  {
   "cell_type": "code",
   "execution_count": 209,
   "metadata": {},
   "outputs": [
    {
     "name": "stdout",
     "output_type": "stream",
     "text": [
      "\n",
      "defaultdict(<class 'str'>, {'Key': ''})\n"
     ]
    }
   ],
   "source": [
    "d2 = defaultdict(str)\n",
    "\n",
    "print(d2[\"Key\"])\n",
    "print(d2)"
   ]
  },
  {
   "cell_type": "markdown",
   "metadata": {},
   "source": [
    "### Ergebnis"
   ]
  },
  {
   "cell_type": "code",
   "execution_count": 207,
   "metadata": {},
   "outputs": [
    {
     "name": "stdout",
     "output_type": "stream",
     "text": [
      "defaultdict(<class 'int'>, {'Key': 5})\n",
      "defaultdict(<class 'str'>, {'Key': 'Wert'})\n"
     ]
    }
   ],
   "source": [
    "d1[\"Key\"] = d1[\"Key\"] + 5\n",
    "print(d1)\n",
    "\n",
    "d2[\"Key\"] = d2[\"Key\"] + \"Wert\"\n",
    "print(d2)"
   ]
  },
  {
   "cell_type": "markdown",
   "metadata": {},
   "source": [
    "## Ideal um Wörter zu zählen:"
   ]
  },
  {
   "cell_type": "code",
   "execution_count": 238,
   "metadata": {},
   "outputs": [
    {
     "name": "stdout",
     "output_type": "stream",
     "text": [
      "defaultdict(<class 'int'>, {'Hallo': 4, 'Welt': 2, 'Wie': 1, 'Gehts': 1, 'Uns': 3, 'so': 5})\n"
     ]
    }
   ],
   "source": [
    "d3 = defaultdict(int)\n",
    "words = [\"Hallo\", \"Hallo\", \"Hallo\", \"Hallo\", \"Welt\", \"Welt\", \"Wie\", \"Gehts\", \"Uns\", \"Uns\", \"Uns\", \"so\", \"so\", \"so\", \"so\", \"so\"]\n",
    "\n",
    "for word in words:\n",
    "    d3[word] = d3[word] + 1\n",
    "\n",
    "print(d3)"
   ]
  },
  {
   "cell_type": "markdown",
   "metadata": {},
   "source": [
    "### Übungen"
   ]
  },
  {
   "cell_type": "code",
   "execution_count": 217,
   "metadata": {},
   "outputs": [
    {
     "name": "stdout",
     "output_type": "stream",
     "text": [
      "defaultdict(<class 'str'>, {'BMW': 'Z3 Bj. 2003'})\n"
     ]
    }
   ],
   "source": [
    "a = defaultdict(str)\n",
    "\n",
    "a[\"BMW\"] = a[\"BMW\"] + \"Z3 Bj. 2003\"\n",
    "\n",
    "print(a)"
   ]
  },
  {
   "cell_type": "code",
   "execution_count": 211,
   "metadata": {},
   "outputs": [
    {
     "name": "stdout",
     "output_type": "stream",
     "text": [
      "create_number() called\n",
      "defaultdict(<function create_number at 0x00000270CAE7DE50>, {'Schluessel': 3})\n"
     ]
    }
   ],
   "source": [
    "def create_number():\n",
    "    print(\"create_number() called\")\n",
    "    return 0\n",
    "\n",
    "b = defaultdict(create_number)\n",
    "\n",
    "b[\"Schluessel\"] = b[\"Schluessel\"] + 3\n",
    "\n",
    "print(b)"
   ]
  },
  {
   "cell_type": "code",
   "execution_count": 259,
   "metadata": {},
   "outputs": [
    {
     "name": "stdout",
     "output_type": "stream",
     "text": [
      "defaultdict(<class 'int'>, {'X': 12, 'O': 4})\n"
     ]
    }
   ],
   "source": [
    "d4 = defaultdict(int)  # oder str für String\n",
    "checklist = [\"X\", \"X\", \"X\", \"X\", \"X\", \"X\", \"X\", \"X\", \"X\", \"X\", \"X\", \"X\", \"O\", \"O\", \"O\", \"O\"]\n",
    "for wort in checklist:\n",
    "    d4[wort] = d4[wort] + 1  # Wenn str, dann in \"Wert\"\n",
    "\n",
    "print(d4)"
   ]
  },
  {
   "cell_type": "code",
   "execution_count": null,
   "metadata": {},
   "outputs": [],
   "source": []
  }
 ],
 "metadata": {
  "kernelspec": {
   "display_name": "Python 3",
   "language": "python",
   "name": "python3"
  },
  "language_info": {
   "codemirror_mode": {
    "name": "ipython",
    "version": 3
   },
   "file_extension": ".py",
   "mimetype": "text/x-python",
   "name": "python",
   "nbconvert_exporter": "python",
   "pygments_lexer": "ipython3",
   "version": "3.8.5"
  }
 },
 "nbformat": 4,
 "nbformat_minor": 4
}
