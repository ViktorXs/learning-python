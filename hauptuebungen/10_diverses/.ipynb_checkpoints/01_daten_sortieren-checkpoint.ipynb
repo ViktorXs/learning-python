{
 "cells": [
  {
   "cell_type": "markdown",
   "metadata": {},
   "source": [
    "# Daten sortieren mit <code>.sort()</code>\n",
    "\"in-Place\" Sortierung. Mit <code>.sort()</code> sortiert sich eine Liste selbst.<br>\n",
    "Um eine Liste nach Alphabet zu sortieren, stellt Python schon eine konkrete Funktion zur Verfügung:"
   ]
  },
  {
   "cell_type": "code",
   "execution_count": 14,
   "metadata": {},
   "outputs": [
    {
     "name": "stdout",
     "output_type": "stream",
     "text": [
      "['Andrea', 'Boots!', 'Denise', 'Gustav', 'Herbert', 'Jan', \"Jeremy 'Mallorca' Pasqùalé\", 'Olga', 'Peter', 'Viktor']\n"
     ]
    }
   ],
   "source": [
    "l = [\"Viktor\", \"Peter\", \"Jan\", \"Gustav\", \"Herbert\", \"Jeremy 'Mallorca' Pasqùalé\", \"Denise\", \"Olga\", \"Andrea\", \"Boots!\"]\n",
    "\n",
    "l.sort()\n",
    "print(l)"
   ]
  },
  {
   "cell_type": "markdown",
   "metadata": {},
   "source": [
    "## Sortierung umdrehen mit <code>reverse=True</code>"
   ]
  },
  {
   "cell_type": "code",
   "execution_count": 15,
   "metadata": {},
   "outputs": [
    {
     "name": "stdout",
     "output_type": "stream",
     "text": [
      "['Viktor', 'Peter', 'Olga', \"Jeremy 'Mallorca' Pasqùalé\", 'Jan', 'Herbert', 'Gustav', 'Denise', 'Boots!', 'Andrea']\n"
     ]
    }
   ],
   "source": [
    "l = [\"Viktor\", \"Peter\", \"Jan\", \"Gustav\", \"Herbert\", \"Jeremy 'Mallorca' Pasqùalé\", \"Denise\", \"Olga\", \"Andrea\", \"Boots!\"]\n",
    "\n",
    "l.sort(reverse=True)  # Reverse auf Wahr setzen.\n",
    "print(l)"
   ]
  },
  {
   "cell_type": "markdown",
   "metadata": {},
   "source": [
    "## Nach eigenen Sortierkriterien\n",
    "Z.B. nach der Anzahl der Zeichen. Dafür eine Funktion definieren"
   ]
  },
  {
   "cell_type": "code",
   "execution_count": 16,
   "metadata": {},
   "outputs": [
    {
     "name": "stdout",
     "output_type": "stream",
     "text": [
      "['Jan', 'Olga', 'Peter', 'Viktor', 'Gustav', 'Denise', 'Andrea', 'Boots!', 'Herbert', \"Jeremy 'Mallorca' Pasqùalé\"]\n"
     ]
    }
   ],
   "source": [
    "def get_length(item):\n",
    "    return len(item)\n",
    "l = [\"Viktor\", \"Peter\", \"Jan\", \"Gustav\", \"Herbert\", \"Jeremy 'Mallorca' Pasqùalé\", \"Denise\", \"Olga\", \"Andrea\", \"Boots!\"]\n",
    "\n",
    "l.sort(key=get_length)  # Funktion ohne Klammern als Funktion übergeben statt sie mit Klammern ausführen.\n",
    "print(l)"
   ]
  },
  {
   "cell_type": "markdown",
   "metadata": {},
   "source": [
    "### Vereinfacht\n",
    "weil <code>.len()</code> auch eine Funktion ist, geht es einfacher damit"
   ]
  },
  {
   "cell_type": "code",
   "execution_count": 17,
   "metadata": {
    "scrolled": true
   },
   "outputs": [
    {
     "name": "stdout",
     "output_type": "stream",
     "text": [
      "['Jan', 'Olga', 'Peter', 'Viktor', 'Gustav', 'Denise', 'Andrea', 'Boots!', 'Herbert', \"Jeremy 'Mallorca' Pasqùalé\"]\n"
     ]
    }
   ],
   "source": [
    "l = [\"Viktor\", \"Peter\", \"Jan\", \"Gustav\", \"Herbert\", \"Jeremy 'Mallorca' Pasqùalé\", \"Denise\", \"Olga\", \"Andrea\", \"Boots!\"]\n",
    "l.sort(key=len)\n",
    "print(l)"
   ]
  },
  {
   "cell_type": "markdown",
   "metadata": {},
   "source": [
    "## Daten sind nicht immer eine Liste. <code>sorted()</code>"
   ]
  },
  {
   "cell_type": "code",
   "execution_count": 52,
   "metadata": {},
   "outputs": [
    {
     "name": "stdout",
     "output_type": "stream",
     "text": [
      "['G', 'F', 'E', 'D', 'C', 'B', 'A']\n"
     ]
    }
   ],
   "source": [
    "dictionary = {\"A\": \"Aas\", \"B\": \"Beachvolleyball\", \"C\": \"Crowded\", \"D\": \"Dr. Who\", \"E\": \"Echo\", \"F\": \"Foxtrott\", \"G\": \"Guy\"}\n",
    "print(sorted(dictionary, reverse = True))"
   ]
  },
  {
   "cell_type": "markdown",
   "metadata": {},
   "source": [
    "## <code>.sort()</code> vs <code>sorted()</code>\n",
    "Nicht, wie <code>.sort()</code> eine bestehende Liste sortiert, erstellt <code>sorted()</code> stattdessen eine <b>neue</b> sortierte Liste"
   ]
  },
  {
   "cell_type": "markdown",
   "metadata": {},
   "source": [
    "### .sort()\n",
    "Selbe Liste ist sortiert"
   ]
  },
  {
   "cell_type": "code",
   "execution_count": 49,
   "metadata": {},
   "outputs": [
    {
     "name": "stdout",
     "output_type": "stream",
     "text": [
      "['Andrea', 'Boots!', 'Denise', 'Gustav', 'Herbert', 'Jan', \"Jeremy 'Mallorca' Pasqùalé\", 'Olga', 'Peter', 'Viktor']\n"
     ]
    }
   ],
   "source": [
    "l = [\"Viktor\", \"Peter\", \"Jan\", \"Gustav\", \"Herbert\", \"Jeremy 'Mallorca' Pasqùalé\", \"Denise\", \"Olga\", \"Andrea\", \"Boots!\"]\n",
    "l.sort()\n",
    "print(l)"
   ]
  },
  {
   "cell_type": "markdown",
   "metadata": {},
   "source": [
    "### sorted()\n",
    "Neue sortierte Liste"
   ]
  },
  {
   "cell_type": "code",
   "execution_count": 51,
   "metadata": {},
   "outputs": [
    {
     "name": "stdout",
     "output_type": "stream",
     "text": [
      "['Viktor', 'Peter', 'Jan', 'Gustav', 'Herbert', \"Jeremy 'Mallorca' Pasqùalé\", 'Denise', 'Olga', 'Andrea', 'Boots!']\n",
      "['Andrea', 'Boots!', 'Denise', 'Gustav', 'Herbert', 'Jan', \"Jeremy 'Mallorca' Pasqùalé\", 'Olga', 'Peter', 'Viktor']\n"
     ]
    }
   ],
   "source": [
    "l = [\"Viktor\", \"Peter\", \"Jan\", \"Gustav\", \"Herbert\", \"Jeremy 'Mallorca' Pasqùalé\", \"Denise\", \"Olga\", \"Andrea\", \"Boots!\"]\n",
    "sorted_list = sorted(l)\n",
    "print(l)  # Ursprüngliche Liste unverändert.\n",
    "print(sorted_list)  # Sortierte Kopie"
   ]
  },
  {
   "cell_type": "markdown",
   "metadata": {},
   "source": [
    "### Übungen"
   ]
  },
  {
   "cell_type": "code",
   "execution_count": 53,
   "metadata": {},
   "outputs": [],
   "source": [
    "l = [\"Viktor\", \"Peter\", \"Jan\", \"Gustav\", \"Herbert\", \"Jeremy 'Mallorca' Pasqùalé\", \"Denise\", \"Olga\", \"Andrea\", \"Boots!\"]\n",
    "l.sort()"
   ]
  },
  {
   "cell_type": "code",
   "execution_count": 54,
   "metadata": {},
   "outputs": [
    {
     "name": "stdout",
     "output_type": "stream",
     "text": [
      "['Andrea', 'Boots!', 'Denise', 'Gustav', 'Herbert', 'Jan', \"Jeremy 'Mallorca' Pasqùalé\", 'Olga', 'Peter', 'Viktor']\n"
     ]
    }
   ],
   "source": [
    "print(l)"
   ]
  },
  {
   "cell_type": "code",
   "execution_count": 55,
   "metadata": {},
   "outputs": [
    {
     "name": "stdout",
     "output_type": "stream",
     "text": [
      "['Andrea', 'Boots!', 'Denise', 'Gustav', 'Herbert', 'Jan', \"Jeremy 'Mallorca' Pasqùalé\", 'Olga', 'Peter', 'Viktor']\n"
     ]
    }
   ],
   "source": [
    "l = [\"Viktor\", \"Peter\", \"Jan\", \"Gustav\", \"Herbert\", \"Jeremy 'Mallorca' Pasqùalé\", \"Denise\", \"Olga\", \"Andrea\", \"Boots!\"]\n",
    "sorted_names = sorted(l)\n",
    "print(sorted_names)"
   ]
  },
  {
   "cell_type": "code",
   "execution_count": 57,
   "metadata": {},
   "outputs": [
    {
     "name": "stdout",
     "output_type": "stream",
     "text": [
      "['Viktor', 'Peter', 'Jan', 'Gustav', 'Herbert', \"Jeremy 'Mallorca' Pasqùalé\", 'Denise', 'Olga', 'Andrea', 'Boots!']\n"
     ]
    }
   ],
   "source": [
    "print(l)"
   ]
  },
  {
   "cell_type": "code",
   "execution_count": null,
   "metadata": {},
   "outputs": [],
   "source": []
  }
 ],
 "metadata": {
  "kernelspec": {
   "display_name": "Python 3",
   "language": "python",
   "name": "python3"
  },
  "language_info": {
   "codemirror_mode": {
    "name": "ipython",
    "version": 3
   },
   "file_extension": ".py",
   "mimetype": "text/x-python",
   "name": "python",
   "nbconvert_exporter": "python",
   "pygments_lexer": "ipython3",
   "version": "3.8.5"
  }
 },
 "nbformat": 4,
 "nbformat_minor": 4
}
