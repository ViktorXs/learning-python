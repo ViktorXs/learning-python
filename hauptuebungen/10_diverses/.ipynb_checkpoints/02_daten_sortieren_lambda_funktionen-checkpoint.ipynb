{
 "cells": [
  {
   "cell_type": "markdown",
   "metadata": {},
   "source": [
    "# Daten sortieren\n",
    "Lambda inline-Funktionen haben eine kurze Schreibweise, wie man eine Funktion als Parameter übergeben kann."
   ]
  },
  {
   "cell_type": "code",
   "execution_count": 13,
   "metadata": {},
   "outputs": [
    {
     "name": "stdout",
     "output_type": "stream",
     "text": [
      "[('Andrea', 3), ('Denise', 3), ('Gustav', 2), ('Herbert', 2), ('Jan', 3), ('Olga', 3), ('Peter', 1), ('Viktor', 4)]\n"
     ]
    }
   ],
   "source": [
    "peoples = [\n",
    "    (\"Viktor\",4),\n",
    "    (\"Peter\",1),\n",
    "    (\"Jan\",3),\n",
    "    (\"Gustav\",2),\n",
    "    (\"Herbert\",2),\n",
    "    (\"Denise\",3),\n",
    "    (\"Olga\",3),\n",
    "    (\"Andrea\",3)\n",
    "]\n",
    "\n",
    "peoples.sort()\n",
    "print(peoples)"
   ]
  },
  {
   "cell_type": "markdown",
   "metadata": {},
   "source": [
    "## Nach Zahl sortieren"
   ]
  },
  {
   "cell_type": "code",
   "execution_count": 4,
   "metadata": {},
   "outputs": [
    {
     "name": "stdout",
     "output_type": "stream",
     "text": [
      "[('Peter', 1), ('Gustav', 2), ('Herbert', 2), ('Jan', 3), ('Denise', 3), ('Olga', 3), ('Andrea', 3), ('Viktor', 4)]\n"
     ]
    }
   ],
   "source": [
    "peoples = [\n",
    "    (\"Viktor\",4),\n",
    "    (\"Peter\",1),\n",
    "    (\"Jan\",3),\n",
    "    (\"Gustav\",2),\n",
    "    (\"Herbert\",2),\n",
    "    (\"Denise\",3),\n",
    "    (\"Olga\",3),\n",
    "    (\"Andrea\",3)\n",
    "]\n",
    "\n",
    "def peoples_key(people):\n",
    "    return people[1]\n",
    "\n",
    "peoples.sort(key=peoples_key)\n",
    "print(peoples)"
   ]
  },
  {
   "cell_type": "markdown",
   "metadata": {},
   "source": [
    "## Geht einfacher mit der inline Funktion <code>lambda</code>\n",
    "Nicht mehr notwendig eine eigene Funktion zu schreiben."
   ]
  },
  {
   "cell_type": "code",
   "execution_count": 8,
   "metadata": {},
   "outputs": [
    {
     "name": "stdout",
     "output_type": "stream",
     "text": [
      "[('Peter', 1, 'C'), ('Gustav', 2, 'D'), ('Herbert', 2, 'H'), ('Jan', 3, 'B'), ('Denise', 3, 'E'), ('Olga', 3, 'F'), ('Andrea', 3, 'G'), ('Viktor', 4, 'A')]\n"
     ]
    }
   ],
   "source": [
    "peoples = [\n",
    "    (\"Viktor\", 4, \"A\"),\n",
    "    (\"Peter\", 1, \"C\"),\n",
    "    (\"Jan\", 3, \"B\"),\n",
    "    (\"Gustav\", 2, \"D\"),\n",
    "    (\"Herbert\", 2, \"H\"),\n",
    "    (\"Denise\", 3, \"E\"),\n",
    "    (\"Olga\", 3, \"F\"),\n",
    "    (\"Andrea\", 3, \"G\")\n",
    "]\n",
    "\n",
    "peoples.sort(key=lambda people: people[1])  # übergebe Parameter \"people:\" und übergebe z.B. zweite Stelle \"people[1]\"\n",
    "print(peoples)"
   ]
  },
  {
   "cell_type": "markdown",
   "metadata": {},
   "source": [
    "Lässt sich auch als Variable speichern"
   ]
  },
  {
   "cell_type": "code",
   "execution_count": 58,
   "metadata": {
    "scrolled": true
   },
   "outputs": [
    {
     "data": {
      "text/plain": [
       "2"
      ]
     },
     "execution_count": 58,
     "metadata": {},
     "output_type": "execute_result"
    }
   ],
   "source": [
    "function = lambda people: people[1]\n",
    "function((\"Viktor\", 2, \"O\"))"
   ]
  },
  {
   "cell_type": "markdown",
   "metadata": {},
   "source": [
    "### Übungen"
   ]
  },
  {
   "cell_type": "code",
   "execution_count": 6,
   "metadata": {},
   "outputs": [],
   "source": [
    "peoples.sort(key=lambda people: people[0])"
   ]
  },
  {
   "cell_type": "code",
   "execution_count": 7,
   "metadata": {},
   "outputs": [
    {
     "name": "stdout",
     "output_type": "stream",
     "text": [
      "[('Andrea', 3, 'G'), ('Denise', 3, 'E'), ('Gustav', 2, 'D'), ('Herbert', 2, 'H'), ('Jan', 3, 'B'), ('Olga', 3, 'F'), ('Peter', 1, 'C'), ('Viktor', 4, 'A')]\n"
     ]
    }
   ],
   "source": [
    "print(peoples)"
   ]
  },
  {
   "cell_type": "code",
   "execution_count": null,
   "metadata": {},
   "outputs": [],
   "source": []
  }
 ],
 "metadata": {
  "kernelspec": {
   "display_name": "Python 3",
   "language": "python",
   "name": "python3"
  },
  "language_info": {
   "codemirror_mode": {
    "name": "ipython",
    "version": 3
   },
   "file_extension": ".py",
   "mimetype": "text/x-python",
   "name": "python",
   "nbconvert_exporter": "python",
   "pygments_lexer": "ipython3",
   "version": "3.8.5"
  }
 },
 "nbformat": 4,
 "nbformat_minor": 4
}
