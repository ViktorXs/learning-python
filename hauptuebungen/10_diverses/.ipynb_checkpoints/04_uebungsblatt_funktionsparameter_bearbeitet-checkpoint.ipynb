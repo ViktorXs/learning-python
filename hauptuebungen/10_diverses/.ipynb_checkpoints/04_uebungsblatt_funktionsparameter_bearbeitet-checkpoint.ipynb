{
 "cells": [
  {
   "cell_type": "markdown",
   "metadata": {},
   "source": [
    "# Übungsblatt Funktionsparameter & Sortierfunktionen\n",
    "\n",
    "In diesem Übungsblatt habe ich ein paar Aufgaben für dich vorbereitet. Viel Spaß bei diesen Übungen! :-)\n",
    "\n",
    "Wenn du mit diesem Übungsblatt fertig bist, kannst du deine Lösung mit der Musterlösung in Textform (Datei: `Uebungsblatt Funktionsparameter (Musterloesung)`) vergleichen. \n",
    "\n",
    "Die Video-Musterlösung (in der nächsten Lektion) ist besonders ausführlich gehalten. Wenn du alles richtig gelöst hast, ist es vollkommen okay, wenn du diese Lektion überspringst. :-)"
   ]
  },
  {
   "cell_type": "markdown",
   "metadata": {
    "collapsed": true
   },
   "source": [
    "### Aufgabe 1\n",
    "\n",
    "Vervollständige die Funktion `shortest_word()`: Ihr sollen mehrere Strings übergeben werden (KEINE Liste von Strings!), von denen sie den String mit den wenigsten Zeichen zurückliefert.\n",
    "\n",
    "Hinweis: Benutze variable Parameter (mit Sternchen `*` oder doppelten Sternchen `**`)!"
   ]
  },
  {
   "cell_type": "code",
   "execution_count": 26,
   "metadata": {},
   "outputs": [
    {
     "name": "stdout",
     "output_type": "stream",
     "text": [
      "Jo\n"
     ]
    }
   ],
   "source": [
    "def shortest_word(short, *words):\n",
    "    for word in words:\n",
    "        if len(word) < len(short):\n",
    "            short = word\n",
    "    return short\n",
    "\n",
    "print(shortest_word(\"Max\", \"Moritz\", \"Monika\", \"Tim\", \"Jo\"))\n"
   ]
  },
  {
   "cell_type": "markdown",
   "metadata": {},
   "source": [
    "Erwartete Ausgabe:\n",
    "\n",
    "```\n",
    "Jo\n",
    "```"
   ]
  },
  {
   "cell_type": "markdown",
   "metadata": {},
   "source": [
    "### Aufgabe 2"
   ]
  },
  {
   "cell_type": "markdown",
   "metadata": {},
   "source": [
    "**a.)**\n",
    "\n",
    "Sortiere die Tupel in der Liste `tupels` aufsteigend nach ihrer Summe!\n",
    "\n",
    "**Hinweis:**  Schreibe dazu zuerst eine normale Funktion und löse die Aufgabe anschließend nochmal mit einer lambda-Funktion."
   ]
  },
  {
   "cell_type": "markdown",
   "metadata": {},
   "source": [
    "#### Funtion"
   ]
  },
  {
   "cell_type": "code",
   "execution_count": 20,
   "metadata": {},
   "outputs": [
    {
     "name": "stdout",
     "output_type": "stream",
     "text": [
      "[(10, 2), (4, 1), (0, 17), (3, 3), (5, 7), (11, 3)]\n"
     ]
    }
   ],
   "source": [
    "# Originalcode\n",
    "tupels = [(10, 2), (4, 1), (0, 17), (3, 3), (5, 7), (11, 3)]\n",
    "\n",
    "# hier kommt dein Code hin\n",
    "\n",
    "print(tupels)\n"
   ]
  },
  {
   "cell_type": "code",
   "execution_count": 2,
   "metadata": {},
   "outputs": [
    {
     "ename": "IndentationError",
     "evalue": "expected an indented block (<ipython-input-2-ee8316b56495>, line 10)",
     "output_type": "error",
     "traceback": [
      "\u001b[1;36m  File \u001b[1;32m\"<ipython-input-2-ee8316b56495>\"\u001b[1;36m, line \u001b[1;32m10\u001b[0m\n\u001b[1;33m    print(tupels)\u001b[0m\n\u001b[1;37m                 ^\u001b[0m\n\u001b[1;31mIndentationError\u001b[0m\u001b[1;31m:\u001b[0m expected an indented block\n"
     ]
    }
   ],
   "source": [
    "# Bearbeitet Funktion (nicht geschafft)\n",
    "tupels = [(10, 2), (4, 1), (0, 17), (3, 3), (5, 7), (11, 3)]\n",
    "\n",
    "def sort_sum(first, tupels):\n",
    "    calc = first\n",
    "    for i in tupels:\n",
    "        if sum(i) < sum(calc):\n",
    "# (╯°□°)╯︵ ┻━┻\n",
    "            \n",
    "print(tupels)\n",
    "\n",
    "sort_sum(tupels)\n"
   ]
  },
  {
   "cell_type": "code",
   "execution_count": 28,
   "metadata": {},
   "outputs": [
    {
     "name": "stdout",
     "output_type": "stream",
     "text": [
      "[(4, 1), (3, 3), (10, 2), (5, 7), (11, 3), (0, 17)]\n"
     ]
    }
   ],
   "source": [
    "# Musterlösung\n",
    "tupels = [(10, 2), (4, 1), (0, 17), (3, 3), (5, 7), (11, 3)]\n",
    "\n",
    "def tupels_sort(a):\n",
    "    return a[0] + a[1]\n",
    "\n",
    "tupels.sort(key = tupels_sort)\n",
    "\n",
    "print(tupels)"
   ]
  },
  {
   "cell_type": "code",
   "execution_count": 31,
   "metadata": {},
   "outputs": [
    {
     "name": "stdout",
     "output_type": "stream",
     "text": [
      "[(4, 1), (3, 3), (10, 2), (5, 7), (11, 3), (0, 17)]\n"
     ]
    }
   ],
   "source": [
    "# Bearbeitet mit Musterlösung und eigenen Ideen\n",
    "tupels = [(10, 2), (4, 1), (0, 17), (3, 3), (5, 7), (11, 3)]\n",
    "\n",
    "def sum_values(a):\n",
    "    return sum(a[0:])  # :-)\n",
    "\n",
    "tupels.sort(key = sum_values)\n",
    "\n",
    "print(tupels)"
   ]
  },
  {
   "cell_type": "markdown",
   "metadata": {},
   "source": [
    "#### Lambda"
   ]
  },
  {
   "cell_type": "code",
   "execution_count": 32,
   "metadata": {},
   "outputs": [
    {
     "name": "stdout",
     "output_type": "stream",
     "text": [
      "[(4, 1), (3, 3), (10, 2), (5, 7), (11, 3), (0, 17)]\n"
     ]
    }
   ],
   "source": [
    "# Bearbeitet Lambda\n",
    "tupels = [(10, 2), (4, 1), (0, 17), (3, 3), (5, 7), (11, 3)]\n",
    "\n",
    "tupels.sort(key = lambda tupel: sum(tupel))  # Wenns zusammengerechnet werden soll, why not sum()? :)\n",
    "\n",
    "print(tupels)"
   ]
  },
  {
   "cell_type": "code",
   "execution_count": 29,
   "metadata": {},
   "outputs": [
    {
     "name": "stdout",
     "output_type": "stream",
     "text": [
      "[(4, 1), (3, 3), (10, 2), (5, 7), (11, 3), (0, 17)]\n"
     ]
    }
   ],
   "source": [
    "# Musterlösung\n",
    "tupels = [(10, 2), (4, 1), (0, 17), (3, 3), (5, 7), (11, 3)]\n",
    "\n",
    "tupels.sort(key = lambda t: t[0] + t[1])\n",
    "\n",
    "print(tupels)"
   ]
  },
  {
   "cell_type": "markdown",
   "metadata": {
    "collapsed": true
   },
   "source": [
    "Erwartete Ausgabe (braucht nicht farbig zu sein):\n",
    "\n",
    "```python\n",
    "[(4, 1), (3, 3), (10, 2), (5, 7), (11, 3), (0, 17)]\n",
    "```"
   ]
  },
  {
   "cell_type": "markdown",
   "metadata": {},
   "source": [
    "**b.)** \n",
    "\n",
    "Sortiere die Liste `names` mit Namen nach dem Nachnamen. Du kannst annehmen, dass alle Namen in der Liste nur einen Vornamen enthalten. Das Format der Namen ist immer \"Vorname Nachname\".\n",
    "\n",
    "Überlege dir dazu zuerst, wie du den Nachnamen ermittelst und schreibe dann die entsprechende Funktion, die du der `.sort()`- Funktion übergibst.\n",
    "\n",
    "**Hinweis:**  Schreibe dazu zuerst eine normale Funktion und löse die Aufgabe anschließend nochmal mit einer lambda-Funktion."
   ]
  },
  {
   "cell_type": "code",
   "execution_count": 3,
   "metadata": {},
   "outputs": [
    {
     "name": "stdout",
     "output_type": "stream",
     "text": [
      "['Elif Else', 'Sebastian Klarnamen', 'Anna Boa', 'Anton Adel', 'Conny Coder', 'Anne Wortmann', 'Willy Cordes']\n"
     ]
    }
   ],
   "source": [
    "names = [\"Elif Else\", \"Sebastian Klarnamen\", \"Anna Boa\", \"Anton Adel\", \"Conny Coder\", \"Anne Wortmann\", \"Willy Cordes\"]\n",
    "\n",
    "# hier kommt dein Code hin\n",
    "\n",
    "print(names)"
   ]
  },
  {
   "cell_type": "markdown",
   "metadata": {},
   "source": [
    "Erwartete Ausgabe:\n",
    "\n",
    "```python\n",
    "['Anna Boa', 'Conny Coder', 'Willy Cordes', 'Elif Else', 'Sebastian Klarnamen', 'Anton Adel', 'Anne Wortmann']\n",
    "```"
   ]
  },
  {
   "cell_type": "markdown",
   "metadata": {},
   "source": [
    "**c.)**\n",
    "\n",
    "Sortiere die Liste `sentences` absteigend nach der Anzahl der Wörter, die ein Element aus `sentences` jeweils enthält. Du kannst annehmen, dass in den Sätzen alle Wörter ordnungsgemäß mit Leerzeichen voneinander getrennt sind. :-)\n",
    "\n",
    "Überlege dir dazu zuerst, wie du die Anzahl Wörter in einem Satz ermitteln kannst.\n",
    "\n",
    "**Hinweis:**  Schreibe dazu zuerst eine normale Funktion und löse die Aufgabe anschließend nochmal mit einer lambda-Funktion."
   ]
  },
  {
   "cell_type": "code",
   "execution_count": 56,
   "metadata": {},
   "outputs": [
    {
     "name": "stdout",
     "output_type": "stream",
     "text": [
      "['Sie lachte.', 'Er rutschte aus.', 'Der Hund bellte laut.', 'Sie liefen weiter den Strand entlang.']\n"
     ]
    }
   ],
   "source": [
    "sentences = [\"Sie liefen weiter den Strand entlang.\", \"Der Hund bellte laut.\", \"Er rutschte aus.\", \"Sie lachte.\"]\n",
    "\n",
    "# hier kommt dein Code hin\n",
    "\n",
    "print(sentences)"
   ]
  },
  {
   "cell_type": "markdown",
   "metadata": {},
   "source": [
    "Erwartete Ausgabe:\n",
    "\n",
    "```python\n",
    "['Sie liefen weiter den Strand entlang.', 'Der Hund bellte laut.', 'Er rutschte aus.', 'Sie lachte.']\n",
    "```"
   ]
  },
  {
   "cell_type": "markdown",
   "metadata": {},
   "source": [
    "### Zusatzaufgabe (schwer)\n",
    "\n",
    "Verändere den folgenden Code so, dass die Liste `l` nicht mehr innerhalb der Funktion `make_row()` überschrieben wird. Die Liste, die `make_row()` ausgibt, soll also identisch mit der bisherigen sein. `l` soll aber am Ende in seiner ursprünglichen Form ausgegeben werden."
   ]
  },
  {
   "cell_type": "code",
   "execution_count": 127,
   "metadata": {},
   "outputs": [
    {
     "name": "stdout",
     "output_type": "stream",
     "text": [
      "['o', 'x', 'x']\n",
      "['o', 'x', 'x']\n"
     ]
    }
   ],
   "source": [
    "l = [\"o\", \"x\", \"o\"]\n",
    "\n",
    "def make_row(row):\n",
    "    # hier kommt dein Code hin\n",
    "    row[2] = \"x\"\n",
    "    print(row)\n",
    "    \n",
    "make_row(l)\n",
    "print(l)"
   ]
  },
  {
   "cell_type": "markdown",
   "metadata": {},
   "source": [
    "Erwartete Ausgabe:\n",
    "\n",
    "```python\n",
    "['o', 'x', 'x']\n",
    "['o', 'x', 'o']\n",
    "```"
   ]
  },
  {
   "cell_type": "code",
   "execution_count": null,
   "metadata": {
    "collapsed": true
   },
   "outputs": [],
   "source": []
  }
 ],
 "metadata": {
  "kernelspec": {
   "display_name": "Python 3",
   "language": "python",
   "name": "python3"
  },
  "language_info": {
   "codemirror_mode": {
    "name": "ipython",
    "version": 3
   },
   "file_extension": ".py",
   "mimetype": "text/x-python",
   "name": "python",
   "nbconvert_exporter": "python",
   "pygments_lexer": "ipython3",
   "version": "3.8.5"
  }
 },
 "nbformat": 4,
 "nbformat_minor": 2
}
