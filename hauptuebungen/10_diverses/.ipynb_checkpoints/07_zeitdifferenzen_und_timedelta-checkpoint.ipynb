{
 "cells": [
  {
   "cell_type": "markdown",
   "metadata": {},
   "source": [
    "# Zeitdifferenzen: Rechnen mit Datumswerten\n",
    "## <code>.timedelta()</code> Modul"
   ]
  },
  {
   "cell_type": "code",
   "execution_count": 22,
   "metadata": {},
   "outputs": [],
   "source": [
    "from datetime import datetime, timedelta  # timedelta importieren"
   ]
  },
  {
   "cell_type": "code",
   "execution_count": 23,
   "metadata": {},
   "outputs": [
    {
     "name": "stdout",
     "output_type": "stream",
     "text": [
      "2021-06-30 16:04:00.941108\n"
     ]
    }
   ],
   "source": [
    "now = datetime.now()\n",
    "\n",
    "print(now)"
   ]
  },
  {
   "cell_type": "markdown",
   "metadata": {},
   "source": [
    "### Man kann nicht einfach ein Datum mit einem anderen Datum addieren:"
   ]
  },
  {
   "cell_type": "code",
   "execution_count": 24,
   "metadata": {},
   "outputs": [
    {
     "ename": "TypeError",
     "evalue": "unsupported operand type(s) for +: 'datetime.datetime' and 'datetime.datetime'",
     "output_type": "error",
     "traceback": [
      "\u001b[1;31m---------------------------------------------------------------------------\u001b[0m",
      "\u001b[1;31mTypeError\u001b[0m                                 Traceback (most recent call last)",
      "\u001b[1;32m<ipython-input-24-41b3e5626dd9>\u001b[0m in \u001b[0;36m<module>\u001b[1;34m\u001b[0m\n\u001b[1;32m----> 1\u001b[1;33m \u001b[0mprint\u001b[0m\u001b[1;33m(\u001b[0m\u001b[0mnow\u001b[0m \u001b[1;33m+\u001b[0m \u001b[0mnow\u001b[0m\u001b[1;33m)\u001b[0m\u001b[1;33m\u001b[0m\u001b[1;33m\u001b[0m\u001b[0m\n\u001b[0m",
      "\u001b[1;31mTypeError\u001b[0m: unsupported operand type(s) for +: 'datetime.datetime' and 'datetime.datetime'"
     ]
    }
   ],
   "source": [
    "print(now + now)"
   ]
  },
  {
   "cell_type": "markdown",
   "metadata": {},
   "source": [
    "### Aber man kann einen Zeitunterschied dazu addieren:"
   ]
  },
  {
   "cell_type": "code",
   "execution_count": 25,
   "metadata": {},
   "outputs": [
    {
     "name": "stdout",
     "output_type": "stream",
     "text": [
      "2021-06-30 16:04:00.941108\n",
      "2021-08-05 04:04:00.941108\n"
     ]
    }
   ],
   "source": [
    "print(now)\n",
    "print(now + timedelta(days = 35, hours = 12))  # + timedelta(<Zeitunterschied>)"
   ]
  },
  {
   "cell_type": "markdown",
   "metadata": {},
   "source": [
    "### Zeitunterschied anzeigen:"
   ]
  },
  {
   "cell_type": "code",
   "execution_count": 26,
   "metadata": {},
   "outputs": [
    {
     "name": "stdout",
     "output_type": "stream",
     "text": [
      "1045 days, 16:04:00.941108\n"
     ]
    }
   ],
   "source": [
    "a_date = (datetime(2018, 8, 20))\n",
    "\n",
    "print(now - a_date)  # ein timedelta objekt wird zurückgegeben"
   ]
  },
  {
   "cell_type": "code",
   "execution_count": 27,
   "metadata": {},
   "outputs": [
    {
     "name": "stdout",
     "output_type": "stream",
     "text": [
      "1045 days, 16:04:00.941108\n",
      "90345840.941108\n"
     ]
    }
   ],
   "source": [
    "a_date = (datetime(2018, 8, 20))\n",
    "\n",
    "td = now - a_date  # now - a_date = Auch ein timedelta Objekt\n",
    "\n",
    "print(td)\n",
    "print(td.total_seconds())  # In Sekunden, wie viele fehlen"
   ]
  },
  {
   "cell_type": "code",
   "execution_count": 30,
   "metadata": {},
   "outputs": [
    {
     "name": "stdout",
     "output_type": "stream",
     "text": [
      "2025-02-27 16:04:00.941108\n"
     ]
    }
   ],
   "source": [
    "print(datetime(2022, 4, 19) + td)  # Der Zeitunterschied von now - a_date wird hier addiert"
   ]
  },
  {
   "cell_type": "code",
   "execution_count": 29,
   "metadata": {},
   "outputs": [
    {
     "name": "stdout",
     "output_type": "stream",
     "text": [
      "Wed, 30.06.2021\n",
      "2021-06-30 00:00:00\n"
     ]
    }
   ],
   "source": [
    "# Spontane Wiederholungsübung\n",
    "print(now.strftime(\"%a, %d.%m.%Y\"))\n",
    "\n",
    "a_day = \"Wed, 30.06.2021\"\n",
    "print(datetime.strptime(a_day, \"%a, %d.%m.%Y\"))"
   ]
  }
 ],
 "metadata": {
  "kernelspec": {
   "display_name": "Python 3",
   "language": "python",
   "name": "python3"
  },
  "language_info": {
   "codemirror_mode": {
    "name": "ipython",
    "version": 3
   },
   "file_extension": ".py",
   "mimetype": "text/x-python",
   "name": "python",
   "nbconvert_exporter": "python",
   "pygments_lexer": "ipython3",
   "version": "3.8.5"
  }
 },
 "nbformat": 4,
 "nbformat_minor": 4
}
