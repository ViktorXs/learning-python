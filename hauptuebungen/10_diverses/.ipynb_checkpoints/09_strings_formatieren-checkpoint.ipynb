{
 "cells": [
  {
   "cell_type": "markdown",
   "metadata": {},
   "source": [
    "# Strings formatieren\n",
    "Z.B. Werte in ein String setzen.\n",
    "## Bisher umständlich mit <code>str()</code> gewesen:"
   ]
  },
  {
   "cell_type": "code",
   "execution_count": 8,
   "metadata": {},
   "outputs": [
    {
     "name": "stdout",
     "output_type": "stream",
     "text": [
      "Ich habe 10 Fische im Aquarium.\n"
     ]
    }
   ],
   "source": [
    "n = 10\n",
    "print(\"Ich habe \" + str(n) + \" Fische im Aquarium.\")"
   ]
  },
  {
   "cell_type": "markdown",
   "metadata": {},
   "source": [
    "## und / oder"
   ]
  },
  {
   "cell_type": "code",
   "execution_count": 15,
   "metadata": {},
   "outputs": [
    {
     "name": "stdout",
     "output_type": "stream",
     "text": [
      "Ich habe 10 Fische.\n"
     ]
    }
   ],
   "source": [
    "translations = {\n",
    "    \"number_of_fishes\": \"Ich habe xxx Fische.\"\n",
    "}\n",
    "print(translations[\"number_of_fishes\"].replace(\"xxx\", str(n)))"
   ]
  },
  {
   "cell_type": "markdown",
   "metadata": {},
   "source": [
    "## Einfacher mit <code>format()</code>:"
   ]
  },
  {
   "cell_type": "code",
   "execution_count": 20,
   "metadata": {},
   "outputs": [
    {
     "name": "stdout",
     "output_type": "stream",
     "text": [
      "Ich habe 10 Fische.\n"
     ]
    }
   ],
   "source": [
    "n = 10\n",
    "translation = {\n",
    "    \"number_of_fishes\": \"Ich habe {0} Fische.\"\n",
    "}\n",
    "print(translation[\"number_of_fishes\"].format(n))"
   ]
  },
  {
   "cell_type": "code",
   "execution_count": 22,
   "metadata": {},
   "outputs": [
    {
     "name": "stdout",
     "output_type": "stream",
     "text": [
      "Ich habe 10 Fische\n"
     ]
    }
   ],
   "source": [
    "n = 10\n",
    "print(\"Ich habe {0} Fische\".format(n))"
   ]
  },
  {
   "cell_type": "code",
   "execution_count": 23,
   "metadata": {},
   "outputs": [
    {
     "name": "stdout",
     "output_type": "stream",
     "text": [
      "{'This is a car.': 'Das ist ein Auto.', 'I need some help.': 'Ich brauche etwas Hilfe.', 'Do you have some cheese?': 'Hast du etwas Käse?'}\n"
     ]
    }
   ],
   "source": [
    "# Schmierblatt #\n",
    "some_translations = {\n",
    "    \"This is a car.\": \"Das ist ein Auto.\",\n",
    "    \"I need some help.\": \"Ich brauche etwas Hilfe.\",\n",
    "    \"Do you have some cheese?\": \"Hast du etwas Käse?\"\n",
    "}\n",
    "print(some_translations[Do])"
   ]
  },
  {
   "cell_type": "code",
   "execution_count": null,
   "metadata": {},
   "outputs": [],
   "source": []
  }
 ],
 "metadata": {
  "kernelspec": {
   "display_name": "Python 3",
   "language": "python",
   "name": "python3"
  },
  "language_info": {
   "codemirror_mode": {
    "name": "ipython",
    "version": 3
   },
   "file_extension": ".py",
   "mimetype": "text/x-python",
   "name": "python",
   "nbconvert_exporter": "python",
   "pygments_lexer": "ipython3",
   "version": "3.8.5"
  }
 },
 "nbformat": 4,
 "nbformat_minor": 4
}
