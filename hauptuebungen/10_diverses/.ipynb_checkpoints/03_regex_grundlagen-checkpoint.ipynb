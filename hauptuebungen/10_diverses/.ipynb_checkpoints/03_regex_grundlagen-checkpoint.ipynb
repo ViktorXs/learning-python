{
 "cells": [
  {
   "cell_type": "markdown",
   "metadata": {},
   "source": [
    "# Grundlagen: Reguläre Ausdrücke\n",
    "Mit regex Strings noch besser durchsuchen."
   ]
  },
  {
   "cell_type": "markdown",
   "metadata": {},
   "source": [
    "## Problem, wenn man was sucht\n",
    "kann man mit der find-Suche immer nur ein Ergebnis bekmomen."
   ]
  },
  {
   "cell_type": "code",
   "execution_count": 1,
   "metadata": {},
   "outputs": [
    {
     "data": {
      "text/plain": [
       "9"
      ]
     },
     "execution_count": 1,
     "metadata": {},
     "output_type": "execute_result"
    }
   ],
   "source": [
    "sentence = \"Ich habe 20 Fische in meinem 240 liter Aquarium, welches ich schon seit 4 Jahren habe.\"\n",
    "sentence.find(\"20\")\n",
    "\n",
    "# sentence.find(\"20\", \"240\", \"4\")  # Geht so nicht"
   ]
  },
  {
   "cell_type": "markdown",
   "metadata": {},
   "source": [
    "## <code>re.findall()</code>\n",
    "Alles finden, was man findall übergibt.\n",
    "### Beispiel"
   ]
  },
  {
   "cell_type": "code",
   "execution_count": 2,
   "metadata": {},
   "outputs": [],
   "source": [
    "import re"
   ]
  },
  {
   "cell_type": "code",
   "execution_count": 3,
   "metadata": {},
   "outputs": [
    {
     "data": {
      "text/plain": [
       "['20', '240', '4']"
      ]
     },
     "execution_count": 3,
     "metadata": {},
     "output_type": "execute_result"
    }
   ],
   "source": [
    "sentence = \"Ich habe 20 Fische in meinem 240 liter Aquarium, welches ich schon seit 4 Jahren habe.\"\n",
    "re.findall(\"[0-9]+\", sentence)"
   ]
  },
  {
   "cell_type": "markdown",
   "metadata": {},
   "source": [
    "## <code>?</code>\n",
    "Der erste Buchstabe vor dem Fragezeichen ist optional. Fehlt im Text dieser Buchstabe, dann wird dieser ignoriert und das Suchergebnis angezeigt."
   ]
  },
  {
   "cell_type": "code",
   "execution_count": 20,
   "metadata": {},
   "outputs": [
    {
     "data": {
      "text/plain": [
       "<re.Match object; span=(22, 27), match='meine'>"
      ]
     },
     "execution_count": 20,
     "metadata": {},
     "output_type": "execute_result"
    }
   ],
   "source": [
    "import re\n",
    "sentence = \"Ich habe 20 Fische in meine 240 liter Aqumarium, welches ich schon seit 4 Jahren hab.\"  # meine\n",
    "re.search(\"meinem?\", sentence)\n"
   ]
  },
  {
   "cell_type": "markdown",
   "metadata": {},
   "source": [
    "## <code>*</code>\n",
    "Erlaub zusätzliche Buchstaben im gesuchten Wort, aber erlaubt auch, wenn der vorherige Buchstabe fehlt, wie mit dem Fragezeichen-? "
   ]
  },
  {
   "cell_type": "code",
   "execution_count": 24,
   "metadata": {},
   "outputs": [
    {
     "name": "stdout",
     "output_type": "stream",
     "text": [
      "<re.Match object; span=(20, 24), match='mein'>\n",
      "<re.Match object; span=(49, 65), match='welchessssssssss'>\n"
     ]
    }
   ],
   "source": [
    "sentence = \"Ich ha 20 Fische in meinsem 240 liter Aqumarium, welchessssssssss ich schon seit 4 Jahren hab.\"\n",
    "\n",
    "print(re.search(\"meine*\", sentence))\n",
    "print(re.search(\"welches*\", sentence))"
   ]
  },
  {
   "cell_type": "markdown",
   "metadata": {},
   "source": [
    "## <code>+</code>\n",
    "Der Vorherige Buchstabe muss existieren, darf aber beliebig viele dahinter haben."
   ]
  },
  {
   "cell_type": "code",
   "execution_count": 37,
   "metadata": {},
   "outputs": [
    {
     "name": "stdout",
     "output_type": "stream",
     "text": [
      "<re.Match object; span=(0, 3), match='Ich'>\n",
      "<re.Match object; span=(0, 3), match='Ich'>\n"
     ]
    }
   ],
   "source": [
    "sentence = \"Ichs ha 20 Fische in meinem 240 liter Aqumarium, welchessssssssss ich schon seit 4 Jahren hab.\"\n",
    "\n",
    "print(re.search(\"Ich+\", sentence))\n",
    "print(re.search(\"Ich+\", sentence))"
   ]
  },
  {
   "cell_type": "markdown",
   "metadata": {},
   "source": [
    "### Zeichen gruppieren\n",
    "<code>\"[0123456789]+\"</code> = Suche nach einer beliebigen Ziffer und ( <b>+</b> ) ob weitere Ziffern direkt dahinter sind."
   ]
  },
  {
   "cell_type": "code",
   "execution_count": 44,
   "metadata": {},
   "outputs": [
    {
     "name": "stdout",
     "output_type": "stream",
     "text": [
      "<re.Match object; span=(19, 23), match='1337'>\n",
      "<re.Match object; span=(19, 23), match='1337'>\n"
     ]
    }
   ],
   "source": [
    "print(re.search(\"[0123456789]+\", \"Hallo, o' du liebe 1337\"))\n",
    "print(re.search(\"[0-9]+\", \"Hallo, o' du liebe 1337\"))"
   ]
  }
 ],
 "metadata": {
  "kernelspec": {
   "display_name": "Python 3",
   "language": "python",
   "name": "python3"
  },
  "language_info": {
   "codemirror_mode": {
    "name": "ipython",
    "version": 3
   },
   "file_extension": ".py",
   "mimetype": "text/x-python",
   "name": "python",
   "nbconvert_exporter": "python",
   "pygments_lexer": "ipython3",
   "version": "3.8.5"
  }
 },
 "nbformat": 4,
 "nbformat_minor": 4
}
