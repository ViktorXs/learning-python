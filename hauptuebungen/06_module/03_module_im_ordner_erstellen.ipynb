{
 "cells": [
  {
   "cell_type": "markdown",
   "metadata": {},
   "source": [
    "# Module in einem Ordner erstellen \n",
    "Module lassen sich mit einem Ordner definieren."
   ]
  },
  {
   "cell_type": "markdown",
   "metadata": {},
   "source": [
    "Einen Ordner mit Namen erstellen, darin eine leere Textdatei erstellen. Diese Datei soll folgenden Namen tragen:"
   ]
  },
  {
   "cell_type": "markdown",
   "metadata": {},
   "source": [
    "<pre>__init__.py</pre>"
   ]
  },
  {
   "cell_type": "markdown",
   "metadata": {},
   "source": [
    "Mit dem Namen erkennt python, dass es sich in diesem Ordner um einen Modul handelt."
   ]
  },
  {
   "cell_type": "code",
   "execution_count": 1,
   "metadata": {},
   "outputs": [
    {
     "name": "stdout",
     "output_type": "stream",
     "text": [
      "Modul 'module_01.py - Funktion f()' scheint zu funktionieren.\n"
     ]
    }
   ],
   "source": [
    "from hello_module import module_01\n",
    "module_01.f()"
   ]
  },
  {
   "cell_type": "markdown",
   "metadata": {},
   "source": [
    "## Alle Funktionen eines Moduls laden\n",
    "Dafür muss im Ordner, wo sich die Module befinden, eine Datei sein, die heißt:"
   ]
  },
  {
   "cell_type": "markdown",
   "metadata": {},
   "source": [
    "<pre>__init__.py</pre>"
   ]
  },
  {
   "cell_type": "code",
   "execution_count": 2,
   "metadata": {},
   "outputs": [
    {
     "name": "stdout",
     "output_type": "stream",
     "text": [
      "Modul 'module_01.py - Funktion f()' scheint zu funktionieren.\n"
     ]
    }
   ],
   "source": [
    "from hello_module import *\n",
    "module_01.f()"
   ]
  },
  {
   "cell_type": "markdown",
   "metadata": {},
   "source": [
    "## Auch, wenn man das gesamte Modul laden will"
   ]
  },
  {
   "cell_type": "code",
   "execution_count": 3,
   "metadata": {},
   "outputs": [
    {
     "name": "stdout",
     "output_type": "stream",
     "text": [
      "Modul 'module_02.py - Funktion f()' scheint zu funktionieren.\n"
     ]
    }
   ],
   "source": [
    "import hello_module\n",
    "hello_module.module_02.f()"
   ]
  },
  {
   "cell_type": "raw",
   "metadata": {},
   "source": [
    "Siehe dafür die __init__.py Datei"
   ]
  }
 ],
 "metadata": {
  "kernelspec": {
   "display_name": "Python 3",
   "language": "python",
   "name": "python3"
  },
  "language_info": {
   "codemirror_mode": {
    "name": "ipython",
    "version": 3
   },
   "file_extension": ".py",
   "mimetype": "text/x-python",
   "name": "python",
   "nbconvert_exporter": "python",
   "pygments_lexer": "ipython3",
   "version": "3.8.5"
  }
 },
 "nbformat": 4,
 "nbformat_minor": 4
}
