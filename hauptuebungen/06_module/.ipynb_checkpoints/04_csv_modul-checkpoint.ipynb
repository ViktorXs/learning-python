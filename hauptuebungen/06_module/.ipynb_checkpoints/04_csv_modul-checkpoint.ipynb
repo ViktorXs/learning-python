{
 "cells": [
  {
   "cell_type": "markdown",
   "metadata": {},
   "source": [
    "# Vorstellung Module: CSV & Index"
   ]
  },
  {
   "cell_type": "markdown",
   "metadata": {},
   "source": [
    "## Python Module:\n",
    "https://docs.python.org/3/py-modindex.html"
   ]
  },
  {
   "cell_type": "code",
   "execution_count": 1,
   "metadata": {},
   "outputs": [
    {
     "name": "stdout",
     "output_type": "stream",
     "text": [
      "3.8.5 (default, Sep  3 2020, 21:29:08) [MSC v.1916 64 bit (AMD64)]\n"
     ]
    }
   ],
   "source": [
    "# Python Version herausfinden\n",
    "import sys\n",
    "print(sys.version)"
   ]
  },
  {
   "cell_type": "markdown",
   "metadata": {},
   "source": [
    "### CSV Reader Beispiel"
   ]
  },
  {
   "cell_type": "code",
   "execution_count": null,
   "metadata": {},
   "outputs": [],
   "source": [
    "import csv\n",
    "with open('eggs.csv', newline='') as csvfile:\n",
    "     spamreader = csv.reader(csvfile, delimiter=' ', quotechar='|')  # delimiter = Trennzeichen in einer CSV, z.B. , ; usw.\n",
    "     for row in spamreader:\n",
    "         print(', '.join(row))"
   ]
  },
  {
   "cell_type": "markdown",
   "metadata": {},
   "source": [
    "### Übung"
   ]
  },
  {
   "cell_type": "code",
   "execution_count": 2,
   "metadata": {},
   "outputs": [],
   "source": [
    "import csv"
   ]
  },
  {
   "cell_type": "code",
   "execution_count": 3,
   "metadata": {},
   "outputs": [
    {
     "name": "stdout",
     "output_type": "stream",
     "text": [
      "['Name', 'Telefonnummer', 'Land']\n",
      "['MÃ¼ller', '+49123456789', 'Deutschland']\n",
      "['Mustermann', '+3612345678', 'Ungarn']\n"
     ]
    }
   ],
   "source": [
    "with open(\"datei.csv\", newline=\"\") as file:\n",
    "    csv_read = csv.reader(file, delimiter=\",\")\n",
    "    for line in csv_read:\n",
    "        print(line)"
   ]
  },
  {
   "cell_type": "markdown",
   "metadata": {},
   "source": [
    "## Sinnvoll bei komplexen csv-Dateien\n",
    "Manche Dateien haben unterschiedliche Trennzeichen oder sind komplexer aufgebaut, wenn z.B. auch ein Trennzeichen in einem Zitat steckt. Dieser sollte nicht als Trennzeichen gelten, sondern als Inhalt der einen Tabellenzelle. Dafür ist das CSV Modul sinnvoll, da es solche Komplexen Dinge erkennt. "
   ]
  },
  {
   "cell_type": "code",
   "execution_count": 7,
   "metadata": {},
   "outputs": [
    {
     "name": "stdout",
     "output_type": "stream",
     "text": [
      "['MÃ¼ller', 'Hallo Welt', 'Hallo;Welt']\n",
      "['MÃ¼ller', 'Hallo Welt', 'Hallo-Welt']\n"
     ]
    }
   ],
   "source": [
    "with open(\"fromexcel.csv\", newline=\"\") as file:\n",
    "    csv_read = csv.reader(file, delimiter=\";\", quotechar='\"')\n",
    "    for line in csv_read:\n",
    "        print(line)"
   ]
  }
 ],
 "metadata": {
  "kernelspec": {
   "display_name": "Python 3",
   "language": "python",
   "name": "python3"
  },
  "language_info": {
   "codemirror_mode": {
    "name": "ipython",
    "version": 3
   },
   "file_extension": ".py",
   "mimetype": "text/x-python",
   "name": "python",
   "nbconvert_exporter": "python",
   "pygments_lexer": "ipython3",
   "version": "3.8.5"
  }
 },
 "nbformat": 4,
 "nbformat_minor": 4
}
