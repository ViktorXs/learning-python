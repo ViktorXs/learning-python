{
 "cells": [
  {
   "cell_type": "code",
   "execution_count": 16,
   "metadata": {
    "scrolled": true
   },
   "outputs": [
    {
     "name": "stdout",
     "output_type": "stream",
     "text": [
      "12.58\n",
      "20.5\n",
      "20.5\n"
     ]
    }
   ],
   "source": [
    "a = \"12.5\"\n",
    "b = \"8\"\n",
    "c = float(a) + int(b)\n",
    "\n",
    "print(a + b) # print als string\n",
    "\n",
    "print(c) #print die gestringten variablen in c\n",
    "\n",
    "print(float(a) + int(b)) # a und b beim print in Zahlen umwandeln"
   ]
  },
  {
   "cell_type": "code",
   "execution_count": null,
   "metadata": {},
   "outputs": [],
   "source": []
  }
 ],
 "metadata": {
  "kernelspec": {
   "display_name": "Python 3",
   "language": "python",
   "name": "python3"
  },
  "language_info": {
   "codemirror_mode": {
    "name": "ipython",
    "version": 3
   },
   "file_extension": ".py",
   "mimetype": "text/x-python",
   "name": "python",
   "nbconvert_exporter": "python",
   "pygments_lexer": "ipython3",
   "version": "3.8.5"
  }
 },
 "nbformat": 4,
 "nbformat_minor": 4
}
